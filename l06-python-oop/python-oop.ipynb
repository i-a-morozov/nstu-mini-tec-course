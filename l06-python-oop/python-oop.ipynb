{
 "cells": [
  {
   "cell_type": "markdown",
   "id": "6900cf36-8cb5-4925-8f4d-dcf882463ec4",
   "metadata": {},
   "source": [
    "This introduction to Python OOP is based on the [official tutorial](https://docs.python.org/3/tutorial/index.html)"
   ]
  },
  {
   "cell_type": "markdown",
   "id": "29237227-9e30-4f6d-9e14-e2244ea7bad1",
   "metadata": {},
   "source": [
    "**class = data + functionality**"
   ]
  },
  {
   "cell_type": "markdown",
   "id": "9793234e-17d9-435a-b7ce-799763cf8949",
   "metadata": {},
   "source": [
    "# Namespaces"
   ]
  },
  {
   "cell_type": "code",
   "execution_count": null,
   "id": "a86f7982-b85b-4f2b-a7c9-6e74665350b7",
   "metadata": {},
   "outputs": [],
   "source": [
    "import time\n",
    "\n",
    "time.sleep(1)"
   ]
  },
  {
   "cell_type": "code",
   "execution_count": null,
   "id": "5f3c3d05-8186-44e4-bda4-071c95816ea6",
   "metadata": {},
   "outputs": [],
   "source": [
    "def foo():\n",
    "    pass\n",
    "\n",
    "foo.x = 0\n",
    "foo.x"
   ]
  },
  {
   "cell_type": "code",
   "execution_count": null,
   "id": "6c9659db-3fe7-4ed2-b979-e51463d8a918",
   "metadata": {},
   "outputs": [],
   "source": [
    "def bar():\n",
    "    pass\n",
    "\n",
    "bar.x = 1\n",
    "bar.x"
   ]
  },
  {
   "cell_type": "code",
   "execution_count": null,
   "id": "df3e0f64-ce44-43f2-82a3-08ef65a37783",
   "metadata": {},
   "outputs": [],
   "source": [
    "del foo.x\n",
    "del bar.x"
   ]
  },
  {
   "cell_type": "markdown",
   "id": "810946b4-8b27-4ec7-9bb9-c3c530f22681",
   "metadata": {},
   "source": [
    "# Scopes"
   ]
  },
  {
   "cell_type": "code",
   "execution_count": null,
   "id": "5d2d297b-2b97-4e8d-a35c-c03f22c15b21",
   "metadata": {},
   "outputs": [],
   "source": [
    "x = 0\n",
    "\n",
    "def foo():\n",
    "    x = 1\n",
    "    return x\n",
    "\n",
    "x, foo()"
   ]
  },
  {
   "cell_type": "code",
   "execution_count": null,
   "id": "0e571e14-89e2-47a1-863d-2e8a5a586c80",
   "metadata": {},
   "outputs": [],
   "source": [
    "x = 0\n",
    "\n",
    "def foo():\n",
    "    x = 1\n",
    "    def bar():\n",
    "        x = 2\n",
    "        return x\n",
    "    return x, bar()\n",
    "\n",
    "x, *foo()"
   ]
  },
  {
   "cell_type": "code",
   "execution_count": null,
   "id": "cf90a5ac-d3e1-4c80-8e8e-71fe83d6f7de",
   "metadata": {},
   "outputs": [],
   "source": [
    "x = 0\n",
    "\n",
    "def foo():\n",
    "    x = 1\n",
    "    def bar():\n",
    "        return x\n",
    "    return x, bar()\n",
    "\n",
    "x, *foo()"
   ]
  },
  {
   "cell_type": "code",
   "execution_count": null,
   "id": "737affc8-6a43-4038-bccb-2339d0267cfc",
   "metadata": {},
   "outputs": [],
   "source": [
    "x = 0\n",
    "\n",
    "def foo():\n",
    "    def bar():\n",
    "        return x\n",
    "    return x, bar()\n",
    "\n",
    "x, *foo()"
   ]
  },
  {
   "cell_type": "code",
   "execution_count": null,
   "id": "0b366001-4892-46dc-8788-a44de7f5be4f",
   "metadata": {},
   "outputs": [],
   "source": [
    "def foo():\n",
    "    q = 1\n",
    "    return q\n",
    "\n",
    "foo(), q"
   ]
  },
  {
   "cell_type": "code",
   "execution_count": null,
   "id": "ad660162-0b87-4937-818b-96a8dc7ddb79",
   "metadata": {},
   "outputs": [],
   "source": [
    "def foo():\n",
    "    global q\n",
    "    q = 1\n",
    "    return q\n",
    "\n",
    "q"
   ]
  },
  {
   "cell_type": "code",
   "execution_count": null,
   "id": "daed0be6-4ba8-4d1b-a8ac-a9eff881f2f1",
   "metadata": {},
   "outputs": [],
   "source": [
    "def foo():\n",
    "    global q\n",
    "    q = 1\n",
    "    return q\n",
    "\n",
    "foo()\n",
    "\n",
    "q"
   ]
  },
  {
   "cell_type": "code",
   "execution_count": null,
   "id": "2e01e4ee-3671-4d25-a26b-1e3ffbb79779",
   "metadata": {},
   "outputs": [],
   "source": [
    "q = 0\n",
    "\n",
    "def foo():\n",
    "    global q\n",
    "    q = 1\n",
    "    return q\n",
    "\n",
    "foo()\n",
    "\n",
    "q"
   ]
  },
  {
   "cell_type": "code",
   "execution_count": null,
   "id": "17131dbc-65f3-4174-a27d-8d9c771cd5c7",
   "metadata": {},
   "outputs": [],
   "source": [
    "q = 0\n",
    "\n",
    "def foo():\n",
    "    q = 1\n",
    "    def bar():\n",
    "        global q\n",
    "        q = 2\n",
    "    bar()\n",
    "    return q\n",
    "\n",
    "foo(), q"
   ]
  },
  {
   "cell_type": "code",
   "execution_count": null,
   "id": "0ee33170-7394-467a-a20c-82aedfc54b41",
   "metadata": {},
   "outputs": [],
   "source": [
    "q = 0\n",
    "\n",
    "def foo():\n",
    "\n",
    "    q = 1\n",
    "    \n",
    "    def bar():\n",
    "        nonlocal q\n",
    "        q = 2\n",
    "\n",
    "    bar()\n",
    "    \n",
    "    return q\n",
    "\n",
    "foo(), q"
   ]
  },
  {
   "cell_type": "markdown",
   "id": "df58deee-3937-4326-8d21-9871d361989c",
   "metadata": {},
   "source": [
    "# Classes Syntax"
   ]
  },
  {
   "cell_type": "code",
   "execution_count": null,
   "id": "0c48fdec-c8b3-4ca2-8670-b43f17576a55",
   "metadata": {},
   "outputs": [],
   "source": [
    "class Foo:\n",
    "    pass\n",
    "\n",
    "type(Foo), Foo"
   ]
  },
  {
   "cell_type": "code",
   "execution_count": null,
   "id": "3e6e7c18-2395-4686-9978-8fec2305cf6b",
   "metadata": {},
   "outputs": [],
   "source": [
    "foo = Foo()\n",
    "\n",
    "type(foo), foo"
   ]
  },
  {
   "cell_type": "code",
   "execution_count": null,
   "id": "d8548cac-e36a-44d0-9922-508921671aea",
   "metadata": {},
   "outputs": [],
   "source": [
    "class Bar:\n",
    "    pass\n",
    "\n",
    "bar = Bar()\n",
    "\n",
    "\n",
    "def foo(bar):\n",
    "\n",
    "\n",
    "    return bar\n",
    "\n",
    "foo()"
   ]
  },
  {
   "cell_type": "code",
   "execution_count": null,
   "id": "cded6526-b5c4-4032-90d8-694cc6b2db5a",
   "metadata": {},
   "outputs": [],
   "source": [
    "class Foo:\n",
    "\n",
    "    class Bar:\n",
    "        pass\n",
    "\n",
    "    bar = Bar()\n",
    "    \n",
    "    bar.x = 1\n",
    "\n",
    "foo = Foo()"
   ]
  },
  {
   "cell_type": "code",
   "execution_count": null,
   "id": "cb153294-e38c-4119-a4a5-0b7529a06dc6",
   "metadata": {},
   "outputs": [],
   "source": [
    "foo"
   ]
  },
  {
   "cell_type": "code",
   "execution_count": null,
   "id": "4ffbb4ca-277e-4447-a107-3c19285d3290",
   "metadata": {},
   "outputs": [],
   "source": [
    "foo.bar"
   ]
  },
  {
   "cell_type": "code",
   "execution_count": null,
   "id": "5cad09a3-de5c-4e2b-b041-b3145fbe606b",
   "metadata": {},
   "outputs": [],
   "source": [
    "foo.bar.x"
   ]
  },
  {
   "cell_type": "code",
   "execution_count": null,
   "id": "b40e8e3c-15c6-43c2-9c20-44d870ac852d",
   "metadata": {},
   "outputs": [],
   "source": [
    "Foo.bar"
   ]
  },
  {
   "cell_type": "markdown",
   "id": "28633a5d-9393-4a0b-ae80-d092a3727778",
   "metadata": {},
   "source": [
    "# Class objects"
   ]
  },
  {
   "cell_type": "code",
   "execution_count": null,
   "id": "e235fa6c-a738-4154-815f-9f94a9c461f0",
   "metadata": {},
   "outputs": [],
   "source": [
    "class Foo:\n",
    "\n",
    "    x = 2*2\n",
    "\n",
    "    def bar(x):\n",
    "        print(2*2)\n",
    "        return x"
   ]
  },
  {
   "cell_type": "markdown",
   "id": "572f50ac-8861-49a8-82fc-9a969ee93ac8",
   "metadata": {},
   "source": [
    "**atribute references**"
   ]
  },
  {
   "cell_type": "code",
   "execution_count": null,
   "id": "73f80977-3ae6-4ed8-824b-a6ad1a63a16b",
   "metadata": {},
   "outputs": [],
   "source": [
    "Foo.x"
   ]
  },
  {
   "cell_type": "code",
   "execution_count": null,
   "id": "0d4c1ecf-11cd-4ad7-aaa3-b359f1ec64f9",
   "metadata": {},
   "outputs": [],
   "source": [
    "Foo.bar"
   ]
  },
  {
   "cell_type": "code",
   "execution_count": null,
   "id": "d313c374-d023-4d94-818d-afac7bdafc33",
   "metadata": {},
   "outputs": [],
   "source": [
    "Foo.bar(1)"
   ]
  },
  {
   "cell_type": "markdown",
   "id": "b609859b-3692-4fdd-bef4-c5d43d7cd5dd",
   "metadata": {},
   "source": [
    "**instantiation**"
   ]
  },
  {
   "cell_type": "code",
   "execution_count": null,
   "id": "e79a90ec-5392-4876-afc5-66c068950c2d",
   "metadata": {},
   "outputs": [],
   "source": [
    "foo = Foo()\n",
    "foo"
   ]
  },
  {
   "cell_type": "code",
   "execution_count": null,
   "id": "4f10daea-b010-4ad2-910d-7fa0cdf5e5f4",
   "metadata": {},
   "outputs": [],
   "source": [
    "dir(foo)"
   ]
  },
  {
   "cell_type": "code",
   "execution_count": null,
   "id": "c3561119-a91d-45cb-afe1-061ec4e1552f",
   "metadata": {},
   "outputs": [],
   "source": [
    "foo.x"
   ]
  },
  {
   "cell_type": "code",
   "execution_count": null,
   "id": "0bf4381a-3f5a-449b-87b8-0c94d7651fc3",
   "metadata": {},
   "outputs": [],
   "source": [
    "foo.bar(1)"
   ]
  },
  {
   "cell_type": "code",
   "execution_count": null,
   "id": "e0fd1bd4-d30b-400a-8606-6a75f32057fc",
   "metadata": {},
   "outputs": [],
   "source": [
    "Foo.bar"
   ]
  },
  {
   "cell_type": "code",
   "execution_count": null,
   "id": "2136cff6-68df-4867-a121-254022289490",
   "metadata": {},
   "outputs": [],
   "source": [
    "foo.bar(), Foo.bar(foo)"
   ]
  },
  {
   "cell_type": "code",
   "execution_count": null,
   "id": "d91e2025-905b-49a6-961f-72885de5377d",
   "metadata": {},
   "outputs": [],
   "source": [
    "class Foo:\n",
    "\n",
    "    X = 1\n",
    "\n",
    "    def __init__(self):\n",
    "        self.x = 0\n",
    "\n",
    "    def bar(self):\n",
    "        pass\n",
    "\n",
    "foo = Foo()"
   ]
  },
  {
   "cell_type": "code",
   "execution_count": null,
   "id": "4d1ad798-ed3f-42aa-85ec-32390f9e9d4e",
   "metadata": {},
   "outputs": [],
   "source": [
    "Foo.x"
   ]
  },
  {
   "cell_type": "code",
   "execution_count": null,
   "id": "1bc5b9b0-b3d9-41e2-9a72-a2a5b6fccedf",
   "metadata": {},
   "outputs": [],
   "source": [
    "foo.x"
   ]
  },
  {
   "cell_type": "code",
   "execution_count": null,
   "id": "83d8bc9d-8bae-437f-bf1b-cd940478fe37",
   "metadata": {},
   "outputs": [],
   "source": [
    "foo.bar()"
   ]
  },
  {
   "cell_type": "code",
   "execution_count": null,
   "id": "c0037df6-4027-4285-9f99-8f9b86e4b379",
   "metadata": {},
   "outputs": [],
   "source": [
    "class Foo:\n",
    "\n",
    "    def __init__(self, x, *, y=1):\n",
    "        self.x = x\n",
    "\n",
    "    def bar(self):\n",
    "        pass\n",
    "\n",
    "foo = Foo(1, y=1)\n",
    "foo.x"
   ]
  },
  {
   "cell_type": "markdown",
   "id": "4d8b396f-d9bd-468e-8fe9-38eedb2d1075",
   "metadata": {},
   "source": [
    "# Instance & method objects"
   ]
  },
  {
   "cell_type": "markdown",
   "id": "52b4703f-5f80-4f0b-90e6-b5e2c8beb94c",
   "metadata": {},
   "source": [
    "**data attributes = instance variables = data members**"
   ]
  },
  {
   "cell_type": "code",
   "execution_count": null,
   "id": "4a3ee6bb-c0e5-4719-8f6e-a733d34488e9",
   "metadata": {},
   "outputs": [],
   "source": [
    "class Foo():\n",
    "\n",
    "    def __init__(self):\n",
    "        self.x = 1\n",
    "\n",
    "foo = Foo()\n",
    "\n",
    "foo.x"
   ]
  },
  {
   "cell_type": "code",
   "execution_count": null,
   "id": "2d625082-0119-498b-baa4-c4b313e19956",
   "metadata": {},
   "outputs": [],
   "source": [
    "class Foo():\n",
    "    pass\n",
    "\n",
    "foo = Foo()\n",
    "\n",
    "foo.x = 1\n",
    "foo.x"
   ]
  },
  {
   "cell_type": "code",
   "execution_count": null,
   "id": "d8583985-35fa-4d71-9621-cb1dc1c2fb30",
   "metadata": {},
   "outputs": [],
   "source": [
    "bar = Foo()\n",
    "foo.bar = bar\n",
    "foo.bar.x = 1"
   ]
  },
  {
   "cell_type": "code",
   "execution_count": null,
   "id": "e09adb64-aca0-4f79-b65b-e1af699a9422",
   "metadata": {},
   "outputs": [],
   "source": [
    "class Foo():\n",
    "\n",
    "    def __init__(self):\n",
    "        self.x = 1\n",
    "\n",
    "    def bar(self):\n",
    "        return True"
   ]
  },
  {
   "cell_type": "code",
   "execution_count": null,
   "id": "94b6a8b2-8344-4664-a07d-e5612fe1674e",
   "metadata": {},
   "outputs": [],
   "source": [
    "foo = Foo()\n",
    "foo.bar()"
   ]
  },
  {
   "cell_type": "code",
   "execution_count": null,
   "id": "7afbc15f-1958-4bfb-8cf4-58e571687dfe",
   "metadata": {},
   "outputs": [],
   "source": [
    "foo.bar"
   ]
  },
  {
   "cell_type": "code",
   "execution_count": null,
   "id": "e0d436c4-6f23-4f95-8f24-657333f36eac",
   "metadata": {},
   "outputs": [],
   "source": [
    "fn = foo.bar\n",
    "fn()"
   ]
  },
  {
   "cell_type": "code",
   "execution_count": null,
   "id": "50dbd70f-7d0b-4f8d-8d9e-c176ac2db9f9",
   "metadata": {},
   "outputs": [],
   "source": [
    "fn"
   ]
  },
  {
   "cell_type": "code",
   "execution_count": null,
   "id": "26488d7d-c5f6-4d89-89b8-84a081db2b72",
   "metadata": {},
   "outputs": [],
   "source": [
    "del foo"
   ]
  },
  {
   "cell_type": "code",
   "execution_count": null,
   "id": "8a92674e-767f-4bf3-9e2b-4faafc72801c",
   "metadata": {},
   "outputs": [],
   "source": [
    "fn()"
   ]
  },
  {
   "cell_type": "code",
   "execution_count": null,
   "id": "521dc4c8-4cde-4afe-978c-c933de588e65",
   "metadata": {},
   "outputs": [],
   "source": [
    "foo = Foo()\n",
    "\n",
    "foo.bar(), Foo.bar(foo)"
   ]
  },
  {
   "cell_type": "markdown",
   "id": "1b38e3b8-4aea-4bef-a521-07ff12544a8d",
   "metadata": {},
   "source": [
    "# Class and instance variables"
   ]
  },
  {
   "cell_type": "markdown",
   "id": "e7208b57-c37a-4ef4-93c6-b53c75033408",
   "metadata": {},
   "source": [
    "- instance variables unique to an instance\n",
    "- lass variables shared by all instances"
   ]
  },
  {
   "cell_type": "code",
   "execution_count": null,
   "id": "16500464-dc7e-4e35-afdd-cea8370f5abe",
   "metadata": {},
   "outputs": [],
   "source": [
    "from math import pi\n",
    "\n",
    "class Circle:\n",
    "\n",
    "    pi = pi\n",
    "\n",
    "    def __init__(self, radius=1.0):\n",
    "        self.radius = radius\n",
    "\n",
    "    def area(self):\n",
    "        return self.pi * self.radius**2"
   ]
  },
  {
   "cell_type": "code",
   "execution_count": null,
   "id": "cd2498fd-e37f-48b7-9aa7-afd871d95461",
   "metadata": {},
   "outputs": [],
   "source": [
    "Circle.pi"
   ]
  },
  {
   "cell_type": "code",
   "execution_count": null,
   "id": "87685519-68cf-4e29-a19e-1201a1697248",
   "metadata": {},
   "outputs": [],
   "source": [
    "c = Circle(10)\n",
    "c.pi, c.radius, c.area()"
   ]
  },
  {
   "cell_type": "code",
   "execution_count": null,
   "id": "ab1243d5-aaf4-40b7-91ea-4f9ea8fea919",
   "metadata": {},
   "outputs": [],
   "source": [
    "class Foo:\n",
    "    count = 0\n",
    "    def __init__(self):\n",
    "        self.count += 1"
   ]
  },
  {
   "cell_type": "code",
   "execution_count": null,
   "id": "80b0c236-03ab-48e2-9c8a-9119b2d96eff",
   "metadata": {},
   "outputs": [],
   "source": [
    "foo = Foo()\n",
    "foo.count"
   ]
  },
  {
   "cell_type": "code",
   "execution_count": null,
   "id": "2afb3818-4721-4218-a5de-308403ad1e9e",
   "metadata": {},
   "outputs": [],
   "source": [
    "foo = Foo()\n",
    "foo.count"
   ]
  },
  {
   "cell_type": "code",
   "execution_count": null,
   "id": "4a2652f7-8c1d-43db-932d-248c491f09aa",
   "metadata": {},
   "outputs": [],
   "source": [
    "class Foo:\n",
    "    count = 0\n",
    "    def __init__(self):\n",
    "       self.__class__.count += 1"
   ]
  },
  {
   "cell_type": "code",
   "execution_count": null,
   "id": "e91fbf8a-6fbe-46ab-9875-fc3b3cdb3002",
   "metadata": {},
   "outputs": [],
   "source": [
    "foo = Foo()\n",
    "foo.count"
   ]
  },
  {
   "cell_type": "code",
   "execution_count": null,
   "id": "cde06aa2-d19d-4115-90a4-5bfc18433e8e",
   "metadata": {},
   "outputs": [],
   "source": [
    "foo = Foo()\n",
    "foo.count"
   ]
  },
  {
   "cell_type": "code",
   "execution_count": null,
   "id": "06300f12-da5a-4484-8106-39380b68d694",
   "metadata": {},
   "outputs": [],
   "source": [
    "class Foo:\n",
    "    numbers = []\n",
    "    def __init__(self, number):\n",
    "        self.number = number\n",
    "        self.numbers.append(self.number)"
   ]
  },
  {
   "cell_type": "code",
   "execution_count": null,
   "id": "bff820e9-d14d-451e-9cd0-ce26be18f60f",
   "metadata": {},
   "outputs": [],
   "source": [
    "for i in range(10):\n",
    "    Foo(i)\n",
    "\n",
    "Foo.numbers"
   ]
  },
  {
   "cell_type": "code",
   "execution_count": null,
   "id": "57cdf050-03d6-4873-a6c5-a3f563be032b",
   "metadata": {},
   "outputs": [],
   "source": [
    "def foo(self):\n",
    "    return 1\n",
    "\n",
    "class Bar:\n",
    "    foo = foo\n",
    "\n",
    "bar = Bar()\n",
    "\n",
    "bar.foo(), bar.foo"
   ]
  },
  {
   "cell_type": "markdown",
   "id": "e1875b9f-a4e5-45f6-926c-e08c1e032265",
   "metadata": {},
   "source": [
    "# Inheritance"
   ]
  },
  {
   "cell_type": "code",
   "execution_count": null,
   "id": "86648a07-8a65-46ba-9444-8fd87f1413e6",
   "metadata": {},
   "outputs": [],
   "source": [
    "class Foo:\n",
    "    pass"
   ]
  },
  {
   "cell_type": "code",
   "execution_count": null,
   "id": "4a98f396-041a-42bd-ac86-03282d4d10d9",
   "metadata": {},
   "outputs": [],
   "source": [
    "class Foo():\n",
    "    pass"
   ]
  },
  {
   "cell_type": "code",
   "execution_count": null,
   "id": "53b2ce63-df47-4223-9691-1f411fb6da37",
   "metadata": {},
   "outputs": [],
   "source": [
    "class Bar(Foo):\n",
    "    pass\n",
    "\n",
    "Bar.__mro__"
   ]
  },
  {
   "cell_type": "code",
   "execution_count": null,
   "id": "16fe5d8b-67f1-46ff-865b-9c61a31ee5c1",
   "metadata": {},
   "outputs": [],
   "source": [
    "class Foo:\n",
    "    x = 0\n",
    "\n",
    "class Bar(Foo):\n",
    "    pass\n",
    "\n",
    "Foo.x, Bar.x, Bar().x"
   ]
  },
  {
   "cell_type": "code",
   "execution_count": null,
   "id": "63a69693-59a2-4314-9a46-fa8d8172057a",
   "metadata": {},
   "outputs": [],
   "source": [
    "class Foo:\n",
    "    x = 0\n",
    "\n",
    "class Bar(Foo):\n",
    "    x = 1\n",
    "\n",
    "Foo.x, Bar.x, Bar().x"
   ]
  },
  {
   "cell_type": "code",
   "execution_count": null,
   "id": "e231b913-ba82-42af-911b-f3c640ac02f5",
   "metadata": {},
   "outputs": [],
   "source": [
    "class Foo:\n",
    "    x = 0\n",
    "\n",
    "class Bar(Foo):\n",
    "    x = 1\n",
    "    def __init__(self, x=10):\n",
    "        self.x = 10\n",
    "\n",
    "Foo.x, Bar.x, Bar().x"
   ]
  },
  {
   "cell_type": "code",
   "execution_count": null,
   "id": "9252e0b7-094a-4b09-83fa-9a838ffad5dc",
   "metadata": {},
   "outputs": [],
   "source": [
    "class Foo:\n",
    "    def __init__(self):\n",
    "        self.flag = True\n",
    "\n",
    "class Bar(Foo):\n",
    "    def __init__(self, x, y):\n",
    "        self.x = x\n",
    "        self.y = y"
   ]
  },
  {
   "cell_type": "code",
   "execution_count": null,
   "id": "1cd8b33e-5fdc-40ec-bca4-576f13ca9020",
   "metadata": {},
   "outputs": [],
   "source": [
    "foo = Foo()\n",
    "bar = Bar(0, 1)\n",
    "\n",
    "bar.x, bar.y"
   ]
  },
  {
   "cell_type": "code",
   "execution_count": null,
   "id": "159ef476-7693-4520-a4b6-bcdf83dd19c5",
   "metadata": {},
   "outputs": [],
   "source": [
    "foo.flag"
   ]
  },
  {
   "cell_type": "code",
   "execution_count": null,
   "id": "08e2a0ac-9548-4154-b8db-460b191a024d",
   "metadata": {},
   "outputs": [],
   "source": [
    "bar.flag"
   ]
  },
  {
   "cell_type": "code",
   "execution_count": null,
   "id": "01a30e09-1bed-40fc-a69b-1af1f22d27ca",
   "metadata": {},
   "outputs": [],
   "source": [
    "class Foo:\n",
    "    def __init__(self):\n",
    "        self.flag = True\n",
    "\n",
    "class Bar(Foo):\n",
    "    def __init__(self, x=0, y=1):\n",
    "        super().__init__()\n",
    "        self.x = x\n",
    "        self.y = y\n",
    "\n",
    "foo = Foo()\n",
    "bar = Bar()\n",
    "\n",
    "foo.flag, bar.flag"
   ]
  },
  {
   "cell_type": "code",
   "execution_count": null,
   "id": "cff2ecb7-f187-439b-86d4-1ec88b493024",
   "metadata": {},
   "outputs": [],
   "source": [
    "class BaseElement:\n",
    "    \n",
    "    def __init__(self, name, length):\n",
    "        self.name = name\n",
    "        self.length = length\n",
    "\n",
    "    def __repr__(self):\n",
    "        return f'{__class__.__name__}{self.name, self.length}'\n",
    "\n",
    "class Drift(BaseElement):\n",
    "    \n",
    "    def __init__(self, name, length):\n",
    "        super().__init__(name, length)\n",
    "        \n",
    "    def track(self, q, p):\n",
    "        return q + p*self.length, p\n",
    "\n",
    "    def __repr__(self):\n",
    "        return f'{__class__.__name__}{self.name, self.length}'\n",
    "\n",
    "    def __call__(self, q, p):\n",
    "        return self.track(q, p)\n",
    "\n",
    "\n",
    "class Quadrupole(BaseElement):\n",
    "\n",
    "    def __init__(self, name, length, strength):\n",
    "        super().__init__(name, length)    \n",
    "        self.strength = strength\n",
    "\n",
    "    def track(self, q, p):\n",
    "        raise NotImplementedError(f'{self.__class__.__name__}: track method is not implemented')\n",
    "\n",
    "    def __repr__(self):\n",
    "        return f'{__class__.__name__}{self.name, self.length, self.strength}'"
   ]
  },
  {
   "cell_type": "code",
   "execution_count": null,
   "id": "30c45dcf-be98-48fb-9fd0-3c5c1f7fbb3f",
   "metadata": {},
   "outputs": [],
   "source": [
    "drift = Drift('D', length=1.0)\n",
    "drift"
   ]
  },
  {
   "cell_type": "code",
   "execution_count": null,
   "id": "c0c3820b-409d-48da-9793-8eb7e2fdfe7a",
   "metadata": {},
   "outputs": [],
   "source": [
    "quadrupole = Quadrupole('Q', 0.5, 1.0)\n",
    "quadrupole"
   ]
  },
  {
   "cell_type": "code",
   "execution_count": null,
   "id": "13ef75aa-b195-4bfb-88d5-c62ad8fe1766",
   "metadata": {},
   "outputs": [],
   "source": [
    "drift.track(0.0, 1.0)"
   ]
  },
  {
   "cell_type": "code",
   "execution_count": null,
   "id": "88f4ad41-9174-4ea5-b4a4-ba27c7a875f0",
   "metadata": {},
   "outputs": [],
   "source": [
    "drift(0.0, 1.0)"
   ]
  },
  {
   "cell_type": "code",
   "execution_count": null,
   "id": "1b064f50-d0b8-4440-941e-bafec5ba4ccc",
   "metadata": {},
   "outputs": [],
   "source": [
    "quadrupole.track(0.0, 1.0)"
   ]
  },
  {
   "cell_type": "code",
   "execution_count": null,
   "id": "de3bb215-7c81-49cf-964d-6ea69f025845",
   "metadata": {},
   "outputs": [],
   "source": [
    "isinstance(drift, Drift)"
   ]
  },
  {
   "cell_type": "code",
   "execution_count": null,
   "id": "927a1ba7-e5d9-4d96-b511-e5e817e05c68",
   "metadata": {},
   "outputs": [],
   "source": [
    "isinstance(drift, BaseElement)"
   ]
  },
  {
   "cell_type": "code",
   "execution_count": null,
   "id": "6481fee3-9be9-4832-bfbb-cc4ab9439d34",
   "metadata": {},
   "outputs": [],
   "source": [
    "issubclass(Drift, BaseElement)"
   ]
  },
  {
   "cell_type": "markdown",
   "id": "231a12e4-a95e-49c7-83de-afd6c867b9a6",
   "metadata": {},
   "source": [
    "# Multiple Inheritance and MRO"
   ]
  },
  {
   "cell_type": "markdown",
   "id": "567e6886-898b-4768-ad0a-744c65b34cc4",
   "metadata": {},
   "source": [
    "Search is 1) depth-first and 2) left-to-right"
   ]
  },
  {
   "cell_type": "code",
   "execution_count": null,
   "id": "95e30fa5-3d90-4e46-a5ff-aa8b777a918b",
   "metadata": {},
   "outputs": [],
   "source": [
    "class A:\n",
    "    x = 0\n",
    "\n",
    "class B:\n",
    "    x = 1"
   ]
  },
  {
   "cell_type": "code",
   "execution_count": null,
   "id": "be304bb1-524f-4357-aae6-380759a7810e",
   "metadata": {},
   "outputs": [],
   "source": [
    "class C(A):\n",
    "    pass\n",
    "\n",
    "C.x"
   ]
  },
  {
   "cell_type": "code",
   "execution_count": null,
   "id": "2c9bcebd-7208-4614-812f-4fc6b052db65",
   "metadata": {},
   "outputs": [],
   "source": [
    "class C(B):\n",
    "    pass\n",
    "\n",
    "C.x"
   ]
  },
  {
   "cell_type": "code",
   "execution_count": null,
   "id": "e47304eb-dd16-4f49-b11c-2ea0618f6be1",
   "metadata": {},
   "outputs": [],
   "source": [
    "class C(A, B):\n",
    "    pass\n",
    "\n",
    "C.x"
   ]
  },
  {
   "cell_type": "code",
   "execution_count": null,
   "id": "51d74d34-d387-4913-9a8f-43cbed2a6130",
   "metadata": {},
   "outputs": [],
   "source": [
    "class A:\n",
    "    pass\n",
    "\n",
    "class B:\n",
    "    x = 1\n",
    "\n",
    "class C(A, B):\n",
    "    pass\n",
    "\n",
    "C.x"
   ]
  },
  {
   "cell_type": "code",
   "execution_count": null,
   "id": "0ca6f404-ceae-4d74-a941-d3235214f592",
   "metadata": {},
   "outputs": [],
   "source": [
    "class A:\n",
    "    x = 0\n",
    "\n",
    "class B:\n",
    "    x = 1\n",
    "\n",
    "class C(A, B):\n",
    "    x = 10\n",
    "\n",
    "C.x"
   ]
  },
  {
   "cell_type": "code",
   "execution_count": null,
   "id": "45f5bba8-daed-43ee-bc7d-7f69c5228ec8",
   "metadata": {},
   "outputs": [],
   "source": [
    "class A:\n",
    "    def f(self):\n",
    "        print('A.f()')\n",
    "\n",
    "class B(A):\n",
    "    def f(self):\n",
    "        print('B.f()')\n",
    "\n",
    "class C(B):\n",
    "    pass"
   ]
  },
  {
   "cell_type": "code",
   "execution_count": null,
   "id": "b561df7a-9739-4248-816a-993bb741d165",
   "metadata": {},
   "outputs": [],
   "source": [
    "C().f()"
   ]
  },
  {
   "cell_type": "code",
   "execution_count": null,
   "id": "2a7ee9e1-437b-4412-9d60-1f5e02063cfd",
   "metadata": {},
   "outputs": [],
   "source": [
    "C.__mro__"
   ]
  },
  {
   "cell_type": "code",
   "execution_count": null,
   "id": "daf26235-8eb7-4120-882a-1c865923f4c4",
   "metadata": {},
   "outputs": [],
   "source": [
    "class A:\n",
    "    def f(self):\n",
    "        return \"A.f()\"\n",
    "\n",
    "class B(A):\n",
    "    def f(self):\n",
    "        return \"B.f()\"\n",
    "\n",
    "class C(A):\n",
    "    def f(self):\n",
    "        return \"C.f()\"\n",
    "\n",
    "class D(B, C):\n",
    "    pass"
   ]
  },
  {
   "cell_type": "code",
   "execution_count": null,
   "id": "2c732ab8-c661-4d0e-8bd6-b9c67f746e3c",
   "metadata": {},
   "outputs": [],
   "source": [
    "D().f()"
   ]
  },
  {
   "cell_type": "code",
   "execution_count": null,
   "id": "eb031c7b-c6ca-44f9-b354-4d3cf0398629",
   "metadata": {},
   "outputs": [],
   "source": [
    "D.__mro__"
   ]
  },
  {
   "cell_type": "code",
   "execution_count": null,
   "id": "f62f7115-0da0-4c44-8374-7ecb8b649a70",
   "metadata": {},
   "outputs": [],
   "source": [
    "class A:\n",
    "    def f(self):\n",
    "        return \"A.f()\"\n",
    "        \n",
    "class B(A):\n",
    "    pass\n",
    "\n",
    "class C(A):\n",
    "    def f(self):\n",
    "        return \"C.f()\"\n",
    "\n",
    "class D(B, C):\n",
    "    pass"
   ]
  },
  {
   "cell_type": "code",
   "execution_count": null,
   "id": "d6ecf2d9-44e2-44d1-b6ed-b70735971d1e",
   "metadata": {},
   "outputs": [],
   "source": [
    "D().f()"
   ]
  },
  {
   "cell_type": "code",
   "execution_count": null,
   "id": "ebcf37ef-941c-49e2-bec6-cae55e6b7159",
   "metadata": {},
   "outputs": [],
   "source": [
    "D.__mro__"
   ]
  },
  {
   "cell_type": "code",
   "execution_count": null,
   "id": "35bd409a-fb6e-4725-bb28-dcb7d226961d",
   "metadata": {},
   "outputs": [],
   "source": [
    "class A:\n",
    "    def f(self):\n",
    "        return \"A.f()\"\n",
    "        \n",
    "class B(A):\n",
    "    pass\n",
    "\n",
    "class C(A):\n",
    "    pass\n",
    "\n",
    "class D(B, C):\n",
    "    pass"
   ]
  },
  {
   "cell_type": "code",
   "execution_count": null,
   "id": "d682555e-5e10-4a49-88e0-4f5644b95e53",
   "metadata": {},
   "outputs": [],
   "source": [
    "D().f()"
   ]
  },
  {
   "cell_type": "code",
   "execution_count": null,
   "id": "fb757457-7c69-45fe-bb4d-4a5f209102a4",
   "metadata": {},
   "outputs": [],
   "source": [
    "D.__mro__"
   ]
  },
  {
   "cell_type": "code",
   "execution_count": null,
   "id": "0f828f19-3937-4deb-acfe-4bec5e8c4f4d",
   "metadata": {},
   "outputs": [],
   "source": [
    "class A:\n",
    "    def f(self):\n",
    "        return \"A.f()\"\n",
    "\n",
    "class B(A):\n",
    "    def f(self):\n",
    "        return \"B.f()\"\n",
    "\n",
    "class C(A):\n",
    "    def f(self):\n",
    "        return \"C.f()\"\n",
    "\n",
    "class D(B, C):\n",
    "    def g(self):\n",
    "        return super().f()"
   ]
  },
  {
   "cell_type": "code",
   "execution_count": null,
   "id": "541dd455-c05c-4b34-9c2c-f665bdfb34e9",
   "metadata": {},
   "outputs": [],
   "source": [
    "class A:\n",
    "    def f(self):\n",
    "        return \"A.f()\"\n",
    "\n",
    "class B(A):\n",
    "    def f(self):\n",
    "        return \"B.f()\"\n",
    "\n",
    "class C(A):\n",
    "    def f(self):\n",
    "        return \"C.f()\"\n",
    "\n",
    "class D(B, C):\n",
    "    pass\n",
    "\n",
    "class E(C):\n",
    "    def f(self):\n",
    "        return \"E.f()\"\n",
    "\n",
    "class F(D, E):\n",
    "    pass"
   ]
  },
  {
   "cell_type": "code",
   "execution_count": null,
   "id": "597f27c0-b689-417d-80c4-e1afae1c3194",
   "metadata": {},
   "outputs": [],
   "source": [
    "A().f()"
   ]
  },
  {
   "cell_type": "code",
   "execution_count": null,
   "id": "07b73f1c-aba8-4c8b-a708-844e0608bbf7",
   "metadata": {},
   "outputs": [],
   "source": [
    "B().f()"
   ]
  },
  {
   "cell_type": "code",
   "execution_count": null,
   "id": "91f45242-dde3-4328-bb98-970132516e2e",
   "metadata": {},
   "outputs": [],
   "source": [
    "C().f()"
   ]
  },
  {
   "cell_type": "code",
   "execution_count": null,
   "id": "5c5d011c-6bcc-490b-b102-7ee0e87155c2",
   "metadata": {},
   "outputs": [],
   "source": [
    "D().f()"
   ]
  },
  {
   "cell_type": "code",
   "execution_count": null,
   "id": "714b54de-754a-4ed5-8636-8e651d0f6c43",
   "metadata": {},
   "outputs": [],
   "source": [
    "E().f()"
   ]
  },
  {
   "cell_type": "code",
   "execution_count": null,
   "id": "315e1362-8cbf-4230-a194-e21dfa9cd626",
   "metadata": {},
   "outputs": [],
   "source": [
    "F().f()"
   ]
  },
  {
   "cell_type": "markdown",
   "id": "7397c8d1-fc9c-4fb2-a42a-efaf19ccfa3c",
   "metadata": {},
   "source": [
    "# Private variables"
   ]
  },
  {
   "cell_type": "markdown",
   "id": "8c235607-493f-41ad-a920-36fa22e66976",
   "metadata": {},
   "source": [
    "- `_name` private variable naming *convention*\n",
    "- `__name` name mangling, replaced by `_classname__name`"
   ]
  },
  {
   "cell_type": "code",
   "execution_count": null,
   "id": "04b5bf1e-1e24-4ebb-9fe1-b86f785bdcfd",
   "metadata": {},
   "outputs": [],
   "source": [
    "class A:\n",
    "    _x = 0"
   ]
  },
  {
   "cell_type": "code",
   "execution_count": null,
   "id": "ebe8c984-c0ad-421e-9eae-5c69a74d2dfb",
   "metadata": {},
   "outputs": [],
   "source": [
    "A._x"
   ]
  },
  {
   "cell_type": "code",
   "execution_count": null,
   "id": "2a83014f-cd48-4aa9-893f-ddba3431128f",
   "metadata": {},
   "outputs": [],
   "source": [
    "dir(A)"
   ]
  },
  {
   "cell_type": "code",
   "execution_count": null,
   "id": "856e8561-3789-4615-8107-c276e26ab56c",
   "metadata": {},
   "outputs": [],
   "source": [
    "class A:\n",
    "    __x = 0"
   ]
  },
  {
   "cell_type": "code",
   "execution_count": null,
   "id": "0f8035a7-15fe-4244-af7b-d5507dba8e9a",
   "metadata": {},
   "outputs": [],
   "source": [
    "A.__x"
   ]
  },
  {
   "cell_type": "code",
   "execution_count": null,
   "id": "1b196c8a-dbd5-429f-a158-5444b945e2a1",
   "metadata": {},
   "outputs": [],
   "source": [
    "dir(A)"
   ]
  },
  {
   "cell_type": "code",
   "execution_count": null,
   "id": "c6bf5770-030a-4d21-a754-35683ba16f37",
   "metadata": {},
   "outputs": [],
   "source": [
    "A._A__x"
   ]
  },
  {
   "cell_type": "code",
   "execution_count": null,
   "id": "de0aeaec-9e44-42d6-a46e-1517a5d9eb1f",
   "metadata": {},
   "outputs": [],
   "source": [
    "class Mapping:\n",
    "    \n",
    "    def __init__(self, iterable):\n",
    "        self.items_list = []\n",
    "        self.__update(iterable)\n",
    "\n",
    "    def update(self, iterable):\n",
    "        for item in iterable:\n",
    "            self.items_list.append(item)\n",
    "\n",
    "    __update = update\n",
    "\n",
    "class MappingSubclass(Mapping):\n",
    "\n",
    "    def update(self, keys, values):\n",
    "        for item in zip(keys, values):\n",
    "            self.items_list.append(item)"
   ]
  },
  {
   "cell_type": "markdown",
   "id": "a81b04d8-4ed7-487f-9f83-587e105a8214",
   "metadata": {},
   "source": [
    "# Struct (dataclesses)"
   ]
  },
  {
   "cell_type": "code",
   "execution_count": null,
   "id": "bf41653f-309f-4833-a0a4-88dda4caa568",
   "metadata": {},
   "outputs": [],
   "source": [
    "class Book:\n",
    "    \n",
    "    def __init__(self, title, author, year):\n",
    "        self.title = title\n",
    "        self.author = author\n",
    "        self.year = year\n",
    "\n",
    "    def __repr__(self):\n",
    "        return f'{self.__class__.__name__}({self.title}, {self.author}, {self.year})'\n",
    "\n",
    "Book('Publishing Python Packages', 'Dane Hillard', 2022)"
   ]
  },
  {
   "cell_type": "code",
   "execution_count": null,
   "id": "c15b1147-5ea4-4eed-a5ff-e257a2112f27",
   "metadata": {},
   "outputs": [],
   "source": [
    "from dataclasses import dataclass\n",
    "\n",
    "@dataclass\n",
    "class Book:\n",
    "\n",
    "    title: str\n",
    "    author: str\n",
    "    year: int\n",
    "\n",
    "    def __repr__(self):\n",
    "        return f'{self.__class__.__name__}({self.title}, {self.author}, {self.year})'\n",
    "\n",
    "Book('Publishing Python Packages', 'Dane Hillard', 2022)"
   ]
  },
  {
   "cell_type": "markdown",
   "id": "a352a35b-849d-41bf-b713-278af7cdf58b",
   "metadata": {},
   "source": [
    "# Iterators"
   ]
  },
  {
   "cell_type": "code",
   "execution_count": null,
   "id": "fbfdb69f-8bc1-4c1f-b732-86b696952791",
   "metadata": {},
   "outputs": [],
   "source": [
    "xs = [1, 2, 3, 4, 5]\n",
    "\n",
    "for x in xs:\n",
    "    print(x)"
   ]
  },
  {
   "cell_type": "code",
   "execution_count": null,
   "id": "32d90a12-e084-446c-b04d-0c5712cb2ffe",
   "metadata": {},
   "outputs": [],
   "source": [
    "iter(xs)"
   ]
  },
  {
   "cell_type": "code",
   "execution_count": null,
   "id": "ac330fb9-3533-4f17-ae80-f7ac69770242",
   "metadata": {},
   "outputs": [],
   "source": [
    "iter(xs).__next__()"
   ]
  },
  {
   "cell_type": "code",
   "execution_count": null,
   "id": "a880a725-fab7-4ef1-9d59-9e00fa0d660a",
   "metadata": {},
   "outputs": [],
   "source": [
    "next(iter(xs))"
   ]
  },
  {
   "cell_type": "code",
   "execution_count": null,
   "id": "518d63c9-9907-475a-80d0-869e0dbe34b6",
   "metadata": {},
   "outputs": [],
   "source": [
    "it = iter(xs)"
   ]
  },
  {
   "cell_type": "code",
   "execution_count": null,
   "id": "460e1d60-d89f-4715-94d7-67ba7fc590c4",
   "metadata": {},
   "outputs": [],
   "source": [
    "next(it)"
   ]
  },
  {
   "cell_type": "code",
   "execution_count": null,
   "id": "a7c03ebb-29da-4a3e-92f2-bba8201060a2",
   "metadata": {},
   "outputs": [],
   "source": [
    "next(it)"
   ]
  },
  {
   "cell_type": "code",
   "execution_count": null,
   "id": "87c68821-8e23-4f01-bf9f-613fee31ad40",
   "metadata": {},
   "outputs": [],
   "source": [
    "next(it)"
   ]
  },
  {
   "cell_type": "code",
   "execution_count": null,
   "id": "ee6811b9-61f3-486a-8b63-e7e64dfe8e37",
   "metadata": {},
   "outputs": [],
   "source": [
    "next(it)"
   ]
  },
  {
   "cell_type": "code",
   "execution_count": null,
   "id": "1cc7f009-824a-4964-9b05-977250fc2b15",
   "metadata": {},
   "outputs": [],
   "source": [
    "next(it)"
   ]
  },
  {
   "cell_type": "code",
   "execution_count": null,
   "id": "e87f748a-fb00-441b-87da-a3a1b84f8751",
   "metadata": {},
   "outputs": [],
   "source": [
    "next(it)"
   ]
  },
  {
   "cell_type": "markdown",
   "id": "8e96cfa2-28df-4aa7-981d-3da5212c1082",
   "metadata": {},
   "source": [
    "**Iterator**:\n",
    "\n",
    "- `__iter__` \n",
    "- `__next__`"
   ]
  },
  {
   "cell_type": "code",
   "execution_count": null,
   "id": "6ea3880b-0372-44f8-9af8-4c822b7401f1",
   "metadata": {},
   "outputs": [],
   "source": [
    "from dataclasses import dataclass\n",
    "\n",
    "@dataclass\n",
    "class BaseElement:\n",
    "    name: str\n",
    "    length: float\n",
    "\n",
    "\n",
    "class Drift(BaseElement):\n",
    "\n",
    "    def __call__(self, q, p, *, info=True):\n",
    "        if info:\n",
    "            print(self)\n",
    "        return q + 1.0, p + 1.0 \n",
    "\n",
    "    def __repr__(self):\n",
    "        return f'{__class__.__name__}{self.name, self.length}'\n",
    "\n",
    "\n",
    "@dataclass\n",
    "class Quadrupole(BaseElement):\n",
    "\n",
    "    strength: float\n",
    "\n",
    "    def __call__(self, q, p, *, info=True):\n",
    "        if info:\n",
    "            print(self)\n",
    "        return q + 1.0, p + 1.0    \n",
    "\n",
    "    def __repr__(self):\n",
    "        return f'{__class__.__name__}{self.name, self.length, self.strength}'"
   ]
  },
  {
   "cell_type": "code",
   "execution_count": null,
   "id": "68abddc0-e139-4e39-ba11-a69a1909300b",
   "metadata": {},
   "outputs": [],
   "source": [
    "dr = Drift(name='DR', length=5.0)\n",
    "\n",
    "qf = Quadrupole(name='QF', length=1.0, strength=-0.25)\n",
    "qd = Quadrupole(name='QD', length=1.0, strength=+0.25)"
   ]
  },
  {
   "cell_type": "code",
   "execution_count": null,
   "id": "13b1116e-8da1-4339-ad51-cfed65d6c1b9",
   "metadata": {},
   "outputs": [],
   "source": [
    "dr"
   ]
  },
  {
   "cell_type": "code",
   "execution_count": null,
   "id": "e7ef1e31-06ef-4646-8b1a-fe6f96f5451c",
   "metadata": {},
   "outputs": [],
   "source": [
    "dr(1.0, 1.0)"
   ]
  },
  {
   "cell_type": "code",
   "execution_count": null,
   "id": "c2d58227-79d8-4f7e-9234-63e0cd67a0c8",
   "metadata": {},
   "outputs": [],
   "source": [
    "class BeamLine:\n",
    "    \n",
    "    def __init__(self, elements):\n",
    "        self.elements = []\n",
    "        for element in elements:\n",
    "            self.append(element)\n",
    "\n",
    "    def append(self, element):\n",
    "        self.elements.append(element)\n",
    "\n",
    "    def __repr__(self):\n",
    "        elements = '\\n'.join(f'  {element}' for element in self.elements)\n",
    "        return f'{__class__.__name__}(\\n{elements}\\n)'"
   ]
  },
  {
   "cell_type": "code",
   "execution_count": null,
   "id": "30def70d-179b-42a9-b889-1fae4c84a743",
   "metadata": {},
   "outputs": [],
   "source": [
    "line = BeamLine([qf, dr, qd])\n",
    "line"
   ]
  },
  {
   "cell_type": "code",
   "execution_count": null,
   "id": "e93dc2fc-9e35-4ac1-8b2c-7260b728ac73",
   "metadata": {},
   "outputs": [],
   "source": [
    "line.append(dr)\n",
    "line"
   ]
  },
  {
   "cell_type": "code",
   "execution_count": null,
   "id": "91986102-8d7e-4164-a2e5-4f87c8eeef75",
   "metadata": {},
   "outputs": [],
   "source": [
    "q, p = 1.0, 1.0\n",
    "for element in line.elements:\n",
    "    q, p = element(q, p)\n",
    "q, p"
   ]
  },
  {
   "cell_type": "code",
   "execution_count": null,
   "id": "97dd7bf2-8bc1-49dc-a708-02d5429d166c",
   "metadata": {},
   "outputs": [],
   "source": [
    "class BeamLine:\n",
    "    \n",
    "    def __init__(self, elements):\n",
    "        self.elements = []\n",
    "        for element in elements:\n",
    "            self.append(element)\n",
    "    \n",
    "    @property\n",
    "    def length(self):\n",
    "        return len(self.elements)\n",
    "\n",
    "    def append(self, element):\n",
    "        self.elements.append(element)\n",
    "\n",
    "    def __repr__(self):\n",
    "        elements = '\\n'.join(f'  {element}' for element in self.elements)\n",
    "        return f'{__class__.__name__}(\\n{elements}\\n)'\n",
    "\n",
    "    def __iter__(self):\n",
    "        self.index = 0\n",
    "        return self\n",
    "\n",
    "    def __next__(self):\n",
    "        if self.index == self.length:\n",
    "            raise StopIteration\n",
    "        element = self.elements[self.index]\n",
    "        self.index +=1\n",
    "        return element"
   ]
  },
  {
   "cell_type": "code",
   "execution_count": null,
   "id": "a352f492-1865-449c-b042-e03d4e1e1ace",
   "metadata": {},
   "outputs": [],
   "source": [
    "line = BeamLine([qf, dr, qd])\n",
    "line"
   ]
  },
  {
   "cell_type": "code",
   "execution_count": null,
   "id": "0b7b61b4-7204-422e-ba13-593bdc83c6db",
   "metadata": {},
   "outputs": [],
   "source": [
    "line.length"
   ]
  },
  {
   "cell_type": "code",
   "execution_count": null,
   "id": "21820229-896c-4dc6-a1f9-340c3d55b4b8",
   "metadata": {},
   "outputs": [],
   "source": [
    "line.append(dr)\n",
    "line"
   ]
  },
  {
   "cell_type": "code",
   "execution_count": null,
   "id": "d67ecc85-7d44-4847-a378-2ff6effae535",
   "metadata": {},
   "outputs": [],
   "source": [
    "line.length"
   ]
  },
  {
   "cell_type": "code",
   "execution_count": null,
   "id": "3033e40d-ee39-4238-a388-781c84b66449",
   "metadata": {},
   "outputs": [],
   "source": [
    "q, p = 1.0, 1.0\n",
    "for element in line:\n",
    "    q, p = element(q, p)\n",
    "q, p"
   ]
  },
  {
   "cell_type": "code",
   "execution_count": null,
   "id": "eeb48fb9-89d9-4f61-a57b-e4bf560d2240",
   "metadata": {},
   "outputs": [],
   "source": [
    "q, p = 1.0, 1.0\n",
    "for element in line:\n",
    "    q, p = element(q, p)\n",
    "q, p"
   ]
  },
  {
   "cell_type": "code",
   "execution_count": null,
   "id": "696a9fc4-cc37-4025-87eb-3c8227d9bd86",
   "metadata": {},
   "outputs": [],
   "source": [
    "qs, ps = [1.0, 1.0], [1.0, 1.0]\n",
    "for (q, p) in zip(qs, ps):\n",
    "    for element in line:\n",
    "        q, p = element(q, p)"
   ]
  },
  {
   "cell_type": "markdown",
   "id": "007d4d49-dd36-4b67-9ea1-6744380b608f",
   "metadata": {},
   "source": [
    "# Generators"
   ]
  },
  {
   "cell_type": "code",
   "execution_count": null,
   "id": "c6de95be-3e14-4e1f-9063-6d1449184253",
   "metadata": {},
   "outputs": [],
   "source": [
    "def generator():\n",
    "    yield 0\n",
    "    yield 1\n",
    "    yield 2\n",
    "    yield 3\n",
    "    yield 4\n",
    "    yield 5"
   ]
  },
  {
   "cell_type": "code",
   "execution_count": null,
   "id": "ce31d8b1-2f7e-49f8-a106-ccb2104e371e",
   "metadata": {},
   "outputs": [],
   "source": [
    "generator()"
   ]
  },
  {
   "cell_type": "code",
   "execution_count": null,
   "id": "fd0f1d39-75dd-4e98-8b66-e82c27f2a850",
   "metadata": {},
   "outputs": [],
   "source": [
    "for i in generator():\n",
    "    print(i)"
   ]
  },
  {
   "cell_type": "code",
   "execution_count": null,
   "id": "50c5c278-09bf-4ecf-82f6-3be7fb0379b3",
   "metadata": {},
   "outputs": [],
   "source": [
    "next(generator())"
   ]
  },
  {
   "cell_type": "code",
   "execution_count": null,
   "id": "5e9e7a7a-6630-4071-a951-f97b217c64a5",
   "metadata": {},
   "outputs": [],
   "source": [
    "sum(generator())"
   ]
  },
  {
   "cell_type": "code",
   "execution_count": null,
   "id": "82579dc7-c31f-4cb7-81fc-d04fa9699290",
   "metadata": {},
   "outputs": [],
   "source": [
    "(i**2 for i in generator())"
   ]
  },
  {
   "cell_type": "code",
   "execution_count": null,
   "id": "95fb2050-4013-4641-b0a3-9194ed6a2627",
   "metadata": {},
   "outputs": [],
   "source": [
    "sum((i**2 for i in generator()))"
   ]
  },
  {
   "cell_type": "code",
   "execution_count": null,
   "id": "fa8bb80c-19e6-41a3-a2b6-a6a09f8e13d7",
   "metadata": {},
   "outputs": [],
   "source": [
    "sum(i**2 for i in generator())"
   ]
  },
  {
   "cell_type": "code",
   "execution_count": null,
   "id": "e5fff61f-a502-43ac-8b17-fd19e230b449",
   "metadata": {},
   "outputs": [],
   "source": [
    "from dataclasses import dataclass\n",
    "\n",
    "@dataclass\n",
    "class BaseElement:\n",
    "    name: str\n",
    "    length: float\n",
    "\n",
    "\n",
    "class Drift(BaseElement):\n",
    "\n",
    "    def __call__(self, q, p, *, info=True):\n",
    "        if info:\n",
    "            print(self)\n",
    "        return q + 1.0, p + 1.0 \n",
    "\n",
    "    def __repr__(self):\n",
    "        return f'{__class__.__name__}{self.name, self.length}'\n",
    "\n",
    "\n",
    "@dataclass\n",
    "class Quadrupole(BaseElement):\n",
    "\n",
    "    strength: float\n",
    "\n",
    "    def __call__(self, q, p, *, info=True):\n",
    "        if info:\n",
    "            print(self)\n",
    "        return q + 1.0, p + 1.0    \n",
    "\n",
    "    def __repr__(self):\n",
    "        return f'{__class__.__name__}{self.name, self.length, self.strength}'"
   ]
  },
  {
   "cell_type": "code",
   "execution_count": null,
   "id": "d59d6032-91f2-42b7-8c78-2b285ccadf58",
   "metadata": {},
   "outputs": [],
   "source": [
    "class BeamLine:\n",
    "    \n",
    "    def __init__(self, elements):\n",
    "        self.elements = []\n",
    "        for element in elements:\n",
    "            self.append(element)\n",
    "    \n",
    "    @property\n",
    "    def length(self):\n",
    "        return len(self.elements)\n",
    "\n",
    "    def append(self, element):\n",
    "        self.elements.append(element)\n",
    "\n",
    "    def __repr__(self):\n",
    "        elements = '\\n'.join(f'  {element}' for element in self.elements)\n",
    "        return f'{__class__.__name__}(\\n{elements}\\n)'\n",
    "\n",
    "    def __iter__(self):\n",
    "        self.index = 0\n",
    "        return self\n",
    "\n",
    "    def __next__(self):\n",
    "        if self.index == self.length:\n",
    "            raise StopIteration\n",
    "        element = self.elements[self.index]\n",
    "        self.index +=1\n",
    "        return element"
   ]
  },
  {
   "cell_type": "code",
   "execution_count": null,
   "id": "894a6604-20b1-4fab-b51c-b73fc2c5d332",
   "metadata": {},
   "outputs": [],
   "source": [
    "dr = Drift(name='DR', length=5.0)\n",
    "\n",
    "qf = Quadrupole(name='QF', length=1.0, strength=-0.25)\n",
    "qd = Quadrupole(name='QD', length=1.0, strength=+0.25)"
   ]
  },
  {
   "cell_type": "code",
   "execution_count": null,
   "id": "477a47e3-396c-40f4-acef-217a97a54940",
   "metadata": {},
   "outputs": [],
   "source": [
    "line = BeamLine([qf, dr, qd, dr])\n",
    "line"
   ]
  },
  {
   "cell_type": "code",
   "execution_count": null,
   "id": "f6722f23-dcb8-40bc-80ce-27f5657b5b34",
   "metadata": {},
   "outputs": [],
   "source": [
    "q, p = 1.0, 1.0\n",
    "for element in line:\n",
    "    q, p = element(q, p)\n",
    "q, p"
   ]
  },
  {
   "cell_type": "code",
   "execution_count": null,
   "id": "e1c77665-bba7-44b5-9b20-59ae2c24dac2",
   "metadata": {},
   "outputs": [],
   "source": [
    "def track(line):\n",
    "    for element in line.elements:\n",
    "        yield element"
   ]
  },
  {
   "cell_type": "code",
   "execution_count": null,
   "id": "fd7bf64b-f298-436f-afc6-57f06e8f4561",
   "metadata": {},
   "outputs": [],
   "source": [
    "q, p = 1.0, 1.0\n",
    "for element in track(line):\n",
    "    q, p = element(q, p)\n",
    "q, p"
   ]
  },
  {
   "cell_type": "code",
   "execution_count": null,
   "id": "66b97fe1-2195-4098-94f5-e64d49de65c0",
   "metadata": {},
   "outputs": [],
   "source": [
    "class BeamLine:\n",
    "    \n",
    "    def __init__(self, elements):\n",
    "        self.elements = []\n",
    "        for element in elements:\n",
    "            self.append(element)\n",
    "    \n",
    "    @property\n",
    "    def length(self):\n",
    "        return len(self.elements)\n",
    "\n",
    "    def append(self, element):\n",
    "        self.elements.append(element)\n",
    "\n",
    "    def __repr__(self):\n",
    "        elements = '\\n'.join(f'  {element}' for element in self.elements)\n",
    "        return f'{__class__.__name__}(\\n{elements}\\n)'\n",
    "\n",
    "    def generator(self):\n",
    "        for element in self.elements:\n",
    "            yield element\n",
    "\n",
    "    def __iter__(self):\n",
    "        return self.generator()"
   ]
  },
  {
   "cell_type": "code",
   "execution_count": null,
   "id": "1a18c0f8-69ac-4ead-81dc-15b5d8debcad",
   "metadata": {},
   "outputs": [],
   "source": [
    "line = BeamLine([qf, dr, qd, dr])\n",
    "q, p = 1.0, 1.0\n",
    "for element in track(line):\n",
    "    q, p = element(q, p)\n",
    "q, p"
   ]
  },
  {
   "cell_type": "markdown",
   "id": "247fbece-61f5-406e-9cf9-be249d5a482a",
   "metadata": {},
   "source": [
    "# Descriptors"
   ]
  },
  {
   "cell_type": "markdown",
   "id": "17d8ce3f-ab9a-478a-8c02-ce0b8925fbf3",
   "metadata": {},
   "source": [
    "- attributes setting and getting control\n",
    "- input validation (also take a look at [pydantic](https://docs.pydantic.dev/latest/))"
   ]
  },
  {
   "cell_type": "code",
   "execution_count": null,
   "id": "f889f387-bed5-4d0c-947d-792f087e9a24",
   "metadata": {},
   "outputs": [],
   "source": [
    "class BaseElement:\n",
    "    \n",
    "    def __init__(self, name:str, length:float):\n",
    "        self.name = name\n",
    "        self.length = length\n",
    "\n",
    "    def __repr__(self):\n",
    "        return f'{self.__class__.__name__}(name={self.name}, length={self.length})'"
   ]
  },
  {
   "cell_type": "code",
   "execution_count": null,
   "id": "fac543e3-dd67-4578-b124-9b1751d87511",
   "metadata": {},
   "outputs": [],
   "source": [
    "element = BaseElement('element', 0.0)\n",
    "element"
   ]
  },
  {
   "cell_type": "code",
   "execution_count": null,
   "id": "609155e2-0cee-49dc-9a29-113661cfa4f0",
   "metadata": {},
   "outputs": [],
   "source": [
    "element.name"
   ]
  },
  {
   "cell_type": "code",
   "execution_count": null,
   "id": "728efa3e-1c2b-4937-9c17-5a28b70161b6",
   "metadata": {},
   "outputs": [],
   "source": [
    "element.length"
   ]
  },
  {
   "cell_type": "code",
   "execution_count": null,
   "id": "3ed3ebac-b8fa-44fa-aeb4-0b9bcaf166f9",
   "metadata": {},
   "outputs": [],
   "source": [
    "element.length = 'abcd'\n",
    "element.length"
   ]
  },
  {
   "cell_type": "code",
   "execution_count": null,
   "id": "a7d9e3b6-1edb-41c6-97a6-090638302f2a",
   "metadata": {},
   "outputs": [],
   "source": [
    "element = BaseElement('element', 'abcd')\n",
    "element"
   ]
  },
  {
   "cell_type": "code",
   "execution_count": null,
   "id": "ed7f3099-27e0-407b-9f7c-7b1572382e69",
   "metadata": {},
   "outputs": [],
   "source": [
    "from numbers import Real\n",
    "\n",
    "class BaseElement:\n",
    "    \n",
    "    def __init__(self, name:str, length:float):\n",
    "        assert isinstance(length, Real), 'float length is expected'\n",
    "        self.name = name\n",
    "        self.length = length\n",
    "\n",
    "    def __repr__(self):\n",
    "        return f'{self.__class__.__name__}(name={self.name}, length={self.length})'"
   ]
  },
  {
   "cell_type": "code",
   "execution_count": null,
   "id": "3f528d68-4660-466e-a889-463515a101f6",
   "metadata": {},
   "outputs": [],
   "source": [
    "element = BaseElement('element', 'abcd')"
   ]
  },
  {
   "cell_type": "code",
   "execution_count": null,
   "id": "8725c6e3-7846-440c-8ac8-b5afdc2b3fb1",
   "metadata": {},
   "outputs": [],
   "source": [
    "element = BaseElement('element', 0)"
   ]
  },
  {
   "cell_type": "code",
   "execution_count": null,
   "id": "01dbb72a-fb72-4784-8d6b-ccf1e3214dd7",
   "metadata": {},
   "outputs": [],
   "source": [
    "element = BaseElement('element', 0.0)"
   ]
  },
  {
   "cell_type": "code",
   "execution_count": null,
   "id": "50db3ede-281b-4dd2-a9bc-55892b0e01fc",
   "metadata": {},
   "outputs": [],
   "source": [
    "element.length = 'abcd'\n",
    "element.length"
   ]
  },
  {
   "cell_type": "code",
   "execution_count": null,
   "id": "1ee68332-bceb-41c2-ae3b-02e8711d341e",
   "metadata": {},
   "outputs": [],
   "source": [
    "class StringDescriptor:\n",
    "    \n",
    "    def __init__(self, name=None):\n",
    "        self.name = name\n",
    "\n",
    "    def __get__(self, instance, owner):\n",
    "        if instance is None:\n",
    "            return self\n",
    "        return instance.__dict__[self.name]\n",
    "\n",
    "    def __set__(self, instance, value):\n",
    "        if not isinstance(value, str):\n",
    "            raise ValueError(f\"Expected a string for {self.name}, got {type(value).__name__}\")\n",
    "        instance.__dict__[self.name] = value"
   ]
  },
  {
   "cell_type": "code",
   "execution_count": null,
   "id": "c6dc533c-aec6-4191-9e66-e783aca96b64",
   "metadata": {},
   "outputs": [],
   "source": [
    "from numbers import Real\n",
    "\n",
    "class FloatDescriptor:\n",
    "    \n",
    "    def __init__(self, name=None):\n",
    "        self.name = name\n",
    "\n",
    "    def __get__(self, instance, owner):\n",
    "        if instance is None:\n",
    "            return self\n",
    "        return instance.__dict__[self.name]\n",
    "\n",
    "    def __set__(self, instance, value):\n",
    "        if not isinstance(value, Real):\n",
    "            raise ValueError(f\"Expected a float for {self.name}, got {value}\")\n",
    "        instance.__dict__[self.name] = value"
   ]
  },
  {
   "cell_type": "code",
   "execution_count": null,
   "id": "00216c5b-7c55-46e6-92c8-ccd3f64ca7b6",
   "metadata": {},
   "outputs": [],
   "source": [
    "class BaseElement:\n",
    "\n",
    "    name = StringDescriptor(\"name\")\n",
    "    length = FloatDescriptor(\"length\")\n",
    "    \n",
    "    def __init__(self, name:str, length:float):\n",
    "        self.name = name\n",
    "        self.length = length\n",
    "\n",
    "    def __repr__(self):\n",
    "        return f'{self.__class__.__name__}(name={self.name}, length={self.length})'"
   ]
  },
  {
   "cell_type": "code",
   "execution_count": null,
   "id": "70759670-5117-4e40-ab46-cbb7cbe40e0b",
   "metadata": {},
   "outputs": [],
   "source": [
    "element = BaseElement('element', 'abcd')\n",
    "element"
   ]
  },
  {
   "cell_type": "code",
   "execution_count": null,
   "id": "46e20c89-120e-481f-8393-9239ab3396b3",
   "metadata": {},
   "outputs": [],
   "source": [
    "element = BaseElement('element', 0)\n",
    "element"
   ]
  },
  {
   "cell_type": "code",
   "execution_count": null,
   "id": "ef29f72f-44ba-47be-92ec-b784a89d266d",
   "metadata": {},
   "outputs": [],
   "source": [
    "element.length = 'abcd'"
   ]
  },
  {
   "cell_type": "code",
   "execution_count": null,
   "id": "49cc23d2-4bfd-4a53-99b8-253e23088316",
   "metadata": {},
   "outputs": [],
   "source": [
    "element.length = 1.0"
   ]
  },
  {
   "cell_type": "code",
   "execution_count": null,
   "id": "2dd53766-6969-4890-bb58-4d8eb17e84e7",
   "metadata": {},
   "outputs": [],
   "source": [
    "from numbers import Real\n",
    "\n",
    "class BaseElement:\n",
    "    \n",
    "    def __init__(self, name:str, length:float):\n",
    "\n",
    "        assert isinstance(name, str)\n",
    "        assert isinstance(length, Real)\n",
    "\n",
    "        self._name = name\n",
    "        self._length = length\n",
    "\n",
    "    @property\n",
    "    def name(self):\n",
    "        return self._name\n",
    "\n",
    "    @property\n",
    "    def length(self):\n",
    "        return self._length\n",
    "\n",
    "    @name.setter\n",
    "    def name(self, value):\n",
    "        if not isinstance(value, str):\n",
    "            raise ValueError(f\"Expected a string, got {type(value).__name__}\")\n",
    "        self._name = value\n",
    "\n",
    "    @length.setter\n",
    "    def length(self, value):\n",
    "        print(1111)\n",
    "        if not isinstance(value, Real):\n",
    "            raise ValueError(f\"Expected a float, got {value}\")\n",
    "        self._length = value\n",
    "\n",
    "    def __repr__(self):\n",
    "        return f'{self.__class__.__name__}(name={self.name}, length={self.length})'"
   ]
  },
  {
   "cell_type": "code",
   "execution_count": null,
   "id": "98209cd3-0088-4328-8d2f-83a7772cd846",
   "metadata": {},
   "outputs": [],
   "source": [
    "element = BaseElement('element', 'abcd')\n",
    "element"
   ]
  },
  {
   "cell_type": "code",
   "execution_count": null,
   "id": "9ec25359-7d12-4daa-9434-87519e30980f",
   "metadata": {},
   "outputs": [],
   "source": [
    "element = BaseElement('element', 0)\n",
    "element.name"
   ]
  },
  {
   "cell_type": "code",
   "execution_count": null,
   "id": "5989ee20-0188-452b-824d-993c29261e76",
   "metadata": {},
   "outputs": [],
   "source": [
    "element.length = 'abcd'"
   ]
  },
  {
   "cell_type": "code",
   "execution_count": null,
   "id": "8ca985fd-6183-434e-8c53-e1b55c70dc0b",
   "metadata": {},
   "outputs": [],
   "source": [
    "element.length = 1.0"
   ]
  },
  {
   "cell_type": "code",
   "execution_count": null,
   "id": "3004df12-a82d-4623-8caf-4b829c901b19",
   "metadata": {},
   "outputs": [],
   "source": [
    "from dataclasses import dataclass\n",
    "\n",
    "@dataclass\n",
    "class BaseElement:\n",
    "    name: str\n",
    "    length: float\n"
   ]
  },
  {
   "cell_type": "code",
   "execution_count": null,
   "id": "9e38ee79-ef59-4b0d-accc-7e6a939be008",
   "metadata": {},
   "outputs": [],
   "source": [
    "element = BaseElement('element', 'abcd')\n",
    "element"
   ]
  },
  {
   "cell_type": "code",
   "execution_count": null,
   "id": "1adaaba1-879f-43da-831d-d2eedbd0a2e6",
   "metadata": {},
   "outputs": [],
   "source": [
    "from dataclasses import dataclass\n",
    "\n",
    "@dataclass\n",
    "class BaseElement:\n",
    "    name: StringDescriptor = StringDescriptor()\n",
    "    length: FloatDescriptor = FloatDescriptor()"
   ]
  },
  {
   "cell_type": "code",
   "execution_count": null,
   "id": "e024b81d-b0b2-43b8-b7e2-bf9eafcfbee8",
   "metadata": {},
   "outputs": [],
   "source": [
    "element = BaseElement('element', 'abcd')\n",
    "element"
   ]
  },
  {
   "cell_type": "code",
   "execution_count": null,
   "id": "256d485b-ceca-47ea-8016-9ad73efbc24c",
   "metadata": {},
   "outputs": [],
   "source": [
    "element = BaseElement('element', 1.0)\n",
    "element"
   ]
  },
  {
   "cell_type": "code",
   "execution_count": null,
   "id": "6c3d6f55-c8fa-4df7-91e9-f0c1b2297a13",
   "metadata": {},
   "outputs": [],
   "source": [
    "element.length = 'abcd'"
   ]
  },
  {
   "cell_type": "code",
   "execution_count": null,
   "id": "1dc38bde-e9b7-475d-982d-417df99a71d1",
   "metadata": {},
   "outputs": [],
   "source": [
    "element.length = 0.0"
   ]
  }
 ],
 "metadata": {
  "kernelspec": {
   "display_name": "Python 3 (ipykernel)",
   "language": "python",
   "name": "python3"
  },
  "language_info": {
   "codemirror_mode": {
    "name": "ipython",
    "version": 3
   },
   "file_extension": ".py",
   "mimetype": "text/x-python",
   "name": "python",
   "nbconvert_exporter": "python",
   "pygments_lexer": "ipython3",
   "version": "3.12.1"
  }
 },
 "nbformat": 4,
 "nbformat_minor": 5
}
