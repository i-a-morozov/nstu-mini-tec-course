{
 "cells": [
  {
   "cell_type": "markdown",
   "id": "53041a88-b53b-4ea5-955f-4a743b646d93",
   "metadata": {},
   "source": [
    "This intoduction to Python programming is based on the [official tutorial](https://docs.python.org/3/tutorial/index.html)"
   ]
  },
  {
   "cell_type": "code",
   "execution_count": null,
   "id": "472dc748-5487-48f1-9f36-b7dba1c96372",
   "metadata": {},
   "outputs": [],
   "source": [
    "import this"
   ]
  },
  {
   "cell_type": "markdown",
   "id": "f739178d-96fe-410a-8465-05cdd9fd84cf",
   "metadata": {},
   "source": [
    "# Interpreter (CPython, IPython)"
   ]
  },
  {
   "cell_type": "markdown",
   "id": "dc50fbbd-d8e0-401f-b7db-9583df00d99d",
   "metadata": {},
   "source": [
    "**Python interpreter (CPython)**\n",
    "\n",
    "`!whereis python` (use `#!/usr/bin/env python` in scripts/modules to use correct binary from virtual enviroment)\n",
    "\n",
    "Remember, python is a program, it can use diffent input options. It also can use differenet **eviromental variables**. \n",
    "\n",
    "See `python -h` and `man python` for help.\n",
    "\n",
    "See [Command line and environment](https://docs.python.org/3/using/cmdline.html#using-on-general)\n",
    "\n",
    "**Interpreter invocation**\n",
    "\n",
    "- `python <path>/<module>`\n",
    "- `<path>/<file.py>` for executable file with `#!/usr/bin/env python`\n",
    "- `python -c command [arg] ..`\n",
    "- `python -m module [arg] ...`, for example, `python -m http.server`\n",
    "- `python -i module`\n",
    "\n",
    "You can combine different options:\n",
    "\n",
    "```bash\n",
    "$ python -i -c \"x=2+2\"\n",
    ">>> x\n",
    "4\n",
    "```\n",
    "`sys.argv` variable from `sys` module contains infor about input arguments.\n",
    "\n",
    "- `sys.argv[0]` input module name or empty string or `-` or `-c`\n",
    "\n",
    "**Module structure**\n",
    "\n",
    "```python\n",
    "#!/usr/bin/env python\n",
    "# -*- coding: utf-8 -*-\n",
    "\n",
    "...\n",
    "\n",
    "if __name__ == '__main__':\n",
    "    ...\n",
    "```\n",
    "\n",
    "**IPython**\n",
    "\n",
    "- Interactive shell\n",
    "- **Jupyter** kernel\n",
    "- Help\n",
    "  - `?` Introduction and overview of IPython’s features\n",
    "  - `%quickref` Quick reference\n",
    "  - `help` Python’s own help system\n",
    "  - `object?` Details about `object`, use `object??` for extra details\n",
    "\n",
    "- Magic\n",
    "  - ```%lsmagic```\n",
    "  - ```%time?```\n",
    "- Where to start\n",
    "    - [https://ipython.org/](https://ipython.org/)\n",
    "    - [https://ipython.readthedocs.io/en/stable/interactive/tutorial.html](https://ipython.readthedocs.io/en/stable/interactive/tutorial.html)"
   ]
  },
  {
   "cell_type": "markdown",
   "id": "6673c015-1ce7-4708-91ef-e8d0705a8870",
   "metadata": {},
   "source": [
    "# Notebooks"
   ]
  },
  {
   "cell_type": "markdown",
   "id": "0fee53c1-35de-4746-9cad-e03d38cd44fa",
   "metadata": {},
   "source": [
    "- **[JupyterLab](https://jupyter.org/)**: Development environment for notebooks, code, and data\n",
    "- **[VS Code](https://code.visualstudio.com/docs/datascience/jupyter-notebooks)**\n",
    "- **[Google Colab](https://research.google.com/colaboratory/)**\n",
    "- **[Kaggle](https://www.kaggle.com/docs/notebooks)**\n"
   ]
  },
  {
   "cell_type": "markdown",
   "id": "595c95bf-0363-46e5-8f35-3c97f0f26d1c",
   "metadata": {},
   "source": [
    "# Virtual enviroments"
   ]
  },
  {
   "cell_type": "markdown",
   "id": "816150e8-b0c9-497f-a65c-b00ab415d3d5",
   "metadata": {},
   "source": [
    "- **[venv](https://docs.python.org/3/library/venv.html)**\n",
    "  \n",
    "   - `python -m venv venv`\n",
    "   - `source venv/bin/activate`\n",
    "   - `python -m pip install ...`\n",
    "   - `deactivate`\n",
    "   - \n",
    "- **[conda](https://conda.io/projects/conda/en/latest/user-guide/tasks/manage-environments.html)**\n",
    "  - `conda create --name venv`\n",
    "  - `conda create --name venv python=3.12`\n",
    "  - `conda create --name venv python=3.12 numpy`\n",
    "  - `conda install --name venv scipy`\n",
    "  - `conda activate venv`\n",
    "  - `conda install pandas` or `pip install pandas`\n",
    "  - `conda deactivate`\n",
    " \n",
    "- Remote kernel\n",
    "\n",
    "  - Launch under `<user>` on `<host>`\n",
    "  \n",
    "      ```bash\n",
    "      ssh -L localhost:<port>:localhost:<port> <user>@<host> jupyter-lab --no-browser --port <port>\n",
    "      ```\n",
    "       \n",
    "  - Launch with one or more ssh tunnels\n",
    "  \n",
    "      ```bash\n",
    "      ssh -L localhost:<port>:localhost:<port> <user>@<host>\n",
    "      ssh -L localhost:<port>:localhost:<port> <user>@<host>\n",
    "      jupyter-lab --no-browser --port <port>\n",
    "      ```"
   ]
  },
  {
   "cell_type": "markdown",
   "id": "17992df0-a010-4b57-81f7-145825e9cc0a",
   "metadata": {},
   "source": [
    "# Introduction"
   ]
  },
  {
   "cell_type": "markdown",
   "id": "3403dd95-82c0-4ce7-8ba8-56cde6714446",
   "metadata": {},
   "source": [
    "## Numbers"
   ]
  },
  {
   "cell_type": "markdown",
   "id": "8a6234da-87b7-412f-b16d-7742420c4996",
   "metadata": {},
   "source": [
    "**Basic arithmetic operations `+, -, *, /` and grouping with `()`**"
   ]
  },
  {
   "cell_type": "code",
   "execution_count": null,
   "id": "a0254b9b-543d-4d57-a1e7-9c4778c37f6b",
   "metadata": {},
   "outputs": [],
   "source": [
    "2 + 2"
   ]
  },
  {
   "cell_type": "code",
   "execution_count": null,
   "id": "b60ce0c2-7c58-49a0-8351-675151230736",
   "metadata": {},
   "outputs": [],
   "source": [
    "2*2"
   ]
  },
  {
   "cell_type": "code",
   "execution_count": null,
   "id": "adcb131d-6026-4657-8d57-0daa7a50567d",
   "metadata": {},
   "outputs": [],
   "source": [
    "(2 + 2)*2"
   ]
  },
  {
   "cell_type": "code",
   "execution_count": null,
   "id": "10be87e6-916d-46cf-9a28-2c9fb2d14cea",
   "metadata": {},
   "outputs": [],
   "source": [
    "2.0*2"
   ]
  },
  {
   "cell_type": "code",
   "execution_count": null,
   "id": "9d3dced0-695d-40dc-8e38-5f6d2a0e12f9",
   "metadata": {},
   "outputs": [],
   "source": [
    "4/2"
   ]
  },
  {
   "cell_type": "markdown",
   "id": "936331dd-6b09-45b4-928f-deeac0aa632c",
   "metadata": {},
   "source": [
    "**Use `//` for integer division**"
   ]
  },
  {
   "cell_type": "code",
   "execution_count": null,
   "id": "8739ef0e-51c4-445b-b03f-cec6892c6e00",
   "metadata": {},
   "outputs": [],
   "source": [
    "4//2"
   ]
  },
  {
   "cell_type": "code",
   "execution_count": null,
   "id": "f2d05941-d702-4be1-9c9e-bcd4c8a11c16",
   "metadata": {},
   "outputs": [],
   "source": [
    "4%2"
   ]
  },
  {
   "cell_type": "code",
   "execution_count": null,
   "id": "d87c9631-09a1-47b4-aea9-cc068b2535e6",
   "metadata": {},
   "outputs": [],
   "source": [
    "5%2"
   ]
  },
  {
   "cell_type": "markdown",
   "id": "0640807d-25b1-40f1-a6da-c716bd630fd4",
   "metadata": {},
   "source": [
    "**Use `**` for exponentiation**"
   ]
  },
  {
   "cell_type": "code",
   "execution_count": null,
   "id": "54d42d0c-a51b-4d78-97fb-b3aedbd3887f",
   "metadata": {},
   "outputs": [],
   "source": [
    "2**2"
   ]
  },
  {
   "cell_type": "code",
   "execution_count": null,
   "id": "843befb9-9d77-43d8-98ad-cdacd03b6b25",
   "metadata": {},
   "outputs": [],
   "source": [
    "4**0.5"
   ]
  },
  {
   "cell_type": "code",
   "execution_count": null,
   "id": "37fe0264-9776-4ed6-8c1b-9efab50fe109",
   "metadata": {},
   "outputs": [],
   "source": [
    "2**128"
   ]
  },
  {
   "cell_type": "code",
   "execution_count": null,
   "id": "433550c1-1404-4686-895b-1d4ca65c1f3f",
   "metadata": {},
   "outputs": [],
   "source": [
    "2.0**128"
   ]
  },
  {
   "cell_type": "markdown",
   "id": "037941b1-831e-4207-ba19-ae7856058701",
   "metadata": {},
   "source": [
    "**Assign values to variables**"
   ]
  },
  {
   "cell_type": "code",
   "execution_count": null,
   "id": "cb5855c3-eb00-4cc1-9acc-85359fd20bbc",
   "metadata": {},
   "outputs": [],
   "source": [
    "a = 3\n",
    "b = 2 * 2\n",
    "c = (a**2 + b**2)**0.5\n",
    "c"
   ]
  },
  {
   "cell_type": "markdown",
   "id": "8a434fe9-cb28-47c4-8ac9-8682e5b647e0",
   "metadata": {},
   "source": [
    "**Use `int` and `float` to 'cast'**"
   ]
  },
  {
   "cell_type": "code",
   "execution_count": null,
   "id": "3469f6dd-81b5-4995-acd8-523d4967d9cd",
   "metadata": {},
   "outputs": [],
   "source": [
    "int(c)"
   ]
  },
  {
   "cell_type": "code",
   "execution_count": null,
   "id": "fb7efcae-0b9e-458d-8d59-b10dff40feea",
   "metadata": {},
   "outputs": [],
   "source": [
    "float(int(c))"
   ]
  },
  {
   "cell_type": "markdown",
   "id": "741e9650-6865-425f-aba0-63b6f6258555",
   "metadata": {},
   "source": [
    "**Rounding and basic format**"
   ]
  },
  {
   "cell_type": "code",
   "execution_count": null,
   "id": "7b01ceaf-572a-49a0-aa0c-943258a20ca2",
   "metadata": {},
   "outputs": [],
   "source": [
    "round(c)"
   ]
  },
  {
   "cell_type": "code",
   "execution_count": null,
   "id": "ba8b4bf3-2309-4888-b15b-603a1d66a43d",
   "metadata": {},
   "outputs": [],
   "source": [
    "round(c + 0.1, 1)"
   ]
  },
  {
   "cell_type": "code",
   "execution_count": null,
   "id": "af6e9d1f-76bb-43f2-bcb3-a21ff31f7764",
   "metadata": {},
   "outputs": [],
   "source": [
    "round(c + 0.1, 2)"
   ]
  },
  {
   "cell_type": "code",
   "execution_count": null,
   "id": "04728e10-6a72-44fc-a5cf-63ce0d807ded",
   "metadata": {},
   "outputs": [],
   "source": [
    "f'{c + 0.1:.2f}'"
   ]
  },
  {
   "cell_type": "code",
   "execution_count": null,
   "id": "882a5d9f-7572-4d5e-97f3-599cbda4936d",
   "metadata": {},
   "outputs": [],
   "source": [
    "from math import floor\n",
    "floor(c + 0.1)"
   ]
  },
  {
   "cell_type": "code",
   "execution_count": null,
   "id": "0409a410-2e23-4c54-a65b-be71ca775b02",
   "metadata": {},
   "outputs": [],
   "source": [
    "from math import ceil\n",
    "ceil(c + 0.1)"
   ]
  },
  {
   "cell_type": "markdown",
   "id": "1ab45ed1-bbb8-4293-8d17-8ce4aeaf1a86",
   "metadata": {},
   "source": [
    "**Complex**"
   ]
  },
  {
   "cell_type": "code",
   "execution_count": null,
   "id": "b3e34501-0f32-4b51-88d1-dbd9deffe70e",
   "metadata": {},
   "outputs": [],
   "source": [
    "(1 + 1j)*(1 - 1j)"
   ]
  },
  {
   "cell_type": "code",
   "execution_count": null,
   "id": "196f8979-d4bc-44b5-83cf-04e7e83b33f8",
   "metadata": {},
   "outputs": [],
   "source": [
    "(-4)**0.5"
   ]
  },
  {
   "cell_type": "code",
   "execution_count": null,
   "id": "b2a507d0-fccf-404a-a4f0-77e1328f1eef",
   "metadata": {},
   "outputs": [],
   "source": [
    "complex(1)"
   ]
  },
  {
   "cell_type": "markdown",
   "id": "64de55de-0a45-4716-b3af-9d517a7c573e",
   "metadata": {},
   "source": [
    "**Separation**"
   ]
  },
  {
   "cell_type": "code",
   "execution_count": null,
   "id": "3f984d46-a9bf-44c2-846d-e092d7041ef1",
   "metadata": {},
   "outputs": [],
   "source": [
    "a = 1\n",
    "b = 1\n",
    "c = a + b"
   ]
  },
  {
   "cell_type": "code",
   "execution_count": null,
   "id": "34d620b5-ec8f-4b74-89c7-d0f1556b9306",
   "metadata": {},
   "outputs": [],
   "source": [
    "a = 1; b = 1; c = a + b"
   ]
  },
  {
   "cell_type": "markdown",
   "id": "a7a66aff-4387-4189-ab20-c7e4bd317720",
   "metadata": {},
   "source": [
    "## Strings"
   ]
  },
  {
   "cell_type": "markdown",
   "id": "0c33b665-a047-4037-8210-ef72f7868c0e",
   "metadata": {},
   "source": [
    "**Strings are enclosed by single `'...'` or `\"...\"` quotes**"
   ]
  },
  {
   "cell_type": "code",
   "execution_count": null,
   "id": "a976dfdc-fc86-44d2-9be5-1ab9d45bfd81",
   "metadata": {},
   "outputs": [],
   "source": [
    "'abcd'"
   ]
  },
  {
   "cell_type": "code",
   "execution_count": null,
   "id": "766c3795-2f19-4945-a2bd-765109ed6347",
   "metadata": {},
   "outputs": [],
   "source": [
    "\"abcd\""
   ]
  },
  {
   "cell_type": "code",
   "execution_count": null,
   "id": "b761fe47-cb93-4fe1-bc87-0f0ddb685f38",
   "metadata": {},
   "outputs": [],
   "source": [
    "\"abcd'abcd'\""
   ]
  },
  {
   "cell_type": "code",
   "execution_count": null,
   "id": "eeb5061f-f742-4f9b-bf62-37af128e5e56",
   "metadata": {},
   "outputs": [],
   "source": [
    "'abcd\\'abcd\\''"
   ]
  },
  {
   "cell_type": "markdown",
   "id": "0821f1f8-06d5-4c03-ac37-e8d484540662",
   "metadata": {},
   "source": [
    "**Multiline string `'''...'''` or `\"\"\"...\"\"\"`**"
   ]
  },
  {
   "cell_type": "code",
   "execution_count": null,
   "id": "74adf55a-752e-4122-a9b0-f7fb24610a2a",
   "metadata": {},
   "outputs": [],
   "source": [
    "'''\n",
    "abcd\n",
    "abcd\n",
    "'''"
   ]
  },
  {
   "cell_type": "code",
   "execution_count": null,
   "id": "918e8999-c19c-4253-a135-be646fdd1bd7",
   "metadata": {},
   "outputs": [],
   "source": [
    "\"\"\"\n",
    "abcd\n",
    "abcd\n",
    "\"\"\""
   ]
  },
  {
   "cell_type": "markdown",
   "id": "4bcb5ae0-f8e7-4a5e-85d2-38c6b35512cd",
   "metadata": {},
   "source": [
    "**Concatination**"
   ]
  },
  {
   "cell_type": "code",
   "execution_count": null,
   "id": "2e60bd0b-4b43-4155-8682-eb6481eea351",
   "metadata": {},
   "outputs": [],
   "source": [
    "\"abcd\"\"abcd\""
   ]
  },
  {
   "cell_type": "code",
   "execution_count": null,
   "id": "a5f66e1d-4f15-4ac2-b9b6-f027b4b987f0",
   "metadata": {},
   "outputs": [],
   "source": [
    "\"abcd\" + \"abcd\""
   ]
  },
  {
   "cell_type": "code",
   "execution_count": null,
   "id": "103f27d4-144e-4735-a189-990477a72c3f",
   "metadata": {},
   "outputs": [],
   "source": [
    "x = 'abcd'\n",
    "x + 'abcd'"
   ]
  },
  {
   "cell_type": "markdown",
   "id": "f8a2a765-89cd-497c-98c6-fce221671a3c",
   "metadata": {},
   "source": [
    "**Line break**"
   ]
  },
  {
   "cell_type": "code",
   "execution_count": null,
   "id": "3ad1dfbd-276b-4d0c-bae5-988149be8b33",
   "metadata": {},
   "outputs": [],
   "source": [
    "(\n",
    "\"abcd\"\n",
    "'abcd'\n",
    ")"
   ]
  },
  {
   "cell_type": "code",
   "execution_count": null,
   "id": "5c999763-8d51-43b2-8844-b44867590b5f",
   "metadata": {},
   "outputs": [],
   "source": [
    "(\n",
    "2\n",
    "+\n",
    "2\n",
    ")"
   ]
  },
  {
   "cell_type": "markdown",
   "id": "85e48fc8-d0b2-417e-850e-579c75cf84cd",
   "metadata": {},
   "source": [
    "**String multiplication**"
   ]
  },
  {
   "cell_type": "code",
   "execution_count": null,
   "id": "1840f4f7-43ab-456f-8273-581f1fa57084",
   "metadata": {},
   "outputs": [],
   "source": [
    "2*'abcd'"
   ]
  },
  {
   "cell_type": "code",
   "execution_count": null,
   "id": "2f0b6a8c-3d63-4ea4-b64c-dda040117697",
   "metadata": {},
   "outputs": [],
   "source": [
    "0*'abcd'"
   ]
  },
  {
   "cell_type": "markdown",
   "id": "98e51ec5-2246-4df9-844a-6242e603896c",
   "metadata": {},
   "source": [
    "**Indexing**"
   ]
  },
  {
   "cell_type": "code",
   "execution_count": null,
   "id": "f910fab9-8558-4cfc-9e74-9f83c65097cc",
   "metadata": {},
   "outputs": [],
   "source": [
    "x = 'abcd'"
   ]
  },
  {
   "cell_type": "code",
   "execution_count": null,
   "id": "804f7844-cadf-4dab-9354-d06c2bb99de3",
   "metadata": {},
   "outputs": [],
   "source": [
    "x[0]"
   ]
  },
  {
   "cell_type": "code",
   "execution_count": null,
   "id": "88b87257-8876-4222-b0f8-fd19e8490ac0",
   "metadata": {},
   "outputs": [],
   "source": [
    "x[1]"
   ]
  },
  {
   "cell_type": "code",
   "execution_count": null,
   "id": "13ed03f4-f37e-40aa-95a3-634901fe988c",
   "metadata": {},
   "outputs": [],
   "source": [
    "x[-1]"
   ]
  },
  {
   "cell_type": "code",
   "execution_count": null,
   "id": "6570f8e0-8025-4eb0-84e6-3b8ef4d18a66",
   "metadata": {},
   "outputs": [],
   "source": [
    "x[-2]"
   ]
  },
  {
   "cell_type": "markdown",
   "id": "ada077b4-330d-431a-863c-a79dfa5441c7",
   "metadata": {},
   "source": [
    "**Slicing**"
   ]
  },
  {
   "cell_type": "code",
   "execution_count": null,
   "id": "ea31755a-7634-416c-bfaf-bd8d554f6b1a",
   "metadata": {},
   "outputs": [],
   "source": [
    "x[1:2]"
   ]
  },
  {
   "cell_type": "code",
   "execution_count": null,
   "id": "0e12ce0a-8721-4efc-9780-b295daafa3c9",
   "metadata": {},
   "outputs": [],
   "source": [
    "x[1:3]"
   ]
  },
  {
   "cell_type": "code",
   "execution_count": null,
   "id": "fd79f421-0952-4544-a2d5-d8cf0d39f2ff",
   "metadata": {},
   "outputs": [],
   "source": [
    "x[0:]"
   ]
  },
  {
   "cell_type": "code",
   "execution_count": null,
   "id": "9208c0ea-4dc7-4fc7-820f-4870426e0a3c",
   "metadata": {},
   "outputs": [],
   "source": [
    "x[:-1]"
   ]
  },
  {
   "cell_type": "code",
   "execution_count": null,
   "id": "d461dce3-42c6-4deb-89a9-8282cb7da272",
   "metadata": {},
   "outputs": [],
   "source": [
    "x[:]"
   ]
  },
  {
   "cell_type": "code",
   "execution_count": null,
   "id": "6611351b-fe52-4492-a306-a92bb20d3489",
   "metadata": {},
   "outputs": [],
   "source": [
    "x[::1]"
   ]
  },
  {
   "cell_type": "code",
   "execution_count": null,
   "id": "bc44fc39-2b66-4e71-af97-e81674a2f248",
   "metadata": {},
   "outputs": [],
   "source": [
    "x[::2]"
   ]
  },
  {
   "cell_type": "code",
   "execution_count": null,
   "id": "24d0dd94-6ab3-402e-8f77-9ea8f12c5343",
   "metadata": {},
   "outputs": [],
   "source": [
    "x[::-1]"
   ]
  },
  {
   "cell_type": "code",
   "execution_count": null,
   "id": "2b130ece-ba6a-484a-8ae9-21b3ffbca04a",
   "metadata": {},
   "outputs": [],
   "source": [
    "x[1000]"
   ]
  },
  {
   "cell_type": "code",
   "execution_count": null,
   "id": "09d3f3e2-e251-4f93-8ebe-e3fdcca8c150",
   "metadata": {},
   "outputs": [],
   "source": [
    "x[:1000]"
   ]
  },
  {
   "cell_type": "code",
   "execution_count": null,
   "id": "171acf38-103a-463a-af5e-feb0348ce025",
   "metadata": {},
   "outputs": [],
   "source": [
    "x[1000:]"
   ]
  },
  {
   "cell_type": "code",
   "execution_count": null,
   "id": "699a1895-0f85-458d-b3b3-3ec08e970cde",
   "metadata": {},
   "outputs": [],
   "source": [
    "len(x)"
   ]
  },
  {
   "cell_type": "code",
   "execution_count": null,
   "id": "63dc9a80-c971-4484-a960-b873fe4e3aaa",
   "metadata": {},
   "outputs": [],
   "source": [
    " \"\"\"\n",
    " +---+---+---+---+---+---+\n",
    " | P | y | t | h | o | n |\n",
    " +---+---+---+---+---+---+\n",
    " 0   1   2   3   4   5   6\n",
    "-6  -5  -4  -3  -2  -1\n",
    "\"\"\" ;"
   ]
  },
  {
   "cell_type": "markdown",
   "id": "a8cd3f25-df32-4fe8-bf3c-5a2ba5c63c56",
   "metadata": {},
   "source": [
    "## Lists"
   ]
  },
  {
   "cell_type": "markdown",
   "id": "51352e63-8bcd-4c94-9809-cbf4284d3a0e",
   "metadata": {},
   "source": [
    "A list if defined with `[...]` brackets, it can contain arbitrary elements"
   ]
  },
  {
   "cell_type": "code",
   "execution_count": null,
   "id": "960c53e3-8fe8-41ee-98e0-8a1aa33e6d23",
   "metadata": {},
   "outputs": [],
   "source": [
    "x = [1, 2, 3, 4]"
   ]
  },
  {
   "cell_type": "markdown",
   "id": "68e7789a-1f8b-4b45-ae3b-d50ab16ace63",
   "metadata": {},
   "source": [
    "**Indexing**"
   ]
  },
  {
   "cell_type": "code",
   "execution_count": null,
   "id": "d960b61e-b51e-4e62-acf3-da4e460c37c2",
   "metadata": {},
   "outputs": [],
   "source": [
    "x[0]"
   ]
  },
  {
   "cell_type": "code",
   "execution_count": null,
   "id": "d6b64971-f6bc-4a6d-ba56-aec3343693cd",
   "metadata": {},
   "outputs": [],
   "source": [
    "x[1]"
   ]
  },
  {
   "cell_type": "code",
   "execution_count": null,
   "id": "03156dd2-578f-4fbb-abbb-2f3fbe32cf82",
   "metadata": {},
   "outputs": [],
   "source": [
    "x[-1]"
   ]
  },
  {
   "cell_type": "code",
   "execution_count": null,
   "id": "b5869d5c-4d62-4d7d-912b-b90e6b27f640",
   "metadata": {},
   "outputs": [],
   "source": [
    "x[-2]"
   ]
  },
  {
   "cell_type": "markdown",
   "id": "25a96c3c-18bb-4a2c-98e3-e04c5f7c18eb",
   "metadata": {},
   "source": [
    "**Slicing**"
   ]
  },
  {
   "cell_type": "code",
   "execution_count": null,
   "id": "68accac1-ddbe-467c-b8e6-c662301bfb4e",
   "metadata": {},
   "outputs": [],
   "source": [
    "x[1:2]"
   ]
  },
  {
   "cell_type": "code",
   "execution_count": null,
   "id": "715d0804-0ae6-4773-9b65-016cd92398f8",
   "metadata": {},
   "outputs": [],
   "source": [
    "x[1:3]"
   ]
  },
  {
   "cell_type": "code",
   "execution_count": null,
   "id": "00229327-2ddf-48e3-9fd9-52c54e45521f",
   "metadata": {},
   "outputs": [],
   "source": [
    "x[0:]"
   ]
  },
  {
   "cell_type": "code",
   "execution_count": null,
   "id": "0a5bab4f-f723-4703-aacd-568c9c9322ee",
   "metadata": {},
   "outputs": [],
   "source": [
    "x[:-1]"
   ]
  },
  {
   "cell_type": "code",
   "execution_count": null,
   "id": "8e8ce201-01ba-42aa-b0cb-eb8538d0a2fe",
   "metadata": {},
   "outputs": [],
   "source": [
    "x[:]"
   ]
  },
  {
   "cell_type": "code",
   "execution_count": null,
   "id": "3937882a-888e-4dd8-86ba-e3c762e1a4fb",
   "metadata": {},
   "outputs": [],
   "source": [
    "x[::1]"
   ]
  },
  {
   "cell_type": "code",
   "execution_count": null,
   "id": "2d5ebcf4-d33d-44aa-9d96-1e1b0b52b5cc",
   "metadata": {},
   "outputs": [],
   "source": [
    "x[::2]"
   ]
  },
  {
   "cell_type": "code",
   "execution_count": null,
   "id": "06f76d11-8957-4981-979c-efb7f535ad53",
   "metadata": {},
   "outputs": [],
   "source": [
    "x[::-1]"
   ]
  },
  {
   "cell_type": "code",
   "execution_count": null,
   "id": "8b1b68cf-10a3-4438-b3a1-8af163b2d6b5",
   "metadata": {},
   "outputs": [],
   "source": [
    "x[1000]"
   ]
  },
  {
   "cell_type": "code",
   "execution_count": null,
   "id": "47012986-9ae6-4ada-81e9-566a667e61d0",
   "metadata": {},
   "outputs": [],
   "source": [
    "x[:1000]"
   ]
  },
  {
   "cell_type": "code",
   "execution_count": null,
   "id": "06d95f70-6c3b-4bd3-9860-ce8d44cda16e",
   "metadata": {},
   "outputs": [],
   "source": [
    "x[1000:]"
   ]
  },
  {
   "cell_type": "code",
   "execution_count": null,
   "id": "517d9dbd-3bdf-4fe5-969c-25babd529022",
   "metadata": {},
   "outputs": [],
   "source": [
    "len(x)"
   ]
  },
  {
   "cell_type": "markdown",
   "id": "ee7be7af-7cb2-4a1e-8d3c-f0ffe7a26684",
   "metadata": {},
   "source": [
    "**Concatination**"
   ]
  },
  {
   "cell_type": "code",
   "execution_count": null,
   "id": "e7a71b6d-73e2-4dcc-9c23-2a9488d83c82",
   "metadata": {},
   "outputs": [],
   "source": [
    "x + x"
   ]
  },
  {
   "cell_type": "code",
   "execution_count": null,
   "id": "df0b363f-5021-4c91-a0b9-d6d381691c9f",
   "metadata": {},
   "outputs": [],
   "source": [
    "2*x"
   ]
  },
  {
   "cell_type": "markdown",
   "id": "f781a165-705c-4c3b-9eec-c374e2389c5d",
   "metadata": {},
   "source": [
    "**Asignment** (mutable vs immutable)"
   ]
  },
  {
   "cell_type": "code",
   "execution_count": null,
   "id": "4cbbdfe7-f8fa-4d98-8e9b-868bddddc8e0",
   "metadata": {},
   "outputs": [],
   "source": [
    "x[0] = 0\n",
    "x"
   ]
  },
  {
   "cell_type": "code",
   "execution_count": null,
   "id": "7e0f6a5f-ec5e-4e5f-ab9b-8e89269b3bc1",
   "metadata": {},
   "outputs": [],
   "source": [
    "x[0:1] = [0, 0]\n",
    "x"
   ]
  },
  {
   "cell_type": "code",
   "execution_count": null,
   "id": "c5c2ac31-d76a-41d4-ab4b-aa1a999561d9",
   "metadata": {},
   "outputs": [],
   "source": [
    "x[:] = []\n",
    "x"
   ]
  },
  {
   "cell_type": "markdown",
   "id": "c53a87e9-86d5-4496-aee7-60012b76806a",
   "metadata": {},
   "source": [
    "**Append**"
   ]
  },
  {
   "cell_type": "code",
   "execution_count": null,
   "id": "603c8521-8637-4fd4-89e2-b83608f035a5",
   "metadata": {},
   "outputs": [],
   "source": [
    "x.append(0)\n",
    "x"
   ]
  },
  {
   "cell_type": "code",
   "execution_count": null,
   "id": "f1d958b0-7b70-4ffc-9ccf-54c5cd1fc93e",
   "metadata": {},
   "outputs": [],
   "source": [
    "x.append(1)\n",
    "x"
   ]
  },
  {
   "cell_type": "code",
   "execution_count": null,
   "id": "7c139f57-ebf6-4f59-98a7-96998747b5df",
   "metadata": {},
   "outputs": [],
   "source": [
    "x.extend(x)\n",
    "x"
   ]
  },
  {
   "cell_type": "markdown",
   "id": "5f516888-934c-4dc2-826e-a3af66603af4",
   "metadata": {},
   "source": [
    "**Copy** (shallow and deep)"
   ]
  },
  {
   "cell_type": "code",
   "execution_count": null,
   "id": "4ed3b565-a05c-4a2b-a9fa-2a6acba0e9b9",
   "metadata": {},
   "outputs": [],
   "source": [
    "x = [1, 2, 3, 4]\n",
    "y = x\n",
    "y"
   ]
  },
  {
   "cell_type": "code",
   "execution_count": null,
   "id": "07dd057b-50f4-4db9-a8de-343d3155f636",
   "metadata": {},
   "outputs": [],
   "source": [
    "y[0] = 0\n",
    "y"
   ]
  },
  {
   "cell_type": "code",
   "execution_count": null,
   "id": "f6780460-a50a-4fe0-8e34-ee48d316a08a",
   "metadata": {},
   "outputs": [],
   "source": [
    "x"
   ]
  },
  {
   "cell_type": "code",
   "execution_count": null,
   "id": "64858bcf-0141-4070-b095-7f73309fcdc1",
   "metadata": {},
   "outputs": [],
   "source": [
    "x = [1, 2, 3, 4]\n",
    "y = x[:]\n",
    "y[0] = 0\n",
    "x"
   ]
  },
  {
   "cell_type": "code",
   "execution_count": null,
   "id": "46f04cd3-75aa-453e-b22a-334537d4f728",
   "metadata": {},
   "outputs": [],
   "source": [
    "x = [[1], [2], [3], [4]]\n",
    "y = x[:]\n",
    "y[0][0] = 0\n",
    "x"
   ]
  },
  {
   "cell_type": "code",
   "execution_count": null,
   "id": "94fc3408-8701-46cd-ba82-2a463a00f8ff",
   "metadata": {},
   "outputs": [],
   "source": [
    "from copy import deepcopy\n",
    "x = [[1], [2], [3], [4]]\n",
    "y = deepcopy(x)\n",
    "y[0][0] = 0\n",
    "x"
   ]
  },
  {
   "cell_type": "markdown",
   "id": "7eb19ba0-3e65-4368-816c-551ee96bcbaf",
   "metadata": {},
   "source": [
    "## Fibonacci"
   ]
  },
  {
   "cell_type": "markdown",
   "id": "ae8606ce-c268-4a15-99b8-fc5d8260670b",
   "metadata": {},
   "source": [
    "- multiple assignment\n",
    "- loop\n",
    "- condition\n",
    "- loop body"
   ]
  },
  {
   "cell_type": "code",
   "execution_count": null,
   "id": "0dca4663-a568-4969-b55a-5155ab91c901",
   "metadata": {},
   "outputs": [],
   "source": [
    "a, b = 0, 1\n",
    "while a < 10:\n",
    "    print(a)\n",
    "    a, b = b, a + b"
   ]
  },
  {
   "cell_type": "markdown",
   "id": "56fbf8fb-b45b-457a-990f-16c254650ce2",
   "metadata": {},
   "source": [
    "# Control flow"
   ]
  },
  {
   "cell_type": "markdown",
   "id": "cfb15d60-3dbc-498c-807c-ec4d13071925",
   "metadata": {},
   "source": [
    "## If"
   ]
  },
  {
   "cell_type": "code",
   "execution_count": null,
   "id": "b96f9de1-ca68-4663-be42-5c4236875dfa",
   "metadata": {},
   "outputs": [],
   "source": [
    "x = 0\n",
    "if x % 2 == 0:\n",
    "    print('even')\n",
    "else:\n",
    "    print('odd')"
   ]
  },
  {
   "cell_type": "code",
   "execution_count": null,
   "id": "991fcabb-0613-4a81-85bf-0ba76fb6cc49",
   "metadata": {},
   "outputs": [],
   "source": [
    "x = 0\n",
    "if x % 15 == 0 and x != 0:\n",
    "    print('FizzBuzz')\n",
    "elif x % 3 == 0 and x != 0:\n",
    "    print('Fizz')\n",
    "elif x % 5 == 0 and x != 0:\n",
    "    print('Buzz')\n",
    "else:\n",
    "    print(x)"
   ]
  },
  {
   "cell_type": "code",
   "execution_count": null,
   "id": "5735b353-4bf6-419c-b6ed-fde61be9a945",
   "metadata": {},
   "outputs": [],
   "source": [
    "x = 15\n",
    "(x % 3 == 0)*'Fizz' + (x % 5 == 0)*'Buzz'"
   ]
  },
  {
   "cell_type": "markdown",
   "id": "327b7b16-07a8-4949-8041-a2f9d2e5c12b",
   "metadata": {},
   "source": [
    "## For & while"
   ]
  },
  {
   "cell_type": "markdown",
   "id": "7b411c9c-c4b4-4fc9-acaf-2eab3b9227d2",
   "metadata": {},
   "source": [
    "In `for` loop iteration is performed over given sequence (or iterable)"
   ]
  },
  {
   "cell_type": "code",
   "execution_count": null,
   "id": "ee45b42e-6e68-4cea-8107-888231a9ab20",
   "metadata": {},
   "outputs": [],
   "source": [
    "for x in [1, 2, 3, 4]:\n",
    "    print(x)"
   ]
  },
  {
   "cell_type": "code",
   "execution_count": null,
   "id": "f18a11ee-9a2c-4d04-b0dd-3e340d6cacd4",
   "metadata": {},
   "outputs": [],
   "source": [
    "xs = [1, 2, 3, 4]\n",
    "for x in xs:\n",
    "    print(x)"
   ]
  },
  {
   "cell_type": "code",
   "execution_count": null,
   "id": "71c49049-d349-454f-9071-93e5b0b3e114",
   "metadata": {},
   "outputs": [],
   "source": [
    "xs = 'abcd'\n",
    "for x in xs:\n",
    "    print(x)"
   ]
  },
  {
   "cell_type": "markdown",
   "id": "b62712ab-4173-4fa1-a7a7-d9e87188b10e",
   "metadata": {},
   "source": [
    "**Enumerate**"
   ]
  },
  {
   "cell_type": "code",
   "execution_count": null,
   "id": "7a756913-2f22-4c9f-a3da-4029ade6edbd",
   "metadata": {},
   "outputs": [],
   "source": [
    "xs = 'abcd'\n",
    "for i, x in enumerate(xs):\n",
    "    print(i, x)"
   ]
  },
  {
   "cell_type": "markdown",
   "id": "69e5e1bf-bac6-452e-8e3b-caa681cec64a",
   "metadata": {},
   "source": [
    "**Iterate over dictionary**"
   ]
  },
  {
   "cell_type": "code",
   "execution_count": null,
   "id": "29ee2f6d-e547-43d4-92ff-58557fc54406",
   "metadata": {},
   "outputs": [],
   "source": [
    "xs = {1: 'a', 2: 'b', 3: 'c', 4: 'd'}"
   ]
  },
  {
   "cell_type": "code",
   "execution_count": null,
   "id": "e5b0cee9-7f4e-408e-9bdc-a0f251d179c6",
   "metadata": {},
   "outputs": [],
   "source": [
    "for x in xs:\n",
    "    print(x)"
   ]
  },
  {
   "cell_type": "code",
   "execution_count": null,
   "id": "7724fa11-ce8c-4ec3-a27d-a4a746c2008f",
   "metadata": {},
   "outputs": [],
   "source": [
    "for x in xs.keys():\n",
    "    print(x)"
   ]
  },
  {
   "cell_type": "code",
   "execution_count": null,
   "id": "31788695-f597-4bde-9473-9d4149b83133",
   "metadata": {},
   "outputs": [],
   "source": [
    "for x in xs.values():\n",
    "    print(x)"
   ]
  },
  {
   "cell_type": "code",
   "execution_count": null,
   "id": "6834cf91-1f40-4993-81b4-7265d2a73860",
   "metadata": {},
   "outputs": [],
   "source": [
    "for x in xs.items():\n",
    "    print(x)"
   ]
  },
  {
   "cell_type": "code",
   "execution_count": null,
   "id": "a2068e9f-6316-44ea-a7cb-18d852e897ee",
   "metadata": {},
   "outputs": [],
   "source": [
    "for k, v in xs.items():\n",
    "    print(k, v)"
   ]
  },
  {
   "cell_type": "code",
   "execution_count": null,
   "id": "d1f79ff3-7a49-4bad-ae53-b7321a90d87c",
   "metadata": {},
   "outputs": [],
   "source": [
    "for i, (k, v) in enumerate(xs.items()):\n",
    "    print(i, k, v)"
   ]
  },
  {
   "cell_type": "code",
   "execution_count": null,
   "id": "cf2f137b-305d-4e6c-8561-be7c62e4f243",
   "metadata": {},
   "outputs": [],
   "source": [
    "for k in xs.keys():\n",
    "    del xs[k]"
   ]
  },
  {
   "cell_type": "code",
   "execution_count": null,
   "id": "14a7cad2-32d7-43b9-9626-c7244076f166",
   "metadata": {},
   "outputs": [],
   "source": [
    "for k in xs.copy().keys():\n",
    "    del xs[k]\n",
    "xs"
   ]
  },
  {
   "cell_type": "code",
   "execution_count": null,
   "id": "b3cd3a04-d82e-4f09-9e36-845e48a97725",
   "metadata": {},
   "outputs": [],
   "source": [
    "xs = {1: 'a', 2: 'b', 3: 'c', 4: 'd'}\n",
    "for k, v in xs.items():\n",
    "    if ord(v) % 2 == 0:\n",
    "        xs[k] = 0\n",
    "xs"
   ]
  },
  {
   "cell_type": "markdown",
   "id": "6d80a68e-2af7-4baa-87c2-3a10002ed02f",
   "metadata": {},
   "source": [
    "**Zip**"
   ]
  },
  {
   "cell_type": "code",
   "execution_count": null,
   "id": "35b83f9d-0141-45b8-9318-424606dc41d6",
   "metadata": {},
   "outputs": [],
   "source": [
    "xs = [1, 2, 3, 4]\n",
    "ys = 'abcd'\n",
    "for x, y in zip(xs, ys):\n",
    "    print(x, y)"
   ]
  },
  {
   "cell_type": "markdown",
   "id": "379d0ac1-bdb9-44e2-889e-5cc934448a06",
   "metadata": {},
   "source": [
    "**Else**"
   ]
  },
  {
   "cell_type": "code",
   "execution_count": null,
   "id": "cf0968f7-5a4e-4b9c-bcf9-94ac1b4514aa",
   "metadata": {},
   "outputs": [],
   "source": [
    "xs = [1, 2, 3, 4]\n",
    "for x in xs:\n",
    "    print(x)\n",
    "else:\n",
    "    print('ok')"
   ]
  },
  {
   "cell_type": "code",
   "execution_count": null,
   "id": "870c70ac-faeb-4b27-b3ba-45e40e3df051",
   "metadata": {},
   "outputs": [],
   "source": [
    "xs = [1, 2, 3, 4]\n",
    "for x in xs:\n",
    "    print(x)\n",
    "    break\n",
    "else:\n",
    "    print('ok')"
   ]
  },
  {
   "cell_type": "markdown",
   "id": "628bb498-7756-40b7-8081-863413f6202e",
   "metadata": {},
   "source": [
    "## Range"
   ]
  },
  {
   "cell_type": "code",
   "execution_count": null,
   "id": "e332d880-7337-4e7a-b22e-9815667cbe88",
   "metadata": {},
   "outputs": [],
   "source": [
    "for i in range(10):\n",
    "    print(i)"
   ]
  },
  {
   "cell_type": "code",
   "execution_count": null,
   "id": "7bfe3dfa-ccfb-4a70-93c6-43d07443b80b",
   "metadata": {},
   "outputs": [],
   "source": [
    "for i in range(1, 10 + 1):\n",
    "    print(i)"
   ]
  },
  {
   "cell_type": "code",
   "execution_count": null,
   "id": "e61ae0a8-b211-4d30-89be-7d918455d442",
   "metadata": {},
   "outputs": [],
   "source": [
    "for i in range(1, 10 + 1, 2):\n",
    "    print(i)"
   ]
  },
  {
   "cell_type": "code",
   "execution_count": null,
   "id": "0a4653e6-7bbf-4684-a081-8a7c31732a9f",
   "metadata": {},
   "outputs": [],
   "source": [
    "range(10)"
   ]
  },
  {
   "cell_type": "code",
   "execution_count": null,
   "id": "ce2a0e3a-403c-4dc6-b94d-3018215843c3",
   "metadata": {},
   "outputs": [],
   "source": [
    "list(range(10))"
   ]
  },
  {
   "cell_type": "code",
   "execution_count": null,
   "id": "7a699e51-f08c-4940-aedd-42d837b99828",
   "metadata": {},
   "outputs": [],
   "source": [
    "[*range(10)]"
   ]
  },
  {
   "cell_type": "code",
   "execution_count": null,
   "id": "82004401-8fa9-4563-aaca-e5590e3da249",
   "metadata": {},
   "outputs": [],
   "source": [
    "list(range(10, 0, -1))"
   ]
  },
  {
   "cell_type": "code",
   "execution_count": null,
   "id": "252b7316-85d4-4e8f-b598-2c08fc9823fe",
   "metadata": {},
   "outputs": [],
   "source": [
    "xs = 'abcd'\n",
    "for i in range(len(xs)):\n",
    "    print(i, xs[i])"
   ]
  },
  {
   "cell_type": "code",
   "execution_count": null,
   "id": "880645b1-505c-4be3-81c2-9116f7d046ad",
   "metadata": {},
   "outputs": [],
   "source": [
    "range(10)"
   ]
  },
  {
   "cell_type": "code",
   "execution_count": null,
   "id": "6c21474f-fa84-44b8-84fe-f8f4e56adc00",
   "metadata": {},
   "outputs": [],
   "source": [
    "len(range(10))"
   ]
  },
  {
   "cell_type": "code",
   "execution_count": null,
   "id": "a12b3f34-8c6d-4b1a-8179-cad07b890952",
   "metadata": {},
   "outputs": [],
   "source": [
    "sum(range(10))"
   ]
  },
  {
   "cell_type": "code",
   "execution_count": null,
   "id": "328fe4fb-9fc3-4609-9f2c-00154823c898",
   "metadata": {},
   "outputs": [],
   "source": [
    "min(range(10))"
   ]
  },
  {
   "cell_type": "code",
   "execution_count": null,
   "id": "ab26de1f-3a42-42ee-8c2f-c5b5345eb910",
   "metadata": {},
   "outputs": [],
   "source": [
    "max(range(10))"
   ]
  },
  {
   "cell_type": "markdown",
   "id": "8c604e44-954d-4175-8648-fb90cdf7cefb",
   "metadata": {},
   "source": [
    "## Break & continue"
   ]
  },
  {
   "cell_type": "code",
   "execution_count": null,
   "id": "3c64d747-9995-47f7-8775-55fe821b4544",
   "metadata": {},
   "outputs": [],
   "source": [
    "total = 0\n",
    "while True:\n",
    "    if total < 10:\n",
    "        total += 1\n",
    "        continue\n",
    "    break\n",
    "total"
   ]
  },
  {
   "cell_type": "code",
   "execution_count": null,
   "id": "3b5ecb39-052c-4363-845b-3c1128c2dc20",
   "metadata": {},
   "outputs": [],
   "source": [
    "flag = False\n",
    "xs = [1, 1, 1, 1]\n",
    "for x in xs:\n",
    "    if x == 1:\n",
    "        continue\n",
    "    break\n",
    "else:\n",
    "    flag = True\n",
    "flag"
   ]
  },
  {
   "cell_type": "code",
   "execution_count": null,
   "id": "ccbd6d9a-98d9-4517-870e-efd1ff257230",
   "metadata": {},
   "outputs": [],
   "source": [
    "flag = False\n",
    "xs = [1, 1, 0, 1]\n",
    "for x in xs:\n",
    "    if x == 1:\n",
    "        continue\n",
    "    break\n",
    "else:\n",
    "    flag = True\n",
    "flag"
   ]
  },
  {
   "cell_type": "markdown",
   "id": "5b4facf9-f264-4cb8-b448-3a2acd75de70",
   "metadata": {},
   "source": [
    "## Pass"
   ]
  },
  {
   "cell_type": "code",
   "execution_count": null,
   "id": "bdd122a5-1cce-4a8f-acf8-b0b0b8674d69",
   "metadata": {},
   "outputs": [],
   "source": [
    "for _ in range(10):\n",
    "    pass"
   ]
  },
  {
   "cell_type": "code",
   "execution_count": null,
   "id": "f85db296-6529-437b-9953-9d681279e0ca",
   "metadata": {},
   "outputs": [],
   "source": [
    "def foo():\n",
    "    pass"
   ]
  },
  {
   "cell_type": "code",
   "execution_count": null,
   "id": "58cb330b-78ad-4217-ad8c-f7db0a268d8a",
   "metadata": {},
   "outputs": [],
   "source": [
    "class Foo:\n",
    "    pass"
   ]
  },
  {
   "cell_type": "code",
   "execution_count": null,
   "id": "299c9554-98d9-408d-951d-f88c106c8894",
   "metadata": {},
   "outputs": [],
   "source": [
    "def foo():\n",
    "    ..."
   ]
  },
  {
   "cell_type": "code",
   "execution_count": null,
   "id": "5186644e-e664-415a-9bb7-48a72a563e24",
   "metadata": {},
   "outputs": [],
   "source": [
    "def foo():\n",
    "    raise NotImplementedError"
   ]
  },
  {
   "cell_type": "markdown",
   "id": "c5df1243-8015-4a86-93b9-22604d41f092",
   "metadata": {},
   "source": [
    "## Match"
   ]
  },
  {
   "cell_type": "markdown",
   "id": "8e95bb86-7d05-401d-b6ff-7873ba0aa925",
   "metadata": {},
   "source": [
    "**Note, `match` is introduced since `Python 3.10`**\n",
    "\n",
    "**Use it to replace chained `elif`, but it is not limmited to only this usecase**"
   ]
  },
  {
   "cell_type": "code",
   "execution_count": null,
   "id": "74c8fd6a-7095-4b6a-bb1a-152dec15f5c8",
   "metadata": {},
   "outputs": [],
   "source": [
    "xs = [1, 2, 3, 4, 5]\n",
    "for x in xs:\n",
    "    if x == 1:\n",
    "        print('a')\n",
    "    elif x == 2:\n",
    "        print('b')\n",
    "    elif x == 3:\n",
    "        print('c')\n",
    "    elif x == 4:\n",
    "        print('d')\n",
    "    else:\n",
    "        print(None)"
   ]
  },
  {
   "cell_type": "code",
   "execution_count": null,
   "id": "06df3b82-b5a4-4dd6-b28a-fc557c56a006",
   "metadata": {},
   "outputs": [],
   "source": [
    "for x in xs:\n",
    "    match x:\n",
    "        case 1:\n",
    "            print('a')\n",
    "        case 2:\n",
    "            print('b')\n",
    "        case 3:\n",
    "            print('c')\n",
    "        case 4:\n",
    "            print('b')\n",
    "        case _:\n",
    "            print(None)"
   ]
  },
  {
   "cell_type": "code",
   "execution_count": null,
   "id": "bd3bf1d8-fff8-483d-a39c-bff88d320cbd",
   "metadata": {},
   "outputs": [],
   "source": [
    "ys = {1: 'a', 2: 'b', 3: 'c', 4: 'd'}\n",
    "for x in xs:\n",
    "    print(ys.get(x, None))"
   ]
  },
  {
   "cell_type": "markdown",
   "id": "c0900cb2-2d53-4f79-8b90-0049f8bbf768",
   "metadata": {},
   "source": [
    "**Alternatives**"
   ]
  },
  {
   "cell_type": "code",
   "execution_count": null,
   "id": "a2987dc2-33ed-4279-8424-d10b93a3c5fa",
   "metadata": {},
   "outputs": [],
   "source": [
    "x = 1\n",
    "match x:\n",
    "    case 1 | 2 | 3 | 4 | 5:\n",
    "        print(x)\n",
    "    case _:\n",
    "        print(None)"
   ]
  },
  {
   "cell_type": "code",
   "execution_count": null,
   "id": "88d2c31c-aea8-42e2-80a8-bc3e164442c1",
   "metadata": {},
   "outputs": [],
   "source": [
    "x = 10\n",
    "match x:\n",
    "    case 1 | 2 | 3 | 4 | 5:\n",
    "        print(x)\n",
    "    case _:\n",
    "        print(None)"
   ]
  },
  {
   "cell_type": "markdown",
   "id": "b911d211-2b87-4f24-8c7c-7da14914485d",
   "metadata": {},
   "source": [
    "**Unpacking**"
   ]
  },
  {
   "cell_type": "code",
   "execution_count": null,
   "id": "fbc3b71e-7de7-4875-99d1-c9bda2bffbad",
   "metadata": {},
   "outputs": [],
   "source": [
    "xy = [0, 0]\n",
    "match xy:\n",
    "    case (0, 0):\n",
    "        print('origin')\n",
    "    case (x, 0):\n",
    "        print('x line')\n",
    "    case (0, y):\n",
    "        print('y line')\n",
    "    case (x, y):\n",
    "        print('plane')\n",
    "    case _:\n",
    "        raise ValueError"
   ]
  },
  {
   "cell_type": "markdown",
   "id": "4ea150df-3c72-45e3-8712-d58c783256cb",
   "metadata": {},
   "source": [
    "**Guard**"
   ]
  },
  {
   "cell_type": "code",
   "execution_count": null,
   "id": "1b74381d-3249-4d54-995d-ff81c8349bd3",
   "metadata": {},
   "outputs": [],
   "source": [
    "xy = [0, 0]\n",
    "match xy:\n",
    "    case (0, 0):\n",
    "        print('origin')\n",
    "    case (x, 0) if isinstance(x, int) :\n",
    "        print('x line')\n",
    "    case (0, y) if isinstance(x, int):\n",
    "        print('y line')\n",
    "    case (x, y) if isinstance(x, int) and isinstance(y, int):\n",
    "        print('plane')\n",
    "    case _:\n",
    "        raise ValueError"
   ]
  },
  {
   "cell_type": "markdown",
   "id": "b9361136-f7b2-40a4-9923-3ab936aefde1",
   "metadata": {},
   "source": [
    "**Extended unpacking**"
   ]
  },
  {
   "cell_type": "code",
   "execution_count": null,
   "id": "c44d3b5b-a508-4ca6-bba4-8e9e749f7cc2",
   "metadata": {},
   "outputs": [],
   "source": [
    "xs = [0, 0, 0, 0]\n",
    "match xs:\n",
    "    case (0, *_, 0):\n",
    "        print('1st & last are zero')\n",
    "    case (0, *_):\n",
    "        print('1st is zero')\n",
    "    case (*_, 0):\n",
    "        print('last is zero')\n",
    "    case (_, 0, *_):\n",
    "        print('2nd is zero')    \n",
    "    case _:\n",
    "        raise ValueError"
   ]
  },
  {
   "cell_type": "markdown",
   "id": "e9ca5780-9746-4f26-91de-5fc1b036a5a5",
   "metadata": {},
   "source": [
    "**Mapping patterns**"
   ]
  },
  {
   "cell_type": "code",
   "execution_count": null,
   "id": "d3f2e78f-3eab-4fa8-8442-96e9cfb4add5",
   "metadata": {},
   "outputs": [],
   "source": [
    "xs = {'A': 0, 'B': 1, 'C': 2, 'D': 3}\n",
    "match xs:\n",
    "    case {'A': 0}:\n",
    "        print('A')\n",
    "    case {'B': 1}:\n",
    "        print('B')\n",
    "    case {'A': 1, 'B': 0}:\n",
    "        print('AB')\n",
    "    case {'A': 1, 'C': 1, **other}:\n",
    "        print(other)"
   ]
  },
  {
   "cell_type": "markdown",
   "id": "d795f721-6574-494d-a630-f822625d1b1c",
   "metadata": {},
   "source": [
    "**Capture**"
   ]
  },
  {
   "cell_type": "code",
   "execution_count": null,
   "id": "57a48d95-63f0-4826-8465-3a6ccc4d609e",
   "metadata": {},
   "outputs": [],
   "source": [
    "xy = [1, 0]\n",
    "match xy:\n",
    "    case (x as pattern, 0):\n",
    "        pass\n",
    "pattern"
   ]
  },
  {
   "cell_type": "markdown",
   "id": "07ae92d7-9051-4680-ba00-90b106521ca7",
   "metadata": {},
   "source": [
    "# Functions"
   ]
  },
  {
   "cell_type": "code",
   "execution_count": null,
   "id": "50c9749f-9531-4206-a8fe-bf9fb79edb1b",
   "metadata": {},
   "outputs": [],
   "source": [
    "def square(x:float) -> float:\n",
    "    \"\"\" Given x, returns x**2 \"\"\"\n",
    "    y = x*x\n",
    "    return y"
   ]
  },
  {
   "cell_type": "code",
   "execution_count": null,
   "id": "be5f1afd-573b-4b4c-bb34-86cf121c8fd9",
   "metadata": {},
   "outputs": [],
   "source": [
    "square"
   ]
  },
  {
   "cell_type": "code",
   "execution_count": null,
   "id": "600a3e4c-e131-47bc-8f74-64680d2eb0b4",
   "metadata": {},
   "outputs": [],
   "source": [
    "square.__annotations__"
   ]
  },
  {
   "cell_type": "code",
   "execution_count": null,
   "id": "517951f9-c518-47a8-9d04-3a0cbf1ce0a7",
   "metadata": {},
   "outputs": [],
   "source": [
    "square.__doc__"
   ]
  },
  {
   "cell_type": "code",
   "execution_count": null,
   "id": "847bdf0e-d4af-4f24-be4e-45f7fb429b5e",
   "metadata": {},
   "outputs": [],
   "source": [
    "square(2.0)"
   ]
  },
  {
   "cell_type": "code",
   "execution_count": null,
   "id": "37d92479-3bc0-44ea-9605-ddd79a60f403",
   "metadata": {},
   "outputs": [],
   "source": [
    "fn = square\n",
    "fn(3.0)"
   ]
  },
  {
   "cell_type": "code",
   "execution_count": null,
   "id": "c24d5ef5-74d1-47b4-81fb-b0288b9fe600",
   "metadata": {},
   "outputs": [],
   "source": [
    "square.memo = 'Buy bitcoin'\n",
    "square.memo"
   ]
  },
  {
   "cell_type": "code",
   "execution_count": null,
   "id": "49666109-dd6e-4877-887e-7c1d92d69654",
   "metadata": {},
   "outputs": [],
   "source": [
    "print(*dir(square), sep='\\n')"
   ]
  },
  {
   "cell_type": "markdown",
   "id": "71561e61-b3f0-439e-b87e-0d9b110bdb67",
   "metadata": {},
   "source": [
    "**Input mutation**"
   ]
  },
  {
   "cell_type": "code",
   "execution_count": null,
   "id": "0d2bde90-e7e2-4c4b-8619-fefbdac9e74c",
   "metadata": {},
   "outputs": [],
   "source": [
    "def square(xs:list[float]) -> list[float]:\n",
    "    for i in range(len(xs)):\n",
    "        xs[i] *= xs[i]\n",
    "    return xs\n",
    "\n",
    "xs = [1, 2, 3, 4, 5]\n",
    "square(xs)"
   ]
  },
  {
   "cell_type": "code",
   "execution_count": null,
   "id": "f0f4034e-7fea-44f6-b72f-1c2c12e869ca",
   "metadata": {},
   "outputs": [],
   "source": [
    "xs"
   ]
  },
  {
   "cell_type": "code",
   "execution_count": null,
   "id": "270a7f1a-15ed-40bc-a41d-62c41cf836ea",
   "metadata": {},
   "outputs": [],
   "source": [
    "def square(xs:list[float]) -> list[float]:\n",
    "    ys = []\n",
    "    for x in xs:\n",
    "        ys.append(x*x)\n",
    "    return ys\n",
    "    \n",
    "xs = [1, 2, 3, 4, 5]\n",
    "square(xs)"
   ]
  },
  {
   "cell_type": "code",
   "execution_count": null,
   "id": "5b5c3a99-eed3-4134-93e3-b5f6fcfa345b",
   "metadata": {},
   "outputs": [],
   "source": [
    "def square(xs:list[float]) -> list[float]:\n",
    "    return [x*x for x in xs]\n",
    "\n",
    "xs = [1, 2, 3, 4, 5]\n",
    "square(xs)"
   ]
  },
  {
   "cell_type": "markdown",
   "id": "3ced82c7-f9fa-4e0b-9a94-8023a0a8c811",
   "metadata": {},
   "source": [
    "## Default argument values"
   ]
  },
  {
   "cell_type": "code",
   "execution_count": null,
   "id": "8b7fc919-d284-4c6a-8b9d-ef5203a6b6d8",
   "metadata": {},
   "outputs": [],
   "source": [
    "def foo(x, y=1):\n",
    "    return x + y"
   ]
  },
  {
   "cell_type": "code",
   "execution_count": null,
   "id": "3ff6d2dd-96cf-4706-ae7c-6052ba34e994",
   "metadata": {},
   "outputs": [],
   "source": [
    "foo(1, 1)"
   ]
  },
  {
   "cell_type": "code",
   "execution_count": null,
   "id": "9f86141e-a47c-4dc1-b1fa-cd379fe3cf61",
   "metadata": {},
   "outputs": [],
   "source": [
    "foo(1)"
   ]
  },
  {
   "cell_type": "markdown",
   "id": "a3a6df47-b463-4d99-9076-afbec0a3db69",
   "metadata": {},
   "source": [
    "## Mutable default value"
   ]
  },
  {
   "cell_type": "code",
   "execution_count": null,
   "id": "31a585da-377c-48cd-89a4-9e0f85fb16c7",
   "metadata": {},
   "outputs": [],
   "source": [
    "def append(x, l=[]):\n",
    "    l.append(x)\n",
    "    return l"
   ]
  },
  {
   "cell_type": "code",
   "execution_count": null,
   "id": "73d9246e-cad9-461a-8c74-c23aaef5126d",
   "metadata": {},
   "outputs": [],
   "source": [
    "append.__defaults__"
   ]
  },
  {
   "cell_type": "code",
   "execution_count": null,
   "id": "c3e0d26e-a32a-41e6-8fc5-841c35dc9e54",
   "metadata": {},
   "outputs": [],
   "source": [
    "print(append(1))\n",
    "print(append(2))\n",
    "print(append(3))"
   ]
  },
  {
   "cell_type": "code",
   "execution_count": null,
   "id": "41e42e34-11b7-48be-a547-0142283d6f88",
   "metadata": {},
   "outputs": [],
   "source": [
    "append.__defaults__"
   ]
  },
  {
   "cell_type": "code",
   "execution_count": null,
   "id": "c541a86f-75ed-4910-8c97-499c38cd6631",
   "metadata": {},
   "outputs": [],
   "source": [
    "def append(x, l=None):\n",
    "    if l is None:\n",
    "        l = []\n",
    "    l.append(x)\n",
    "    return l"
   ]
  },
  {
   "cell_type": "code",
   "execution_count": null,
   "id": "b254170f-765c-4c0e-a97b-74bf70fed9b4",
   "metadata": {},
   "outputs": [],
   "source": [
    "print(append(1))\n",
    "print(append(2))\n",
    "print(append(3))"
   ]
  },
  {
   "cell_type": "markdown",
   "id": "f05d9cd5-031e-4e6d-b10d-12bc69c70334",
   "metadata": {},
   "source": [
    "## Keyword arguments"
   ]
  },
  {
   "cell_type": "code",
   "execution_count": null,
   "id": "2638da10-2a5f-40a9-bab0-39c3c9422170",
   "metadata": {},
   "outputs": [],
   "source": [
    "def foo(x, y):\n",
    "    return x + y"
   ]
  },
  {
   "cell_type": "code",
   "execution_count": null,
   "id": "bf895311-ea23-4b24-82c8-1e407ebbf7ad",
   "metadata": {},
   "outputs": [],
   "source": [
    "foo(1, 1)"
   ]
  },
  {
   "cell_type": "code",
   "execution_count": null,
   "id": "8693cb49-aa1d-411c-a9b9-6a631de10bc8",
   "metadata": {},
   "outputs": [],
   "source": [
    "foo(1, y=1)"
   ]
  },
  {
   "cell_type": "code",
   "execution_count": null,
   "id": "111c04a3-4cd6-4929-a567-0f2a639b3077",
   "metadata": {},
   "outputs": [],
   "source": [
    "foo(x=1, y=1)"
   ]
  },
  {
   "cell_type": "code",
   "execution_count": null,
   "id": "3b5b3b86-58ae-4c47-8110-1593d6a6aa6e",
   "metadata": {},
   "outputs": [],
   "source": [
    "foo(y=1, x=1)"
   ]
  },
  {
   "cell_type": "code",
   "execution_count": null,
   "id": "50c006cd-39bb-4f7b-8285-5152e325db13",
   "metadata": {},
   "outputs": [],
   "source": [
    "foo(y=1, 1)"
   ]
  },
  {
   "cell_type": "code",
   "execution_count": null,
   "id": "bfc5e84d-15a2-4813-b19c-a35a58715664",
   "metadata": {},
   "outputs": [],
   "source": [
    "foo(1, 1, 1)"
   ]
  },
  {
   "cell_type": "code",
   "execution_count": null,
   "id": "0d0b4435-8cae-45c4-85f2-29997311e27c",
   "metadata": {},
   "outputs": [],
   "source": [
    "def foo(x, y, *args, **kwargs):\n",
    "    print(args)\n",
    "    print(kwargs)\n",
    "    return x + y"
   ]
  },
  {
   "cell_type": "code",
   "execution_count": null,
   "id": "73d2c3e5-48af-4c54-9f2a-9053149ce79d",
   "metadata": {},
   "outputs": [],
   "source": [
    "foo(1, 1, 1)"
   ]
  },
  {
   "cell_type": "code",
   "execution_count": null,
   "id": "3110d7ff-bd2e-4715-802a-b7b55fb53c9e",
   "metadata": {},
   "outputs": [],
   "source": [
    "foo(1, 1, parameter='normal')"
   ]
  },
  {
   "cell_type": "markdown",
   "id": "2d330422-5e09-49d1-ab72-fdc69d31e5b3",
   "metadata": {},
   "source": [
    "## Positional ands keyword arguments"
   ]
  },
  {
   "cell_type": "code",
   "execution_count": null,
   "id": "0aae7f53-3fbe-4912-a75a-7b37c569f547",
   "metadata": {},
   "outputs": [],
   "source": [
    "def foo(pos_arg_1, \n",
    "        pos_arg_2,\n",
    "        /,\n",
    "        pos_or_kwd_1,\n",
    "        pos_or_kwd_2,\n",
    "        *,\n",
    "        kwd_arg_1,\n",
    "        kwd_arg_2):\n",
    "    pass"
   ]
  },
  {
   "cell_type": "code",
   "execution_count": null,
   "id": "7a3668bf-c12e-40de-b157-a00fe4e63e5f",
   "metadata": {},
   "outputs": [],
   "source": [
    "def foo(arg):\n",
    "    pass"
   ]
  },
  {
   "cell_type": "code",
   "execution_count": null,
   "id": "13e0f893-bee0-44ad-b3c7-c21d86d6664a",
   "metadata": {},
   "outputs": [],
   "source": [
    "def foo(arg, /):\n",
    "    pass"
   ]
  },
  {
   "cell_type": "code",
   "execution_count": null,
   "id": "f877b341-2fdf-4eb1-bc45-e5c661515cd0",
   "metadata": {},
   "outputs": [],
   "source": [
    "def foo(*, arg):\n",
    "    pass"
   ]
  },
  {
   "cell_type": "markdown",
   "id": "c0a9a3a7-dae4-4b56-8587-f42e8b442277",
   "metadata": {},
   "source": [
    "Verbatim form [python tutorial](https://docs.python.org/3/tutorial/)\n",
    "\n",
    "- Use positional-only if you want the name of the parameters to not be available to the user. This is useful when parameter names have no real meaning, if you want to enforce the order of the arguments when the function is called or if you need to take some positional parameters and arbitrary keywords.\n",
    "\n",
    "- Use keyword-only when names have meaning and the function definition is more understandable by being explicit with names or you want to prevent users relying on the position of the argument being passed.\n",
    "\n",
    "- For an API, use positional-only to prevent breaking API changes if the parameter’s name is modified in the future."
   ]
  },
  {
   "cell_type": "markdown",
   "id": "04ab636b-b8ba-440e-b836-6958a8cef416",
   "metadata": {},
   "source": [
    "## Arbitrary number of arguments"
   ]
  },
  {
   "cell_type": "code",
   "execution_count": null,
   "id": "18ceb16e-ce06-4184-879a-8d64f80bb100",
   "metadata": {},
   "outputs": [],
   "source": [
    "def foo(*args, task='sum'):\n",
    "    match task:\n",
    "        case 'sum':\n",
    "            res = 0\n",
    "            for x in args:\n",
    "                res += x\n",
    "        case 'mul':\n",
    "            res = 1\n",
    "            for x in args:\n",
    "                res *= x\n",
    "    return res"
   ]
  },
  {
   "cell_type": "code",
   "execution_count": null,
   "id": "3850c216-0432-481e-b16d-4e5e26132561",
   "metadata": {},
   "outputs": [],
   "source": [
    "print(foo(1))\n",
    "print(foo(1, 2))\n",
    "print(foo(1, 2, 3))"
   ]
  },
  {
   "cell_type": "code",
   "execution_count": null,
   "id": "e90f5856-3eb4-471e-8756-25a2af32658a",
   "metadata": {},
   "outputs": [],
   "source": [
    "print(foo(1, task='mul'))\n",
    "print(foo(1, 2, task='mul'))\n",
    "print(foo(1, 2, 3, task='mul'))"
   ]
  },
  {
   "cell_type": "code",
   "execution_count": null,
   "id": "93d5e7a9-30c7-4825-b70e-63a7c33cff89",
   "metadata": {},
   "outputs": [],
   "source": [
    "xs = range(10)"
   ]
  },
  {
   "cell_type": "code",
   "execution_count": null,
   "id": "d75fb1a7-e92b-4b49-b34a-ec724d462201",
   "metadata": {},
   "outputs": [],
   "source": [
    "foo(xs)"
   ]
  },
  {
   "cell_type": "code",
   "execution_count": null,
   "id": "ccfbddef-2a5a-4fcf-9e91-f83d91126063",
   "metadata": {},
   "outputs": [],
   "source": [
    "foo(*xs)"
   ]
  },
  {
   "cell_type": "markdown",
   "id": "f0fd6ab7-6ada-42cb-8dba-45413e7c6d9e",
   "metadata": {},
   "source": [
    "## Lambda expressions"
   ]
  },
  {
   "cell_type": "code",
   "execution_count": null,
   "id": "f6607b78-4f88-41b5-8a77-11f78f4c2e53",
   "metadata": {},
   "outputs": [],
   "source": [
    "def mult_by(n):\n",
    "    return lambda x: n*x"
   ]
  },
  {
   "cell_type": "code",
   "execution_count": null,
   "id": "6ff89e10-78aa-4e6f-858b-3969b4bcc299",
   "metadata": {},
   "outputs": [],
   "source": [
    "foo = mult_by(2)\n",
    "foo(2)"
   ]
  },
  {
   "cell_type": "code",
   "execution_count": null,
   "id": "1bdc7045-f462-4df2-a5c1-736b886720ce",
   "metadata": {},
   "outputs": [],
   "source": [
    "foo = mult_by(3)\n",
    "foo(2)"
   ]
  },
  {
   "cell_type": "code",
   "execution_count": null,
   "id": "6da2de60-77cf-4e0a-9edc-6fbba27f559b",
   "metadata": {},
   "outputs": [],
   "source": [
    "xs = [1, 2, 3, 4, 5]"
   ]
  },
  {
   "cell_type": "code",
   "execution_count": null,
   "id": "df47af20-ef9f-47cd-8c45-5faf8ee46695",
   "metadata": {},
   "outputs": [],
   "source": [
    "ys = []\n",
    "for x in xs:\n",
    "    ys.append(x**2)\n",
    "ys"
   ]
  },
  {
   "cell_type": "code",
   "execution_count": null,
   "id": "ee089224-3e0d-443c-88ef-306071d1654d",
   "metadata": {},
   "outputs": [],
   "source": [
    "ys = [x**2 for x in xs]\n",
    "ys"
   ]
  },
  {
   "cell_type": "code",
   "execution_count": null,
   "id": "83918c62-2e3a-48b3-a52b-5629b81c9c10",
   "metadata": {},
   "outputs": [],
   "source": [
    "ys = list(map(lambda x: x**2, xs))\n",
    "ys"
   ]
  },
  {
   "cell_type": "code",
   "execution_count": null,
   "id": "33fff409-d740-4af0-afb4-2046efce6c4c",
   "metadata": {},
   "outputs": [],
   "source": [
    "xs = range(10)"
   ]
  },
  {
   "cell_type": "code",
   "execution_count": null,
   "id": "35c6be0f-68f2-43b2-bc7d-04071307b8f1",
   "metadata": {},
   "outputs": [],
   "source": [
    "sorted(xs)"
   ]
  },
  {
   "cell_type": "code",
   "execution_count": null,
   "id": "5651e1f7-f8f6-480a-a238-d221c4f264f6",
   "metadata": {},
   "outputs": [],
   "source": [
    "sorted(xs, key=lambda x: not x % 2)"
   ]
  },
  {
   "cell_type": "markdown",
   "id": "5f696cb1-b81f-47c2-a755-a5d502064e98",
   "metadata": {},
   "source": [
    "## Docstrings and annotaions"
   ]
  },
  {
   "cell_type": "code",
   "execution_count": null,
   "id": "df0c6bf9-78f4-4a2b-90ef-7a84cb708878",
   "metadata": {},
   "outputs": [],
   "source": [
    "def power(x:float, n:int=1) -> float:\n",
    "    \"\"\"\n",
    "    Compute x**2\n",
    "\n",
    "    Parameters\n",
    "    ----------\n",
    "    x: float\n",
    "        input value\n",
    "    n: int, positive, default=1\n",
    "        exponent\n",
    "\n",
    "    Returns\n",
    "    -------\n",
    "    float\n",
    "\n",
    "    Notes\n",
    "    -----\n",
    "    \n",
    "    \"\"\"\n",
    "    return x**n"
   ]
  },
  {
   "cell_type": "code",
   "execution_count": null,
   "id": "7ed21e99-95d3-4de0-ac70-f37de74d309a",
   "metadata": {},
   "outputs": [],
   "source": [
    "power.__doc__"
   ]
  },
  {
   "cell_type": "code",
   "execution_count": null,
   "id": "b567491c-f53a-4891-a0dd-d801dbe56055",
   "metadata": {},
   "outputs": [],
   "source": [
    "power.__annotations__"
   ]
  },
  {
   "cell_type": "markdown",
   "id": "0929eb6d-c900-4496-ae58-e88643191dfa",
   "metadata": {},
   "source": [
    "# Coding style"
   ]
  },
  {
   "cell_type": "markdown",
   "id": "0b015106-3027-4879-9bf6-dd12cbefc5da",
   "metadata": {},
   "source": [
    "Verbatim form [python tutorial](https://docs.python.org/3/tutorial/)\n",
    "\n",
    "- Use 4-space indentation, and no tabs.\n",
    "\n",
    "- 4 spaces are a good compromise between small indentation (allows greater nesting depth) and large indentation (easier to read). Tabs introduce confusion, and are best left out.\n",
    "\n",
    "- Wrap lines so that they don’t exceed 79 characters.\n",
    "\n",
    "- This helps users with small displays and makes it possible to have several code files side-by-side on larger displays.\n",
    "\n",
    "- Use blank lines to separate functions and classes, and larger blocks of code inside functions.\n",
    "\n",
    "- When possible, put comments on a line of their own.\n",
    "\n",
    "- Use docstrings.\n",
    "\n",
    "- Use spaces around operators and after commas, but not directly inside bracketing constructs: a = f(1, 2) + g(3, 4).\n",
    "\n",
    "- Name your classes and functions consistently; the convention is to use UpperCamelCase for classes and lowercase_with_underscores for functions and methods. Always use self as the name for the first method argument (see A First Look at Classes for more on classes and methods).\n",
    "\n",
    "- Don’t use fancy encodings if your code is meant to be used in international environments. Python’s default, UTF-8, or even plain ASCII work best in any case.\n",
    "\n",
    "- Likewise, don’t use non-ASCII characters in identifiers if there is only the slightest chance people speaking a different language will read or maintain the code."
   ]
  },
  {
   "cell_type": "markdown",
   "id": "0207c324-a44c-4898-877e-77fc67fd3bb5",
   "metadata": {},
   "source": [
    "# Data structures"
   ]
  },
  {
   "cell_type": "markdown",
   "id": "1e7aa8d5-672a-4023-8928-dc71b19a2d44",
   "metadata": {},
   "source": [
    "## List"
   ]
  },
  {
   "cell_type": "markdown",
   "id": "ec74d920-2f04-4d70-9807-78205990d451",
   "metadata": {},
   "source": [
    "### Methods"
   ]
  },
  {
   "cell_type": "code",
   "execution_count": null,
   "id": "b051dd84-07c0-4feb-9f8b-3cc8b37c5357",
   "metadata": {},
   "outputs": [],
   "source": [
    "?list.append"
   ]
  },
  {
   "cell_type": "code",
   "execution_count": null,
   "id": "ace08390-0d3f-4107-b5f3-6afc5c0b71c9",
   "metadata": {},
   "outputs": [],
   "source": [
    "x = [1, 2, 3]\n",
    "x.append(4)\n",
    "x"
   ]
  },
  {
   "cell_type": "code",
   "execution_count": null,
   "id": "5f7c2372-bc1c-4836-917e-70fa98f2a9c5",
   "metadata": {},
   "outputs": [],
   "source": [
    "x[len(x):]"
   ]
  },
  {
   "cell_type": "code",
   "execution_count": null,
   "id": "c4ea5ba9-9b05-44ca-a570-883f5990de78",
   "metadata": {},
   "outputs": [],
   "source": [
    "x[len(x):] = [5]\n",
    "x"
   ]
  },
  {
   "cell_type": "code",
   "execution_count": null,
   "id": "6a80b7d0-b974-4920-9ff1-badcaa9b6569",
   "metadata": {},
   "outputs": [],
   "source": [
    "?list.extend"
   ]
  },
  {
   "cell_type": "code",
   "execution_count": null,
   "id": "e9e6266f-0030-45aa-bb2d-1f88d8ba7afe",
   "metadata": {},
   "outputs": [],
   "source": [
    "x = [1, 2, 3, 4, 5]\n",
    "x.extend([6, 7, 8, 9, 10])\n",
    "x"
   ]
  },
  {
   "cell_type": "code",
   "execution_count": null,
   "id": "35b402ef-1f1f-438c-85e9-d3f771ca6ec3",
   "metadata": {},
   "outputs": [],
   "source": [
    "?list.insert"
   ]
  },
  {
   "cell_type": "code",
   "execution_count": null,
   "id": "0ed38939-1355-493f-a339-fa6f4b4e0f51",
   "metadata": {},
   "outputs": [],
   "source": [
    "x = [1, 2, 3, 4, 5]\n",
    "x.insert(1, 0)\n",
    "x"
   ]
  },
  {
   "cell_type": "code",
   "execution_count": null,
   "id": "d80d9f9d-52fd-4c1b-b125-4f788297a99c",
   "metadata": {},
   "outputs": [],
   "source": [
    "?list.remove"
   ]
  },
  {
   "cell_type": "code",
   "execution_count": null,
   "id": "86b56266-294d-4f6d-8a6e-8ef4592b33b4",
   "metadata": {},
   "outputs": [],
   "source": [
    "x = [1, 2, 3, 4, 5]\n",
    "x.remove(3)\n",
    "x"
   ]
  },
  {
   "cell_type": "code",
   "execution_count": null,
   "id": "7eca3dae-79f0-4e7a-9d08-7b41157f97b6",
   "metadata": {},
   "outputs": [],
   "source": [
    "?list.pop"
   ]
  },
  {
   "cell_type": "code",
   "execution_count": null,
   "id": "4df6d5b6-9278-4bc0-b167-408d416c8805",
   "metadata": {},
   "outputs": [],
   "source": [
    "x = [1, 2, 3, 4, 5]\n",
    "print(x.pop())\n",
    "print(x)"
   ]
  },
  {
   "cell_type": "code",
   "execution_count": null,
   "id": "cc27f6a3-76ab-4967-85c3-8d3dc8822279",
   "metadata": {},
   "outputs": [],
   "source": [
    "?list.clear"
   ]
  },
  {
   "cell_type": "code",
   "execution_count": null,
   "id": "137d29a2-0882-44cf-8df4-810f30b3eae7",
   "metadata": {},
   "outputs": [],
   "source": [
    "x = [1, 2, 3, 4, 5]\n",
    "x.clear()\n",
    "x"
   ]
  },
  {
   "cell_type": "code",
   "execution_count": null,
   "id": "40d46090-c0ad-4e3e-b852-749aacafc322",
   "metadata": {},
   "outputs": [],
   "source": [
    "x = [1, 2, 3, 4, 5]\n",
    "del x[:]\n",
    "x"
   ]
  },
  {
   "cell_type": "code",
   "execution_count": null,
   "id": "e8ec7b6b-7f8d-4940-9cf3-dd039ed19627",
   "metadata": {},
   "outputs": [],
   "source": [
    "?list.index"
   ]
  },
  {
   "cell_type": "code",
   "execution_count": null,
   "id": "9b184561-b7f5-4237-a4c9-159e682aa666",
   "metadata": {},
   "outputs": [],
   "source": [
    "x = [1, 2, 3, 4, 5]\n",
    "x.index(4)"
   ]
  },
  {
   "cell_type": "code",
   "execution_count": null,
   "id": "05f71cbf-5078-469b-b84d-7603fe3185a9",
   "metadata": {},
   "outputs": [],
   "source": [
    "?list.count"
   ]
  },
  {
   "cell_type": "code",
   "execution_count": null,
   "id": "739ae834-dafe-4a6a-9591-2034865286fe",
   "metadata": {},
   "outputs": [],
   "source": [
    "x = [1, 2, 1, 4, 1]\n",
    "x.count(1)"
   ]
  },
  {
   "cell_type": "code",
   "execution_count": null,
   "id": "5f26b117-f56a-479b-9a3d-df881eac29fd",
   "metadata": {},
   "outputs": [],
   "source": [
    "?list.sort"
   ]
  },
  {
   "cell_type": "code",
   "execution_count": null,
   "id": "076034c9-d8f7-449c-8299-7ba85cd69555",
   "metadata": {},
   "outputs": [],
   "source": [
    "x = [5, 4, 3, 2, 1]\n",
    "x.sort()\n",
    "x"
   ]
  },
  {
   "cell_type": "code",
   "execution_count": null,
   "id": "033dd6e6-8d72-4fdf-a5f2-76d8f71d0f66",
   "metadata": {},
   "outputs": [],
   "source": [
    "?list.reverse"
   ]
  },
  {
   "cell_type": "code",
   "execution_count": null,
   "id": "a639856b-6e8e-4b3b-b395-23c7ab5cef0b",
   "metadata": {},
   "outputs": [],
   "source": [
    "x = [1, 2, 3, 4, 5]\n",
    "x.reverse()\n",
    "x"
   ]
  },
  {
   "cell_type": "code",
   "execution_count": null,
   "id": "846fbfd2-bdf8-4c97-b568-fcac6c254125",
   "metadata": {},
   "outputs": [],
   "source": [
    "x = [1, 2, 3, 4, 5]\n",
    "x[::-1]"
   ]
  },
  {
   "cell_type": "code",
   "execution_count": null,
   "id": "f1bae239-0e00-4ae5-880b-6afbc630419f",
   "metadata": {},
   "outputs": [],
   "source": [
    "?list.copy"
   ]
  },
  {
   "cell_type": "code",
   "execution_count": null,
   "id": "ac3f9f0c-18d0-49a7-85ed-3b7effb5b54e",
   "metadata": {},
   "outputs": [],
   "source": [
    "x = [1, 2, 3, 4, 5]\n",
    "y = x.copy()\n",
    "del y[:]\n",
    "x"
   ]
  },
  {
   "cell_type": "code",
   "execution_count": null,
   "id": "fd3c6c65-7180-4063-a9b2-9817ce96df0f",
   "metadata": {},
   "outputs": [],
   "source": [
    "for method in dir(list):\n",
    "    if not method.startswith('__'):\n",
    "        print(method)"
   ]
  },
  {
   "cell_type": "markdown",
   "id": "ae43bd0a-974c-4514-8413-4c812b67d6f8",
   "metadata": {},
   "source": [
    "### Use cases"
   ]
  },
  {
   "cell_type": "markdown",
   "id": "95d38f1a-387e-43f3-a359-181612832feb",
   "metadata": {},
   "source": [
    "**Stack** (last-in/first-out)"
   ]
  },
  {
   "cell_type": "code",
   "execution_count": null,
   "id": "6a2ff722-4820-4fe7-b059-c447e68ba5a8",
   "metadata": {},
   "outputs": [],
   "source": [
    "x = [1, 2, 3, 4]\n",
    "x.append(5)\n",
    "x.pop()"
   ]
  },
  {
   "cell_type": "markdown",
   "id": "ca18fec0-11ac-49fa-80d5-feeb82d569cd",
   "metadata": {},
   "source": [
    "**Queues** (first-in, first-out)"
   ]
  },
  {
   "cell_type": "code",
   "execution_count": null,
   "id": "adfb9f56-bb4d-474d-878a-92000c4256b7",
   "metadata": {},
   "outputs": [],
   "source": [
    "x = [1, 2, 3, 4]"
   ]
  },
  {
   "cell_type": "code",
   "execution_count": null,
   "id": "2924dd65-9cae-4119-8934-c1e48a32dca9",
   "metadata": {},
   "outputs": [],
   "source": [
    "x.insert(0, 0)\n",
    "x"
   ]
  },
  {
   "cell_type": "code",
   "execution_count": null,
   "id": "5945e3aa-ad49-4922-a094-9ae14e9f25b1",
   "metadata": {},
   "outputs": [],
   "source": [
    "x.pop()"
   ]
  },
  {
   "cell_type": "code",
   "execution_count": null,
   "id": "f2720983-3d29-413a-970c-a99a7c2fefca",
   "metadata": {},
   "outputs": [],
   "source": [
    "x.pop(0)"
   ]
  },
  {
   "cell_type": "code",
   "execution_count": null,
   "id": "3e531dfd-2e1c-4878-8f0d-9cd3407d003e",
   "metadata": {},
   "outputs": [],
   "source": [
    "from collections import deque\n",
    "\n",
    "x = deque([1, 2, 3, 4])"
   ]
  },
  {
   "cell_type": "code",
   "execution_count": null,
   "id": "70305727-fdbb-4286-b708-837fedabdbf1",
   "metadata": {},
   "outputs": [],
   "source": [
    "?deque.append"
   ]
  },
  {
   "cell_type": "code",
   "execution_count": null,
   "id": "e5bf718a-48cf-43a1-98f7-93c3481ffba5",
   "metadata": {},
   "outputs": [],
   "source": [
    "x.append(5)\n",
    "x"
   ]
  },
  {
   "cell_type": "code",
   "execution_count": null,
   "id": "b7499f76-d1d8-4e62-9d35-2535647e76b8",
   "metadata": {},
   "outputs": [],
   "source": [
    "?deque.appendleft"
   ]
  },
  {
   "cell_type": "code",
   "execution_count": null,
   "id": "d58fbbf7-898d-4491-b847-872adc160bf3",
   "metadata": {},
   "outputs": [],
   "source": [
    "x.appendleft(0)"
   ]
  },
  {
   "cell_type": "code",
   "execution_count": null,
   "id": "f1880fe5-c44e-4402-9c7a-f82ec2fc15f7",
   "metadata": {},
   "outputs": [],
   "source": [
    "?deque.pop"
   ]
  },
  {
   "cell_type": "code",
   "execution_count": null,
   "id": "dfe7f0c2-76ff-4d02-b6a6-8d91c354ab5a",
   "metadata": {},
   "outputs": [],
   "source": [
    "x.pop()"
   ]
  },
  {
   "cell_type": "code",
   "execution_count": null,
   "id": "a23dbbc7-6133-46d8-9a13-2abedf6fa8eb",
   "metadata": {},
   "outputs": [],
   "source": [
    "?deque.popleft"
   ]
  },
  {
   "cell_type": "code",
   "execution_count": null,
   "id": "ce8fc02e-bb3d-4317-b15b-ebd3c5147571",
   "metadata": {},
   "outputs": [],
   "source": [
    "x.popleft()"
   ]
  },
  {
   "cell_type": "code",
   "execution_count": null,
   "id": "5fd7efd1-833c-459f-a0ec-97037b7f75c4",
   "metadata": {},
   "outputs": [],
   "source": [
    "for method in dir(deque):\n",
    "    if not method.startswith('__'):\n",
    "        print(method)"
   ]
  },
  {
   "cell_type": "code",
   "execution_count": null,
   "id": "8fea846b-0bf2-43ae-a4d2-2584cb5bec73",
   "metadata": {},
   "outputs": [],
   "source": [
    "?deque"
   ]
  },
  {
   "cell_type": "code",
   "execution_count": null,
   "id": "d7f35555-fc52-469b-b14e-10775483091a",
   "metadata": {},
   "outputs": [],
   "source": [
    "x = deque([0, 0, 0, 0, 0], maxlen=5)\n",
    "for i in range(10):\n",
    "    x.append(i)\n",
    "    print(x)"
   ]
  },
  {
   "cell_type": "markdown",
   "id": "2203abd9-957e-4a89-a25e-f2d58f9a4c85",
   "metadata": {},
   "source": [
    "**List comprehensions**"
   ]
  },
  {
   "cell_type": "code",
   "execution_count": null,
   "id": "b947de4b-7ec6-4357-937c-d4135d9c2f38",
   "metadata": {},
   "outputs": [],
   "source": [
    "xs = []\n",
    "for x in range(10):\n",
    "    xs.append(x**2)\n",
    "xs"
   ]
  },
  {
   "cell_type": "code",
   "execution_count": null,
   "id": "ec70c653-6fdf-48c5-88d3-986bc9147659",
   "metadata": {},
   "outputs": [],
   "source": [
    "xs = [x**2 for x in range(10)]\n",
    "xs"
   ]
  },
  {
   "cell_type": "code",
   "execution_count": null,
   "id": "02dfc365-ba7f-45b5-ae8e-57e102ed57d9",
   "metadata": {},
   "outputs": [],
   "source": [
    "xy = []\n",
    "for x in range(0, 5 + 1):\n",
    "    for y in range(5, 0 - 1, -1):\n",
    "        if x + y == 5:\n",
    "            xy.append((x, y))\n",
    "xy"
   ]
  },
  {
   "cell_type": "code",
   "execution_count": null,
   "id": "e02710f7-3ff7-45ae-8bdf-18bf46c185c7",
   "metadata": {},
   "outputs": [],
   "source": [
    "[(x, y) for x in range(0, 5 + 1) for y in range(5, 0 - 1, -1) if  x + y == 5]"
   ]
  },
  {
   "cell_type": "code",
   "execution_count": null,
   "id": "5b26d6e1-64c6-4b35-a07e-57c45228c1a3",
   "metadata": {},
   "outputs": [],
   "source": [
    "m = [[1, 2], [3, 4]]"
   ]
  },
  {
   "cell_type": "code",
   "execution_count": null,
   "id": "ec8e6f47-147e-4728-8a0b-b9362c01d010",
   "metadata": {},
   "outputs": [],
   "source": [
    "[[row[i] for row in m] for i in range(len(m))]"
   ]
  },
  {
   "cell_type": "code",
   "execution_count": null,
   "id": "08f42d1f-e50a-445f-866a-36cc2a1d18d4",
   "metadata": {},
   "outputs": [],
   "source": [
    "mt = []\n",
    "for i in range(len(m)):\n",
    "    mt.append([r[i] for r in m])\n",
    "mt"
   ]
  },
  {
   "cell_type": "code",
   "execution_count": null,
   "id": "697e750e-d235-4322-a056-d14b61211a4e",
   "metadata": {},
   "outputs": [],
   "source": [
    "mt = []\n",
    "for i in range(len(m)):\n",
    "    rt = []\n",
    "    for r in m:\n",
    "        rt.append(r[i])\n",
    "    mt.append(rt)\n",
    "mt"
   ]
  },
  {
   "cell_type": "code",
   "execution_count": null,
   "id": "9d57eb64-9ecb-4591-9ace-efc6b4ab0ac3",
   "metadata": {},
   "outputs": [],
   "source": [
    "list(zip(*m))"
   ]
  },
  {
   "cell_type": "code",
   "execution_count": null,
   "id": "4322dc08-05f2-4d6b-a3a8-1e6f3aacdf10",
   "metadata": {},
   "outputs": [],
   "source": [
    "list(map(list, zip(*m)))"
   ]
  },
  {
   "cell_type": "markdown",
   "id": "a35e313d-d3c2-43dd-b580-9a60a5d33996",
   "metadata": {},
   "source": [
    "## Del"
   ]
  },
  {
   "cell_type": "code",
   "execution_count": null,
   "id": "30314a0a-cf6d-4d72-b476-e9c3319e44eb",
   "metadata": {},
   "outputs": [],
   "source": [
    "x = [1, 2, 3, 4, 5]\n",
    "x.remove(3)\n",
    "x"
   ]
  },
  {
   "cell_type": "code",
   "execution_count": null,
   "id": "b0363018-ec5e-4519-a23f-eb212ff39f20",
   "metadata": {},
   "outputs": [],
   "source": [
    "del x[0]\n",
    "x"
   ]
  },
  {
   "cell_type": "code",
   "execution_count": null,
   "id": "7f7e876a-cfc6-425c-a7b8-641375b29bd1",
   "metadata": {},
   "outputs": [],
   "source": [
    "del x[:]\n",
    "x"
   ]
  },
  {
   "cell_type": "code",
   "execution_count": null,
   "id": "a39d6735-653f-4c5e-bc41-e1834143360b",
   "metadata": {},
   "outputs": [],
   "source": [
    "x = [1, 2, 3, 4, 5]\n",
    "del x[1:-1]\n",
    "x"
   ]
  },
  {
   "cell_type": "code",
   "execution_count": null,
   "id": "5fcd0266-8f86-4e98-b555-af2a8a8b838e",
   "metadata": {},
   "outputs": [],
   "source": [
    "del x"
   ]
  },
  {
   "cell_type": "markdown",
   "id": "e5e56fc2-bc82-46d1-8a0a-d69eed31a185",
   "metadata": {},
   "source": [
    "## Tuple"
   ]
  },
  {
   "cell_type": "code",
   "execution_count": null,
   "id": "27250228-cfa4-4e9e-9d72-60cb7a3656e6",
   "metadata": {},
   "outputs": [],
   "source": []
  },
  {
   "cell_type": "markdown",
   "id": "51dab397-8ad4-4d1d-b3c9-0a6b09597c87",
   "metadata": {},
   "source": [
    "## Set"
   ]
  },
  {
   "cell_type": "code",
   "execution_count": null,
   "id": "6820d01b-6289-4c8c-aacc-ff4991af633f",
   "metadata": {},
   "outputs": [],
   "source": []
  },
  {
   "cell_type": "markdown",
   "id": "ae037364-63b0-4fcf-ba8c-1c5cc8a68e58",
   "metadata": {},
   "source": [
    "## Dict"
   ]
  },
  {
   "cell_type": "code",
   "execution_count": null,
   "id": "c5cda3d1-4071-4104-9c1b-2decbb22060a",
   "metadata": {},
   "outputs": [],
   "source": []
  },
  {
   "cell_type": "markdown",
   "id": "1ca248c8-5f57-4862-8fe4-08e34de6af86",
   "metadata": {},
   "source": [
    "## Loops and conditions"
   ]
  },
  {
   "cell_type": "code",
   "execution_count": null,
   "id": "ae966354-8ec5-4cbf-99dd-fc1314947b46",
   "metadata": {},
   "outputs": [],
   "source": []
  },
  {
   "cell_type": "markdown",
   "id": "595fa48d-a6bf-46e7-af13-dc21067101f9",
   "metadata": {},
   "source": [
    "# Modules"
   ]
  },
  {
   "cell_type": "code",
   "execution_count": null,
   "id": "e1bccc79-6939-44d7-a076-1b853f46ea57",
   "metadata": {},
   "outputs": [],
   "source": []
  },
  {
   "cell_type": "markdown",
   "id": "06731cfd-b8ca-41a7-acd5-2c8c92007aef",
   "metadata": {},
   "source": [
    "# I/O"
   ]
  },
  {
   "cell_type": "code",
   "execution_count": null,
   "id": "5ef7fdf9-ac41-4dc0-8cb3-086fc2ae944d",
   "metadata": {},
   "outputs": [],
   "source": []
  },
  {
   "cell_type": "markdown",
   "id": "46f701c1-0657-4cad-aea4-1112fc60adf2",
   "metadata": {},
   "source": [
    "# Errors and exceptions"
   ]
  },
  {
   "cell_type": "code",
   "execution_count": null,
   "id": "22dc2c9e-8dfe-41c7-a381-8e02cb558dc8",
   "metadata": {},
   "outputs": [],
   "source": []
  }
 ],
 "metadata": {
  "kernelspec": {
   "display_name": "Python 3 (ipykernel)",
   "language": "python",
   "name": "python3"
  },
  "language_info": {
   "codemirror_mode": {
    "name": "ipython",
    "version": 3
   },
   "file_extension": ".py",
   "mimetype": "text/x-python",
   "name": "python",
   "nbconvert_exporter": "python",
   "pygments_lexer": "ipython3",
   "version": "3.12.1"
  }
 },
 "nbformat": 4,
 "nbformat_minor": 5
}
