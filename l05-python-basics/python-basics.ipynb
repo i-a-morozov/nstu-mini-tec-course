{
 "cells": [
  {
   "cell_type": "markdown",
   "id": "53041a88-b53b-4ea5-955f-4a743b646d93",
   "metadata": {},
   "source": [
    "This introduction to Python programming is based on the [official tutorial](https://docs.python.org/3/tutorial/index.html)"
   ]
  },
  {
   "cell_type": "markdown",
   "id": "658d6618-f395-4d06-8cc8-455a649ef4af",
   "metadata": {},
   "source": [
    "The Zen of Python (some coding style suggestions)"
   ]
  },
  {
   "cell_type": "code",
   "execution_count": null,
   "id": "472dc748-5487-48f1-9f36-b7dba1c96372",
   "metadata": {},
   "outputs": [],
   "source": [
    "import this"
   ]
  },
  {
   "cell_type": "markdown",
   "id": "46bef0c6-c9f3-4394-8442-2a2d273b773e",
   "metadata": {},
   "source": [
    "- PEP 8 – Style Guide for Python Code (PEPs = Python Enhancement Proposals)\n",
    "- pythonic way\n",
    "- pythonista or python ninja"
   ]
  },
  {
   "cell_type": "markdown",
   "id": "f739178d-96fe-410a-8465-05cdd9fd84cf",
   "metadata": {},
   "source": [
    "# Interpreter (CPython, IPython)"
   ]
  },
  {
   "cell_type": "markdown",
   "id": "dc50fbbd-d8e0-401f-b7db-9583df00d99d",
   "metadata": {},
   "source": [
    "**`python` is a program that runs (interprets) Python code!**\n",
    "\n",
    "**Python interpreter (CPython)**\n",
    "\n",
    "`!whereis python` (use `#!/usr/bin/env python` in scripts/modules to use correct binary from virtual enviroment)\n",
    "\n",
    "Remember, python is a program, it can use diffent input options. It also can use differenet **environmental variables**. \n",
    "\n",
    "See `python -h` and `man python` for help.\n",
    "\n",
    "See [Command line and environment](https://docs.python.org/3/using/cmdline.html#using-on-general)\n",
    "\n",
    "**Interpreter invocation**\n",
    "\n",
    "- `python`\n",
    "- `python <path>/<module>`\n",
    "- `<path>/<file.py>` for executable file with `#!/usr/bin/env python`\n",
    "- `python -c command [arg] ..`\n",
    "- `python -m module [arg] ...`, for example, `python -m http.server`\n",
    "- `python -i module`, here module = file/script\n",
    "\n",
    "Note, with `-m module` (which is equivalent to `import module` you are actualy 'load' (parse and execute) a file from some location.\n",
    "\n",
    "You can combine different options:\n",
    "\n",
    "```bash\n",
    "$ python -i -c \"x=2+2\"\n",
    ">>> x\n",
    "4\n",
    "```\n",
    "`sys.argv` variable from `sys` module contains information about input arguments.\n",
    "\n",
    "- `sys.argv[0]` input module name or empty string or `-` or `-c`\n",
    "\n",
    "```bash\n",
    "$ python -i - 1 2 3 4\n",
    "```\n",
    "\n",
    "```python\n",
    ">>> import sys\n",
    ">>> sys.argv\n",
    "['-', '1', '2', '3', '4']\n",
    "```\n",
    "\n",
    "**Module (executable Python file/script) structure**\n",
    "\n",
    "```python\n",
    "#!/usr/bin/env python\n",
    "# -*- coding: utf-8 -*-\n",
    "\n",
    "...\n",
    "\n",
    "if __name__ == '__main__':\n",
    "    ...\n",
    "```\n",
    "\n",
    "Note, use `chmod` to make the module/script executable of use `<path>/python [opts] <file.py>`\n",
    "\n",
    "\n",
    "**IPython**\n",
    "\n",
    "- Advanced interactive shell (suggestions, advances autocomplete)\n",
    "\n",
    "- **Jupyter** kernel\n",
    "  \n",
    "- Help\n",
    "  - `?` Introduction and overview of IPython’s features\n",
    "  - `%quickref` Quick reference\n",
    "  - `help` Python’s own help system\n",
    "  - `object?` Details about `object`, use `object??` for extra details\n",
    "\n",
    "- Magic\n",
    "  - ```%lsmagic```\n",
    "  - ```%time?```\n",
    "    \n",
    "- Where to start\n",
    "    - [https://ipython.org/](https://ipython.org/)\n",
    "    - [https://ipython.readthedocs.io/en/stable/interactive/tutorial.html](https://ipython.readthedocs.io/en/stable/interactive/tutorial.html)\n",
    " \n",
    "**Other iterpreters**\n",
    "\n",
    "- IronPython\n",
    "- Jython\n",
    "- PyPy\n",
    "- ..."
   ]
  },
  {
   "cell_type": "markdown",
   "id": "4ff86135-02f9-4d4f-b585-9cbf51e739db",
   "metadata": {},
   "source": [
    "# Linters and type checking"
   ]
  },
  {
   "cell_type": "markdown",
   "id": "56e2472a-4b07-47c4-ba21-23fe4a7e94cf",
   "metadata": {},
   "source": [
    "**Linters**\n",
    "\n",
    "- Tools for static code analisys (potential errors, style violations, and bad code practices)\n",
    "  \n",
    "- **Purpose:**\n",
    "    - Catch bugs early (e.g., undefined variables, syntax issues)\n",
    "    - Enforce coding standards (PEP 8, project-specific conventions, team code standards compliance)\n",
    "    - Improve code readability and maintainability (naming, line length)\n",
    "    - Reduce development and debugging time\n",
    "    - Automate code quality checks\n",
    "    - Integrate with workflows (pre-commit hooks, CI/CD, GitHub workflows)\n",
    "\n",
    "- **Examples**:\n",
    "  - `pylint`\n",
    "  - `ruff`\n",
    "  - `black`\n",
    "  - ..."
   ]
  },
  {
   "cell_type": "markdown",
   "id": "5af602a2-5fcc-4f5b-951d-f941aeb06619",
   "metadata": {},
   "source": [
    "**Command line invocation**\n",
    "\n",
    "- **Installation**: use `pip` or `conda` to install a linter, e.g. `pip install pylint` or `pip install ruff`\n",
    "- **Invocation**: `pylint file.py` or `ruff check .`\n",
    "- **Customization**: configuration files, e.g. tool specific configurations in `pyproject.toml`\n",
    "- **CI/CD**: precommit, GitHub Actions, GitLab CI, ...\n",
    "- **Formating**: automatic code formating with `black` or `ruff`"
   ]
  },
  {
   "cell_type": "markdown",
   "id": "ad7f9b29-6174-43e5-aae2-5798b27e92ac",
   "metadata": {},
   "source": [
    "**LSP**\n",
    "\n",
    "- Language Server Protocol\n",
    "- Standardized protocol for editor-agnostic code analysis\n",
    "- Real time linting, autocomplete, error highlighting, and refactoring\n",
    "- Examples: `pyright`, `pylsp`, `jedi`"
   ]
  },
  {
   "cell_type": "markdown",
   "id": "f4547574-706a-49db-a289-52f156e8c39d",
   "metadata": {},
   "source": [
    "**Linters + LSP editor integration**\n",
    "\n",
    "- Real-time feedback (underline errors)\n",
    "- In-editor suggestions (fixes, documentation)"
   ]
  },
  {
   "cell_type": "markdown",
   "id": "1d830fda-1221-45d1-a974-f23412b68b25",
   "metadata": {},
   "source": [
    "**Type hints and type validation**\n",
    "- Annotate variables, functions (e.g., `x: float = 1.0` or `def fn(x: int) -> int: ...`)\n",
    "- Indicate expected data types\n",
    "- Python ignores hints at runtime, validation is static, e.g. use `mypy`\n",
    "- **`mypy`**:\n",
    "  - Static type checker for Python\n",
    "  - CLI invocation `mypy <file>` or `mypy <path>`\n",
    "  - Catches type mismatches early (passing `int` to a `str` parameter)"
   ]
  },
  {
   "cell_type": "markdown",
   "id": "6673c015-1ce7-4708-91ef-e8d0705a8870",
   "metadata": {},
   "source": [
    "# Notebooks"
   ]
  },
  {
   "cell_type": "markdown",
   "id": "557f80f0-1794-4498-9717-b4f2650c316e",
   "metadata": {},
   "source": [
    "**Basics**\n",
    "\n",
    "- Interactive, browser-based environments that combine **code**, **text**, **visualizations**, and **results** in a single document\n",
    "- Pen and paper like experience\n",
    "- Ideal for scientific workflow\n",
    "- **Jupyter**: The most popular notebook interface (supports Python via the IPython kernel and other languages like R, Julia) \n",
    "- **IPython**: The interactive Python shell that evolved into Jupyter's kernel\n",
    "- **Cells**: code, markdown, raw text\n",
    "- **Execution**: Run code incrementally, preserving state between cells (`Shift+Enter`, `Ctrl+Enter`)"
   ]
  },
  {
   "cell_type": "markdown",
   "id": "ca86eef4-6170-425a-a22d-521e1c28c76c",
   "metadata": {},
   "source": [
    "**Development**\n",
    "\n",
    "- Iterative Workflow (experiment with code, data exploration, prototyping, and debugging)\n",
    "- Work communication & presentation (mix code with rich text, graphs and tables embedded directly in the document)\n",
    "- Interactive elements, writing Books, GUI, ..."
   ]
  },
  {
   "cell_type": "markdown",
   "id": "a4ea5d17-9292-4430-bee9-22e2f5260a7e",
   "metadata": {},
   "source": [
    "**Use cases**\n",
    "\n",
    "- Data science/ML\n",
    "- Scientific research\n",
    "- Teaching"
   ]
  },
  {
   "cell_type": "markdown",
   "id": "e1461fd5-11c1-4868-830e-3d3548661e3a",
   "metadata": {},
   "source": [
    "**Features**\n",
    "\n",
    "- Reach output (tables, images, and widgets)\n",
    "- `IPython` magic for enhanced functionality\n",
    "- Restart/re-run kernels to reset state\n",
    "- Plugins\n",
    "- Integration"
   ]
  },
  {
   "cell_type": "markdown",
   "id": "1116c4d7-569b-450c-a942-bf72dd61225d",
   "metadata": {},
   "source": [
    "Use `bash` (magic):"
   ]
  },
  {
   "cell_type": "code",
   "execution_count": null,
   "id": "9a183e9b-fb4e-45f8-93ee-4294af125ca1",
   "metadata": {},
   "outputs": [],
   "source": [
    "%%bash\n",
    "echo $SHELL"
   ]
  },
  {
   "cell_type": "markdown",
   "id": "86456e8e-5254-456e-9b3f-019d68a6e91c",
   "metadata": {},
   "source": [
    "Mix `bash` and `python`:"
   ]
  },
  {
   "cell_type": "code",
   "execution_count": null,
   "id": "d1816e6e-6571-45a8-96d5-74466b231e5a",
   "metadata": {},
   "outputs": [],
   "source": [
    "shell, *_ = !echo $SHELL\n",
    "print(shell)"
   ]
  },
  {
   "cell_type": "markdown",
   "id": "17ba17b4-0366-418b-927b-0163c29708de",
   "metadata": {},
   "source": [
    "Local runtime in Colab:\n",
    "\n",
    "```bash\n",
    "jupyter notebook \\\n",
    "    --NotebookApp.allow_origin='https://colab.research.google.com' \\\n",
    "    --port=8888 \\\n",
    "    --NotebookApp.port_retries=0\n",
    "```"
   ]
  },
  {
   "cell_type": "markdown",
   "id": "1c016aee-7c75-45a0-804f-0467e4fad1df",
   "metadata": {},
   "source": [
    "**Notebook vs scripts**\n",
    "\n",
    "- Explore (immediate result, interactive debug)\n",
    "- Combine (code, text, results)\n",
    "- Collaboration\n",
    "- Export (HTML, PDF, markdown), e.g with `nbconvert`\n",
    "```bash\n",
    "jupyter nbconvert --execute --to markdown file.ipynb\n",
    "```"
   ]
  },
  {
   "cell_type": "markdown",
   "id": "0fee53c1-35de-4746-9cad-e03d38cd44fa",
   "metadata": {},
   "source": [
    "**Solutions and vendors**\n",
    "\n",
    "- **[JupyterLab](https://jupyter.org/)**\n",
    "- **[VS Code](https://code.visualstudio.com/docs/datascience/jupyter-notebooks)**\n",
    "- **[Google Colab](https://research.google.com/colaboratory/)**\n",
    "- **[Kaggle](https://www.kaggle.com/docs/notebooks)**"
   ]
  },
  {
   "cell_type": "markdown",
   "id": "595c95bf-0363-46e5-8f35-3c97f0f26d1c",
   "metadata": {},
   "source": [
    "# Virtual enviroments"
   ]
  },
  {
   "cell_type": "markdown",
   "id": "6062419e-b906-4125-99aa-11378bdf7912",
   "metadata": {},
   "source": [
    "**What are virtual environments?**\n",
    "- Isolated Python environments that allow you to manage **project-specific dependencies** separately from the global Python installation\n",
    "- Avoid version conflicts, e.g. version of a library\n",
    "- Isolate packages"
   ]
  },
  {
   "cell_type": "markdown",
   "id": "85414a67-f944-428f-b625-5c4c27e683da",
   "metadata": {},
   "source": [
    "**Why use virtual environments?**\n",
    "- Dependency management (install packages without affecting other projects)\n",
    "- Reproducibility\n",
    "- Safety (no need for `sudo` privileges)"
   ]
  },
  {
   "cell_type": "markdown",
   "id": "816150e8-b0c9-497f-a65c-b00ab415d3d5",
   "metadata": {},
   "source": [
    "- **[venv](https://docs.python.org/3/library/venv.html)**\n",
    "  \n",
    "   - `python -m venv venv`\n",
    "   - `source venv/bin/activate`\n",
    "   - `python -m pip install ...`\n",
    "   - `deactivate`\n",
    "     \n",
    "- **[conda](https://conda.io/projects/conda/en/latest/user-guide/tasks/manage-environments.html)**\n",
    "  - `conda create --name venv`\n",
    "  - `conda create --name venv python=3.12`\n",
    "  - `conda create --name venv python=3.12 numpy`\n",
    "  - `conda install --name venv scipy`\n",
    "  - `conda activate venv`\n",
    "  - `conda install pandas` or `pip install pandas`\n",
    "  - `conda deactivate`\n",
    " \n",
    "- Remote kernel\n",
    "\n",
    "  - Launch under `<user>` on `<host>`\n",
    "  \n",
    "      ```bash\n",
    "      ssh -L localhost:<port>:localhost:<port> <user>@<host> jupyter-lab --no-browser --port <port>\n",
    "      ```\n",
    "       \n",
    "  - Launch with one or more ssh tunnels\n",
    "  \n",
    "      ```bash\n",
    "      ssh -L localhost:<port>:localhost:<port> <user>@<host>\n",
    "      ssh -L localhost:<port>:localhost:<port> <user>@<host>\n",
    "      jupyter-lab --no-browser --port <port>\n",
    "      ```"
   ]
  },
  {
   "cell_type": "markdown",
   "id": "17992df0-a010-4b57-81f7-145825e9cc0a",
   "metadata": {},
   "source": [
    "# Introduction"
   ]
  },
  {
   "cell_type": "markdown",
   "id": "3403dd95-82c0-4ce7-8ba8-56cde6714446",
   "metadata": {},
   "source": [
    "## Numbers"
   ]
  },
  {
   "cell_type": "markdown",
   "id": "8a6234da-87b7-412f-b16d-7742420c4996",
   "metadata": {},
   "source": [
    "**Basic arithmetic operations `+, -, *, /` and grouping with `()`**"
   ]
  },
  {
   "cell_type": "code",
   "execution_count": null,
   "id": "a0254b9b-543d-4d57-a1e7-9c4778c37f6b",
   "metadata": {},
   "outputs": [],
   "source": [
    "2 + 2"
   ]
  },
  {
   "cell_type": "code",
   "execution_count": null,
   "id": "b60ce0c2-7c58-49a0-8351-675151230736",
   "metadata": {},
   "outputs": [],
   "source": [
    "2*2"
   ]
  },
  {
   "cell_type": "code",
   "execution_count": null,
   "id": "adcb131d-6026-4657-8d57-0daa7a50567d",
   "metadata": {},
   "outputs": [],
   "source": [
    "(2 + 2)*2"
   ]
  },
  {
   "cell_type": "code",
   "execution_count": null,
   "id": "10be87e6-916d-46cf-9a28-2c9fb2d14cea",
   "metadata": {},
   "outputs": [],
   "source": [
    "2.0*2"
   ]
  },
  {
   "cell_type": "code",
   "execution_count": null,
   "id": "9d3dced0-695d-40dc-8e38-5f6d2a0e12f9",
   "metadata": {},
   "outputs": [],
   "source": [
    "4/2"
   ]
  },
  {
   "cell_type": "markdown",
   "id": "936331dd-6b09-45b4-928f-deeac0aa632c",
   "metadata": {},
   "source": [
    "**Use `//` for integer division**"
   ]
  },
  {
   "cell_type": "code",
   "execution_count": null,
   "id": "8739ef0e-51c4-445b-b03f-cec6892c6e00",
   "metadata": {},
   "outputs": [],
   "source": [
    "4//2"
   ]
  },
  {
   "cell_type": "code",
   "execution_count": null,
   "id": "f2d05941-d702-4be1-9c9e-bcd4c8a11c16",
   "metadata": {},
   "outputs": [],
   "source": [
    "4%2"
   ]
  },
  {
   "cell_type": "code",
   "execution_count": null,
   "id": "d87c9631-09a1-47b4-aea9-cc068b2535e6",
   "metadata": {},
   "outputs": [],
   "source": [
    "5%2"
   ]
  },
  {
   "cell_type": "markdown",
   "id": "0640807d-25b1-40f1-a6da-c716bd630fd4",
   "metadata": {},
   "source": [
    "**Use `**` for exponentiation**"
   ]
  },
  {
   "cell_type": "code",
   "execution_count": null,
   "id": "54d42d0c-a51b-4d78-97fb-b3aedbd3887f",
   "metadata": {},
   "outputs": [],
   "source": [
    "2**2"
   ]
  },
  {
   "cell_type": "code",
   "execution_count": null,
   "id": "843befb9-9d77-43d8-98ad-cdacd03b6b25",
   "metadata": {},
   "outputs": [],
   "source": [
    "4**0.5"
   ]
  },
  {
   "cell_type": "code",
   "execution_count": null,
   "id": "37fe0264-9776-4ed6-8c1b-9efab50fe109",
   "metadata": {},
   "outputs": [],
   "source": [
    "2**128"
   ]
  },
  {
   "cell_type": "code",
   "execution_count": null,
   "id": "433550c1-1404-4686-895b-1d4ca65c1f3f",
   "metadata": {},
   "outputs": [],
   "source": [
    "2.0**128"
   ]
  },
  {
   "cell_type": "markdown",
   "id": "037941b1-831e-4207-ba19-ae7856058701",
   "metadata": {},
   "source": [
    "**Assign values to variables**"
   ]
  },
  {
   "cell_type": "code",
   "execution_count": null,
   "id": "cb5855c3-eb00-4cc1-9acc-85359fd20bbc",
   "metadata": {},
   "outputs": [],
   "source": [
    "a = 3\n",
    "b = 2 * 2\n",
    "c = (a**2 + b**2)**0.5\n",
    "c"
   ]
  },
  {
   "cell_type": "markdown",
   "id": "8a434fe9-cb28-47c4-8ac9-8682e5b647e0",
   "metadata": {},
   "source": [
    "**Use `int` and `float` to 'cast'**"
   ]
  },
  {
   "cell_type": "code",
   "execution_count": null,
   "id": "3469f6dd-81b5-4995-acd8-523d4967d9cd",
   "metadata": {},
   "outputs": [],
   "source": [
    "int(c)"
   ]
  },
  {
   "cell_type": "code",
   "execution_count": null,
   "id": "fb7efcae-0b9e-458d-8d59-b10dff40feea",
   "metadata": {},
   "outputs": [],
   "source": [
    "float(int(c))"
   ]
  },
  {
   "cell_type": "markdown",
   "id": "741e9650-6865-425f-aba0-63b6f6258555",
   "metadata": {},
   "source": [
    "**Rounding and basic format**"
   ]
  },
  {
   "cell_type": "code",
   "execution_count": null,
   "id": "7b01ceaf-572a-49a0-aa0c-943258a20ca2",
   "metadata": {},
   "outputs": [],
   "source": [
    "round(c)"
   ]
  },
  {
   "cell_type": "code",
   "execution_count": null,
   "id": "ba8b4bf3-2309-4888-b15b-603a1d66a43d",
   "metadata": {},
   "outputs": [],
   "source": [
    "round(c + 0.1, 1)"
   ]
  },
  {
   "cell_type": "code",
   "execution_count": null,
   "id": "af6e9d1f-76bb-43f2-bcb3-a21ff31f7764",
   "metadata": {},
   "outputs": [],
   "source": [
    "round(c + 0.1, 2)"
   ]
  },
  {
   "cell_type": "code",
   "execution_count": null,
   "id": "04728e10-6a72-44fc-a5cf-63ce0d807ded",
   "metadata": {},
   "outputs": [],
   "source": [
    "f'{c + 0.1:.2f}'"
   ]
  },
  {
   "cell_type": "code",
   "execution_count": null,
   "id": "882a5d9f-7572-4d5e-97f3-599cbda4936d",
   "metadata": {},
   "outputs": [],
   "source": [
    "from math import floor\n",
    "floor(c + 0.1)"
   ]
  },
  {
   "cell_type": "code",
   "execution_count": null,
   "id": "0409a410-2e23-4c54-a65b-be71ca775b02",
   "metadata": {},
   "outputs": [],
   "source": [
    "from math import ceil\n",
    "ceil(c + 0.1)"
   ]
  },
  {
   "cell_type": "markdown",
   "id": "1ab45ed1-bbb8-4293-8d17-8ce4aeaf1a86",
   "metadata": {},
   "source": [
    "**Complex**"
   ]
  },
  {
   "cell_type": "code",
   "execution_count": null,
   "id": "b3e34501-0f32-4b51-88d1-dbd9deffe70e",
   "metadata": {},
   "outputs": [],
   "source": [
    "(1 + 1j)*(1 - 1j)"
   ]
  },
  {
   "cell_type": "code",
   "execution_count": null,
   "id": "196f8979-d4bc-44b5-83cf-04e7e83b33f8",
   "metadata": {},
   "outputs": [],
   "source": [
    "(-4)**0.5"
   ]
  },
  {
   "cell_type": "code",
   "execution_count": null,
   "id": "b2a507d0-fccf-404a-a4f0-77e1328f1eef",
   "metadata": {},
   "outputs": [],
   "source": [
    "complex(1)"
   ]
  },
  {
   "cell_type": "markdown",
   "id": "64de55de-0a45-4716-b3af-9d517a7c573e",
   "metadata": {},
   "source": [
    "**Statements separation**"
   ]
  },
  {
   "cell_type": "code",
   "execution_count": null,
   "id": "3f984d46-a9bf-44c2-846d-e092d7041ef1",
   "metadata": {},
   "outputs": [],
   "source": [
    "a = 1\n",
    "b = 1\n",
    "c = a + b"
   ]
  },
  {
   "cell_type": "code",
   "execution_count": null,
   "id": "34d620b5-ec8f-4b74-89c7-d0f1556b9306",
   "metadata": {},
   "outputs": [],
   "source": [
    "a = 1; b = 1; c = a + b"
   ]
  },
  {
   "cell_type": "markdown",
   "id": "f06ee100-b6de-49bc-ae20-06ff33d20364",
   "metadata": {},
   "source": [
    "**More numbers**"
   ]
  },
  {
   "cell_type": "code",
   "execution_count": null,
   "id": "5754cf72-516e-4c07-959c-0b71ceff3702",
   "metadata": {},
   "outputs": [],
   "source": [
    "import fractions\n",
    "\n",
    "x = fractions.Fraction(7, 11)\n",
    "y = fractions.Fraction(11, 13)\n",
    "x + y"
   ]
  },
  {
   "cell_type": "code",
   "execution_count": null,
   "id": "d727a0fd-d46d-4c89-aa33-9f544782c565",
   "metadata": {},
   "outputs": [],
   "source": [
    "import decimal\n",
    "\n",
    "print(0.1 + 0.2)\n",
    "print(decimal.Decimal('0.1') + decimal.Decimal('0.2'))"
   ]
  },
  {
   "cell_type": "markdown",
   "id": "a7a66aff-4387-4189-ab20-c7e4bd317720",
   "metadata": {},
   "source": [
    "## Strings"
   ]
  },
  {
   "cell_type": "markdown",
   "id": "0c33b665-a047-4037-8210-ef72f7868c0e",
   "metadata": {},
   "source": [
    "**Strings are enclosed by single `'...'` or `\"...\"` quotes**"
   ]
  },
  {
   "cell_type": "code",
   "execution_count": null,
   "id": "a976dfdc-fc86-44d2-9be5-1ab9d45bfd81",
   "metadata": {},
   "outputs": [],
   "source": [
    "'abcd'"
   ]
  },
  {
   "cell_type": "code",
   "execution_count": null,
   "id": "766c3795-2f19-4945-a2bd-765109ed6347",
   "metadata": {},
   "outputs": [],
   "source": [
    "\"abcd\""
   ]
  },
  {
   "cell_type": "code",
   "execution_count": null,
   "id": "b761fe47-cb93-4fe1-bc87-0f0ddb685f38",
   "metadata": {},
   "outputs": [],
   "source": [
    "\"abcd'abcd'\""
   ]
  },
  {
   "cell_type": "code",
   "execution_count": null,
   "id": "eeb5061f-f742-4f9b-bf62-37af128e5e56",
   "metadata": {},
   "outputs": [],
   "source": [
    "'abcd\\'abcd\\''"
   ]
  },
  {
   "cell_type": "markdown",
   "id": "0821f1f8-06d5-4c03-ac37-e8d484540662",
   "metadata": {},
   "source": [
    "**Multiline string `'''...'''` or `\"\"\"...\"\"\"`**"
   ]
  },
  {
   "cell_type": "code",
   "execution_count": null,
   "id": "74adf55a-752e-4122-a9b0-f7fb24610a2a",
   "metadata": {},
   "outputs": [],
   "source": [
    "'''\n",
    "abcd\n",
    "abcd\n",
    "'''"
   ]
  },
  {
   "cell_type": "code",
   "execution_count": null,
   "id": "918e8999-c19c-4253-a135-be646fdd1bd7",
   "metadata": {},
   "outputs": [],
   "source": [
    "\"\"\"\n",
    "abcd\n",
    "abcd\n",
    "\"\"\""
   ]
  },
  {
   "cell_type": "markdown",
   "id": "4bcb5ae0-f8e7-4a5e-85d2-38c6b35512cd",
   "metadata": {},
   "source": [
    "**Concatination**"
   ]
  },
  {
   "cell_type": "code",
   "execution_count": null,
   "id": "2e60bd0b-4b43-4155-8682-eb6481eea351",
   "metadata": {},
   "outputs": [],
   "source": [
    "\"abcd\"\"abcd\""
   ]
  },
  {
   "cell_type": "code",
   "execution_count": null,
   "id": "a5f66e1d-4f15-4ac2-b9b6-f027b4b987f0",
   "metadata": {},
   "outputs": [],
   "source": [
    "\"abcd\" + \"abcd\""
   ]
  },
  {
   "cell_type": "code",
   "execution_count": null,
   "id": "33fae54b-2a00-4d99-8ee3-443ee039aed8",
   "metadata": {},
   "outputs": [],
   "source": [
    "\"abcd\"\n",
    "\"abcd\""
   ]
  },
  {
   "cell_type": "code",
   "execution_count": null,
   "id": "103f27d4-144e-4735-a189-990477a72c3f",
   "metadata": {},
   "outputs": [],
   "source": [
    "x = 'abcd'\n",
    "x + 'abcd'"
   ]
  },
  {
   "cell_type": "markdown",
   "id": "f8a2a765-89cd-497c-98c6-fce221671a3c",
   "metadata": {},
   "source": [
    "**Line break**"
   ]
  },
  {
   "cell_type": "code",
   "execution_count": null,
   "id": "3ad1dfbd-276b-4d0c-bae5-988149be8b33",
   "metadata": {},
   "outputs": [],
   "source": [
    "(\n",
    "\"abcd\"\n",
    "'abcd'\n",
    ")"
   ]
  },
  {
   "cell_type": "code",
   "execution_count": null,
   "id": "5c999763-8d51-43b2-8844-b44867590b5f",
   "metadata": {},
   "outputs": [],
   "source": [
    "(\n",
    "2\n",
    "+\n",
    "2\n",
    ")"
   ]
  },
  {
   "cell_type": "code",
   "execution_count": null,
   "id": "0265f3ba-40c8-492b-94d3-13d8230a5589",
   "metadata": {},
   "outputs": [],
   "source": [
    "\"abcd\"\\\n",
    "'abcd'"
   ]
  },
  {
   "cell_type": "markdown",
   "id": "85e48fc8-d0b2-417e-850e-579c75cf84cd",
   "metadata": {},
   "source": [
    "**String multiplication**"
   ]
  },
  {
   "cell_type": "code",
   "execution_count": null,
   "id": "1840f4f7-43ab-456f-8273-581f1fa57084",
   "metadata": {},
   "outputs": [],
   "source": [
    "2*'abcd'"
   ]
  },
  {
   "cell_type": "code",
   "execution_count": null,
   "id": "2f0b6a8c-3d63-4ea4-b64c-dda040117697",
   "metadata": {},
   "outputs": [],
   "source": [
    "0*'abcd'"
   ]
  },
  {
   "cell_type": "markdown",
   "id": "98e51ec5-2246-4df9-844a-6242e603896c",
   "metadata": {},
   "source": [
    "**Indexing**"
   ]
  },
  {
   "cell_type": "code",
   "execution_count": null,
   "id": "f910fab9-8558-4cfc-9e74-9f83c65097cc",
   "metadata": {},
   "outputs": [],
   "source": [
    "x = 'abcd'"
   ]
  },
  {
   "cell_type": "code",
   "execution_count": null,
   "id": "804f7844-cadf-4dab-9354-d06c2bb99de3",
   "metadata": {},
   "outputs": [],
   "source": [
    "x[0]"
   ]
  },
  {
   "cell_type": "code",
   "execution_count": null,
   "id": "88b87257-8876-4222-b0f8-fd19e8490ac0",
   "metadata": {},
   "outputs": [],
   "source": [
    "x[1]"
   ]
  },
  {
   "cell_type": "code",
   "execution_count": null,
   "id": "13ed03f4-f37e-40aa-95a3-634901fe988c",
   "metadata": {},
   "outputs": [],
   "source": [
    "x[-1]"
   ]
  },
  {
   "cell_type": "code",
   "execution_count": null,
   "id": "6570f8e0-8025-4eb0-84e6-3b8ef4d18a66",
   "metadata": {},
   "outputs": [],
   "source": [
    "x[-2]"
   ]
  },
  {
   "cell_type": "markdown",
   "id": "ada077b4-330d-431a-863c-a79dfa5441c7",
   "metadata": {},
   "source": [
    "**Slicing**"
   ]
  },
  {
   "cell_type": "code",
   "execution_count": null,
   "id": "ea31755a-7634-416c-bfaf-bd8d554f6b1a",
   "metadata": {},
   "outputs": [],
   "source": [
    "x[1:2]"
   ]
  },
  {
   "cell_type": "code",
   "execution_count": null,
   "id": "0e12ce0a-8721-4efc-9780-b295daafa3c9",
   "metadata": {},
   "outputs": [],
   "source": [
    "x[1:3]"
   ]
  },
  {
   "cell_type": "code",
   "execution_count": null,
   "id": "fd79f421-0952-4544-a2d5-d8cf0d39f2ff",
   "metadata": {},
   "outputs": [],
   "source": [
    "x[0:]"
   ]
  },
  {
   "cell_type": "code",
   "execution_count": null,
   "id": "9208c0ea-4dc7-4fc7-820f-4870426e0a3c",
   "metadata": {},
   "outputs": [],
   "source": [
    "x[:-1]"
   ]
  },
  {
   "cell_type": "code",
   "execution_count": null,
   "id": "d461dce3-42c6-4deb-89a9-8282cb7da272",
   "metadata": {},
   "outputs": [],
   "source": [
    "x[:]"
   ]
  },
  {
   "cell_type": "code",
   "execution_count": null,
   "id": "6611351b-fe52-4492-a306-a92bb20d3489",
   "metadata": {},
   "outputs": [],
   "source": [
    "x[::1]"
   ]
  },
  {
   "cell_type": "code",
   "execution_count": null,
   "id": "bc44fc39-2b66-4e71-af97-e81674a2f248",
   "metadata": {},
   "outputs": [],
   "source": [
    "x[::2]"
   ]
  },
  {
   "cell_type": "code",
   "execution_count": null,
   "id": "24d0dd94-6ab3-402e-8f77-9ea8f12c5343",
   "metadata": {},
   "outputs": [],
   "source": [
    "x[::-1]"
   ]
  },
  {
   "cell_type": "code",
   "execution_count": null,
   "id": "2b130ece-ba6a-484a-8ae9-21b3ffbca04a",
   "metadata": {},
   "outputs": [],
   "source": [
    "x[1000]"
   ]
  },
  {
   "cell_type": "code",
   "execution_count": null,
   "id": "09d3f3e2-e251-4f93-8ebe-e3fdcca8c150",
   "metadata": {},
   "outputs": [],
   "source": [
    "x[:1000]"
   ]
  },
  {
   "cell_type": "code",
   "execution_count": null,
   "id": "171acf38-103a-463a-af5e-feb0348ce025",
   "metadata": {},
   "outputs": [],
   "source": [
    "x[1000:]"
   ]
  },
  {
   "cell_type": "code",
   "execution_count": null,
   "id": "699a1895-0f85-458d-b3b3-3ec08e970cde",
   "metadata": {},
   "outputs": [],
   "source": [
    "len(x)"
   ]
  },
  {
   "cell_type": "code",
   "execution_count": null,
   "id": "63dc9a80-c971-4484-a960-b873fe4e3aaa",
   "metadata": {},
   "outputs": [],
   "source": [
    "\"\"\"\n",
    " +---+---+---+---+---+---+\n",
    " | P | y | t | h | o | n |\n",
    " +---+---+---+---+---+---+\n",
    " 0   1   2   3   4   5   6\n",
    "-6  -5  -4  -3  -2  -1\n",
    "\"\"\" ;"
   ]
  },
  {
   "cell_type": "markdown",
   "id": "538974db-b2c3-465b-8705-0045d7ad5e26",
   "metadata": {},
   "source": [
    "**More strings**"
   ]
  },
  {
   "cell_type": "code",
   "execution_count": null,
   "id": "4a2dbc6c-ed86-4f6a-9fc6-24deba16877f",
   "metadata": {},
   "outputs": [],
   "source": [
    "import string\n",
    "\n",
    "string.ascii_letters"
   ]
  },
  {
   "cell_type": "code",
   "execution_count": null,
   "id": "31104a5d-67b6-4c67-9d77-2d94ce6f8bbc",
   "metadata": {},
   "outputs": [],
   "source": [
    "import re"
   ]
  },
  {
   "cell_type": "markdown",
   "id": "a8cd3f25-df32-4fe8-bf3c-5a2ba5c63c56",
   "metadata": {},
   "source": [
    "## Lists"
   ]
  },
  {
   "cell_type": "markdown",
   "id": "51352e63-8bcd-4c94-9809-cbf4284d3a0e",
   "metadata": {},
   "source": [
    "A list if defined with `[...]` brackets, it can contain arbitrary elements"
   ]
  },
  {
   "cell_type": "code",
   "execution_count": null,
   "id": "960c53e3-8fe8-41ee-98e0-8a1aa33e6d23",
   "metadata": {},
   "outputs": [],
   "source": [
    "x = [1, 2, 3, 4]"
   ]
  },
  {
   "cell_type": "markdown",
   "id": "68e7789a-1f8b-4b45-ae3b-d50ab16ace63",
   "metadata": {},
   "source": [
    "**Indexing**"
   ]
  },
  {
   "cell_type": "code",
   "execution_count": null,
   "id": "d960b61e-b51e-4e62-acf3-da4e460c37c2",
   "metadata": {},
   "outputs": [],
   "source": [
    "x[0]"
   ]
  },
  {
   "cell_type": "code",
   "execution_count": null,
   "id": "d6b64971-f6bc-4a6d-ba56-aec3343693cd",
   "metadata": {},
   "outputs": [],
   "source": [
    "x[1]"
   ]
  },
  {
   "cell_type": "code",
   "execution_count": null,
   "id": "03156dd2-578f-4fbb-abbb-2f3fbe32cf82",
   "metadata": {},
   "outputs": [],
   "source": [
    "x[-1]"
   ]
  },
  {
   "cell_type": "code",
   "execution_count": null,
   "id": "b5869d5c-4d62-4d7d-912b-b90e6b27f640",
   "metadata": {},
   "outputs": [],
   "source": [
    "x[-2]"
   ]
  },
  {
   "cell_type": "markdown",
   "id": "25a96c3c-18bb-4a2c-98e3-e04c5f7c18eb",
   "metadata": {},
   "source": [
    "**Slicing**"
   ]
  },
  {
   "cell_type": "code",
   "execution_count": null,
   "id": "68accac1-ddbe-467c-b8e6-c662301bfb4e",
   "metadata": {},
   "outputs": [],
   "source": [
    "x[1:2]"
   ]
  },
  {
   "cell_type": "code",
   "execution_count": null,
   "id": "715d0804-0ae6-4773-9b65-016cd92398f8",
   "metadata": {},
   "outputs": [],
   "source": [
    "x[1:3]"
   ]
  },
  {
   "cell_type": "code",
   "execution_count": null,
   "id": "00229327-2ddf-48e3-9fd9-52c54e45521f",
   "metadata": {},
   "outputs": [],
   "source": [
    "x[0:]"
   ]
  },
  {
   "cell_type": "code",
   "execution_count": null,
   "id": "0a5bab4f-f723-4703-aacd-568c9c9322ee",
   "metadata": {},
   "outputs": [],
   "source": [
    "x[:-1]"
   ]
  },
  {
   "cell_type": "code",
   "execution_count": null,
   "id": "8e8ce201-01ba-42aa-b0cb-eb8538d0a2fe",
   "metadata": {},
   "outputs": [],
   "source": [
    "x[:]"
   ]
  },
  {
   "cell_type": "code",
   "execution_count": null,
   "id": "3937882a-888e-4dd8-86ba-e3c762e1a4fb",
   "metadata": {},
   "outputs": [],
   "source": [
    "x[::1]"
   ]
  },
  {
   "cell_type": "code",
   "execution_count": null,
   "id": "2d5ebcf4-d33d-44aa-9d96-1e1b0b52b5cc",
   "metadata": {},
   "outputs": [],
   "source": [
    "x[::2]"
   ]
  },
  {
   "cell_type": "code",
   "execution_count": null,
   "id": "06f76d11-8957-4981-979c-efb7f535ad53",
   "metadata": {},
   "outputs": [],
   "source": [
    "x[::-1]"
   ]
  },
  {
   "cell_type": "code",
   "execution_count": null,
   "id": "8b1b68cf-10a3-4438-b3a1-8af163b2d6b5",
   "metadata": {},
   "outputs": [],
   "source": [
    "x[1000]"
   ]
  },
  {
   "cell_type": "code",
   "execution_count": null,
   "id": "47012986-9ae6-4ada-81e9-566a667e61d0",
   "metadata": {},
   "outputs": [],
   "source": [
    "x[:1000]"
   ]
  },
  {
   "cell_type": "code",
   "execution_count": null,
   "id": "06d95f70-6c3b-4bd3-9860-ce8d44cda16e",
   "metadata": {},
   "outputs": [],
   "source": [
    "x[1000:]"
   ]
  },
  {
   "cell_type": "code",
   "execution_count": null,
   "id": "517d9dbd-3bdf-4fe5-969c-25babd529022",
   "metadata": {},
   "outputs": [],
   "source": [
    "len(x)"
   ]
  },
  {
   "cell_type": "markdown",
   "id": "ee7be7af-7cb2-4a1e-8d3c-f0ffe7a26684",
   "metadata": {},
   "source": [
    "**Concatination**"
   ]
  },
  {
   "cell_type": "code",
   "execution_count": null,
   "id": "e7a71b6d-73e2-4dcc-9c23-2a9488d83c82",
   "metadata": {},
   "outputs": [],
   "source": [
    "x + x"
   ]
  },
  {
   "cell_type": "code",
   "execution_count": null,
   "id": "df0b363f-5021-4c91-a0b9-d6d381691c9f",
   "metadata": {},
   "outputs": [],
   "source": [
    "2*x"
   ]
  },
  {
   "cell_type": "markdown",
   "id": "f781a165-705c-4c3b-9eec-c374e2389c5d",
   "metadata": {},
   "source": [
    "**Asignment** (mutable vs immutable)"
   ]
  },
  {
   "cell_type": "markdown",
   "id": "10a503a3-4db8-4bbd-a3fc-cd916b1032e6",
   "metadata": {},
   "source": [
    "Change / assign new value after creation\n",
    "- Yes (mutable)\n",
    "- No (immutable)"
   ]
  },
  {
   "cell_type": "code",
   "execution_count": null,
   "id": "4cbbdfe7-f8fa-4d98-8e9b-868bddddc8e0",
   "metadata": {},
   "outputs": [],
   "source": [
    "x[0] = 0\n",
    "x"
   ]
  },
  {
   "cell_type": "code",
   "execution_count": null,
   "id": "7e0f6a5f-ec5e-4e5f-ab9b-8e89269b3bc1",
   "metadata": {},
   "outputs": [],
   "source": [
    "x[0:1] = [0, 0]\n",
    "x"
   ]
  },
  {
   "cell_type": "code",
   "execution_count": null,
   "id": "c5c2ac31-d76a-41d4-ab4b-aa1a999561d9",
   "metadata": {},
   "outputs": [],
   "source": [
    "x[:] = []\n",
    "x"
   ]
  },
  {
   "cell_type": "markdown",
   "id": "d96d34d6-1ca2-49be-91d9-f84ebc25dd68",
   "metadata": {},
   "source": [
    "Use `hash` to check mutability"
   ]
  },
  {
   "cell_type": "code",
   "execution_count": null,
   "id": "d6b4d901-c4a2-4b51-8f21-b1fb80c2e694",
   "metadata": {},
   "outputs": [],
   "source": [
    "x = 1\n",
    "hash(x)"
   ]
  },
  {
   "cell_type": "code",
   "execution_count": null,
   "id": "f76706b1-bc2b-4093-acdc-4f76c755b7bc",
   "metadata": {},
   "outputs": [],
   "source": [
    "x = [1]\n",
    "hash(x)"
   ]
  },
  {
   "cell_type": "markdown",
   "id": "c53a87e9-86d5-4496-aee7-60012b76806a",
   "metadata": {},
   "source": [
    "**Append**"
   ]
  },
  {
   "cell_type": "code",
   "execution_count": null,
   "id": "603c8521-8637-4fd4-89e2-b83608f035a5",
   "metadata": {},
   "outputs": [],
   "source": [
    "x.append(0)\n",
    "x"
   ]
  },
  {
   "cell_type": "code",
   "execution_count": null,
   "id": "f1d958b0-7b70-4ffc-9ccf-54c5cd1fc93e",
   "metadata": {},
   "outputs": [],
   "source": [
    "x.append(1)\n",
    "x"
   ]
  },
  {
   "cell_type": "code",
   "execution_count": null,
   "id": "7c139f57-ebf6-4f59-98a7-96998747b5df",
   "metadata": {},
   "outputs": [],
   "source": [
    "x.extend(x)\n",
    "x"
   ]
  },
  {
   "cell_type": "markdown",
   "id": "5f516888-934c-4dc2-826e-a3af66603af4",
   "metadata": {},
   "source": [
    "**Copy** (shallow and deep)"
   ]
  },
  {
   "cell_type": "code",
   "execution_count": null,
   "id": "4ed3b565-a05c-4a2b-a9fa-2a6acba0e9b9",
   "metadata": {},
   "outputs": [],
   "source": [
    "x = [1, 2, 3, 4]\n",
    "y = x\n",
    "y"
   ]
  },
  {
   "cell_type": "code",
   "execution_count": null,
   "id": "07dd057b-50f4-4db9-a8de-343d3155f636",
   "metadata": {},
   "outputs": [],
   "source": [
    "y[0] = 0\n",
    "y"
   ]
  },
  {
   "cell_type": "code",
   "execution_count": null,
   "id": "f6780460-a50a-4fe0-8e34-ee48d316a08a",
   "metadata": {},
   "outputs": [],
   "source": [
    "x"
   ]
  },
  {
   "cell_type": "code",
   "execution_count": null,
   "id": "64858bcf-0141-4070-b095-7f73309fcdc1",
   "metadata": {},
   "outputs": [],
   "source": [
    "x = [1, 2, 3, 4]\n",
    "y = x[:]\n",
    "y[0] = 0\n",
    "x"
   ]
  },
  {
   "cell_type": "code",
   "execution_count": null,
   "id": "46f04cd3-75aa-453e-b22a-334537d4f728",
   "metadata": {},
   "outputs": [],
   "source": [
    "x = [[1], [2], [3], [4]]\n",
    "y = x[:]\n",
    "y[0][0] = 0\n",
    "x"
   ]
  },
  {
   "cell_type": "code",
   "execution_count": null,
   "id": "94fc3408-8701-46cd-ba82-2a463a00f8ff",
   "metadata": {},
   "outputs": [],
   "source": [
    "from copy import deepcopy\n",
    "x = [[1], [2], [3], [4]]\n",
    "y = deepcopy(x)\n",
    "y[0][0] = 0\n",
    "x"
   ]
  },
  {
   "cell_type": "markdown",
   "id": "7eb19ba0-3e65-4368-816c-551ee96bcbaf",
   "metadata": {},
   "source": [
    "## Fibonacci"
   ]
  },
  {
   "cell_type": "markdown",
   "id": "ae8606ce-c268-4a15-99b8-fc5d8260670b",
   "metadata": {},
   "source": [
    "- multiple assignment\n",
    "- loop\n",
    "- condition\n",
    "- loop body"
   ]
  },
  {
   "cell_type": "code",
   "execution_count": null,
   "id": "0dca4663-a568-4969-b55a-5155ab91c901",
   "metadata": {},
   "outputs": [],
   "source": [
    "a, b = 0, 1\n",
    "while a < 10:\n",
    "    print(a)\n",
    "    a, b = b, a + b"
   ]
  },
  {
   "cell_type": "markdown",
   "id": "56fbf8fb-b45b-457a-990f-16c254650ce2",
   "metadata": {},
   "source": [
    "# Control flow"
   ]
  },
  {
   "cell_type": "markdown",
   "id": "cfb15d60-3dbc-498c-807c-ec4d13071925",
   "metadata": {},
   "source": [
    "## If"
   ]
  },
  {
   "cell_type": "code",
   "execution_count": null,
   "id": "b96f9de1-ca68-4663-be42-5c4236875dfa",
   "metadata": {},
   "outputs": [],
   "source": [
    "x = 0\n",
    "if x % 2 == 0:\n",
    "    print('even')\n",
    "else:\n",
    "    print('odd')"
   ]
  },
  {
   "cell_type": "code",
   "execution_count": null,
   "id": "c36d1c42-6891-42a3-9e0f-066b06c180a2",
   "metadata": {},
   "outputs": [],
   "source": [
    "x = 1\n",
    "if x % 2 == 0: x = 2\n",
    "x"
   ]
  },
  {
   "cell_type": "code",
   "execution_count": null,
   "id": "e6cef13a-0c23-47a5-9293-1ca1fcb55a3e",
   "metadata": {},
   "outputs": [],
   "source": [
    "x = 4\n",
    "if x % 2 == 0: x = 2\n",
    "if x % 3 == 0: x = 3\n",
    "if x % 4 == 0: x = 4\n",
    "x"
   ]
  },
  {
   "cell_type": "code",
   "execution_count": null,
   "id": "991fcabb-0613-4a81-85bf-0ba76fb6cc49",
   "metadata": {},
   "outputs": [],
   "source": [
    "x = 3\n",
    "if x % 15 == 0 and x != 0:\n",
    "    print('FizzBuzz')\n",
    "elif x % 3 == 0 and x != 0:\n",
    "    print('Fizz')\n",
    "elif x % 5 == 0 and x != 0:\n",
    "    print('Buzz')\n",
    "else:\n",
    "    print(x)"
   ]
  },
  {
   "cell_type": "code",
   "execution_count": null,
   "id": "5735b353-4bf6-419c-b6ed-fde61be9a945",
   "metadata": {},
   "outputs": [],
   "source": [
    "x = 3\n",
    "print((x % 3 == 0)*'Fizz' + (x % 5 == 0)*'Buzz')"
   ]
  },
  {
   "cell_type": "code",
   "execution_count": null,
   "id": "ca21685c-d2bb-4c9c-9b36-390557db9cd9",
   "metadata": {},
   "outputs": [],
   "source": [
    "x = 1\n",
    "y = x if x > 0 else 0\n",
    "y"
   ]
  },
  {
   "cell_type": "markdown",
   "id": "327b7b16-07a8-4949-8041-a2f9d2e5c12b",
   "metadata": {},
   "source": [
    "## For & while"
   ]
  },
  {
   "cell_type": "markdown",
   "id": "7b411c9c-c4b4-4fc9-acaf-2eab3b9227d2",
   "metadata": {},
   "source": [
    "In `for` loop iteration is performed over given sequence (or iterable)"
   ]
  },
  {
   "cell_type": "code",
   "execution_count": null,
   "id": "ee45b42e-6e68-4cea-8107-888231a9ab20",
   "metadata": {},
   "outputs": [],
   "source": [
    "for x in [1, 2, 3, 4]:\n",
    "    print(x)"
   ]
  },
  {
   "cell_type": "code",
   "execution_count": null,
   "id": "f18a11ee-9a2c-4d04-b0dd-3e340d6cacd4",
   "metadata": {},
   "outputs": [],
   "source": [
    "xs = [1, 2, 3, 4]\n",
    "for x in xs:\n",
    "    print(x)"
   ]
  },
  {
   "cell_type": "code",
   "execution_count": null,
   "id": "71c49049-d349-454f-9071-93e5b0b3e114",
   "metadata": {},
   "outputs": [],
   "source": [
    "xs = 'abcd'\n",
    "for x in xs:\n",
    "    print(x)"
   ]
  },
  {
   "cell_type": "code",
   "execution_count": null,
   "id": "c207fe4c-f4ae-49cd-9cd4-5d5df657628e",
   "metadata": {},
   "outputs": [],
   "source": [
    "from typing import Sequence\n",
    "\n",
    "xs = [1, 2, 3, 4]\n",
    "print(isinstance(xs, Sequence))\n",
    "\n",
    "xs = 'abcd'\n",
    "print(isinstance(xs, Sequence))"
   ]
  },
  {
   "cell_type": "code",
   "execution_count": null,
   "id": "37620d09-0e1a-4fd9-b440-330e7bfedd09",
   "metadata": {},
   "outputs": [],
   "source": [
    "from typing import Iterable\n",
    "\n",
    "xs = [1, 2, 3, 4]\n",
    "print(isinstance(xs, Iterable))\n",
    "\n",
    "xs = 'abcd'\n",
    "print(isinstance(xs, Iterable))"
   ]
  },
  {
   "cell_type": "code",
   "execution_count": null,
   "id": "8d41bc44-ffa4-4100-886d-1ea4954fb352",
   "metadata": {},
   "outputs": [],
   "source": [
    "xs = [1, 2, 3, 4]\n",
    "next(iter(xs))"
   ]
  },
  {
   "cell_type": "markdown",
   "id": "b62712ab-4173-4fa1-a7a7-d9e87188b10e",
   "metadata": {},
   "source": [
    "**Enumerate**"
   ]
  },
  {
   "cell_type": "code",
   "execution_count": null,
   "id": "b99947f9-022d-4954-95e5-b55d1ff3c14f",
   "metadata": {},
   "outputs": [],
   "source": [
    "xs = 'abcd'\n",
    "for i in [0, 1, 2, 3]:\n",
    "    print(i, xs[i])"
   ]
  },
  {
   "cell_type": "code",
   "execution_count": null,
   "id": "7a756913-2f22-4c9f-a3da-4029ade6edbd",
   "metadata": {},
   "outputs": [],
   "source": [
    "xs = 'abcd'\n",
    "for i, x in enumerate(xs):\n",
    "    print(i, x)"
   ]
  },
  {
   "cell_type": "markdown",
   "id": "69e5e1bf-bac6-452e-8e3b-caa681cec64a",
   "metadata": {},
   "source": [
    "**Iterate over dictionary**"
   ]
  },
  {
   "cell_type": "code",
   "execution_count": null,
   "id": "29ee2f6d-e547-43d4-92ff-58557fc54406",
   "metadata": {},
   "outputs": [],
   "source": [
    "xs = {1: 'a', 2: 'b', 3: 'c', 4: 'd'}"
   ]
  },
  {
   "cell_type": "code",
   "execution_count": null,
   "id": "e5b0cee9-7f4e-408e-9bdc-a0f251d179c6",
   "metadata": {},
   "outputs": [],
   "source": [
    "for x in xs:\n",
    "    print(x)"
   ]
  },
  {
   "cell_type": "code",
   "execution_count": null,
   "id": "7724fa11-ce8c-4ec3-a27d-a4a746c2008f",
   "metadata": {},
   "outputs": [],
   "source": [
    "for x in xs.keys():\n",
    "    print(x)"
   ]
  },
  {
   "cell_type": "code",
   "execution_count": null,
   "id": "31788695-f597-4bde-9473-9d4149b83133",
   "metadata": {},
   "outputs": [],
   "source": [
    "for x in xs.values():\n",
    "    print(x)"
   ]
  },
  {
   "cell_type": "code",
   "execution_count": null,
   "id": "6834cf91-1f40-4993-81b4-7265d2a73860",
   "metadata": {},
   "outputs": [],
   "source": [
    "for x in xs.items():\n",
    "    print(x)"
   ]
  },
  {
   "cell_type": "code",
   "execution_count": null,
   "id": "a2068e9f-6316-44ea-a7cb-18d852e897ee",
   "metadata": {},
   "outputs": [],
   "source": [
    "for k, v in xs.items():\n",
    "    print(k, v)"
   ]
  },
  {
   "cell_type": "code",
   "execution_count": null,
   "id": "d1f79ff3-7a49-4bad-ae53-b7321a90d87c",
   "metadata": {},
   "outputs": [],
   "source": [
    "for i, (k, v) in enumerate(xs.items()):\n",
    "    print(i, k, v)"
   ]
  },
  {
   "cell_type": "markdown",
   "id": "072ece48-6999-44ae-8ee3-40c6be1082b1",
   "metadata": {},
   "source": [
    "Can't delete elements!"
   ]
  },
  {
   "cell_type": "code",
   "execution_count": null,
   "id": "cf2f137b-305d-4e6c-8561-be7c62e4f243",
   "metadata": {},
   "outputs": [],
   "source": [
    "for k in xs.keys():\n",
    "    del xs[k]"
   ]
  },
  {
   "cell_type": "markdown",
   "id": "94d15e06-0e0a-4930-b585-d0ab15a9f2da",
   "metadata": {},
   "source": [
    "Make a copy or construct a new object!"
   ]
  },
  {
   "cell_type": "code",
   "execution_count": null,
   "id": "14a7cad2-32d7-43b9-9626-c7244076f166",
   "metadata": {},
   "outputs": [],
   "source": [
    "for k in xs.copy().keys():\n",
    "    del xs[k]\n",
    "xs"
   ]
  },
  {
   "cell_type": "markdown",
   "id": "a5070f76-2ba3-40da-9081-49c810661ea8",
   "metadata": {},
   "source": [
    "Can change values:"
   ]
  },
  {
   "cell_type": "code",
   "execution_count": null,
   "id": "b3cd3a04-d82e-4f09-9e36-845e48a97725",
   "metadata": {},
   "outputs": [],
   "source": [
    "xs = {1: 'a', 2: 'b', 3: 'c', 4: 'd'}\n",
    "for k, v in xs.items():\n",
    "    if ord(v) % 2 == 0:\n",
    "        xs[k] = 0\n",
    "xs"
   ]
  },
  {
   "cell_type": "markdown",
   "id": "6d80a68e-2af7-4baa-87c2-3a10002ed02f",
   "metadata": {},
   "source": [
    "**Zip**"
   ]
  },
  {
   "cell_type": "code",
   "execution_count": null,
   "id": "a543fe17-704c-4c7f-8d8d-3414e14e407d",
   "metadata": {},
   "outputs": [],
   "source": [
    "xs = [1, 2, 3, 4]\n",
    "ys = 'abcd'\n",
    "for i in [0, 1, 2, 3]:\n",
    "    x = xs[i]\n",
    "    y = ys[i]\n",
    "    print(x, y)"
   ]
  },
  {
   "cell_type": "code",
   "execution_count": null,
   "id": "35b83f9d-0141-45b8-9318-424606dc41d6",
   "metadata": {},
   "outputs": [],
   "source": [
    "xs = [1, 2, 3, 4]\n",
    "ys = 'abcd'\n",
    "for x, y in zip(xs, ys):\n",
    "    print(x, y)"
   ]
  },
  {
   "cell_type": "code",
   "execution_count": null,
   "id": "23f4c61a-5dc0-45f7-8ac6-5ca2aa92b43f",
   "metadata": {},
   "outputs": [],
   "source": [
    "xs = [1, 2]\n",
    "ys = 'abcd'\n",
    "for x, y in zip(xs, ys):\n",
    "    print(x, y)"
   ]
  },
  {
   "cell_type": "code",
   "execution_count": null,
   "id": "0a5a3fa6-a9f0-4e86-8122-a5fe7d6198d9",
   "metadata": {},
   "outputs": [],
   "source": [
    "from itertools import zip_longest\n",
    "xs = [1, 2]\n",
    "ys = 'abcd'\n",
    "for x, y in zip_longest(xs, ys, fillvalue=0):\n",
    "    print(x, y)"
   ]
  },
  {
   "cell_type": "markdown",
   "id": "379d0ac1-bdb9-44e2-889e-5cc934448a06",
   "metadata": {},
   "source": [
    "**Else**"
   ]
  },
  {
   "cell_type": "code",
   "execution_count": null,
   "id": "cf0968f7-5a4e-4b9c-bcf9-94ac1b4514aa",
   "metadata": {},
   "outputs": [],
   "source": [
    "xs = [1, 2, 3, 4]\n",
    "for x in xs:\n",
    "    print(x)\n",
    "else:\n",
    "    print('ok')"
   ]
  },
  {
   "cell_type": "code",
   "execution_count": null,
   "id": "870c70ac-faeb-4b27-b3ba-45e40e3df051",
   "metadata": {},
   "outputs": [],
   "source": [
    "xs = [1, 2, 3, 4]\n",
    "for x in xs:\n",
    "    print(x)\n",
    "    break\n",
    "else:\n",
    "    print('ok')"
   ]
  },
  {
   "cell_type": "code",
   "execution_count": null,
   "id": "c6965857-4b00-4afb-a6a9-4ac2d880dada",
   "metadata": {},
   "outputs": [],
   "source": [
    "xs = [1, 2, 3, 4]\n",
    "for x in xs:\n",
    "    print(x)\n",
    "    if x == 4:\n",
    "        break\n",
    "else:\n",
    "    print('ok')"
   ]
  },
  {
   "cell_type": "markdown",
   "id": "91e02491-72fb-4a1f-a066-33a2cd204b07",
   "metadata": {},
   "source": [
    "## Range"
   ]
  },
  {
   "cell_type": "code",
   "execution_count": null,
   "id": "45f53ca2-30d9-40b6-a67e-616b77382721",
   "metadata": {},
   "outputs": [],
   "source": [
    "for i in [0, 1, 2, 3, 4, 5, 6, 7, 8, 9]:\n",
    "    print(i)"
   ]
  },
  {
   "cell_type": "code",
   "execution_count": null,
   "id": "e332d880-7337-4e7a-b22e-9815667cbe88",
   "metadata": {},
   "outputs": [],
   "source": [
    "for i in range(10):\n",
    "    print(i)"
   ]
  },
  {
   "cell_type": "code",
   "execution_count": null,
   "id": "558fee4f-37ca-4b63-84dc-63ade6eb53f7",
   "metadata": {},
   "outputs": [],
   "source": [
    "?range"
   ]
  },
  {
   "cell_type": "code",
   "execution_count": null,
   "id": "5107b289-4154-481b-a3b6-479cc8207931",
   "metadata": {},
   "outputs": [],
   "source": [
    "type(range(10))"
   ]
  },
  {
   "cell_type": "code",
   "execution_count": null,
   "id": "7bfe3dfa-ccfb-4a70-93c6-43d07443b80b",
   "metadata": {},
   "outputs": [],
   "source": [
    "for i in range(1, 10 + 1):\n",
    "    print(i)"
   ]
  },
  {
   "cell_type": "code",
   "execution_count": null,
   "id": "e61ae0a8-b211-4d30-89be-7d918455d442",
   "metadata": {},
   "outputs": [],
   "source": [
    "for i in range(1, 10 + 1, 2):\n",
    "    print(i)"
   ]
  },
  {
   "cell_type": "code",
   "execution_count": null,
   "id": "0a4653e6-7bbf-4684-a081-8a7c31732a9f",
   "metadata": {},
   "outputs": [],
   "source": [
    "range(10)"
   ]
  },
  {
   "cell_type": "code",
   "execution_count": null,
   "id": "ce2a0e3a-403c-4dc6-b94d-3018215843c3",
   "metadata": {},
   "outputs": [],
   "source": [
    "list(range(10))"
   ]
  },
  {
   "cell_type": "code",
   "execution_count": null,
   "id": "7a699e51-f08c-4940-aedd-42d837b99828",
   "metadata": {},
   "outputs": [],
   "source": [
    "[*range(10)]"
   ]
  },
  {
   "cell_type": "code",
   "execution_count": null,
   "id": "82004401-8fa9-4563-aaca-e5590e3da249",
   "metadata": {},
   "outputs": [],
   "source": [
    "list(range(10, 0, -1))"
   ]
  },
  {
   "cell_type": "code",
   "execution_count": null,
   "id": "369bbcb3-4ca2-4c53-910e-ccf781035dfc",
   "metadata": {},
   "outputs": [],
   "source": [
    "list(range(1, 10, -1))"
   ]
  },
  {
   "cell_type": "code",
   "execution_count": null,
   "id": "252b7316-85d4-4e8f-b598-2c08fc9823fe",
   "metadata": {},
   "outputs": [],
   "source": [
    "xs = 'abcd'\n",
    "for i in range(len(xs)):\n",
    "    print(i, xs[i])"
   ]
  },
  {
   "cell_type": "code",
   "execution_count": null,
   "id": "880645b1-505c-4be3-81c2-9116f7d046ad",
   "metadata": {},
   "outputs": [],
   "source": [
    "range(10)"
   ]
  },
  {
   "cell_type": "code",
   "execution_count": null,
   "id": "6c21474f-fa84-44b8-84fe-f8f4e56adc00",
   "metadata": {},
   "outputs": [],
   "source": [
    "len(range(10))"
   ]
  },
  {
   "cell_type": "code",
   "execution_count": null,
   "id": "a12b3f34-8c6d-4b1a-8179-cad07b890952",
   "metadata": {},
   "outputs": [],
   "source": [
    "sum(range(10))"
   ]
  },
  {
   "cell_type": "code",
   "execution_count": null,
   "id": "328fe4fb-9fc3-4609-9f2c-00154823c898",
   "metadata": {},
   "outputs": [],
   "source": [
    "min(range(10))"
   ]
  },
  {
   "cell_type": "code",
   "execution_count": null,
   "id": "ab26de1f-3a42-42ee-8c2f-c5b5345eb910",
   "metadata": {},
   "outputs": [],
   "source": [
    "max(range(10))"
   ]
  },
  {
   "cell_type": "code",
   "execution_count": null,
   "id": "3ebd5df9-5357-405a-a1f7-3dff9c0d75d7",
   "metadata": {},
   "outputs": [],
   "source": [
    "range(2**1000)"
   ]
  },
  {
   "cell_type": "markdown",
   "id": "8c604e44-954d-4175-8648-fb90cdf7cefb",
   "metadata": {},
   "source": [
    "## Break & continue"
   ]
  },
  {
   "cell_type": "code",
   "execution_count": null,
   "id": "3c64d747-9995-47f7-8775-55fe821b4544",
   "metadata": {},
   "outputs": [],
   "source": [
    "total = 0\n",
    "while True:\n",
    "    if total < 10:\n",
    "        total += 1\n",
    "        continue\n",
    "    break\n",
    "total"
   ]
  },
  {
   "cell_type": "code",
   "execution_count": null,
   "id": "3b5ecb39-052c-4363-845b-3c1128c2dc20",
   "metadata": {},
   "outputs": [],
   "source": [
    "flag = False\n",
    "xs = [1, 1, 1, 1]\n",
    "for x in xs:\n",
    "    if x == 1:\n",
    "        continue\n",
    "    break\n",
    "else:\n",
    "    flag = True\n",
    "flag"
   ]
  },
  {
   "cell_type": "code",
   "execution_count": null,
   "id": "ccbd6d9a-98d9-4517-870e-efd1ff257230",
   "metadata": {},
   "outputs": [],
   "source": [
    "flag = False\n",
    "xs = [1, 1, 0, 1]\n",
    "for x in xs:\n",
    "    if x == 1:\n",
    "        continue\n",
    "    break\n",
    "else:\n",
    "    flag = True\n",
    "flag"
   ]
  },
  {
   "cell_type": "markdown",
   "id": "5b4facf9-f264-4cb8-b448-3a2acd75de70",
   "metadata": {},
   "source": [
    "## Pass"
   ]
  },
  {
   "cell_type": "code",
   "execution_count": null,
   "id": "bdd122a5-1cce-4a8f-acf8-b0b0b8674d69",
   "metadata": {},
   "outputs": [],
   "source": [
    "for _ in range(10):\n",
    "    pass"
   ]
  },
  {
   "cell_type": "code",
   "execution_count": null,
   "id": "f85db296-6529-437b-9953-9d681279e0ca",
   "metadata": {},
   "outputs": [],
   "source": [
    "def foo():\n",
    "    pass"
   ]
  },
  {
   "cell_type": "code",
   "execution_count": null,
   "id": "58cb330b-78ad-4217-ad8c-f7db0a268d8a",
   "metadata": {},
   "outputs": [],
   "source": [
    "class Foo:\n",
    "    pass"
   ]
  },
  {
   "cell_type": "code",
   "execution_count": null,
   "id": "299c9554-98d9-408d-951d-f88c106c8894",
   "metadata": {},
   "outputs": [],
   "source": [
    "def foo():\n",
    "    ..."
   ]
  },
  {
   "cell_type": "code",
   "execution_count": null,
   "id": "5186644e-e664-415a-9bb7-48a72a563e24",
   "metadata": {},
   "outputs": [],
   "source": [
    "def foo():\n",
    "    raise NotImplementedError"
   ]
  },
  {
   "cell_type": "markdown",
   "id": "c5df1243-8015-4a86-93b9-22604d41f092",
   "metadata": {},
   "source": [
    "## Match"
   ]
  },
  {
   "cell_type": "markdown",
   "id": "8e95bb86-7d05-401d-b6ff-7873ba0aa925",
   "metadata": {},
   "source": [
    "**Note, `match` is introduced since `Python 3.10`**\n",
    "\n",
    "**Use it to replace chained `elif`, but it is not limmited to only this usecase**"
   ]
  },
  {
   "cell_type": "code",
   "execution_count": null,
   "id": "74c8fd6a-7095-4b6a-bb1a-152dec15f5c8",
   "metadata": {},
   "outputs": [],
   "source": [
    "xs = [1, 2, 3, 4, 5]\n",
    "for x in xs:\n",
    "    if x == 1:   print('a')\n",
    "    elif x == 2: print('b')\n",
    "    elif x == 3: print('c')\n",
    "    elif x == 4: print('d')\n",
    "    else:        print(None)"
   ]
  },
  {
   "cell_type": "code",
   "execution_count": null,
   "id": "06df3b82-b5a4-4dd6-b28a-fc557c56a006",
   "metadata": {},
   "outputs": [],
   "source": [
    "for x in xs:\n",
    "    match x:\n",
    "        case 1: print('a')\n",
    "        case 2: print('b')\n",
    "        case 3: print('c')\n",
    "        case 4: print('b')\n",
    "        case _: print(None)"
   ]
  },
  {
   "cell_type": "markdown",
   "id": "7dc15d8f-17c4-449f-942a-92a328ad141b",
   "metadata": {},
   "source": [
    "Note, sometimes dictionary might be what you actualy need instead of nested conditions!"
   ]
  },
  {
   "cell_type": "code",
   "execution_count": null,
   "id": "bd3bf1d8-fff8-483d-a39c-bff88d320cbd",
   "metadata": {},
   "outputs": [],
   "source": [
    "ys = {1: 'a', 2: 'b', 3: 'c', 4: 'd'}\n",
    "for x in xs:\n",
    "    print(ys.get(x, None))"
   ]
  },
  {
   "cell_type": "markdown",
   "id": "c0900cb2-2d53-4f79-8b90-0049f8bbf768",
   "metadata": {},
   "source": [
    "**Alternatives**"
   ]
  },
  {
   "cell_type": "code",
   "execution_count": null,
   "id": "a2987dc2-33ed-4279-8424-d10b93a3c5fa",
   "metadata": {},
   "outputs": [],
   "source": [
    "x = 1\n",
    "match x:\n",
    "    case 1 | 2 | 3 | 4 | 5:\n",
    "        print(x)\n",
    "    case _:\n",
    "        print(None)"
   ]
  },
  {
   "cell_type": "code",
   "execution_count": null,
   "id": "88d2c31c-aea8-42e2-80a8-bc3e164442c1",
   "metadata": {},
   "outputs": [],
   "source": [
    "x = 10\n",
    "match x:\n",
    "    case 1 | 2 | 3 | 4 | 5:\n",
    "        print(x)\n",
    "    case _:\n",
    "        print(None)"
   ]
  },
  {
   "cell_type": "markdown",
   "id": "b911d211-2b87-4f24-8c7c-7da14914485d",
   "metadata": {},
   "source": [
    "**Unpacking**"
   ]
  },
  {
   "cell_type": "code",
   "execution_count": null,
   "id": "fbc3b71e-7de7-4875-99d1-c9bda2bffbad",
   "metadata": {},
   "outputs": [],
   "source": [
    "xy = [0, 0]\n",
    "match xy:\n",
    "    case (0, 0):\n",
    "        print('origin')\n",
    "    case (x, 0):\n",
    "        print('x line')\n",
    "    case (0, y):\n",
    "        print('y line')\n",
    "    case (x, y):\n",
    "        print('plane')\n",
    "    case _:\n",
    "        raise ValueError"
   ]
  },
  {
   "cell_type": "markdown",
   "id": "4ea150df-3c72-45e3-8712-d58c783256cb",
   "metadata": {},
   "source": [
    "**Guard**"
   ]
  },
  {
   "cell_type": "code",
   "execution_count": null,
   "id": "1b74381d-3249-4d54-995d-ff81c8349bd3",
   "metadata": {},
   "outputs": [],
   "source": [
    "xy = [0, 0]\n",
    "match xy:\n",
    "    case (0, 0):\n",
    "        print('origin')\n",
    "    case (x, 0) if isinstance(x, int) :\n",
    "        print('x line')\n",
    "    case (0, y) if isinstance(x, int):\n",
    "        print('y line')\n",
    "    case (x, y) if isinstance(x, int) and isinstance(y, int):\n",
    "        print('plane')\n",
    "    case _:\n",
    "        raise ValueError"
   ]
  },
  {
   "cell_type": "markdown",
   "id": "b9361136-f7b2-40a4-9923-3ab936aefde1",
   "metadata": {},
   "source": [
    "**Extended unpacking**"
   ]
  },
  {
   "cell_type": "code",
   "execution_count": null,
   "id": "c44d3b5b-a508-4ca6-bba4-8e9e749f7cc2",
   "metadata": {},
   "outputs": [],
   "source": [
    "xs = [0, 0, 0, 0]\n",
    "match xs:\n",
    "    case (0, *_, 0):\n",
    "        print('1st & last are zero')\n",
    "    case (0, *_):\n",
    "        print('1st is zero')\n",
    "    case (*_, 0):\n",
    "        print('last is zero')\n",
    "    case (_, 0, *_):\n",
    "        print('2nd is zero')    \n",
    "    case _:\n",
    "        raise ValueError"
   ]
  },
  {
   "cell_type": "markdown",
   "id": "e9ca5780-9746-4f26-91de-5fc1b036a5a5",
   "metadata": {},
   "source": [
    "**Mapping patterns**"
   ]
  },
  {
   "cell_type": "code",
   "execution_count": null,
   "id": "d3f2e78f-3eab-4fa8-8442-96e9cfb4add5",
   "metadata": {},
   "outputs": [],
   "source": [
    "xs = {'A': 1, 'B': 0, 'C': 1, 'D': 3}\n",
    "match xs:\n",
    "    case {'A': 0}:\n",
    "        print('A')\n",
    "    case {'B': 1}:\n",
    "        print('B')\n",
    "    case {'A': 1, 'B': 0}:\n",
    "        print('AB')\n",
    "    case {'A': 1, 'C': 1, **other}:\n",
    "        print(other)"
   ]
  },
  {
   "cell_type": "markdown",
   "id": "d795f721-6574-494d-a630-f822625d1b1c",
   "metadata": {},
   "source": [
    "**Capture**"
   ]
  },
  {
   "cell_type": "code",
   "execution_count": null,
   "id": "57a48d95-63f0-4826-8465-3a6ccc4d609e",
   "metadata": {},
   "outputs": [],
   "source": [
    "xy = [1, 0]\n",
    "match xy:\n",
    "    case (x as pattern, 0):\n",
    "        pass\n",
    "pattern"
   ]
  },
  {
   "cell_type": "markdown",
   "id": "c02f1108-bb50-4b40-aed5-5867ab107b3c",
   "metadata": {},
   "source": [
    "## itertools"
   ]
  },
  {
   "cell_type": "markdown",
   "id": "91bfbe32-3ada-47e8-9d41-afd2ae2b68b6",
   "metadata": {},
   "source": [
    "Functions creating iterators for efficient looping"
   ]
  },
  {
   "cell_type": "code",
   "execution_count": null,
   "id": "be2a7975-d7fe-425a-a0e6-cd6e0f815ef5",
   "metadata": {},
   "outputs": [],
   "source": [
    "import itertools\n",
    "\n",
    "data = [3, 4, 6, 2, 1, 9, 0, 7, 5, 8]\n",
    "list(itertools.accumulate(data, max))"
   ]
  },
  {
   "cell_type": "markdown",
   "id": "07ae92d7-9051-4680-ba00-90b106521ca7",
   "metadata": {},
   "source": [
    "# Functions"
   ]
  },
  {
   "cell_type": "code",
   "execution_count": null,
   "id": "50c9749f-9531-4206-a8fe-bf9fb79edb1b",
   "metadata": {},
   "outputs": [],
   "source": [
    "def square(x:float) -> float:\n",
    "    \"\"\" Given x, returns x**2 \"\"\"\n",
    "    y = x*x\n",
    "    return y"
   ]
  },
  {
   "cell_type": "code",
   "execution_count": null,
   "id": "be5f1afd-573b-4b4c-bb34-86cf121c8fd9",
   "metadata": {},
   "outputs": [],
   "source": [
    "square"
   ]
  },
  {
   "cell_type": "code",
   "execution_count": null,
   "id": "600a3e4c-e131-47bc-8f74-64680d2eb0b4",
   "metadata": {},
   "outputs": [],
   "source": [
    "square.__annotations__"
   ]
  },
  {
   "cell_type": "code",
   "execution_count": null,
   "id": "517951f9-c518-47a8-9d04-3a0cbf1ce0a7",
   "metadata": {},
   "outputs": [],
   "source": [
    "square.__doc__"
   ]
  },
  {
   "cell_type": "code",
   "execution_count": null,
   "id": "847bdf0e-d4af-4f24-be4e-45f7fb429b5e",
   "metadata": {},
   "outputs": [],
   "source": [
    "square(2.0)"
   ]
  },
  {
   "cell_type": "code",
   "execution_count": null,
   "id": "37d92479-3bc0-44ea-9605-ddd79a60f403",
   "metadata": {},
   "outputs": [],
   "source": [
    "fn = square\n",
    "fn(3.0)"
   ]
  },
  {
   "cell_type": "code",
   "execution_count": null,
   "id": "8931a1ef-6feb-4927-a1df-6583d30bfbd3",
   "metadata": {},
   "outputs": [],
   "source": [
    "def apply(x, fn):\n",
    "    return fn(x)\n",
    "\n",
    "apply(2, square)"
   ]
  },
  {
   "cell_type": "code",
   "execution_count": null,
   "id": "c24d5ef5-74d1-47b4-81fb-b0288b9fe600",
   "metadata": {},
   "outputs": [],
   "source": [
    "square.memo = 'Buy bitcoin'\n",
    "square.memo"
   ]
  },
  {
   "cell_type": "code",
   "execution_count": null,
   "id": "8e0dcd56-d6cd-4815-954f-8b9d283ff71b",
   "metadata": {},
   "outputs": [],
   "source": [
    "print(*dir(square), sep='\\n')"
   ]
  },
  {
   "cell_type": "code",
   "execution_count": null,
   "id": "49666109-dd6e-4877-887e-7c1d92d69654",
   "metadata": {},
   "outputs": [],
   "source": [
    "print(*[x for x in dir(square) if not x.startswith('__')], sep='\\n')"
   ]
  },
  {
   "cell_type": "markdown",
   "id": "71561e61-b3f0-439e-b87e-0d9b110bdb67",
   "metadata": {},
   "source": [
    "**Input mutation**"
   ]
  },
  {
   "cell_type": "code",
   "execution_count": null,
   "id": "0d2bde90-e7e2-4c4b-8619-fefbdac9e74c",
   "metadata": {},
   "outputs": [],
   "source": [
    "def square(xs:list[float]) -> list[float]:\n",
    "    for i in range(len(xs)):\n",
    "        xs[i] *= xs[i]\n",
    "    return xs\n",
    "\n",
    "xs = [1, 2, 3, 4, 5]\n",
    "ys = square(xs)\n",
    "ys"
   ]
  },
  {
   "cell_type": "code",
   "execution_count": null,
   "id": "f0f4034e-7fea-44f6-b72f-1c2c12e869ca",
   "metadata": {},
   "outputs": [],
   "source": [
    "xs"
   ]
  },
  {
   "cell_type": "code",
   "execution_count": null,
   "id": "6a35f895-a228-4379-a5a9-e0b9d126a053",
   "metadata": {},
   "outputs": [],
   "source": [
    "id(xs)"
   ]
  },
  {
   "cell_type": "code",
   "execution_count": null,
   "id": "ad82a4eb-7f34-43df-a5ad-11f7335a020b",
   "metadata": {},
   "outputs": [],
   "source": [
    "id(ys)"
   ]
  },
  {
   "cell_type": "code",
   "execution_count": null,
   "id": "270a7f1a-15ed-40bc-a41d-62c41cf836ea",
   "metadata": {},
   "outputs": [],
   "source": [
    "def square(xs:list[float]) -> list[float]:\n",
    "    ys = []\n",
    "    for x in xs:\n",
    "        ys.append(x*x)\n",
    "    return ys\n",
    "    \n",
    "xs = [1, 2, 3, 4, 5]\n",
    "ys = square(xs)\n",
    "ys"
   ]
  },
  {
   "cell_type": "code",
   "execution_count": null,
   "id": "e7b26f8f-a92a-465b-bc7c-5a52e93b74c3",
   "metadata": {},
   "outputs": [],
   "source": [
    "id(xs)"
   ]
  },
  {
   "cell_type": "code",
   "execution_count": null,
   "id": "211eb7b0-47da-41f8-a4ef-e7bca6ac8e0a",
   "metadata": {},
   "outputs": [],
   "source": [
    "id(ys)"
   ]
  },
  {
   "cell_type": "code",
   "execution_count": null,
   "id": "5b5c3a99-eed3-4134-93e3-b5f6fcfa345b",
   "metadata": {},
   "outputs": [],
   "source": [
    "def square(xs:list[float]) -> list[float]:\n",
    "    return [x*x for x in xs]\n",
    "\n",
    "xs = [1, 2, 3, 4, 5]\n",
    "ys = square(xs)\n",
    "ys"
   ]
  },
  {
   "cell_type": "markdown",
   "id": "3ced82c7-f9fa-4e0b-9a94-8023a0a8c811",
   "metadata": {},
   "source": [
    "## Default argument values"
   ]
  },
  {
   "cell_type": "code",
   "execution_count": null,
   "id": "8b7fc919-d284-4c6a-8b9d-ef5203a6b6d8",
   "metadata": {},
   "outputs": [],
   "source": [
    "def foo(x, y=1):\n",
    "    return x + y"
   ]
  },
  {
   "cell_type": "code",
   "execution_count": null,
   "id": "3ff6d2dd-96cf-4706-ae7c-6052ba34e994",
   "metadata": {},
   "outputs": [],
   "source": [
    "foo(10, 1)"
   ]
  },
  {
   "cell_type": "code",
   "execution_count": null,
   "id": "9f86141e-a47c-4dc1-b1fa-cd379fe3cf61",
   "metadata": {},
   "outputs": [],
   "source": [
    "foo(10)"
   ]
  },
  {
   "cell_type": "markdown",
   "id": "a3a6df47-b463-4d99-9076-afbec0a3db69",
   "metadata": {},
   "source": [
    "## Mutable default value"
   ]
  },
  {
   "cell_type": "code",
   "execution_count": null,
   "id": "31a585da-377c-48cd-89a4-9e0f85fb16c7",
   "metadata": {},
   "outputs": [],
   "source": [
    "def append(x, l=[]):\n",
    "    l.append(x)\n",
    "    return l"
   ]
  },
  {
   "cell_type": "code",
   "execution_count": null,
   "id": "73d9246e-cad9-461a-8c74-c23aaef5126d",
   "metadata": {},
   "outputs": [],
   "source": [
    "append.__defaults__"
   ]
  },
  {
   "cell_type": "code",
   "execution_count": null,
   "id": "c3e0d26e-a32a-41e6-8fc5-841c35dc9e54",
   "metadata": {},
   "outputs": [],
   "source": [
    "print(append(1))\n",
    "print(append(2))\n",
    "print(append(3))"
   ]
  },
  {
   "cell_type": "code",
   "execution_count": null,
   "id": "41e42e34-11b7-48be-a547-0142283d6f88",
   "metadata": {},
   "outputs": [],
   "source": [
    "append.__defaults__"
   ]
  },
  {
   "cell_type": "code",
   "execution_count": null,
   "id": "c541a86f-75ed-4910-8c97-499c38cd6631",
   "metadata": {},
   "outputs": [],
   "source": [
    "def append(x, l=None):\n",
    "    if l is None:\n",
    "        l = []\n",
    "    l.append(x)\n",
    "    return l"
   ]
  },
  {
   "cell_type": "code",
   "execution_count": null,
   "id": "b254170f-765c-4c0e-a97b-74bf70fed9b4",
   "metadata": {},
   "outputs": [],
   "source": [
    "print(append(1))\n",
    "print(append(2))\n",
    "print(append(3))"
   ]
  },
  {
   "cell_type": "markdown",
   "id": "f05d9cd5-031e-4e6d-b10d-12bc69c70334",
   "metadata": {},
   "source": [
    "## Keyword arguments"
   ]
  },
  {
   "cell_type": "code",
   "execution_count": null,
   "id": "2638da10-2a5f-40a9-bab0-39c3c9422170",
   "metadata": {},
   "outputs": [],
   "source": [
    "def foo(x, y):\n",
    "    return x + y"
   ]
  },
  {
   "cell_type": "code",
   "execution_count": null,
   "id": "bf895311-ea23-4b24-82c8-1e407ebbf7ad",
   "metadata": {},
   "outputs": [],
   "source": [
    "foo(10, 1)"
   ]
  },
  {
   "cell_type": "code",
   "execution_count": null,
   "id": "8693cb49-aa1d-411c-a9b9-6a631de10bc8",
   "metadata": {},
   "outputs": [],
   "source": [
    "foo(10, y=1)"
   ]
  },
  {
   "cell_type": "code",
   "execution_count": null,
   "id": "111c04a3-4cd6-4929-a567-0f2a639b3077",
   "metadata": {},
   "outputs": [],
   "source": [
    "foo(x=10, y=1)"
   ]
  },
  {
   "cell_type": "code",
   "execution_count": null,
   "id": "3b5b3b86-58ae-4c47-8110-1593d6a6aa6e",
   "metadata": {},
   "outputs": [],
   "source": [
    "foo(y=1, x=10)"
   ]
  },
  {
   "cell_type": "code",
   "execution_count": null,
   "id": "50c006cd-39bb-4f7b-8285-5152e325db13",
   "metadata": {},
   "outputs": [],
   "source": [
    "foo(y=1, 1)"
   ]
  },
  {
   "cell_type": "code",
   "execution_count": null,
   "id": "bfc5e84d-15a2-4813-b19c-a35a58715664",
   "metadata": {},
   "outputs": [],
   "source": [
    "foo(1, 1, 1)"
   ]
  },
  {
   "cell_type": "code",
   "execution_count": null,
   "id": "0d0b4435-8cae-45c4-85f2-29997311e27c",
   "metadata": {},
   "outputs": [],
   "source": [
    "def foo(x, y, *args, **kwargs):\n",
    "    print(args)\n",
    "    print(kwargs)\n",
    "    return x + y"
   ]
  },
  {
   "cell_type": "code",
   "execution_count": null,
   "id": "73d2c3e5-48af-4c54-9f2a-9053149ce79d",
   "metadata": {},
   "outputs": [],
   "source": [
    "foo(1, 1, 1)"
   ]
  },
  {
   "cell_type": "code",
   "execution_count": null,
   "id": "3110d7ff-bd2e-4715-802a-b7b55fb53c9e",
   "metadata": {},
   "outputs": [],
   "source": [
    "foo(1, 1, parameter='normal')"
   ]
  },
  {
   "cell_type": "markdown",
   "id": "2d330422-5e09-49d1-ab72-fdc69d31e5b3",
   "metadata": {},
   "source": [
    "## Positional ands keyword arguments"
   ]
  },
  {
   "cell_type": "code",
   "execution_count": null,
   "id": "0aae7f53-3fbe-4912-a75a-7b37c569f547",
   "metadata": {},
   "outputs": [],
   "source": [
    "def foo(pos_arg_1, \n",
    "        pos_arg_2,\n",
    "        /,\n",
    "        pos_or_kwd_1,\n",
    "        pos_or_kwd_2,\n",
    "        *,\n",
    "        kwd_arg_1,\n",
    "        kwd_arg_2):\n",
    "    pass"
   ]
  },
  {
   "cell_type": "code",
   "execution_count": null,
   "id": "7a3668bf-c12e-40de-b157-a00fe4e63e5f",
   "metadata": {},
   "outputs": [],
   "source": [
    "def foo(arg):\n",
    "    pass"
   ]
  },
  {
   "cell_type": "code",
   "execution_count": null,
   "id": "05158e75-8c21-4e94-901b-2962cee16af9",
   "metadata": {},
   "outputs": [],
   "source": [
    "foo(1)"
   ]
  },
  {
   "cell_type": "code",
   "execution_count": null,
   "id": "927ca115-560d-4835-86f5-d4fad1f7794c",
   "metadata": {},
   "outputs": [],
   "source": [
    "foo(arg=1)"
   ]
  },
  {
   "cell_type": "code",
   "execution_count": null,
   "id": "13e0f893-bee0-44ad-b3c7-c21d86d6664a",
   "metadata": {},
   "outputs": [],
   "source": [
    "def foo(arg, /):\n",
    "    pass"
   ]
  },
  {
   "cell_type": "code",
   "execution_count": null,
   "id": "f24275c8-0397-40fd-9bd0-b61d22dd1f15",
   "metadata": {},
   "outputs": [],
   "source": [
    "foo(1)"
   ]
  },
  {
   "cell_type": "code",
   "execution_count": null,
   "id": "2000bfea-fc2c-4650-95fc-bcca4540fedd",
   "metadata": {},
   "outputs": [],
   "source": [
    "foo(arg=1)"
   ]
  },
  {
   "cell_type": "code",
   "execution_count": null,
   "id": "f877b341-2fdf-4eb1-bc45-e5c661515cd0",
   "metadata": {},
   "outputs": [],
   "source": [
    "def foo(*, arg):\n",
    "    pass"
   ]
  },
  {
   "cell_type": "code",
   "execution_count": null,
   "id": "277e006b-6e13-4f88-8df6-e97919dde7a0",
   "metadata": {},
   "outputs": [],
   "source": [
    "foo(1)"
   ]
  },
  {
   "cell_type": "code",
   "execution_count": null,
   "id": "17e018a0-c39c-4849-9ac5-55f998ccf89c",
   "metadata": {},
   "outputs": [],
   "source": [
    "foo(arg=1)"
   ]
  },
  {
   "cell_type": "code",
   "execution_count": null,
   "id": "480c6be6-4342-4a96-8311-495c4a5e7531",
   "metadata": {},
   "outputs": [],
   "source": [
    "def foo(*args, /, **kwargs):\n",
    "    pass\n",
    "\n",
    "foo(x, y)"
   ]
  },
  {
   "cell_type": "markdown",
   "id": "c0a9a3a7-dae4-4b56-8587-f42e8b442277",
   "metadata": {},
   "source": [
    "Verbatim form [python tutorial](https://docs.python.org/3/tutorial/)\n",
    "\n",
    "- Use positional-only if you want the name of the parameters to not be available to the user. This is useful when parameter names have no real meaning, if you want to enforce the order of the arguments when the function is called or if you need to take some positional parameters and arbitrary keywords.\n",
    "\n",
    "- Use keyword-only when names have meaning and the function definition is more understandable by being explicit with names or you want to prevent users relying on the position of the argument being passed.\n",
    "\n",
    "- For an API, use positional-only to prevent breaking API changes if the parameter’s name is modified in the future."
   ]
  },
  {
   "cell_type": "markdown",
   "id": "04ab636b-b8ba-440e-b836-6958a8cef416",
   "metadata": {},
   "source": [
    "## Arbitrary number of arguments"
   ]
  },
  {
   "cell_type": "code",
   "execution_count": null,
   "id": "18ceb16e-ce06-4184-879a-8d64f80bb100",
   "metadata": {},
   "outputs": [],
   "source": [
    "def foo(*args, task='sum'):\n",
    "    match task:\n",
    "        case 'sum':\n",
    "            res = 0\n",
    "            for x in args:\n",
    "                res += x\n",
    "        case 'mul':\n",
    "            res = 1\n",
    "            for x in args:\n",
    "                res *= x\n",
    "    return res"
   ]
  },
  {
   "cell_type": "code",
   "execution_count": null,
   "id": "3850c216-0432-481e-b16d-4e5e26132561",
   "metadata": {},
   "outputs": [],
   "source": [
    "print(foo(1))\n",
    "print(foo(1, 2))\n",
    "print(foo(1, 2, 3))\n",
    "print(foo(1, 2, 3, 4))"
   ]
  },
  {
   "cell_type": "code",
   "execution_count": null,
   "id": "e90f5856-3eb4-471e-8756-25a2af32658a",
   "metadata": {},
   "outputs": [],
   "source": [
    "print(foo(1, task='mul'))\n",
    "print(foo(1, 2, task='mul'))\n",
    "print(foo(1, 2, 3, task='mul'))\n",
    "print(foo(1, 2, 3, 4, task='mul'))"
   ]
  },
  {
   "cell_type": "code",
   "execution_count": null,
   "id": "93d5e7a9-30c7-4825-b70e-63a7c33cff89",
   "metadata": {},
   "outputs": [],
   "source": [
    "xs = range(10)"
   ]
  },
  {
   "cell_type": "code",
   "execution_count": null,
   "id": "d75fb1a7-e92b-4b49-b34a-ec724d462201",
   "metadata": {},
   "outputs": [],
   "source": [
    "foo(xs)"
   ]
  },
  {
   "cell_type": "code",
   "execution_count": null,
   "id": "ccfbddef-2a5a-4fcf-9e91-f83d91126063",
   "metadata": {},
   "outputs": [],
   "source": [
    "foo(*xs)"
   ]
  },
  {
   "cell_type": "code",
   "execution_count": null,
   "id": "30ba0640-bf57-4f68-9598-88fb18c015a2",
   "metadata": {},
   "outputs": [],
   "source": [
    "def foo(**kwargs):\n",
    "    pass"
   ]
  },
  {
   "cell_type": "code",
   "execution_count": null,
   "id": "34602852-aa5a-4f16-b925-d6ec45f214c8",
   "metadata": {},
   "outputs": [],
   "source": [
    "x = {1:1, 2:2, 3:3}\n",
    "foo(x)"
   ]
  },
  {
   "cell_type": "code",
   "execution_count": null,
   "id": "66605e0e-1360-4fff-aee3-917c96d2ddb9",
   "metadata": {},
   "outputs": [],
   "source": [
    "x = {'a':0, 'b':0, 'c':0}\n",
    "foo(*x)"
   ]
  },
  {
   "cell_type": "code",
   "execution_count": null,
   "id": "f043d1f1-fed5-4753-a55c-eaa91638bc20",
   "metadata": {},
   "outputs": [],
   "source": [
    "print(*x)"
   ]
  },
  {
   "cell_type": "code",
   "execution_count": null,
   "id": "f5e5ca23-93a4-4a80-989e-77bc16217f6b",
   "metadata": {},
   "outputs": [],
   "source": [
    "foo(**x)"
   ]
  },
  {
   "cell_type": "markdown",
   "id": "f0fd6ab7-6ada-42cb-8dba-45413e7c6d9e",
   "metadata": {},
   "source": [
    "## Lambda expressions"
   ]
  },
  {
   "cell_type": "code",
   "execution_count": null,
   "id": "f6607b78-4f88-41b5-8a77-11f78f4c2e53",
   "metadata": {},
   "outputs": [],
   "source": [
    "def mult_by(n):\n",
    "    return lambda x: n*x"
   ]
  },
  {
   "cell_type": "code",
   "execution_count": null,
   "id": "6ff89e10-78aa-4e6f-858b-3969b4bcc299",
   "metadata": {},
   "outputs": [],
   "source": [
    "foo = mult_by(2)\n",
    "foo(2)"
   ]
  },
  {
   "cell_type": "code",
   "execution_count": null,
   "id": "1bdc7045-f462-4df2-a5c1-736b886720ce",
   "metadata": {},
   "outputs": [],
   "source": [
    "foo = mult_by(3)\n",
    "foo(2)"
   ]
  },
  {
   "cell_type": "code",
   "execution_count": null,
   "id": "6da2de60-77cf-4e0a-9edc-6fbba27f559b",
   "metadata": {},
   "outputs": [],
   "source": [
    "xs = [1, 2, 3, 4, 5]"
   ]
  },
  {
   "cell_type": "code",
   "execution_count": null,
   "id": "df47af20-ef9f-47cd-8c45-5faf8ee46695",
   "metadata": {},
   "outputs": [],
   "source": [
    "ys = []\n",
    "for x in xs:\n",
    "    ys.append(x**2)\n",
    "ys"
   ]
  },
  {
   "cell_type": "code",
   "execution_count": null,
   "id": "ee089224-3e0d-443c-88ef-306071d1654d",
   "metadata": {},
   "outputs": [],
   "source": [
    "ys = [x**2 for x in xs]\n",
    "ys"
   ]
  },
  {
   "cell_type": "code",
   "execution_count": null,
   "id": "83918c62-2e3a-48b3-a52b-5629b81c9c10",
   "metadata": {},
   "outputs": [],
   "source": [
    "ys = list(map(lambda x: x**2, xs))\n",
    "ys"
   ]
  },
  {
   "cell_type": "code",
   "execution_count": null,
   "id": "33fff409-d740-4af0-afb4-2046efce6c4c",
   "metadata": {},
   "outputs": [],
   "source": [
    "xs = range(10)"
   ]
  },
  {
   "cell_type": "code",
   "execution_count": null,
   "id": "35c6be0f-68f2-43b2-bc7d-04071307b8f1",
   "metadata": {},
   "outputs": [],
   "source": [
    "sorted(xs)"
   ]
  },
  {
   "cell_type": "code",
   "execution_count": null,
   "id": "5651e1f7-f8f6-480a-a238-d221c4f264f6",
   "metadata": {},
   "outputs": [],
   "source": [
    "sorted(xs, key=lambda x: not x % 2)"
   ]
  },
  {
   "cell_type": "markdown",
   "id": "5f696cb1-b81f-47c2-a755-a5d502064e98",
   "metadata": {},
   "source": [
    "## Docstrings and annotaions"
   ]
  },
  {
   "cell_type": "code",
   "execution_count": null,
   "id": "df0c6bf9-78f4-4a2b-90ef-7a84cb708878",
   "metadata": {},
   "outputs": [],
   "source": [
    "def power(x:float, n:int=1) -> float:\n",
    "    \"\"\"\n",
    "    Compute x**2\n",
    "\n",
    "    Parameters\n",
    "    ----------\n",
    "    x: float\n",
    "        input value\n",
    "    n: int, positive, default=1\n",
    "        exponent\n",
    "\n",
    "    Returns\n",
    "    -------\n",
    "    float\n",
    "\n",
    "    Notes\n",
    "    -----\n",
    "    \n",
    "    \"\"\"\n",
    "    return x**n"
   ]
  },
  {
   "cell_type": "code",
   "execution_count": null,
   "id": "7ed21e99-95d3-4de0-ac70-f37de74d309a",
   "metadata": {},
   "outputs": [],
   "source": [
    "power.__doc__"
   ]
  },
  {
   "cell_type": "code",
   "execution_count": null,
   "id": "b567491c-f53a-4891-a0dd-d801dbe56055",
   "metadata": {},
   "outputs": [],
   "source": [
    "power.__annotations__"
   ]
  },
  {
   "cell_type": "markdown",
   "id": "0929eb6d-c900-4496-ae58-e88643191dfa",
   "metadata": {},
   "source": [
    "# Coding style"
   ]
  },
  {
   "cell_type": "markdown",
   "id": "0b015106-3027-4879-9bf6-dd12cbefc5da",
   "metadata": {},
   "source": [
    "Verbatim form [python tutorial](https://docs.python.org/3/tutorial/)\n",
    "\n",
    "- Use 4-space indentation, and no tabs.\n",
    "\n",
    "- 4 spaces are a good compromise between small indentation (allows greater nesting depth) and large indentation (easier to read). Tabs introduce confusion, and are best left out.\n",
    "\n",
    "- Wrap lines so that they don’t exceed 79 characters.\n",
    "\n",
    "- This helps users with small displays and makes it possible to have several code files side-by-side on larger displays.\n",
    "\n",
    "- Use blank lines to separate functions and classes, and larger blocks of code inside functions.\n",
    "\n",
    "- When possible, put comments on a line of their own.\n",
    "\n",
    "- Use docstrings.\n",
    "\n",
    "- Use spaces around operators and after commas, but not directly inside bracketing constructs: a = f(1, 2) + g(3, 4).\n",
    "\n",
    "- Name your classes and functions consistently; the convention is to use UpperCamelCase for classes and lowercase_with_underscores for functions and methods. Always use self as the name for the first method argument (see A First Look at Classes for more on classes and methods).\n",
    "\n",
    "- Don’t use fancy encodings if your code is meant to be used in international environments. Python’s default, UTF-8, or even plain ASCII work best in any case.\n",
    "\n",
    "- Likewise, don’t use non-ASCII characters in identifiers if there is only the slightest chance people speaking a different language will read or maintain the code."
   ]
  },
  {
   "cell_type": "markdown",
   "id": "0207c324-a44c-4898-877e-77fc67fd3bb5",
   "metadata": {},
   "source": [
    "# Data structures"
   ]
  },
  {
   "cell_type": "markdown",
   "id": "aa2ff87f-eba1-4a02-ad9a-01238c23019c",
   "metadata": {},
   "source": [
    "A data structure is a way to organize, store, and manage data. It defines relationships between data elements and enables operations like insertion, deletion, or traversal.\n",
    "\n",
    "\n",
    "- List      : Ordered, mutable collection ([1, 2, 3]).\n",
    "- Tuple     : Ordered, immutable collection ((1, \"a\", True)).\n",
    "- Set       : Unordered, unique elements ({1, 2, 3}).\n",
    "- Dictionary: Key-value pairs ({\"name\": \"Alice\", \"age\": 30}).\n",
    "\n",
    "\n"
   ]
  },
  {
   "cell_type": "markdown",
   "id": "1e7aa8d5-672a-4023-8928-dc71b19a2d44",
   "metadata": {},
   "source": [
    "## List"
   ]
  },
  {
   "cell_type": "markdown",
   "id": "ec74d920-2f04-4d70-9807-78205990d451",
   "metadata": {},
   "source": [
    "### Methods"
   ]
  },
  {
   "cell_type": "code",
   "execution_count": null,
   "id": "b051dd84-07c0-4feb-9f8b-3cc8b37c5357",
   "metadata": {},
   "outputs": [],
   "source": [
    "?list.append"
   ]
  },
  {
   "cell_type": "code",
   "execution_count": null,
   "id": "ace08390-0d3f-4107-b5f3-6afc5c0b71c9",
   "metadata": {},
   "outputs": [],
   "source": [
    "x = [1, 2, 3]\n",
    "x.append(4)\n",
    "x"
   ]
  },
  {
   "cell_type": "code",
   "execution_count": null,
   "id": "5f7c2372-bc1c-4836-917e-70fa98f2a9c5",
   "metadata": {},
   "outputs": [],
   "source": [
    "x[len(x):]"
   ]
  },
  {
   "cell_type": "code",
   "execution_count": null,
   "id": "c4ea5ba9-9b05-44ca-a570-883f5990de78",
   "metadata": {},
   "outputs": [],
   "source": [
    "x[len(x):] = [5]\n",
    "x"
   ]
  },
  {
   "cell_type": "code",
   "execution_count": null,
   "id": "6a80b7d0-b974-4920-9ff1-badcaa9b6569",
   "metadata": {},
   "outputs": [],
   "source": [
    "?list.extend"
   ]
  },
  {
   "cell_type": "code",
   "execution_count": null,
   "id": "e9e6266f-0030-45aa-bb2d-1f88d8ba7afe",
   "metadata": {},
   "outputs": [],
   "source": [
    "x = [1, 2, 3, 4, 5]\n",
    "x.extend([6, 7, 8, 9, 10])\n",
    "x"
   ]
  },
  {
   "cell_type": "code",
   "execution_count": null,
   "id": "35b402ef-1f1f-438c-85e9-d3f771ca6ec3",
   "metadata": {},
   "outputs": [],
   "source": [
    "?list.insert"
   ]
  },
  {
   "cell_type": "code",
   "execution_count": null,
   "id": "0ed38939-1355-493f-a339-fa6f4b4e0f51",
   "metadata": {},
   "outputs": [],
   "source": [
    "x = [1, 2, 3, 4, 5]\n",
    "x.insert(1, 0)\n",
    "x"
   ]
  },
  {
   "cell_type": "code",
   "execution_count": null,
   "id": "d80d9f9d-52fd-4c1b-b125-4f788297a99c",
   "metadata": {},
   "outputs": [],
   "source": [
    "?list.remove"
   ]
  },
  {
   "cell_type": "code",
   "execution_count": null,
   "id": "86b56266-294d-4f6d-8a6e-8ef4592b33b4",
   "metadata": {},
   "outputs": [],
   "source": [
    "x = [1, 2, 3, 4, 5]\n",
    "x.remove(3)\n",
    "x"
   ]
  },
  {
   "cell_type": "code",
   "execution_count": null,
   "id": "7eca3dae-79f0-4e7a-9d08-7b41157f97b6",
   "metadata": {},
   "outputs": [],
   "source": [
    "?list.pop"
   ]
  },
  {
   "cell_type": "code",
   "execution_count": null,
   "id": "4df6d5b6-9278-4bc0-b167-408d416c8805",
   "metadata": {},
   "outputs": [],
   "source": [
    "x = [1, 2, 3, 4, 5]\n",
    "print(x.pop())\n",
    "print(x)"
   ]
  },
  {
   "cell_type": "code",
   "execution_count": null,
   "id": "cc27f6a3-76ab-4967-85c3-8d3dc8822279",
   "metadata": {},
   "outputs": [],
   "source": [
    "?list.clear"
   ]
  },
  {
   "cell_type": "code",
   "execution_count": null,
   "id": "137d29a2-0882-44cf-8df4-810f30b3eae7",
   "metadata": {},
   "outputs": [],
   "source": [
    "x = [1, 2, 3, 4, 5]\n",
    "x.clear()\n",
    "x"
   ]
  },
  {
   "cell_type": "code",
   "execution_count": null,
   "id": "40d46090-c0ad-4e3e-b852-749aacafc322",
   "metadata": {},
   "outputs": [],
   "source": [
    "x = [1, 2, 3, 4, 5]\n",
    "del x[:]\n",
    "x"
   ]
  },
  {
   "cell_type": "code",
   "execution_count": null,
   "id": "e8ec7b6b-7f8d-4940-9cf3-dd039ed19627",
   "metadata": {},
   "outputs": [],
   "source": [
    "?list.index"
   ]
  },
  {
   "cell_type": "code",
   "execution_count": null,
   "id": "9b184561-b7f5-4237-a4c9-159e682aa666",
   "metadata": {},
   "outputs": [],
   "source": [
    "x = [1, 2, 3, 4, 5]\n",
    "x.index(4)"
   ]
  },
  {
   "cell_type": "code",
   "execution_count": null,
   "id": "05f71cbf-5078-469b-b84d-7603fe3185a9",
   "metadata": {},
   "outputs": [],
   "source": [
    "?list.count"
   ]
  },
  {
   "cell_type": "code",
   "execution_count": null,
   "id": "739ae834-dafe-4a6a-9591-2034865286fe",
   "metadata": {},
   "outputs": [],
   "source": [
    "x = [1, 2, 1, 4, 1]\n",
    "x.count(1)"
   ]
  },
  {
   "cell_type": "code",
   "execution_count": null,
   "id": "5f26b117-f56a-479b-9a3d-df881eac29fd",
   "metadata": {},
   "outputs": [],
   "source": [
    "?list.sort"
   ]
  },
  {
   "cell_type": "code",
   "execution_count": null,
   "id": "076034c9-d8f7-449c-8299-7ba85cd69555",
   "metadata": {},
   "outputs": [],
   "source": [
    "x = [5, 4, 3, 2, 1]\n",
    "x.sort()\n",
    "x"
   ]
  },
  {
   "cell_type": "code",
   "execution_count": null,
   "id": "033dd6e6-8d72-4fdf-a5f2-76d8f71d0f66",
   "metadata": {},
   "outputs": [],
   "source": [
    "?list.reverse"
   ]
  },
  {
   "cell_type": "code",
   "execution_count": null,
   "id": "a639856b-6e8e-4b3b-b395-23c7ab5cef0b",
   "metadata": {},
   "outputs": [],
   "source": [
    "x = [1, 2, 3, 4, 5]\n",
    "x.reverse()\n",
    "x"
   ]
  },
  {
   "cell_type": "code",
   "execution_count": null,
   "id": "846fbfd2-bdf8-4c97-b568-fcac6c254125",
   "metadata": {},
   "outputs": [],
   "source": [
    "x = [1, 2, 3, 4, 5]\n",
    "x[::-1]"
   ]
  },
  {
   "cell_type": "code",
   "execution_count": null,
   "id": "f1bae239-0e00-4ae5-880b-6afbc630419f",
   "metadata": {},
   "outputs": [],
   "source": [
    "?list.copy"
   ]
  },
  {
   "cell_type": "code",
   "execution_count": null,
   "id": "ac3f9f0c-18d0-49a7-85ed-3b7effb5b54e",
   "metadata": {},
   "outputs": [],
   "source": [
    "x = [1, 2, 3, 4, 5]\n",
    "y = x.copy()\n",
    "del y[:]\n",
    "x"
   ]
  },
  {
   "cell_type": "code",
   "execution_count": null,
   "id": "fd3c6c65-7180-4063-a9b2-9817ce96df0f",
   "metadata": {},
   "outputs": [],
   "source": [
    "for method in dir(list):\n",
    "    if not method.startswith('__'):\n",
    "        print(method)"
   ]
  },
  {
   "cell_type": "markdown",
   "id": "ae43bd0a-974c-4514-8413-4c812b67d6f8",
   "metadata": {},
   "source": [
    "### Some use cases"
   ]
  },
  {
   "cell_type": "markdown",
   "id": "95d38f1a-387e-43f3-a359-181612832feb",
   "metadata": {},
   "source": [
    "**Stack** (last-in/first-out)"
   ]
  },
  {
   "cell_type": "code",
   "execution_count": null,
   "id": "6a2ff722-4820-4fe7-b059-c447e68ba5a8",
   "metadata": {},
   "outputs": [],
   "source": [
    "x = [1, 2, 3, 4]\n",
    "x.append(5)\n",
    "x.pop()"
   ]
  },
  {
   "cell_type": "markdown",
   "id": "ca18fec0-11ac-49fa-80d5-feeb82d569cd",
   "metadata": {},
   "source": [
    "**Queues** (first-in, first-out)"
   ]
  },
  {
   "cell_type": "code",
   "execution_count": null,
   "id": "adfb9f56-bb4d-474d-878a-92000c4256b7",
   "metadata": {},
   "outputs": [],
   "source": [
    "x = [1, 2, 3, 4]"
   ]
  },
  {
   "cell_type": "code",
   "execution_count": null,
   "id": "2924dd65-9cae-4119-8934-c1e48a32dca9",
   "metadata": {},
   "outputs": [],
   "source": [
    "x.insert(0, 0)\n",
    "x"
   ]
  },
  {
   "cell_type": "code",
   "execution_count": null,
   "id": "5945e3aa-ad49-4922-a094-9ae14e9f25b1",
   "metadata": {},
   "outputs": [],
   "source": [
    "x.pop()"
   ]
  },
  {
   "cell_type": "code",
   "execution_count": null,
   "id": "f2720983-3d29-413a-970c-a99a7c2fefca",
   "metadata": {},
   "outputs": [],
   "source": [
    "x.pop(0)"
   ]
  },
  {
   "cell_type": "code",
   "execution_count": null,
   "id": "7536c5a8-747b-4f0b-beb4-cbb8c859bd77",
   "metadata": {},
   "outputs": [],
   "source": [
    "x"
   ]
  },
  {
   "cell_type": "code",
   "execution_count": null,
   "id": "3e531dfd-2e1c-4878-8f0d-9cd3407d003e",
   "metadata": {},
   "outputs": [],
   "source": [
    "from collections import deque\n",
    "\n",
    "x = deque([1, 2, 3, 4])"
   ]
  },
  {
   "cell_type": "code",
   "execution_count": null,
   "id": "70305727-fdbb-4286-b708-837fedabdbf1",
   "metadata": {},
   "outputs": [],
   "source": [
    "?deque.append"
   ]
  },
  {
   "cell_type": "code",
   "execution_count": null,
   "id": "e5bf718a-48cf-43a1-98f7-93c3481ffba5",
   "metadata": {},
   "outputs": [],
   "source": [
    "x.append(5)\n",
    "x"
   ]
  },
  {
   "cell_type": "code",
   "execution_count": null,
   "id": "b7499f76-d1d8-4e62-9d35-2535647e76b8",
   "metadata": {},
   "outputs": [],
   "source": [
    "?deque.appendleft"
   ]
  },
  {
   "cell_type": "code",
   "execution_count": null,
   "id": "d58fbbf7-898d-4491-b847-872adc160bf3",
   "metadata": {},
   "outputs": [],
   "source": [
    "x.appendleft(0)"
   ]
  },
  {
   "cell_type": "code",
   "execution_count": null,
   "id": "f1880fe5-c44e-4402-9c7a-f82ec2fc15f7",
   "metadata": {},
   "outputs": [],
   "source": [
    "?deque.pop"
   ]
  },
  {
   "cell_type": "code",
   "execution_count": null,
   "id": "dfe7f0c2-76ff-4d02-b6a6-8d91c354ab5a",
   "metadata": {},
   "outputs": [],
   "source": [
    "x.pop()"
   ]
  },
  {
   "cell_type": "code",
   "execution_count": null,
   "id": "a23dbbc7-6133-46d8-9a13-2abedf6fa8eb",
   "metadata": {},
   "outputs": [],
   "source": [
    "?deque.popleft"
   ]
  },
  {
   "cell_type": "code",
   "execution_count": null,
   "id": "ce8fc02e-bb3d-4317-b15b-ebd3c5147571",
   "metadata": {},
   "outputs": [],
   "source": [
    "x.popleft()"
   ]
  },
  {
   "cell_type": "code",
   "execution_count": null,
   "id": "5fd7efd1-833c-459f-a0ec-97037b7f75c4",
   "metadata": {},
   "outputs": [],
   "source": [
    "for method in dir(deque):\n",
    "    if not method.startswith('__'):\n",
    "        print(method)"
   ]
  },
  {
   "cell_type": "code",
   "execution_count": null,
   "id": "8fea846b-0bf2-43ae-a4d2-2584cb5bec73",
   "metadata": {},
   "outputs": [],
   "source": [
    "?deque"
   ]
  },
  {
   "cell_type": "code",
   "execution_count": null,
   "id": "d7f35555-fc52-469b-b14e-10775483091a",
   "metadata": {},
   "outputs": [],
   "source": [
    "x = deque([0, 0, 0, 0, 0], maxlen=5)\n",
    "for i in range(10):\n",
    "    x.append(i)\n",
    "    print(x)"
   ]
  },
  {
   "cell_type": "markdown",
   "id": "2203abd9-957e-4a89-a25e-f2d58f9a4c85",
   "metadata": {},
   "source": [
    "**List comprehensions**"
   ]
  },
  {
   "cell_type": "markdown",
   "id": "a2b6431e-650b-4cf2-9d91-e055b026577d",
   "metadata": {},
   "source": [
    "A concise way to create lists by applying an expression to each item in an iterable (like a list, range, etc.) with optionally filtering."
   ]
  },
  {
   "cell_type": "code",
   "execution_count": null,
   "id": "b947de4b-7ec6-4357-937c-d4135d9c2f38",
   "metadata": {},
   "outputs": [],
   "source": [
    "xs = []\n",
    "for x in range(10):\n",
    "    xs.append(x**2)\n",
    "xs"
   ]
  },
  {
   "cell_type": "code",
   "execution_count": null,
   "id": "ec70c653-6fdf-48c5-88d3-986bc9147659",
   "metadata": {},
   "outputs": [],
   "source": [
    "xs = [x**2 for x in range(10)]\n",
    "xs"
   ]
  },
  {
   "cell_type": "markdown",
   "id": "584a1984-dbd4-40d0-bb75-dc1e8a83a2e9",
   "metadata": {},
   "source": [
    "Homogeneous polynomial exponents"
   ]
  },
  {
   "cell_type": "code",
   "execution_count": null,
   "id": "02dfc365-ba7f-45b5-ae8e-57e102ed57d9",
   "metadata": {},
   "outputs": [],
   "source": [
    "xy = []\n",
    "for x in range(0, 5 + 1):\n",
    "    for y in range(5, 0 - 1, -1):\n",
    "        if x + y == 5:\n",
    "            xy.append((x, y))\n",
    "xy"
   ]
  },
  {
   "cell_type": "code",
   "execution_count": null,
   "id": "e02710f7-3ff7-45ae-8bdf-18bf46c185c7",
   "metadata": {},
   "outputs": [],
   "source": [
    "[(x, y) for x in range(0, 5 + 1) for y in range(5, 0 - 1, -1) if  x + y == 5]"
   ]
  },
  {
   "cell_type": "markdown",
   "id": "3bcc5b1e-06b5-4ca7-a070-e5c587e5e4b2",
   "metadata": {},
   "source": [
    "Matrix transpose\n",
    "$\n",
    "M = \\begin{pmatrix}\n",
    "1 & 2 \\\\\n",
    "3 & 4 \\\\\n",
    "\\end{pmatrix}\n",
    "$\n",
    "and\n",
    "$\n",
    "M^T = \\begin{pmatrix}\n",
    "1 & 3 \\\\\n",
    "2 & 4 \\\\\n",
    "\\end{pmatrix}\n",
    "$"
   ]
  },
  {
   "cell_type": "code",
   "execution_count": null,
   "id": "5b26d6e1-64c6-4b35-a07e-57c45228c1a3",
   "metadata": {},
   "outputs": [],
   "source": [
    "m = [[1, 2], [3, 4]]"
   ]
  },
  {
   "cell_type": "code",
   "execution_count": null,
   "id": "24d50f62-47b4-4078-930a-be3e03e98be8",
   "metadata": {},
   "outputs": [],
   "source": [
    "mt = [[row[i] for row in m] for i in range(len(m))]\n",
    "mt"
   ]
  },
  {
   "cell_type": "code",
   "execution_count": null,
   "id": "e265578a-ec71-42fc-aa9d-90c46d84674f",
   "metadata": {},
   "outputs": [],
   "source": [
    "mt = []\n",
    "for i in range(len(m)):\n",
    "    mt.append([r[i] for r in m])\n",
    "mt"
   ]
  },
  {
   "cell_type": "code",
   "execution_count": null,
   "id": "697e750e-d235-4322-a056-d14b61211a4e",
   "metadata": {},
   "outputs": [],
   "source": [
    "mt = []\n",
    "for i in range(len(m)):\n",
    "    rt = []\n",
    "    for r in m:\n",
    "        rt.append(r[i])\n",
    "    mt.append(rt)\n",
    "mt"
   ]
  },
  {
   "cell_type": "code",
   "execution_count": null,
   "id": "9d57eb64-9ecb-4591-9ace-efc6b4ab0ac3",
   "metadata": {},
   "outputs": [],
   "source": [
    "list(zip(*m))"
   ]
  },
  {
   "cell_type": "code",
   "execution_count": null,
   "id": "4322dc08-05f2-4d6b-a3a8-1e6f3aacdf10",
   "metadata": {},
   "outputs": [],
   "source": [
    "list(map(list, zip(*m)))"
   ]
  },
  {
   "cell_type": "markdown",
   "id": "a35e313d-d3c2-43dd-b580-9a60a5d33996",
   "metadata": {},
   "source": [
    "## Del"
   ]
  },
  {
   "cell_type": "code",
   "execution_count": null,
   "id": "30314a0a-cf6d-4d72-b476-e9c3319e44eb",
   "metadata": {},
   "outputs": [],
   "source": [
    "x = [1, 2, 3, 4, 5]\n",
    "x.remove(3)\n",
    "x"
   ]
  },
  {
   "cell_type": "code",
   "execution_count": null,
   "id": "b0363018-ec5e-4519-a23f-eb212ff39f20",
   "metadata": {},
   "outputs": [],
   "source": [
    "del x[0]\n",
    "x"
   ]
  },
  {
   "cell_type": "code",
   "execution_count": null,
   "id": "7f7e876a-cfc6-425c-a7b8-641375b29bd1",
   "metadata": {},
   "outputs": [],
   "source": [
    "del x[:]\n",
    "x"
   ]
  },
  {
   "cell_type": "code",
   "execution_count": null,
   "id": "a39d6735-653f-4c5e-bc41-e1834143360b",
   "metadata": {},
   "outputs": [],
   "source": [
    "x = [1, 2, 3, 4, 5]\n",
    "del x[1:-1]\n",
    "x"
   ]
  },
  {
   "cell_type": "code",
   "execution_count": null,
   "id": "5fcd0266-8f86-4e98-b555-af2a8a8b838e",
   "metadata": {},
   "outputs": [],
   "source": [
    "del x"
   ]
  },
  {
   "cell_type": "code",
   "execution_count": null,
   "id": "94b822fa-0a2e-4295-b866-a92fcaaae006",
   "metadata": {},
   "outputs": [],
   "source": [
    "x = [1, 2, 3]\n",
    "del x[4:-1]\n",
    "x"
   ]
  },
  {
   "cell_type": "code",
   "execution_count": null,
   "id": "bfcf1998-9a2c-4698-b7ba-7220f2399729",
   "metadata": {},
   "outputs": [],
   "source": [
    "1 in x"
   ]
  },
  {
   "cell_type": "code",
   "execution_count": null,
   "id": "65041153-940c-492d-b50c-da61781762b4",
   "metadata": {},
   "outputs": [],
   "source": [
    "0 in x"
   ]
  },
  {
   "cell_type": "code",
   "execution_count": null,
   "id": "10fda90a-0f51-4120-ad9b-cc6680fbac3b",
   "metadata": {},
   "outputs": [],
   "source": [
    "0 not in x"
   ]
  },
  {
   "cell_type": "markdown",
   "id": "e5e56fc2-bc82-46d1-8a0a-d69eed31a185",
   "metadata": {},
   "source": [
    "## Tuple"
   ]
  },
  {
   "cell_type": "code",
   "execution_count": null,
   "id": "27250228-cfa4-4e9e-9d72-60cb7a3656e6",
   "metadata": {},
   "outputs": [],
   "source": [
    "x = 1, 2.0, '3'"
   ]
  },
  {
   "cell_type": "code",
   "execution_count": null,
   "id": "b6d4c65d-2283-4518-9f25-c4525f2d7615",
   "metadata": {},
   "outputs": [],
   "source": [
    "y = (1, 2.0, '3')\n",
    "x == y"
   ]
  },
  {
   "cell_type": "code",
   "execution_count": null,
   "id": "4c0fb815-0eb3-4aba-9fdd-2f220b56e726",
   "metadata": {},
   "outputs": [],
   "source": [
    "y = (1, 2.0, '3', )\n",
    "x == y"
   ]
  },
  {
   "cell_type": "code",
   "execution_count": null,
   "id": "263a6f17-5907-4bcc-945c-0176245e9e03",
   "metadata": {},
   "outputs": [],
   "source": [
    "x = (1, )\n",
    "type(x)"
   ]
  },
  {
   "cell_type": "code",
   "execution_count": null,
   "id": "cd1fe8db-d569-4b76-b62a-01148e8b7a7e",
   "metadata": {},
   "outputs": [],
   "source": [
    "x = 1,\n",
    "type(x)"
   ]
  },
  {
   "cell_type": "code",
   "execution_count": null,
   "id": "1815f5a4-5f91-4421-b1ff-2d658c3c0fee",
   "metadata": {},
   "outputs": [],
   "source": [
    "x = ()\n",
    "type(x)"
   ]
  },
  {
   "cell_type": "code",
   "execution_count": null,
   "id": "cb219b78-5590-467f-bdfd-f7141bf0c82e",
   "metadata": {},
   "outputs": [],
   "source": [
    "x = 1, 2, 3, 4\n",
    "x[0]"
   ]
  },
  {
   "cell_type": "code",
   "execution_count": null,
   "id": "8a21b6f9-d0ed-4325-a67b-e249cc86290b",
   "metadata": {},
   "outputs": [],
   "source": [
    "x[::2]"
   ]
  },
  {
   "cell_type": "code",
   "execution_count": null,
   "id": "60161d07-5cc1-4116-9e1f-cde1c90051a0",
   "metadata": {},
   "outputs": [],
   "source": [
    "x[0] = 0"
   ]
  },
  {
   "cell_type": "code",
   "execution_count": null,
   "id": "57e73953-6c29-41ef-862b-c8a35063a13f",
   "metadata": {},
   "outputs": [],
   "source": [
    "x = ([1], [2], )\n",
    "x"
   ]
  },
  {
   "cell_type": "code",
   "execution_count": null,
   "id": "0b1f5dda-15ae-4ff1-b6e5-10952c02e56b",
   "metadata": {},
   "outputs": [],
   "source": [
    "a = [1]\n",
    "b = [2]\n",
    "x = (a, b, )\n",
    "x"
   ]
  },
  {
   "cell_type": "code",
   "execution_count": null,
   "id": "fe95f103-c682-478b-80c3-ee6272df88a7",
   "metadata": {},
   "outputs": [],
   "source": [
    "a = 0\n",
    "x"
   ]
  },
  {
   "cell_type": "code",
   "execution_count": null,
   "id": "15b2ec15-b2ef-4571-86d7-ce19996efa17",
   "metadata": {},
   "outputs": [],
   "source": [
    "a = [1]\n",
    "b = [2]\n",
    "x = (a, b, )\n",
    "a[0] = 0\n",
    "x"
   ]
  },
  {
   "cell_type": "markdown",
   "id": "60aa873d-0703-4cee-b4ae-2c5d61aa6951",
   "metadata": {},
   "source": [
    "- **tuple** immutable, usually not limited to heterogeneous sequence \n",
    "- **list** mutable, homogeneous sequence to iterate over"
   ]
  },
  {
   "cell_type": "code",
   "execution_count": null,
   "id": "bf672910-563b-4e84-9b45-6d9107260173",
   "metadata": {},
   "outputs": [],
   "source": [
    "dir(tuple)"
   ]
  },
  {
   "cell_type": "code",
   "execution_count": null,
   "id": "8e23b7a6-29c7-491c-aa4e-3d2120f609cd",
   "metadata": {},
   "outputs": [],
   "source": [
    "(1) + (1)"
   ]
  },
  {
   "cell_type": "code",
   "execution_count": null,
   "id": "befbfbd8-82f3-432d-99d6-0ed6e5689e35",
   "metadata": {},
   "outputs": [],
   "source": [
    "(1,) + (1,)"
   ]
  },
  {
   "cell_type": "code",
   "execution_count": null,
   "id": "4d245cc4-9fe7-4eb1-993b-2112586013da",
   "metadata": {},
   "outputs": [],
   "source": [
    "x = (1, 2, 3)\n",
    "hash(x)"
   ]
  },
  {
   "cell_type": "markdown",
   "id": "142488f6-c38e-4f75-b141-fadebcc05bdd",
   "metadata": {},
   "source": [
    "**Packing** and **unpacking**"
   ]
  },
  {
   "cell_type": "code",
   "execution_count": null,
   "id": "ff0d42f5-10ac-44b0-80e2-b516b5120a7f",
   "metadata": {},
   "outputs": [],
   "source": [
    "a = 3\n",
    "b = 4\n",
    "c = 5\n",
    "x = a, b, c\n",
    "x"
   ]
  },
  {
   "cell_type": "code",
   "execution_count": null,
   "id": "1ab561a0-45d9-4865-9241-174757cc1822",
   "metadata": {},
   "outputs": [],
   "source": [
    "x = (1, 1, 1)\n",
    "a, b, c = x\n",
    "a, b, c"
   ]
  },
  {
   "cell_type": "code",
   "execution_count": null,
   "id": "5032cb1d-a6bd-45d9-91bf-749a1db9fb0e",
   "metadata": {},
   "outputs": [],
   "source": [
    "x = tuple(range(10))\n",
    "x"
   ]
  },
  {
   "cell_type": "code",
   "execution_count": null,
   "id": "22edc205-b991-403b-ac0d-1bc114997e02",
   "metadata": {},
   "outputs": [],
   "source": [
    "first, *rest = x\n",
    "first, rest"
   ]
  },
  {
   "cell_type": "code",
   "execution_count": null,
   "id": "73dd468c-fce4-44b0-883c-7a6bc2620024",
   "metadata": {},
   "outputs": [],
   "source": [
    "*most, last = x\n",
    "most, last"
   ]
  },
  {
   "cell_type": "code",
   "execution_count": null,
   "id": "568c3a0e-b5b9-46b5-907e-a488ef7831bd",
   "metadata": {},
   "outputs": [],
   "source": [
    "head, *body, tail = x\n",
    "head, body, tail"
   ]
  },
  {
   "cell_type": "code",
   "execution_count": null,
   "id": "9a34edeb-a253-45f7-b170-118652dfb484",
   "metadata": {},
   "outputs": [],
   "source": [
    "first, second, *body, last = x\n",
    "first, second, body, last"
   ]
  },
  {
   "cell_type": "code",
   "execution_count": null,
   "id": "04bf302f-ab08-4a09-afb4-ab6f061920bf",
   "metadata": {},
   "outputs": [],
   "source": [
    "x = 1, 1, 1, 1, 1\n",
    "x.count(1)"
   ]
  },
  {
   "cell_type": "code",
   "execution_count": null,
   "id": "fdfc53ea-9033-432a-8280-1089c1a75bcd",
   "metadata": {},
   "outputs": [],
   "source": [
    "x = 1, 2, 1, 2\n",
    "x.index(2)"
   ]
  },
  {
   "cell_type": "code",
   "execution_count": null,
   "id": "9e5989fc-e172-4996-b6e2-d38b4126ecb5",
   "metadata": {},
   "outputs": [],
   "source": [
    "a = 0\n",
    "b = 1\n",
    "a, b = b, a\n",
    "a, b"
   ]
  },
  {
   "cell_type": "markdown",
   "id": "51dab397-8ad4-4d1d-b3c9-0a6b09597c87",
   "metadata": {},
   "source": [
    "## Set"
   ]
  },
  {
   "cell_type": "markdown",
   "id": "746b5276-5a26-4a11-8c96-34c8329f37a4",
   "metadata": {},
   "source": [
    "Unordered collection with no duplicate elements, provides different set operations"
   ]
  },
  {
   "cell_type": "code",
   "execution_count": null,
   "id": "6820d01b-6289-4c8c-aacc-ff4991af633f",
   "metadata": {},
   "outputs": [],
   "source": [
    "[*filter(lambda s: not s.startswith('_'),  dir(set))]"
   ]
  },
  {
   "cell_type": "code",
   "execution_count": null,
   "id": "61283e96-be65-4c7f-a069-b794ae02ba2f",
   "metadata": {},
   "outputs": [],
   "source": [
    "s = set()\n",
    "s"
   ]
  },
  {
   "cell_type": "code",
   "execution_count": null,
   "id": "11ebbb6f-a004-45c3-90aa-a785a16a7338",
   "metadata": {},
   "outputs": [],
   "source": [
    "s = {1}\n",
    "s"
   ]
  },
  {
   "cell_type": "code",
   "execution_count": null,
   "id": "43b6bc9e-3ee2-4055-ba8c-1271dc8444c9",
   "metadata": {},
   "outputs": [],
   "source": [
    "type(s)"
   ]
  },
  {
   "cell_type": "code",
   "execution_count": null,
   "id": "37378a31-8064-461d-b0f2-0c3af9c88aec",
   "metadata": {},
   "outputs": [],
   "source": [
    "s = {1, 1, 1, 1, 2, 3, 1, 1, 1, 4, 5}\n",
    "s"
   ]
  },
  {
   "cell_type": "code",
   "execution_count": null,
   "id": "c8795d76-cbdc-4e07-afdd-1d1c7585f0de",
   "metadata": {},
   "outputs": [],
   "source": [
    "?set.add"
   ]
  },
  {
   "cell_type": "code",
   "execution_count": null,
   "id": "efe8c3b8-02f0-4bb0-aa1d-5213b1602f8a",
   "metadata": {},
   "outputs": [],
   "source": [
    "s.add(0)\n",
    "s"
   ]
  },
  {
   "cell_type": "code",
   "execution_count": null,
   "id": "5f4b9897-86a4-44b5-9313-e65cf781bb1d",
   "metadata": {},
   "outputs": [],
   "source": [
    "?set.clear"
   ]
  },
  {
   "cell_type": "code",
   "execution_count": null,
   "id": "8bad70e3-5e07-4a2c-81e0-8def84fd27db",
   "metadata": {},
   "outputs": [],
   "source": [
    "s.clear()\n",
    "s"
   ]
  },
  {
   "cell_type": "code",
   "execution_count": null,
   "id": "77c36432-dfec-4a2b-bc69-186a5a941f8c",
   "metadata": {},
   "outputs": [],
   "source": [
    "?set.copy"
   ]
  },
  {
   "cell_type": "code",
   "execution_count": null,
   "id": "86a1b360-4ecd-4404-be58-6501b50aef3b",
   "metadata": {},
   "outputs": [],
   "source": [
    "s = {1, 2, 3}\n",
    "c = s.copy()\n",
    "s.clear()\n",
    "c, s"
   ]
  },
  {
   "cell_type": "code",
   "execution_count": null,
   "id": "5461471a-2fe4-4040-9f69-7418a553e9fe",
   "metadata": {},
   "outputs": [],
   "source": [
    "a = set('apple')\n",
    "a"
   ]
  },
  {
   "cell_type": "code",
   "execution_count": null,
   "id": "e257c7d3-cced-4a19-92e0-43f7b9c7209a",
   "metadata": {},
   "outputs": [],
   "source": [
    "{el.upper() for el in a}"
   ]
  },
  {
   "cell_type": "code",
   "execution_count": null,
   "id": "07adff56-82b2-44ea-a2bf-458f0b1c8fff",
   "metadata": {},
   "outputs": [],
   "source": [
    "b = set('banana')\n",
    "b"
   ]
  },
  {
   "cell_type": "code",
   "execution_count": null,
   "id": "6f540e1f-c11e-4684-b733-79420c4c5d98",
   "metadata": {},
   "outputs": [],
   "source": [
    "?set.difference"
   ]
  },
  {
   "cell_type": "code",
   "execution_count": null,
   "id": "fb57946e-12ff-483a-8f2f-94ce2d2af843",
   "metadata": {},
   "outputs": [],
   "source": [
    "a - b"
   ]
  },
  {
   "cell_type": "code",
   "execution_count": null,
   "id": "1b36ae22-57f6-4966-a09d-9e61fda1cb16",
   "metadata": {},
   "outputs": [],
   "source": [
    "a.difference(b)"
   ]
  },
  {
   "cell_type": "code",
   "execution_count": null,
   "id": "4c6fda81-f2ca-4b26-a21b-759113c4d4aa",
   "metadata": {},
   "outputs": [],
   "source": [
    "b - a"
   ]
  },
  {
   "cell_type": "code",
   "execution_count": null,
   "id": "fd5b0351-7d4e-4b29-a3fe-7fb063d99167",
   "metadata": {},
   "outputs": [],
   "source": [
    "?set.difference_update"
   ]
  },
  {
   "cell_type": "code",
   "execution_count": null,
   "id": "4c2b047f-d0c5-4cdc-ac15-ddeb5fd028da",
   "metadata": {},
   "outputs": [],
   "source": [
    "?set.discard"
   ]
  },
  {
   "cell_type": "code",
   "execution_count": null,
   "id": "580b0780-d8dd-4326-8cf6-b205054392f8",
   "metadata": {},
   "outputs": [],
   "source": [
    "?set.intersection"
   ]
  },
  {
   "cell_type": "code",
   "execution_count": null,
   "id": "5a3c2ccb-2029-4ba7-bd19-cecda3cf4080",
   "metadata": {},
   "outputs": [],
   "source": [
    "a.intersection(b)"
   ]
  },
  {
   "cell_type": "code",
   "execution_count": null,
   "id": "ed413be2-7717-42c2-bb41-049df4f863a6",
   "metadata": {},
   "outputs": [],
   "source": [
    "?set.intersection_update"
   ]
  },
  {
   "cell_type": "code",
   "execution_count": null,
   "id": "ba2cd76d-57f2-4a58-9610-86af9eb53ead",
   "metadata": {},
   "outputs": [],
   "source": [
    "?set.isdisjoint"
   ]
  },
  {
   "cell_type": "code",
   "execution_count": null,
   "id": "1f9be20f-ca73-4093-892f-d80d46619eee",
   "metadata": {},
   "outputs": [],
   "source": [
    "?set.issubset"
   ]
  },
  {
   "cell_type": "code",
   "execution_count": null,
   "id": "21d61741-b41b-45a6-8755-8b9feba138d0",
   "metadata": {},
   "outputs": [],
   "source": [
    "?set.issubset"
   ]
  },
  {
   "cell_type": "code",
   "execution_count": null,
   "id": "d1845480-555e-42b1-a3f6-ad4ef026d22b",
   "metadata": {},
   "outputs": [],
   "source": [
    "?set.pop"
   ]
  },
  {
   "cell_type": "code",
   "execution_count": null,
   "id": "35fa288a-403c-4e84-adb5-168c0c69a70d",
   "metadata": {},
   "outputs": [],
   "source": [
    "?set.remove"
   ]
  },
  {
   "cell_type": "code",
   "execution_count": null,
   "id": "95566d2b-4d94-485d-a8f8-9a662b69cc1c",
   "metadata": {},
   "outputs": [],
   "source": [
    "?set.symmetric_difference"
   ]
  },
  {
   "cell_type": "code",
   "execution_count": null,
   "id": "46c2130d-6be0-45be-abf7-01a254b39549",
   "metadata": {},
   "outputs": [],
   "source": [
    "a, b, a.symmetric_difference(b)"
   ]
  },
  {
   "cell_type": "code",
   "execution_count": null,
   "id": "7d7158df-242c-4c6a-8698-e18b282de2c7",
   "metadata": {},
   "outputs": [],
   "source": [
    "a, b, b.symmetric_difference(a)"
   ]
  },
  {
   "cell_type": "code",
   "execution_count": null,
   "id": "98cc7673-23b0-4149-ae43-f45cb529ebdf",
   "metadata": {},
   "outputs": [],
   "source": [
    "?set.symmetric_difference_update"
   ]
  },
  {
   "cell_type": "code",
   "execution_count": null,
   "id": "1a2030c1-a709-4154-ae84-b4b778bab8b9",
   "metadata": {},
   "outputs": [],
   "source": [
    "?set.union"
   ]
  },
  {
   "cell_type": "code",
   "execution_count": null,
   "id": "527392f5-f1e3-4e29-8061-e95588473e5c",
   "metadata": {},
   "outputs": [],
   "source": [
    "a.union(b)"
   ]
  },
  {
   "cell_type": "code",
   "execution_count": null,
   "id": "c05335bd-ae17-4fce-960d-597dca8ce92e",
   "metadata": {},
   "outputs": [],
   "source": [
    "?set.update"
   ]
  },
  {
   "cell_type": "code",
   "execution_count": null,
   "id": "bf4adda0-d98c-4989-9949-3f6fb29f8090",
   "metadata": {},
   "outputs": [],
   "source": [
    "a = set('apple')\n",
    "b = set('banana')\n",
    "a"
   ]
  },
  {
   "cell_type": "code",
   "execution_count": null,
   "id": "34714f58-1ea0-4008-860b-efb38f045113",
   "metadata": {},
   "outputs": [],
   "source": [
    "a.update(b)\n",
    "a"
   ]
  },
  {
   "cell_type": "code",
   "execution_count": null,
   "id": "bc06456e-0c5b-4aeb-9904-60d63dbfae2d",
   "metadata": {},
   "outputs": [],
   "source": [
    "a = set('apple')\n",
    "b = set('banana')\n",
    "{*a, *b}"
   ]
  },
  {
   "cell_type": "markdown",
   "id": "ae037364-63b0-4fcf-ba8c-1c5cc8a68e58",
   "metadata": {},
   "source": [
    "## Dict"
   ]
  },
  {
   "cell_type": "markdown",
   "id": "2031daca-c71a-4324-85a0-af59ed4b91be",
   "metadata": {},
   "source": [
    "Associative arrays, indexed by *keys* (any immutable type, e.g. strings and numbers, tuples with immutable elements)\n",
    "\n",
    "Dictionary = key: value pairs (unique keys)"
   ]
  },
  {
   "cell_type": "code",
   "execution_count": null,
   "id": "82664ab9-ca76-4635-ba5c-243c5800f1d8",
   "metadata": {},
   "outputs": [],
   "source": [
    "{'key': 'value'}"
   ]
  },
  {
   "cell_type": "code",
   "execution_count": null,
   "id": "dcd9f42e-08f2-4df7-b6d0-bdc870716d29",
   "metadata": {},
   "outputs": [],
   "source": [
    "{[1]: 'value'}"
   ]
  },
  {
   "cell_type": "code",
   "execution_count": null,
   "id": "707e68c6-835d-4f64-8096-7bbb431d193a",
   "metadata": {},
   "outputs": [],
   "source": [
    "hash('python')"
   ]
  },
  {
   "cell_type": "code",
   "execution_count": null,
   "id": "d0146fc2-9fda-469c-abb2-297155e394ed",
   "metadata": {},
   "outputs": [],
   "source": [
    "{1: 1}"
   ]
  },
  {
   "cell_type": "code",
   "execution_count": null,
   "id": "f369b541-d04c-4887-b608-5985052c0952",
   "metadata": {},
   "outputs": [],
   "source": [
    "{'a': 1}"
   ]
  },
  {
   "cell_type": "code",
   "execution_count": null,
   "id": "056c05f0-c35a-41fe-929d-3f5c139174a3",
   "metadata": {},
   "outputs": [],
   "source": [
    "{(1, 0): 1}"
   ]
  },
  {
   "cell_type": "code",
   "execution_count": null,
   "id": "0b607c9d-c4f1-422e-8f46-e8f0488eb126",
   "metadata": {},
   "outputs": [],
   "source": [
    "d = {'a': 1, 'b': 2}\n",
    "d"
   ]
  },
  {
   "cell_type": "code",
   "execution_count": null,
   "id": "9c650e30-f134-4149-b620-18d3e157e5c3",
   "metadata": {},
   "outputs": [],
   "source": [
    "'c' in d"
   ]
  },
  {
   "cell_type": "code",
   "execution_count": null,
   "id": "640edc80-7817-421d-a921-2f2d90490af1",
   "metadata": {},
   "outputs": [],
   "source": [
    "d['c'] = 3"
   ]
  },
  {
   "cell_type": "code",
   "execution_count": null,
   "id": "96e7c123-3194-40e1-aae1-e17b845bed62",
   "metadata": {},
   "outputs": [],
   "source": [
    "'c' in d"
   ]
  },
  {
   "cell_type": "code",
   "execution_count": null,
   "id": "8fc900a7-c80f-416d-80d1-3724159dcdd0",
   "metadata": {},
   "outputs": [],
   "source": [
    "del d['a']\n",
    "d"
   ]
  },
  {
   "cell_type": "markdown",
   "id": "81bc57a1-f3e6-4a42-99c9-9a29a737bb75",
   "metadata": {},
   "source": [
    "Construction"
   ]
  },
  {
   "cell_type": "code",
   "execution_count": null,
   "id": "384fc580-4f8b-4743-be99-eeab52e6c126",
   "metadata": {},
   "outputs": [],
   "source": [
    "d = {'a': 1, 'b': 1, 'c': 1, 'd': 1}\n",
    "d"
   ]
  },
  {
   "cell_type": "code",
   "execution_count": null,
   "id": "f7bd96ab-3778-4894-a18c-0318c1e73c9e",
   "metadata": {},
   "outputs": [],
   "source": [
    "d = dict([('a', 1), ('b', 1), ('c', 1), ('d', 1)])\n",
    "d"
   ]
  },
  {
   "cell_type": "code",
   "execution_count": null,
   "id": "345c9df5-8aab-40ca-b5d6-f4f45d499311",
   "metadata": {},
   "outputs": [],
   "source": [
    "d = dict([*zip('abcd', [1, 2, 3, 4])])\n",
    "d"
   ]
  },
  {
   "cell_type": "markdown",
   "id": "65bf942d-9637-4c16-a895-7217da8fc7f4",
   "metadata": {},
   "source": [
    "Construction with string keys"
   ]
  },
  {
   "cell_type": "code",
   "execution_count": null,
   "id": "15e44e2b-7753-477e-b2b3-91cb1cf26eb1",
   "metadata": {},
   "outputs": [],
   "source": [
    "d = dict(a=1, b=1, c=1, d=1)\n",
    "d"
   ]
  },
  {
   "cell_type": "markdown",
   "id": "e361b448-cdc7-4c62-848e-083835571f71",
   "metadata": {},
   "source": [
    "Construction from keys with default value"
   ]
  },
  {
   "cell_type": "code",
   "execution_count": null,
   "id": "0c0e84a3-49b1-4586-8f40-f56c02d8ae76",
   "metadata": {},
   "outputs": [],
   "source": [
    "d = dict.fromkeys('abcd', 1)\n",
    "d"
   ]
  },
  {
   "cell_type": "markdown",
   "id": "e8bee583-6039-4313-a05a-090c0a33c673",
   "metadata": {},
   "source": [
    "Construction using (dict) comprehension"
   ]
  },
  {
   "cell_type": "code",
   "execution_count": null,
   "id": "8e6e0655-1903-448b-8d4f-848d6f702b61",
   "metadata": {},
   "outputs": [],
   "source": [
    "{x: x**2 for x in range(1, 5 + 1)}"
   ]
  },
  {
   "cell_type": "code",
   "execution_count": null,
   "id": "ccdf2ca6-fc9e-4460-9e10-276a8a6d9599",
   "metadata": {},
   "outputs": [],
   "source": [
    "d = dict([*zip('abcd', [1, 2, 3, 4])])"
   ]
  },
  {
   "cell_type": "code",
   "execution_count": null,
   "id": "80a45565-fefd-44b0-83b4-07928d0cd914",
   "metadata": {},
   "outputs": [],
   "source": [
    "list(d)"
   ]
  },
  {
   "cell_type": "code",
   "execution_count": null,
   "id": "b2194e89-a913-4264-8e3b-894c95d500a7",
   "metadata": {},
   "outputs": [],
   "source": [
    "sorted(d)"
   ]
  },
  {
   "cell_type": "code",
   "execution_count": null,
   "id": "863fc695-089e-46f6-8286-e2ac1235bcf0",
   "metadata": {},
   "outputs": [],
   "source": [
    "tuple(d)"
   ]
  },
  {
   "cell_type": "code",
   "execution_count": null,
   "id": "0650cafa-cc59-41e7-a6c7-2e28d21046d5",
   "metadata": {},
   "outputs": [],
   "source": [
    "[*filter(lambda s: not s.startswith('_'),  dir(dict))]"
   ]
  },
  {
   "cell_type": "code",
   "execution_count": null,
   "id": "eba7634d-516e-4d51-9073-8f847c53df10",
   "metadata": {},
   "outputs": [],
   "source": [
    "?dict.clear"
   ]
  },
  {
   "cell_type": "code",
   "execution_count": null,
   "id": "46f1cdc3-560d-4d9d-9917-0844929edb66",
   "metadata": {},
   "outputs": [],
   "source": [
    "d = dict([*zip('abcd', [1, 2, 3, 4])])\n",
    "d.clear()\n",
    "d"
   ]
  },
  {
   "cell_type": "code",
   "execution_count": null,
   "id": "2440cebf-cde8-479d-9806-37c384f23493",
   "metadata": {},
   "outputs": [],
   "source": [
    "?dict.copy"
   ]
  },
  {
   "cell_type": "code",
   "execution_count": null,
   "id": "c8fd3461-c200-4b3d-b06a-12b35b9bae73",
   "metadata": {},
   "outputs": [],
   "source": [
    "da = dict([*zip('abcd', [1, 2, 3, 4])])\n",
    "db = da.copy()\n",
    "db['a'] = 0\n",
    "da"
   ]
  },
  {
   "cell_type": "code",
   "execution_count": null,
   "id": "4f28c39a-b58f-4d33-bceb-d0fd2b1c25af",
   "metadata": {},
   "outputs": [],
   "source": [
    "l = [1, 2, 3, 4]\n",
    "da = dict([*zip('abcd', [l, 2, 3, 4])])\n",
    "db = da.copy()"
   ]
  },
  {
   "cell_type": "code",
   "execution_count": null,
   "id": "f9e90e00-3d24-44b6-abc9-86e8e0538581",
   "metadata": {},
   "outputs": [],
   "source": [
    "db['a'] = 1\n",
    "da"
   ]
  },
  {
   "cell_type": "code",
   "execution_count": null,
   "id": "90265d60-3dba-4319-a266-ebfaeee32d23",
   "metadata": {},
   "outputs": [],
   "source": [
    "l = 1\n",
    "da"
   ]
  },
  {
   "cell_type": "code",
   "execution_count": null,
   "id": "174564cc-7e07-4993-94aa-1d05c3e4b99c",
   "metadata": {},
   "outputs": [],
   "source": [
    "l.clear()\n",
    "da"
   ]
  },
  {
   "cell_type": "code",
   "execution_count": null,
   "id": "946c5b15-5d67-45cc-98c1-0bcaaa53c121",
   "metadata": {},
   "outputs": [],
   "source": [
    "l = [1, 2, 3, 4]\n",
    "da = dict([*zip('abcd', [l, 2, 3, 4])])\n",
    "l.clear()\n",
    "da"
   ]
  },
  {
   "cell_type": "code",
   "execution_count": null,
   "id": "a0622e7d-0290-4dbd-b0f0-4c6514306429",
   "metadata": {},
   "outputs": [],
   "source": [
    "?dict.get"
   ]
  },
  {
   "cell_type": "code",
   "execution_count": null,
   "id": "45729811-dd01-40b9-8aff-c3e4d5b72cb7",
   "metadata": {},
   "outputs": [],
   "source": [
    "d = dict([*zip('abcd', [1, 2, 3, 4])])"
   ]
  },
  {
   "cell_type": "code",
   "execution_count": null,
   "id": "c6ed7581-8c96-4afb-8443-be7a4d9cf23a",
   "metadata": {},
   "outputs": [],
   "source": [
    "d['a']"
   ]
  },
  {
   "cell_type": "code",
   "execution_count": null,
   "id": "97324d68-1c95-42e1-b40d-212c4b7103ae",
   "metadata": {},
   "outputs": [],
   "source": [
    "d.get('a')"
   ]
  },
  {
   "cell_type": "code",
   "execution_count": null,
   "id": "4038684d-5417-4a13-93e6-22138ba16c8e",
   "metadata": {},
   "outputs": [],
   "source": [
    "d['e']"
   ]
  },
  {
   "cell_type": "code",
   "execution_count": null,
   "id": "8540770f-9dec-46dd-a538-eed9507bd1ec",
   "metadata": {},
   "outputs": [],
   "source": [
    "d.get('e')"
   ]
  },
  {
   "cell_type": "code",
   "execution_count": null,
   "id": "cad75e9d-2a90-4894-b218-a7d3ec87af98",
   "metadata": {},
   "outputs": [],
   "source": [
    "d.get('e', 0)"
   ]
  },
  {
   "cell_type": "code",
   "execution_count": null,
   "id": "42de60f1-c18c-4a15-aad4-ab859e4ad99e",
   "metadata": {},
   "outputs": [],
   "source": [
    "?dict.keys"
   ]
  },
  {
   "cell_type": "code",
   "execution_count": null,
   "id": "19f85aad-9a54-471a-806a-1b9a05049ab1",
   "metadata": {},
   "outputs": [],
   "source": [
    "dict([*zip('abcd', [1, 2, 3, 4])]).keys()"
   ]
  },
  {
   "cell_type": "code",
   "execution_count": null,
   "id": "91faf385-812a-418e-9b5f-99ec73b15aee",
   "metadata": {},
   "outputs": [],
   "source": [
    "list(dict([*zip('abcd', [1, 2, 3, 4])]).keys())"
   ]
  },
  {
   "cell_type": "code",
   "execution_count": null,
   "id": "32839e0b-8a40-4860-89d4-93a0d4ffb4b0",
   "metadata": {},
   "outputs": [],
   "source": [
    "?dict.values"
   ]
  },
  {
   "cell_type": "code",
   "execution_count": null,
   "id": "7d94cc98-eabf-4d7e-8c5b-a25caecec996",
   "metadata": {},
   "outputs": [],
   "source": [
    "dict([*zip('abcd', [1, 2, 3, 4])]).values()"
   ]
  },
  {
   "cell_type": "code",
   "execution_count": null,
   "id": "bade180e-497b-414b-9069-93f4b517c67c",
   "metadata": {},
   "outputs": [],
   "source": [
    "?dict.items"
   ]
  },
  {
   "cell_type": "code",
   "execution_count": null,
   "id": "7c4b7cc6-8c8f-4bb5-b686-dfc467ee1ab6",
   "metadata": {},
   "outputs": [],
   "source": [
    "dict([*zip('abcd', [1, 2, 3, 4])]).items()"
   ]
  },
  {
   "cell_type": "code",
   "execution_count": null,
   "id": "74355610-2bb2-4aa5-82e6-56217badcbf3",
   "metadata": {},
   "outputs": [],
   "source": [
    "?dict.pop"
   ]
  },
  {
   "cell_type": "code",
   "execution_count": null,
   "id": "672c293f-31a7-4f19-9929-8b0ce6a124e7",
   "metadata": {},
   "outputs": [],
   "source": [
    "dict([*zip('abcd', [1, 2, 3, 4])]).pop('a')"
   ]
  },
  {
   "cell_type": "code",
   "execution_count": null,
   "id": "db623afc-e571-4c33-b2ac-dff49c9e7956",
   "metadata": {},
   "outputs": [],
   "source": [
    "?dict.popitem"
   ]
  },
  {
   "cell_type": "code",
   "execution_count": null,
   "id": "c88da7fb-787c-47e2-99f8-2cba51efc917",
   "metadata": {},
   "outputs": [],
   "source": [
    "dict([*zip('abcd', [1, 2, 3, 4])]).popitem()"
   ]
  },
  {
   "cell_type": "code",
   "execution_count": null,
   "id": "7582fb28-beec-4182-a38b-1ac1c2767238",
   "metadata": {},
   "outputs": [],
   "source": [
    "?dict.setdefault"
   ]
  },
  {
   "cell_type": "code",
   "execution_count": null,
   "id": "11dd881f-bfea-4607-a892-a018a821b4e1",
   "metadata": {},
   "outputs": [],
   "source": [
    "d = dict([*zip('abcd', [1, 2, 3, 4])])"
   ]
  },
  {
   "cell_type": "code",
   "execution_count": null,
   "id": "f7d8944e-5210-4a27-852b-46c8aa8d30b5",
   "metadata": {},
   "outputs": [],
   "source": [
    "d.setdefault('e', 5)"
   ]
  },
  {
   "cell_type": "code",
   "execution_count": null,
   "id": "4918b0ed-3d05-41ac-bb7d-2d823a28457a",
   "metadata": {},
   "outputs": [],
   "source": [
    "d"
   ]
  },
  {
   "cell_type": "code",
   "execution_count": null,
   "id": "01574162-5780-4210-a065-f00d1fa80653",
   "metadata": {},
   "outputs": [],
   "source": [
    "d.setdefault('d', 1)"
   ]
  },
  {
   "cell_type": "code",
   "execution_count": null,
   "id": "fa9cec21-aca8-47c2-82aa-98df2c9f73f2",
   "metadata": {},
   "outputs": [],
   "source": [
    "d"
   ]
  },
  {
   "cell_type": "code",
   "execution_count": null,
   "id": "83b223b7-da81-4a5a-86fd-1562b58224a8",
   "metadata": {},
   "outputs": [],
   "source": [
    "?dict.update"
   ]
  },
  {
   "cell_type": "code",
   "execution_count": null,
   "id": "5f427f51-1bb2-4da7-88a1-5047b022f294",
   "metadata": {},
   "outputs": [],
   "source": [
    "d = dict([*zip('abcd', [1, 2, 3, 4])])\n",
    "d.update({'e': 5, 'f': 6})\n",
    "d"
   ]
  },
  {
   "cell_type": "code",
   "execution_count": null,
   "id": "d3f067eb-6679-4c6d-934b-81b4493cf259",
   "metadata": {},
   "outputs": [],
   "source": [
    "d = dict([*zip('abcd', [1, 2, 3, 4])])\n",
    "d.update(dict.fromkeys('abcd'))\n",
    "d"
   ]
  },
  {
   "cell_type": "code",
   "execution_count": null,
   "id": "6a0b823e-0a08-4a84-93ca-9e8f40adeb88",
   "metadata": {},
   "outputs": [],
   "source": [
    "d = dict([*zip('abcd', [1, 2, 3, 4])])\n",
    "d.update({'d': 0, 'e': 0})\n",
    "d"
   ]
  },
  {
   "cell_type": "code",
   "execution_count": null,
   "id": "201e3a1f-ba92-4474-80b1-0f4a0743cac4",
   "metadata": {},
   "outputs": [],
   "source": [
    "da = dict([*zip('abcd', [1, 2, 3, 4])])\n",
    "db = {'d': 0, 'e': 0}"
   ]
  },
  {
   "cell_type": "code",
   "execution_count": null,
   "id": "a6922337-3229-4d30-8126-236a9f2537e9",
   "metadata": {},
   "outputs": [],
   "source": [
    "{**da, **db}"
   ]
  },
  {
   "cell_type": "code",
   "execution_count": null,
   "id": "3f48ca92-3ce1-4a9f-80c3-d127ef40c2aa",
   "metadata": {},
   "outputs": [],
   "source": [
    "{**db, **da}"
   ]
  },
  {
   "cell_type": "markdown",
   "id": "1ca248c8-5f57-4862-8fe4-08e34de6af86",
   "metadata": {},
   "source": [
    "## Looping (for)"
   ]
  },
  {
   "cell_type": "code",
   "execution_count": null,
   "id": "ae966354-8ec5-4cbf-99dd-fc1314947b46",
   "metadata": {},
   "outputs": [],
   "source": [
    "d = dict([*zip('abcd', [1, 2, 3, 4])])"
   ]
  },
  {
   "cell_type": "code",
   "execution_count": null,
   "id": "a809bff8-742b-4c85-98a2-44bf49b18d42",
   "metadata": {},
   "outputs": [],
   "source": [
    "for k in d:\n",
    "    print(k)"
   ]
  },
  {
   "cell_type": "code",
   "execution_count": null,
   "id": "dddb629e-e7f1-4160-bb17-226740088440",
   "metadata": {},
   "outputs": [],
   "source": [
    "for k in d.keys():\n",
    "    print(k)"
   ]
  },
  {
   "cell_type": "code",
   "execution_count": null,
   "id": "99c6ac97-20af-4c99-bd11-b92891d1ee59",
   "metadata": {},
   "outputs": [],
   "source": [
    "for v in d.values():\n",
    "    print(v)"
   ]
  },
  {
   "cell_type": "code",
   "execution_count": null,
   "id": "621ae51c-5a10-48a2-9267-743e0ddf9183",
   "metadata": {},
   "outputs": [],
   "source": [
    "for k in d.keys():\n",
    "    print(k, d[k])"
   ]
  },
  {
   "cell_type": "code",
   "execution_count": null,
   "id": "57c5a463-b616-4021-a3bd-5b36fb6d417f",
   "metadata": {},
   "outputs": [],
   "source": [
    "for k, v in d.items():\n",
    "    print(k, v)"
   ]
  },
  {
   "cell_type": "code",
   "execution_count": null,
   "id": "80ee6fdb-5fcc-4467-8788-e5a3927ff706",
   "metadata": {},
   "outputs": [],
   "source": [
    "for i, (k, v) in enumerate(d.items()):\n",
    "    print(i, k, v)"
   ]
  },
  {
   "cell_type": "code",
   "execution_count": null,
   "id": "6332b097-9f34-4a89-928e-4faf32146cd6",
   "metadata": {},
   "outputs": [],
   "source": [
    "da = dict([*zip('abcd', [0, 0, 0, 0])])\n",
    "db = dict([*zip('ABCD', [1, 1, 1, 1])])\n",
    "for ((ka, va), (kb, vb)) in zip(da.items(), db.items()):\n",
    "    print(ka, va, kb, vb)"
   ]
  },
  {
   "cell_type": "code",
   "execution_count": null,
   "id": "c8f04178-d2b7-4ffa-a04a-a7911a8810c2",
   "metadata": {},
   "outputs": [],
   "source": [
    "for i in range(5):\n",
    "    print(i)"
   ]
  },
  {
   "cell_type": "code",
   "execution_count": null,
   "id": "8ade34e5-868f-4db1-b967-6cb526383928",
   "metadata": {},
   "outputs": [],
   "source": [
    "for i in reversed(range(5)):\n",
    "    print(i)"
   ]
  },
  {
   "cell_type": "code",
   "execution_count": null,
   "id": "8f628cf1-027d-48ec-a362-b5e9b53cd8ac",
   "metadata": {},
   "outputs": [],
   "source": [
    "for i in sorted(reversed(range(5))):\n",
    "    print(i)"
   ]
  },
  {
   "cell_type": "code",
   "execution_count": null,
   "id": "92ff062f-df99-4006-9330-6f1bfb59f8e5",
   "metadata": {},
   "outputs": [],
   "source": [
    "names = [\"Leonardo\", \"Michelangelo\", \"Raphael\", \"Donatello\", \"Michelangelo\"]\n",
    "for name in sorted(set(names)):\n",
    "    print(name)"
   ]
  },
  {
   "cell_type": "markdown",
   "id": "21bb8aa5-18e6-47e7-aeac-cd6c86db6b9f",
   "metadata": {},
   "source": [
    "## Conditions"
   ]
  },
  {
   "cell_type": "code",
   "execution_count": null,
   "id": "e42acde8-d275-4252-ae9a-20ec1b34071f",
   "metadata": {},
   "outputs": [],
   "source": [
    "a = 0 and 1\n",
    "a"
   ]
  },
  {
   "cell_type": "code",
   "execution_count": null,
   "id": "e92c7765-10f2-4284-8142-7f459a2d1310",
   "metadata": {},
   "outputs": [],
   "source": [
    "a = 0 or 1\n",
    "a"
   ]
  },
  {
   "cell_type": "code",
   "execution_count": null,
   "id": "4e39ba16-a785-4dbf-a614-efa8de96457f",
   "metadata": {},
   "outputs": [],
   "source": [
    "a = 1 and 0\n",
    "a"
   ]
  },
  {
   "cell_type": "code",
   "execution_count": null,
   "id": "d5842143-ac45-4af8-a1d4-284f4cdde101",
   "metadata": {},
   "outputs": [],
   "source": [
    "a = 1 or 0\n",
    "a"
   ]
  },
  {
   "cell_type": "code",
   "execution_count": null,
   "id": "7e45794e-bb35-43ca-8771-339c26bb0697",
   "metadata": {},
   "outputs": [],
   "source": [
    "not True"
   ]
  },
  {
   "cell_type": "markdown",
   "id": "595fa48d-a6bf-46e7-af13-dc21067101f9",
   "metadata": {},
   "source": [
    "# Modules"
   ]
  },
  {
   "cell_type": "markdown",
   "id": "bd4cc57c-2b9c-4c5b-ba66-c967250b84f7",
   "metadata": {},
   "source": [
    "- interpreter as a calculator\n",
    "- automatization of repeated tasks (scripts) = module\n",
    "- can execute a module or import definitions from it"
   ]
  },
  {
   "cell_type": "code",
   "execution_count": null,
   "id": "a58b5894-fcae-4602-872c-9dbbed1d1922",
   "metadata": {},
   "outputs": [],
   "source": [
    "%%bash\n",
    "\n",
    "cat << EOF > factorial.py\n",
    "\n",
    "def factorial(n):\n",
    "    if n == 0: return 1\n",
    "    return n*factorial(n - 1)\n",
    "\n",
    "EOF"
   ]
  },
  {
   "cell_type": "code",
   "execution_count": null,
   "id": "b9bc271f-ca7c-4720-91fd-877e11790a67",
   "metadata": {},
   "outputs": [],
   "source": [
    "import factorial"
   ]
  },
  {
   "cell_type": "code",
   "execution_count": null,
   "id": "1f9be90a-8010-4678-ae9f-525497564785",
   "metadata": {},
   "outputs": [],
   "source": [
    "factorial.__name__"
   ]
  },
  {
   "cell_type": "code",
   "execution_count": null,
   "id": "873e66f8-a12d-4c51-9fec-d41b15d0d090",
   "metadata": {},
   "outputs": [],
   "source": [
    "factorial.factorial(5)"
   ]
  },
  {
   "cell_type": "code",
   "execution_count": null,
   "id": "d081db51-f0c5-4cf5-84ba-3cd4811ffcc4",
   "metadata": {},
   "outputs": [],
   "source": [
    "%%bash\n",
    "\n",
    "cat << EOF > factorial.py\n",
    "\n",
    "__version__ = '0.1.0'\n",
    "\n",
    "def factorial(n):\n",
    "    if n == 0: return 1\n",
    "    return n*factorial(n - 1)\n",
    "\n",
    "def main():\n",
    "    print(__name__)\n",
    "    print(factorial(5))\n",
    "\n",
    "if __name__ == '__main__':\n",
    "    main()\n",
    "\n",
    "EOF"
   ]
  },
  {
   "cell_type": "code",
   "execution_count": null,
   "id": "884fae88-7797-4f8b-a1a2-28d547233f28",
   "metadata": {},
   "outputs": [],
   "source": [
    "import factorial"
   ]
  },
  {
   "cell_type": "code",
   "execution_count": null,
   "id": "64caac7a-d9f8-4470-9d2e-29a4cd0ef7eb",
   "metadata": {},
   "outputs": [],
   "source": [
    "factorial.__version__"
   ]
  },
  {
   "cell_type": "code",
   "execution_count": null,
   "id": "f2675e27-882f-4851-8921-6302b676c512",
   "metadata": {},
   "outputs": [],
   "source": [
    "!python factorial.py"
   ]
  },
  {
   "cell_type": "code",
   "execution_count": null,
   "id": "4c087230-5fef-4910-a532-f673288b8dac",
   "metadata": {},
   "outputs": [],
   "source": [
    "from factorial import factorial as F\n",
    "\n",
    "F(5)"
   ]
  },
  {
   "cell_type": "code",
   "execution_count": null,
   "id": "80f66fec-d21f-49c3-812b-a60f87a76ac9",
   "metadata": {},
   "outputs": [],
   "source": [
    "%%bash\n",
    "\n",
    "cat << EOF > factorial.py\n",
    "\n",
    "def factorial(n):\n",
    "    if n == 0: return _local()\n",
    "    return n*factorial(n - 1)\n",
    "\n",
    "def _local():\n",
    "    return 1\n",
    "\n",
    "EOF"
   ]
  },
  {
   "cell_type": "code",
   "execution_count": null,
   "id": "b0b1a33c-2fa9-4dd2-9914-e078f45b3387",
   "metadata": {},
   "outputs": [],
   "source": [
    "from factorial import *"
   ]
  },
  {
   "cell_type": "code",
   "execution_count": null,
   "id": "f4f3ffec-e26a-4fc0-b368-11af1cd3c2cb",
   "metadata": {},
   "outputs": [],
   "source": [
    "factorial(5)"
   ]
  },
  {
   "cell_type": "code",
   "execution_count": null,
   "id": "d46de9b0-8f53-4364-8949-837bc87ef02b",
   "metadata": {},
   "outputs": [],
   "source": [
    "_local()"
   ]
  },
  {
   "cell_type": "code",
   "execution_count": null,
   "id": "8359e432-5831-4291-b213-1b4b9ef9a428",
   "metadata": {},
   "outputs": [],
   "source": [
    "%%bash\n",
    "\n",
    "cat << EOF > factorial.py\n",
    "\n",
    "__all__ = ['factorial', '_local']\n",
    "\n",
    "\n",
    "def factorial(n):\n",
    "    if n == 0: return _local()\n",
    "    return n*factorial(n - 1)\n",
    "\n",
    "def _local():\n",
    "    return 1\n",
    "\n",
    "def foo():\n",
    "    pass\n",
    "\n",
    "def bar():\n",
    "    pass\n",
    "\n",
    "EOF"
   ]
  },
  {
   "cell_type": "code",
   "execution_count": null,
   "id": "59a2996d-5718-4bee-914e-ca01a5bb528c",
   "metadata": {},
   "outputs": [],
   "source": [
    "from factorial import *"
   ]
  },
  {
   "cell_type": "code",
   "execution_count": null,
   "id": "dcd54804-1ea8-474d-9a54-e5ca7d2c5069",
   "metadata": {},
   "outputs": [],
   "source": [
    "factorial(5)"
   ]
  },
  {
   "cell_type": "code",
   "execution_count": null,
   "id": "c8a6a14b-8882-4ebb-891b-d1e0e3b5f2ab",
   "metadata": {},
   "outputs": [],
   "source": [
    "_local()"
   ]
  },
  {
   "cell_type": "code",
   "execution_count": null,
   "id": "b18d7b94-dc0f-4854-8365-6c42aaab6531",
   "metadata": {},
   "outputs": [],
   "source": [
    "foo()"
   ]
  },
  {
   "cell_type": "code",
   "execution_count": null,
   "id": "6bee0f80-60ac-4fee-b9b2-ff5cc91cf7f7",
   "metadata": {},
   "outputs": [],
   "source": [
    "%%bash\n",
    "\n",
    "cat << EOF > constant.py\n",
    "\n",
    "constant = 0\n",
    "\n",
    "EOF"
   ]
  },
  {
   "cell_type": "code",
   "execution_count": null,
   "id": "828f8ee7-f281-46e2-b7a4-9b57e3db9c9d",
   "metadata": {},
   "outputs": [],
   "source": [
    "import constant\n",
    "constant.constant"
   ]
  },
  {
   "cell_type": "code",
   "execution_count": null,
   "id": "49dac20e-5ba8-4445-a190-3203a8bf9641",
   "metadata": {},
   "outputs": [],
   "source": [
    "%%bash\n",
    "\n",
    "cat << EOF > constant.py\n",
    "\n",
    "constant = 1\n",
    "\n",
    "EOF"
   ]
  },
  {
   "cell_type": "code",
   "execution_count": null,
   "id": "0a1103eb-81f8-4698-9248-367ef7603b0e",
   "metadata": {},
   "outputs": [],
   "source": [
    "import constant\n",
    "constant.constant"
   ]
  },
  {
   "cell_type": "code",
   "execution_count": null,
   "id": "0a493190-e88b-45a1-ba3e-0bb9e2d726a7",
   "metadata": {},
   "outputs": [],
   "source": [
    "import importlib\n",
    "importlib.reload(constant)\n",
    "constant.constant"
   ]
  },
  {
   "cell_type": "markdown",
   "id": "70e6c22c-193f-4051-b980-4550ef175da5",
   "metadata": {},
   "source": [
    "**Search path**\n",
    "\n",
    "- script directory\n",
    "- PYTHONPATH\n",
    "- default"
   ]
  },
  {
   "cell_type": "markdown",
   "id": "3053a5e4-6999-4050-9572-54373372d0fb",
   "metadata": {},
   "source": [
    "**Cache**\n",
    "\n",
    "`__pycache__`"
   ]
  },
  {
   "cell_type": "code",
   "execution_count": null,
   "id": "93c613f5-de1c-4c9b-91bf-df7ebed8aed4",
   "metadata": {},
   "outputs": [],
   "source": [
    "!ls __pycache__/*"
   ]
  },
  {
   "cell_type": "code",
   "execution_count": null,
   "id": "7a76a2a8-7056-4e3c-b021-2e370c6256de",
   "metadata": {},
   "outputs": [],
   "source": [
    "!less __pycache__/factorial.cpython-312.pyc"
   ]
  },
  {
   "cell_type": "markdown",
   "id": "f43d709c-fe06-4f89-9a2c-a3560bbc09c1",
   "metadata": {},
   "source": [
    "## Standard modules"
   ]
  },
  {
   "cell_type": "code",
   "execution_count": null,
   "id": "745dad0f-6218-452f-a065-eee77e9eb7fe",
   "metadata": {},
   "outputs": [],
   "source": [
    "import sys\n",
    "sys.stdlib_module_names"
   ]
  },
  {
   "cell_type": "markdown",
   "id": "5065e223-118f-4b38-86af-cbc5eef41e75",
   "metadata": {},
   "source": [
    "## Dir"
   ]
  },
  {
   "cell_type": "code",
   "execution_count": null,
   "id": "a503ddcd-7409-40ae-821f-081ad8a3ee96",
   "metadata": {},
   "outputs": [],
   "source": [
    "import factorial\n",
    "dir(factorial)"
   ]
  },
  {
   "cell_type": "code",
   "execution_count": null,
   "id": "af367e4f-ff6f-4eca-9b77-87239c4e5ff2",
   "metadata": {},
   "outputs": [],
   "source": [
    "?dir"
   ]
  },
  {
   "cell_type": "code",
   "execution_count": null,
   "id": "e9f0191e-5a7f-42c2-b052-beb2085908ef",
   "metadata": {},
   "outputs": [],
   "source": [
    "import builtins\n",
    "dir(builtins) "
   ]
  },
  {
   "cell_type": "markdown",
   "id": "0d245dc3-c2de-469f-bda7-7cc536d34d6d",
   "metadata": {},
   "source": [
    "## Packages"
   ]
  },
  {
   "cell_type": "markdown",
   "id": "a341e73c-9de3-4cb6-85e3-75668405377e",
   "metadata": {},
   "source": [
    "Directory and `__init__.py`"
   ]
  },
  {
   "cell_type": "code",
   "execution_count": null,
   "id": "21e79d39-39d0-4e49-b7fa-9e404bca3fee",
   "metadata": {},
   "outputs": [],
   "source": [
    "%%bash\n",
    "\n",
    "mkdir -p package\n",
    "touch package/__init__.py\n",
    "tree package"
   ]
  },
  {
   "cell_type": "code",
   "execution_count": null,
   "id": "b2641766-667c-4da5-930b-365bde8f5349",
   "metadata": {},
   "outputs": [],
   "source": [
    "import package\n",
    "dir(package)"
   ]
  },
  {
   "cell_type": "code",
   "execution_count": null,
   "id": "1cb43182-421f-4239-9666-7bcdadbc5fd3",
   "metadata": {},
   "outputs": [],
   "source": [
    "%%bash\n",
    "\n",
    "rm -rf package\n",
    "mkdir -p package/{encoder,decoder}\n",
    "touch package/__init__.py\n",
    "touch package/{encoder,decoder}/__init__.py\n",
    "tree package"
   ]
  },
  {
   "cell_type": "code",
   "execution_count": null,
   "id": "3b79c86b-deb4-4421-beda-b855e85cf8cc",
   "metadata": {},
   "outputs": [],
   "source": [
    "%%bash\n",
    "\n",
    "cat << EOF > package/encoder/encoder.py\n",
    "\n",
    "def _private_encoder():\n",
    "    pass\n",
    "\n",
    "def public_encoder():\n",
    "    pass\n",
    "\n",
    "EOF\n",
    "\n",
    "cat << EOF > package/decoder/decoder.py\n",
    "\n",
    "def _private_decoder():\n",
    "    pass\n",
    "\n",
    "def public_decoder():\n",
    "    pass\n",
    "\n",
    "EOF\n",
    "\n",
    "tree package"
   ]
  },
  {
   "cell_type": "code",
   "execution_count": null,
   "id": "9e59c439-b53f-4020-953f-e0d58091b037",
   "metadata": {},
   "outputs": [],
   "source": [
    "import package.encoder.encoder\n",
    "dir(package.encoder.encoder)"
   ]
  },
  {
   "cell_type": "code",
   "execution_count": null,
   "id": "c0aa41c4-d5f6-4b28-a4d8-bf0d06e4eb7b",
   "metadata": {},
   "outputs": [],
   "source": [
    "package.encoder.encoder.public_encoder()"
   ]
  },
  {
   "cell_type": "code",
   "execution_count": null,
   "id": "cb0dad2a-509e-4cbe-ae67-f5f3eb0c8d93",
   "metadata": {},
   "outputs": [],
   "source": [
    "from package.encoder.encoder import public_encoder\n",
    "public_encoder()"
   ]
  },
  {
   "cell_type": "code",
   "execution_count": null,
   "id": "9a48c368-97b8-415d-881a-753fe29a94f8",
   "metadata": {},
   "outputs": [],
   "source": [
    "from package.decoder.decoder import *\n",
    "public_decoder()"
   ]
  },
  {
   "cell_type": "code",
   "execution_count": null,
   "id": "bbe609d2-2c18-4a26-a311-0fe85ab693e7",
   "metadata": {},
   "outputs": [],
   "source": [
    "%%bash\n",
    "\n",
    "cat << EOF > package/__init__.py\n",
    "\n",
    "# __version__='0.1.0'\n",
    "# __author__\n",
    "# __email___\n",
    "\n",
    "from .encoder.encoder import public_encoder\n",
    "from .decoder.decoder import public_decoder\n",
    "\n",
    "EOF"
   ]
  },
  {
   "cell_type": "code",
   "execution_count": null,
   "id": "88a4792d-d6f7-4a10-b1db-5799d797d439",
   "metadata": {},
   "outputs": [],
   "source": [
    "import importlib\n",
    "importlib.reload(package)\n",
    "package.public_encoder()\n",
    "package.public_decoder()"
   ]
  },
  {
   "cell_type": "code",
   "execution_count": null,
   "id": "d300d377-b903-4965-baa8-221bfe1c2da8",
   "metadata": {},
   "outputs": [],
   "source": [
    "package.encoder.encoder.public_encoder()"
   ]
  },
  {
   "cell_type": "code",
   "execution_count": null,
   "id": "89da489b-b00a-4279-bb0e-2943b70696ec",
   "metadata": {},
   "outputs": [],
   "source": [
    "from package import public_encoder\n",
    "public_encoder()"
   ]
  },
  {
   "cell_type": "code",
   "execution_count": null,
   "id": "393ca1c8-cea0-4840-bfaa-47f7b577b4da",
   "metadata": {},
   "outputs": [],
   "source": [
    "from package import public_encoder as encoder, public_decoder as decoder\n",
    "encoder()\n",
    "decoder()"
   ]
  },
  {
   "cell_type": "code",
   "execution_count": null,
   "id": "06c7a93c-1d95-4134-8239-ef82bebf332f",
   "metadata": {},
   "outputs": [],
   "source": [
    "%%bash\n",
    "\n",
    "cat << EOF > package/__init__.py\n",
    "\n",
    "__all__ = ['public_encoder', 'public_decoder']\n",
    "\n",
    "from .encoder.encoder import public_encoder\n",
    "from .decoder.decoder import public_decoder\n",
    "\n",
    "def private():\n",
    "    pass\n",
    "\n",
    "EOF"
   ]
  },
  {
   "cell_type": "code",
   "execution_count": null,
   "id": "fcf9b6c1-b5b4-4ad5-88a1-053e09982bd1",
   "metadata": {},
   "outputs": [],
   "source": [
    "from package import *\n",
    "public_encoder()\n",
    "public_decoder()\n",
    "private()"
   ]
  },
  {
   "cell_type": "code",
   "execution_count": null,
   "id": "6fdba7c6-0990-4590-953a-204720d43340",
   "metadata": {},
   "outputs": [],
   "source": [
    "%%bash\n",
    "\n",
    "mkdir -p package/task\n",
    "touch package/task/__init__.py\n",
    "touch package/task/task.py"
   ]
  },
  {
   "cell_type": "code",
   "execution_count": null,
   "id": "aeda2b05-a28a-4a05-99dd-fa7c824478f0",
   "metadata": {},
   "outputs": [],
   "source": [
    "!tree package"
   ]
  },
  {
   "cell_type": "code",
   "execution_count": null,
   "id": "7aca79ef-d28c-4e06-88d2-7607360bde0f",
   "metadata": {},
   "outputs": [],
   "source": [
    "%%bash\n",
    "\n",
    "cat << EOF > package/task/task.py\n",
    "\n",
    "from ..encoder.encoder import public_encoder\n",
    "from ..decoder.decoder import public_decoder\n",
    "\n",
    "def do():\n",
    "    public_encoder()\n",
    "    public_decoder()\n",
    "    \n",
    "EOF"
   ]
  },
  {
   "cell_type": "code",
   "execution_count": null,
   "id": "4f429f91-5fb7-4202-b686-2d547edf0e64",
   "metadata": {},
   "outputs": [],
   "source": [
    "from package.task.task import do\n",
    "do()"
   ]
  },
  {
   "cell_type": "markdown",
   "id": "06731cfd-b8ca-41a7-acd5-2c8c92007aef",
   "metadata": {},
   "source": [
    "# I/O"
   ]
  },
  {
   "cell_type": "code",
   "execution_count": null,
   "id": "67e01d9f-8c3e-4b3a-88d2-f3fb828c952d",
   "metadata": {},
   "outputs": [],
   "source": [
    "input()"
   ]
  },
  {
   "cell_type": "markdown",
   "id": "ab4966a4-68ac-4efa-8640-0a3862ceebf0",
   "metadata": {},
   "source": [
    "## Print"
   ]
  },
  {
   "cell_type": "code",
   "execution_count": null,
   "id": "92314185-e1ed-422d-ae42-63a0cb587603",
   "metadata": {},
   "outputs": [],
   "source": [
    "'Hey!'"
   ]
  },
  {
   "cell_type": "code",
   "execution_count": null,
   "id": "2162c170-ee8d-4aa1-bf19-65512474b777",
   "metadata": {},
   "outputs": [],
   "source": [
    "'Hey!'\n",
    "None"
   ]
  },
  {
   "cell_type": "code",
   "execution_count": null,
   "id": "1bda4c87-d28e-4013-9e57-d755ffdf6daf",
   "metadata": {},
   "outputs": [],
   "source": [
    "1\n",
    "print(2)\n",
    "3"
   ]
  },
  {
   "cell_type": "code",
   "execution_count": null,
   "id": "d23eb554-1c91-4898-b470-ae456eeb4462",
   "metadata": {},
   "outputs": [],
   "source": [
    "print('Hey!', 1, 2 ,4)"
   ]
  },
  {
   "cell_type": "code",
   "execution_count": null,
   "id": "1f7527b4-a138-46d9-8f56-f151b39a0ad8",
   "metadata": {},
   "outputs": [],
   "source": [
    "?print"
   ]
  },
  {
   "cell_type": "code",
   "execution_count": null,
   "id": "3a92e96d-0d2b-4709-86dc-45a2739d55ad",
   "metadata": {},
   "outputs": [],
   "source": [
    "import sys\n",
    "?sys.std*"
   ]
  },
  {
   "cell_type": "code",
   "execution_count": null,
   "id": "d50d2c92-9201-43e8-ac50-a378839f9380",
   "metadata": {},
   "outputs": [],
   "source": [
    "type(sys.stdout)"
   ]
  },
  {
   "cell_type": "code",
   "execution_count": null,
   "id": "7e612026-70ac-4bf0-9124-55c2f2e63428",
   "metadata": {},
   "outputs": [],
   "source": [
    "%%python\n",
    "\n",
    "import sys\n",
    "\n",
    "print(type(sys.stdout))"
   ]
  },
  {
   "cell_type": "markdown",
   "id": "f62ed4f5-b934-4995-a996-825aa0fc01b7",
   "metadata": {},
   "source": [
    "## f-strings"
   ]
  },
  {
   "cell_type": "code",
   "execution_count": null,
   "id": "9cf48287-1028-477b-9d45-65c652441b21",
   "metadata": {},
   "outputs": [],
   "source": [
    "name = 'Donald'\n",
    "f'Hey {name}!'"
   ]
  },
  {
   "cell_type": "code",
   "execution_count": null,
   "id": "57973470-dbc0-4a9a-b647-280f07e19a06",
   "metadata": {},
   "outputs": [],
   "source": [
    "f'Hey {name=}!'"
   ]
  },
  {
   "cell_type": "code",
   "execution_count": null,
   "id": "2bb71467-a10e-4126-861f-6b67ffeb3695",
   "metadata": {},
   "outputs": [],
   "source": [
    "f'Hey {name:16}!'"
   ]
  },
  {
   "cell_type": "code",
   "execution_count": null,
   "id": "9b79bf8e-9314-4646-a94d-d7eb91ccf2e5",
   "metadata": {},
   "outputs": [],
   "source": [
    "f'Hey {name:<16}!'"
   ]
  },
  {
   "cell_type": "code",
   "execution_count": null,
   "id": "70e6ec6f-b753-46d1-a434-a97469b6fea6",
   "metadata": {},
   "outputs": [],
   "source": [
    "f'Hey {name:>16}!'"
   ]
  },
  {
   "cell_type": "code",
   "execution_count": null,
   "id": "e5bcf9ff-e5d8-4605-a820-f6ee8a089715",
   "metadata": {},
   "outputs": [],
   "source": [
    "x = 1\n",
    "f'{x=:09}'"
   ]
  },
  {
   "cell_type": "code",
   "execution_count": null,
   "id": "d9939a6b-86e5-4b5b-acce-13ef5f0b5137",
   "metadata": {},
   "outputs": [],
   "source": [
    "x = 10000000.123456\n",
    "f'{x:9.3f}'"
   ]
  },
  {
   "cell_type": "code",
   "execution_count": null,
   "id": "99501611-c674-4b9e-8df7-97865d67a957",
   "metadata": {},
   "outputs": [],
   "source": [
    "x = 1.0\n",
    "f'{x:9.3f}'"
   ]
  },
  {
   "cell_type": "code",
   "execution_count": null,
   "id": "48e1d53d-71cd-4f4f-93e3-3673b4ccc33b",
   "metadata": {},
   "outputs": [],
   "source": [
    "len(f'{x:<9.3f}')"
   ]
  },
  {
   "cell_type": "code",
   "execution_count": null,
   "id": "5b3f9008-4def-4699-8d45-900d3f53f963",
   "metadata": {},
   "outputs": [],
   "source": [
    "f'{x:>9.3F}'"
   ]
  },
  {
   "cell_type": "code",
   "execution_count": null,
   "id": "5ec4c08b-2cbe-43fd-84a1-9c757069ad8c",
   "metadata": {},
   "outputs": [],
   "source": [
    "x = 1_0_0_0_000.000_001"
   ]
  },
  {
   "cell_type": "code",
   "execution_count": null,
   "id": "c6a5bc36-4356-4e2b-93ab-2664cff03caf",
   "metadata": {},
   "outputs": [],
   "source": [
    "f'{x:9.1f}'"
   ]
  },
  {
   "cell_type": "code",
   "execution_count": null,
   "id": "b73ac193-e715-4b23-a7a4-0aadf2f7ae44",
   "metadata": {},
   "outputs": [],
   "source": [
    "len(f'{x:9.6f}')"
   ]
  },
  {
   "cell_type": "code",
   "execution_count": null,
   "id": "12d167db-f966-469d-bf6f-6bb7951308ca",
   "metadata": {},
   "outputs": [],
   "source": [
    "x = 10.10\n",
    "f'{x:.6e}'"
   ]
  },
  {
   "cell_type": "markdown",
   "id": "d0b5f84b-e3fc-447c-b77b-bc2b49068729",
   "metadata": {},
   "source": [
    "## repr & str"
   ]
  },
  {
   "cell_type": "code",
   "execution_count": null,
   "id": "9e3c0347-1ddb-4eb4-a811-7bb2cf983842",
   "metadata": {},
   "outputs": [],
   "source": [
    "x = 1"
   ]
  },
  {
   "cell_type": "code",
   "execution_count": null,
   "id": "28a34c15-3d5a-4db4-9029-4bedb1196948",
   "metadata": {},
   "outputs": [],
   "source": [
    "repr(x)"
   ]
  },
  {
   "cell_type": "code",
   "execution_count": null,
   "id": "dee6f191-f9e7-4111-91cb-c5969d077e59",
   "metadata": {},
   "outputs": [],
   "source": [
    "str(x)"
   ]
  },
  {
   "cell_type": "markdown",
   "id": "879cdcc6-af35-4c5f-9066-bbc2fa87bbf6",
   "metadata": {},
   "source": [
    "## format"
   ]
  },
  {
   "cell_type": "code",
   "execution_count": null,
   "id": "62a73bdd-fc66-4b1b-853b-67ba9405c703",
   "metadata": {},
   "outputs": [],
   "source": [
    "x = 1\n",
    "y = 0"
   ]
  },
  {
   "cell_type": "code",
   "execution_count": null,
   "id": "820cf195-383f-48e4-9c06-d52863a41c7b",
   "metadata": {},
   "outputs": [],
   "source": [
    "'x={0} and y={1}'.format(x, y)"
   ]
  },
  {
   "cell_type": "code",
   "execution_count": null,
   "id": "42676bac-5c55-4c12-a9ab-806d0568b9c1",
   "metadata": {},
   "outputs": [],
   "source": [
    "'{y} and {x}'.format(x=x, y=y)"
   ]
  },
  {
   "cell_type": "code",
   "execution_count": null,
   "id": "44e5edc4-7698-4c30-80e3-5003fea9d926",
   "metadata": {},
   "outputs": [],
   "source": [
    "'x={x} and y={y}'.format(**{'x': x, 'y': y})"
   ]
  },
  {
   "cell_type": "code",
   "execution_count": null,
   "id": "4cf1e26f-036e-4b3b-9e79-8648142327f9",
   "metadata": {},
   "outputs": [],
   "source": [
    "'x={x} and y={y}'.format(**vars())"
   ]
  },
  {
   "cell_type": "markdown",
   "id": "c4daa681-de7f-47cb-a584-26b43e55bbde",
   "metadata": {},
   "source": [
    "## str methods"
   ]
  },
  {
   "cell_type": "code",
   "execution_count": null,
   "id": "97fe876e-942e-4ecc-b6bd-460f367221c5",
   "metadata": {},
   "outputs": [],
   "source": [
    "[*filter(lambda s: not s.startswith('_'),  dir(str))]"
   ]
  },
  {
   "cell_type": "code",
   "execution_count": null,
   "id": "b2598cf7-faca-472e-a2dd-f677a376e1ce",
   "metadata": {},
   "outputs": [],
   "source": [
    "?str.rjust"
   ]
  },
  {
   "cell_type": "code",
   "execution_count": null,
   "id": "2ff4ec34-6e5c-4398-b758-69e6695c8876",
   "metadata": {},
   "outputs": [],
   "source": [
    "'1'.rjust(5)"
   ]
  },
  {
   "cell_type": "code",
   "execution_count": null,
   "id": "ca535c8d-49c2-4ea9-8577-0751859efc1b",
   "metadata": {},
   "outputs": [],
   "source": [
    "?str.ljust"
   ]
  },
  {
   "cell_type": "code",
   "execution_count": null,
   "id": "0ff50fa7-be3b-4a27-944e-f984fa39b2c3",
   "metadata": {},
   "outputs": [],
   "source": [
    "'1'.ljust(5)"
   ]
  },
  {
   "cell_type": "code",
   "execution_count": null,
   "id": "3773186e-be09-4d6c-8bfc-62b91d5c3e9f",
   "metadata": {},
   "outputs": [],
   "source": [
    "?str.center"
   ]
  },
  {
   "cell_type": "code",
   "execution_count": null,
   "id": "dd695d9b-ed29-4621-b3b4-efa32f4655ea",
   "metadata": {},
   "outputs": [],
   "source": [
    "'1'.center(5)"
   ]
  },
  {
   "cell_type": "code",
   "execution_count": null,
   "id": "34d7c3ac-0332-42e2-81f3-e527f05bf42c",
   "metadata": {},
   "outputs": [],
   "source": [
    "# f'{1:<>5}'"
   ]
  },
  {
   "cell_type": "code",
   "execution_count": null,
   "id": "de4f6fbd-d0f3-4ee1-849f-e71812153bff",
   "metadata": {},
   "outputs": [],
   "source": [
    "?str.zfill()"
   ]
  },
  {
   "cell_type": "code",
   "execution_count": null,
   "id": "b6d148f9-e6f3-4aff-b0d3-c84811ea7a86",
   "metadata": {},
   "outputs": [],
   "source": [
    "'1'.zfill(5)"
   ]
  },
  {
   "cell_type": "markdown",
   "id": "3878a642-c1eb-461e-80e3-fcb74a6f83e2",
   "metadata": {},
   "source": [
    "## Old style"
   ]
  },
  {
   "cell_type": "code",
   "execution_count": null,
   "id": "3f118687-8472-4a94-bece-a976d811284b",
   "metadata": {},
   "outputs": [],
   "source": [
    "x = 10.10\n",
    "'x = %9.6f' % x"
   ]
  },
  {
   "cell_type": "code",
   "execution_count": null,
   "id": "5b728830-116e-40f4-83ea-e32772f79ecd",
   "metadata": {},
   "outputs": [],
   "source": [
    "x = 10.10\n",
    "y = 99.99\n",
    "'x = %9.6f and y = %9.1f' % (x, y)"
   ]
  },
  {
   "cell_type": "markdown",
   "id": "82a7cee0-e262-4a86-8113-543cb060cc7b",
   "metadata": {},
   "source": [
    "## File I/O"
   ]
  },
  {
   "cell_type": "code",
   "execution_count": null,
   "id": "2d919a92-fbea-4c71-b330-72ae5bb18041",
   "metadata": {},
   "outputs": [],
   "source": [
    "write('Hey')"
   ]
  },
  {
   "cell_type": "code",
   "execution_count": null,
   "id": "72f2eadb-ad16-4e6a-a44a-424413041190",
   "metadata": {},
   "outputs": [],
   "source": [
    "from sys import stdout"
   ]
  },
  {
   "cell_type": "code",
   "execution_count": null,
   "id": "6afce7e0-c9bf-4aa0-ae3a-c90c085cb96d",
   "metadata": {},
   "outputs": [],
   "source": [
    "stdout.write('Hey') ;"
   ]
  },
  {
   "cell_type": "code",
   "execution_count": null,
   "id": "0befcf09-0900-4970-99a8-a4b4b1b0ed77",
   "metadata": {},
   "outputs": [],
   "source": [
    "stream = open('file.dat', mode='w', encoding='utf-8')\n",
    "stream.write('python')\n",
    "stream.close()"
   ]
  },
  {
   "cell_type": "code",
   "execution_count": null,
   "id": "12f3e200-eb98-4335-9b5b-8845ac7a98fd",
   "metadata": {},
   "outputs": [],
   "source": [
    "stream = open('file.dat', mode='r', encoding='utf-8')\n",
    "stream"
   ]
  },
  {
   "cell_type": "code",
   "execution_count": null,
   "id": "9ae6ccec-cf78-4fea-8c0a-2d81206d3955",
   "metadata": {},
   "outputs": [],
   "source": [
    "stream.readline()"
   ]
  },
  {
   "cell_type": "code",
   "execution_count": null,
   "id": "073c03b6-4bec-4be0-b85e-6daac1e2e136",
   "metadata": {},
   "outputs": [],
   "source": [
    "stream.readline()"
   ]
  },
  {
   "cell_type": "code",
   "execution_count": null,
   "id": "104d57ce-f6f9-4e53-bee8-dac2a1941cd6",
   "metadata": {},
   "outputs": [],
   "source": [
    "stream.close()"
   ]
  },
  {
   "cell_type": "code",
   "execution_count": null,
   "id": "7fb2341f-e13b-484c-983b-d08ead65ceed",
   "metadata": {},
   "outputs": [],
   "source": [
    "with open('file.dat', mode='r', encoding='utf-8') as file:\n",
    "    print(file.read())"
   ]
  },
  {
   "cell_type": "code",
   "execution_count": null,
   "id": "2a6f89a5-2a8b-4cea-9548-caf9c55cacce",
   "metadata": {},
   "outputs": [],
   "source": [
    "from pathlib import Path\n",
    "\n",
    "path = Path('file.dat')\n",
    "path"
   ]
  },
  {
   "cell_type": "code",
   "execution_count": null,
   "id": "b25cf95c-b82d-40d8-a65c-b7517a67753e",
   "metadata": {},
   "outputs": [],
   "source": [
    "with path.open() as stream:\n",
    "    print(stream.read())"
   ]
  },
  {
   "cell_type": "code",
   "execution_count": null,
   "id": "71061b36-5af0-4797-9b02-8ecc69eeadaf",
   "metadata": {},
   "outputs": [],
   "source": [
    "stream = open('file.dat', mode='bw')\n",
    "stream.write(b'python')\n",
    "stream.close()"
   ]
  },
  {
   "cell_type": "code",
   "execution_count": null,
   "id": "9e0e6e04-be52-4e28-bda9-a4d70cf9b775",
   "metadata": {},
   "outputs": [],
   "source": [
    "with path.open('rb') as stream:\n",
    "    print(stream.read())"
   ]
  },
  {
   "cell_type": "code",
   "execution_count": null,
   "id": "f8c83efd-095b-4f11-9155-67e7e09c605a",
   "metadata": {},
   "outputs": [],
   "source": [
    "with path.open('rb') as stream:\n",
    "    print(stream.read().decode(\"utf-8\"))"
   ]
  },
  {
   "cell_type": "code",
   "execution_count": null,
   "id": "ecaf189d-7edd-4e81-afab-1ac27663dbfe",
   "metadata": {},
   "outputs": [],
   "source": [
    "with path.open() as stream:\n",
    "    print(stream.read())"
   ]
  },
  {
   "cell_type": "markdown",
   "id": "c2c09984-254a-4cd0-a7d9-3cfa2a3d167b",
   "metadata": {},
   "source": [
    "`read`"
   ]
  },
  {
   "cell_type": "code",
   "execution_count": null,
   "id": "0a3b5db6-4fff-4fe8-a05d-3a03113d98ec",
   "metadata": {},
   "outputs": [],
   "source": [
    "stream = open('file.dat', mode='w', encoding='utf-8')\n",
    "stream.write('line 1\\n')\n",
    "stream.write('line 2\\n')\n",
    "stream.write('line 3\\n')\n",
    "stream.write('line 4\\n')\n",
    "stream.close()"
   ]
  },
  {
   "cell_type": "code",
   "execution_count": null,
   "id": "92934b22-79b2-47fb-a53e-15c9787c07cc",
   "metadata": {},
   "outputs": [],
   "source": [
    "with path.open() as stream:\n",
    "    print(stream.read())"
   ]
  },
  {
   "cell_type": "code",
   "execution_count": null,
   "id": "6aada0b4-3e43-4ccb-babe-06c344fceedc",
   "metadata": {},
   "outputs": [],
   "source": [
    "with path.open() as stream:\n",
    "    print(stream.read(10))"
   ]
  },
  {
   "cell_type": "markdown",
   "id": "8a1230ca-9ee8-4826-88f0-0b494614d760",
   "metadata": {},
   "source": [
    "`readline(s)`"
   ]
  },
  {
   "cell_type": "code",
   "execution_count": null,
   "id": "bdefdb36-010d-4daf-8fbc-3aaf734a05fb",
   "metadata": {},
   "outputs": [],
   "source": [
    "with path.open() as stream:\n",
    "    print(stream.readline())\n",
    "    print(stream.readline())"
   ]
  },
  {
   "cell_type": "code",
   "execution_count": null,
   "id": "b71c959a-e6a3-4aaa-ab59-0aa0125bb9b6",
   "metadata": {},
   "outputs": [],
   "source": [
    "with path.open() as stream:\n",
    "    print(stream.readline())\n",
    "    print(stream.readline(1))"
   ]
  },
  {
   "cell_type": "code",
   "execution_count": null,
   "id": "52eb775f-c20e-46f0-936d-b16527a685a8",
   "metadata": {},
   "outputs": [],
   "source": [
    "lines = []\n",
    "with path.open() as stream:\n",
    "    for line in stream:\n",
    "        lines.append(line)\n",
    "lines"
   ]
  },
  {
   "cell_type": "code",
   "execution_count": null,
   "id": "5194cf14-b8f3-4c97-98dd-cf4bccec693d",
   "metadata": {},
   "outputs": [],
   "source": [
    "with path.open() as stream:\n",
    "    lines = stream.readlines()\n",
    "lines"
   ]
  },
  {
   "cell_type": "code",
   "execution_count": null,
   "id": "dbef56e3-cb37-480e-89d3-8dfbdd8aca6b",
   "metadata": {},
   "outputs": [],
   "source": [
    "with path.open() as stream:\n",
    "    lines = [*stream]\n",
    "lines"
   ]
  },
  {
   "cell_type": "markdown",
   "id": "a5d7b1dd-317d-4079-a930-ef42e5105016",
   "metadata": {},
   "source": [
    "`tell` & `seek`"
   ]
  },
  {
   "cell_type": "code",
   "execution_count": null,
   "id": "32a29214-6aa9-4d22-8755-fba1ce1110f5",
   "metadata": {},
   "outputs": [],
   "source": [
    "with path.open('rb') as stream:\n",
    "    print(stream.tell())\n",
    "    print(stream.readline())\n",
    "    print(stream.tell())\n",
    "    print(stream.seek(7, 1))\n",
    "    print(stream.tell())\n",
    "    print(stream.readline())\n",
    "    print(stream.seek(-2*7, 1))\n",
    "    print(stream.readline())"
   ]
  },
  {
   "cell_type": "markdown",
   "id": "f888b8ed-8985-4b7f-a0c6-9d73c301a245",
   "metadata": {},
   "source": [
    "Other methods:"
   ]
  },
  {
   "cell_type": "code",
   "execution_count": null,
   "id": "a1a47afc-b109-4a6f-a113-3caf4e01a5bc",
   "metadata": {},
   "outputs": [],
   "source": [
    "[*filter(lambda s: not s.startswith('_'),  dir(stream))]"
   ]
  },
  {
   "cell_type": "markdown",
   "id": "e037e8f7-a041-4035-983b-8a0454591010",
   "metadata": {},
   "source": [
    "## Serialization"
   ]
  },
  {
   "cell_type": "markdown",
   "id": "a4307d17-6f14-4502-be0f-3f12e1ea81be",
   "metadata": {},
   "source": [
    "**JSON** (looks similar to python dict)"
   ]
  },
  {
   "cell_type": "code",
   "execution_count": null,
   "id": "ea7028e5-7e80-40fa-bada-936dc7f82a19",
   "metadata": {},
   "outputs": [],
   "source": [
    "import json"
   ]
  },
  {
   "cell_type": "code",
   "execution_count": null,
   "id": "966f6828-cbfd-4b69-a44a-ef1b1a47870c",
   "metadata": {},
   "outputs": [],
   "source": [
    "dir(json)"
   ]
  },
  {
   "cell_type": "code",
   "execution_count": null,
   "id": "05efd2f5-5bf7-4b9e-9f2e-dda91634bbff",
   "metadata": {},
   "outputs": [],
   "source": [
    "?json.dumps "
   ]
  },
  {
   "cell_type": "code",
   "execution_count": null,
   "id": "36976fd6-4d17-4375-aeaa-fb307fc3ffde",
   "metadata": {},
   "outputs": [],
   "source": [
    "x = [1, 2, 3, 4]\n",
    "json.dumps(x)"
   ]
  },
  {
   "cell_type": "code",
   "execution_count": null,
   "id": "3e224ff3-6ba1-4c51-8d4b-eb0854ae1c2c",
   "metadata": {},
   "outputs": [],
   "source": [
    "x = {1, 2, 3, 4}\n",
    "json.dumps(x)"
   ]
  },
  {
   "cell_type": "code",
   "execution_count": null,
   "id": "353b357c-f0bc-42df-bb6c-39162b14c217",
   "metadata": {},
   "outputs": [],
   "source": [
    "x = range(5)\n",
    "x\n",
    "json.dumps(x)"
   ]
  },
  {
   "cell_type": "code",
   "execution_count": null,
   "id": "460cfecb-d9d5-41a6-8a63-0139a9f789b4",
   "metadata": {},
   "outputs": [],
   "source": [
    "x = dict(a=1, b=2, c=3, d=4)\n",
    "json.dumps(x)"
   ]
  },
  {
   "cell_type": "code",
   "execution_count": null,
   "id": "c48a8c96-df06-43b2-b688-2d086ac2289f",
   "metadata": {},
   "outputs": [],
   "source": [
    "x = dict(a=1.0, b=2.0, c=3.0, d=4.0)\n",
    "json.dumps(x)"
   ]
  },
  {
   "cell_type": "code",
   "execution_count": null,
   "id": "0d97fb17-9830-41a2-8f1b-2c3b8a302c3d",
   "metadata": {},
   "outputs": [],
   "source": [
    "x = dict(a='a', b='b', c='c', d='d')\n",
    "json.dumps(x)"
   ]
  },
  {
   "cell_type": "code",
   "execution_count": null,
   "id": "cbe4571e-7ae4-470b-81c3-0fbcbc7d4e35",
   "metadata": {},
   "outputs": [],
   "source": [
    "x = dict(a=True, b=False)\n",
    "json.dumps(x)"
   ]
  },
  {
   "cell_type": "code",
   "execution_count": null,
   "id": "739e4941-b3d2-487c-b326-11046f38d31a",
   "metadata": {},
   "outputs": [],
   "source": [
    "x = dict(a=[1,2,3], b=[dict(c=1), dict(d=1)])\n",
    "json.dumps(x)"
   ]
  },
  {
   "cell_type": "code",
   "execution_count": null,
   "id": "8e45ddc0-aa72-48cd-9966-b46c3b9abad5",
   "metadata": {},
   "outputs": [],
   "source": [
    "json.loads(json.dumps(x))"
   ]
  },
  {
   "cell_type": "code",
   "execution_count": null,
   "id": "06e2e4b1-5eee-4567-ae4f-650f9f5cce1e",
   "metadata": {},
   "outputs": [],
   "source": [
    "with open('data.json', 'w') as stream:\n",
    "    json.dump(x, stream)"
   ]
  },
  {
   "cell_type": "code",
   "execution_count": null,
   "id": "e8971275-3d9f-48f6-ae52-64c5935b5e79",
   "metadata": {},
   "outputs": [],
   "source": [
    "%%bash\n",
    "cat data.json"
   ]
  },
  {
   "cell_type": "code",
   "execution_count": null,
   "id": "543dbcaa-31c4-4a7c-a373-76530c03d431",
   "metadata": {},
   "outputs": [],
   "source": [
    "with open('data.json', 'r') as stream:\n",
    "    x = json.load(stream)"
   ]
  },
  {
   "cell_type": "code",
   "execution_count": null,
   "id": "c9141525-d459-42a6-ac07-187bfe7c64b8",
   "metadata": {},
   "outputs": [],
   "source": [
    "class Point:\n",
    "    \n",
    "    def __init__(self, x, y):\n",
    "        self.x = x\n",
    "        self.y = y\n",
    "\n",
    "    def __call__(self):\n",
    "        return (self.x**2 + self.y**2)**0.5\n",
    "\n",
    "    def __repr__(self):\n",
    "        return f'Point(x={self.x}, y={self.y})'\n",
    "\n",
    "point = Point(3.0, 4.0)\n",
    "point"
   ]
  },
  {
   "cell_type": "code",
   "execution_count": null,
   "id": "41795748-653b-421e-ac18-060da60143aa",
   "metadata": {},
   "outputs": [],
   "source": [
    "json.dumps(point)"
   ]
  },
  {
   "cell_type": "markdown",
   "id": "1b982382-478b-4c42-8366-22ae552736e5",
   "metadata": {},
   "source": [
    "**pickle**"
   ]
  },
  {
   "cell_type": "code",
   "execution_count": null,
   "id": "95792591-be15-468b-a573-151f05eb3d72",
   "metadata": {},
   "outputs": [],
   "source": [
    "import pickle\n",
    "dir(pickle) ;"
   ]
  },
  {
   "cell_type": "code",
   "execution_count": null,
   "id": "f55765e8-e7ee-496b-9526-6971f2865225",
   "metadata": {},
   "outputs": [],
   "source": [
    "x = {'point': point, 'x': [1, 2, 3, 4, 5], 'y': True}\n",
    "x['point']()"
   ]
  },
  {
   "cell_type": "code",
   "execution_count": null,
   "id": "64ce590e-2eef-43ba-a810-8d51d3a7399d",
   "metadata": {},
   "outputs": [],
   "source": [
    "pickle.dumps(x)"
   ]
  },
  {
   "cell_type": "code",
   "execution_count": null,
   "id": "3608bd3d-dd4c-4014-bc82-c12a3fae9684",
   "metadata": {},
   "outputs": [],
   "source": [
    "pickle.loads(pickle.dumps(x))"
   ]
  },
  {
   "cell_type": "code",
   "execution_count": null,
   "id": "67250ac7-05a2-445c-a257-de241d0430f0",
   "metadata": {},
   "outputs": [],
   "source": [
    "with open('data.pkl', 'wb') as stream:\n",
    "    pickle.dump(x, stream)"
   ]
  },
  {
   "cell_type": "code",
   "execution_count": null,
   "id": "02bd886c-8c7b-4949-be2c-97f7c24383d2",
   "metadata": {},
   "outputs": [],
   "source": [
    "%%bash\n",
    "cat data.pkl"
   ]
  },
  {
   "cell_type": "code",
   "execution_count": null,
   "id": "c26789eb-ce8d-48cf-8a99-838cc97974b5",
   "metadata": {},
   "outputs": [],
   "source": [
    "with open('data.pkl', 'rb') as stream:\n",
    "    x = pickle.load(stream)\n",
    "x"
   ]
  },
  {
   "cell_type": "code",
   "execution_count": null,
   "id": "7f555c82-b50c-4f83-afe6-6ee9af5caa7b",
   "metadata": {},
   "outputs": [],
   "source": [
    "x['point']()"
   ]
  },
  {
   "cell_type": "code",
   "execution_count": null,
   "id": "e32236c7-5187-4226-b307-a777b1079f50",
   "metadata": {},
   "outputs": [],
   "source": [
    "del Point"
   ]
  },
  {
   "cell_type": "code",
   "execution_count": null,
   "id": "c71136ef-1c55-4670-8dbf-8f938b2b5430",
   "metadata": {},
   "outputs": [],
   "source": [
    "with open('data.pkl', 'rb') as stream:\n",
    "    x = pickle.load(stream)\n",
    "x"
   ]
  },
  {
   "cell_type": "code",
   "execution_count": null,
   "id": "187f5494-79e1-4d3a-b8f7-b31d9f33fb7e",
   "metadata": {},
   "outputs": [],
   "source": [
    "class Point:\n",
    "    pass"
   ]
  },
  {
   "cell_type": "code",
   "execution_count": null,
   "id": "94dc9684-b522-4f78-af15-25d31d6a3da0",
   "metadata": {},
   "outputs": [],
   "source": [
    "with open('data.pkl', 'rb') as stream:\n",
    "    x = pickle.load(stream)\n",
    "x"
   ]
  },
  {
   "cell_type": "code",
   "execution_count": null,
   "id": "d12cb798-a352-42f5-bb17-ebffee966553",
   "metadata": {},
   "outputs": [],
   "source": [
    "dir(x['point'])"
   ]
  },
  {
   "cell_type": "code",
   "execution_count": null,
   "id": "35392157-29ba-42e8-ae5b-9a44b9ac3cd2",
   "metadata": {},
   "outputs": [],
   "source": [
    "x['point'].x, x['point'].y"
   ]
  },
  {
   "cell_type": "code",
   "execution_count": null,
   "id": "894cb3c0-54a1-4bb4-9529-c256f0d3f427",
   "metadata": {},
   "outputs": [],
   "source": [
    "x['point']()"
   ]
  },
  {
   "cell_type": "markdown",
   "id": "46f701c1-0657-4cad-aea4-1112fc60adf2",
   "metadata": {},
   "source": [
    "# Errors and exceptions"
   ]
  },
  {
   "cell_type": "markdown",
   "id": "04705b7b-a0a3-4d5f-bd18-01bce547e8d4",
   "metadata": {},
   "source": [
    "## Syntax errors = parsing errors (can not be handled)"
   ]
  },
  {
   "cell_type": "code",
   "execution_count": null,
   "id": "44d05bad-170e-458a-ad38-83cac83dc04d",
   "metadata": {},
   "outputs": [],
   "source": [
    "for"
   ]
  },
  {
   "cell_type": "code",
   "execution_count": null,
   "id": "b9eed6c1-f1bd-4b2c-9016-d60b39808fa5",
   "metadata": {},
   "outputs": [],
   "source": [
    "for i in range(10)\n",
    "    print(i)"
   ]
  },
  {
   "cell_type": "code",
   "execution_count": null,
   "id": "456b795f-5f60-4263-bd15-2582d7613483",
   "metadata": {},
   "outputs": [],
   "source": [
    "x = while"
   ]
  },
  {
   "cell_type": "code",
   "execution_count": null,
   "id": "d9c18ed6-2c89-416d-b749-5765f6166c10",
   "metadata": {},
   "outputs": [],
   "source": [
    "while = 1"
   ]
  },
  {
   "cell_type": "code",
   "execution_count": null,
   "id": "b544fc3d-b139-410a-b4a0-0d6380bdad69",
   "metadata": {},
   "outputs": [],
   "source": [
    "def fn():\n",
    "    return x\n",
    "fn()"
   ]
  },
  {
   "cell_type": "code",
   "execution_count": null,
   "id": "fa31f7b2-b0ef-49a1-9e26-176154d2580c",
   "metadata": {},
   "outputs": [],
   "source": [
    "def fn():\n",
    "    return x\n",
    "    x/is\n",
    "fn()"
   ]
  },
  {
   "cell_type": "markdown",
   "id": "f62a0b3d-967d-411f-ba14-6b7fd03524db",
   "metadata": {},
   "source": [
    "## Exeptions = errors during execution (can be handled)"
   ]
  },
  {
   "cell_type": "code",
   "execution_count": null,
   "id": "22dc2c9e-8dfe-41c7-a381-8e02cb558dc8",
   "metadata": {
    "scrolled": true
   },
   "outputs": [],
   "source": [
    "1/0"
   ]
  },
  {
   "cell_type": "code",
   "execution_count": null,
   "id": "6d63ec5d-7c5a-41f1-b2e8-fd2309caff8f",
   "metadata": {},
   "outputs": [],
   "source": [
    "x"
   ]
  },
  {
   "cell_type": "code",
   "execution_count": null,
   "id": "9d159ebc-b387-4533-8b3a-e10b58af853f",
   "metadata": {},
   "outputs": [],
   "source": [
    "from math import sqrt\n",
    "sqrt(-1)"
   ]
  },
  {
   "cell_type": "code",
   "execution_count": null,
   "id": "3fbc06a6-ff3c-4655-a60d-534ca4a1137a",
   "metadata": {},
   "outputs": [],
   "source": [
    "abs('x')"
   ]
  },
  {
   "cell_type": "code",
   "execution_count": null,
   "id": "f4c7a2cd-060f-4228-85df-f3753f6592e5",
   "metadata": {},
   "outputs": [],
   "source": [
    "def fn(x, y):\n",
    "    pass\n",
    "fn(1)"
   ]
  },
  {
   "cell_type": "code",
   "execution_count": null,
   "id": "4ea10983-5bc7-406f-8708-ff2f210b4156",
   "metadata": {},
   "outputs": [],
   "source": [
    "def fn():\n",
    "    def gn():\n",
    "        def hn():\n",
    "            return x\n",
    "        hn()\n",
    "    gn()\n",
    "\n",
    "fn()"
   ]
  },
  {
   "cell_type": "markdown",
   "id": "d87f5e76-a7f6-445c-9cf2-c7102369b597",
   "metadata": {},
   "source": [
    "## Handling exceptions"
   ]
  },
  {
   "cell_type": "code",
   "execution_count": null,
   "id": "315f9c56-131f-492e-8f93-3f98b4f192c2",
   "metadata": {},
   "outputs": [],
   "source": [
    "def validate_phone_number(phone_number):\n",
    "    flag = phone_number.isnumeric()\n",
    "    return flag\n",
    "    \n",
    "while True:\n",
    "    phone_number = input(\"Enter phone number: \")\n",
    "    flag = validate_phone_number(phone_number)\n",
    "    if flag:\n",
    "        break"
   ]
  },
  {
   "cell_type": "code",
   "execution_count": null,
   "id": "23c85575-367e-43ca-b548-63676bce48dd",
   "metadata": {},
   "outputs": [],
   "source": [
    "def validate_phone_number(phone_number):\n",
    "    flag = True\n",
    "    phone_number = int(phone_number)\n",
    "    return flag\n",
    "    \n",
    "while True:\n",
    "    phone_number = input(\"Enter phone number: \")\n",
    "    flag = validate_phone_number(phone_number)\n",
    "    if flag:\n",
    "        break"
   ]
  },
  {
   "cell_type": "code",
   "execution_count": null,
   "id": "feab9b4a-cc7d-4d92-9cc4-d3b55d19874c",
   "metadata": {},
   "outputs": [],
   "source": [
    "def validate_phone_number(phone_number):\n",
    "    flag = True\n",
    "    try:\n",
    "        phone_number = int(phone_number)\n",
    "    except ValueError:\n",
    "        flag = False\n",
    "    return flag\n",
    "    \n",
    "while True:\n",
    "    phone_number = input(\"Enter phone number: \")\n",
    "    flag = validate_phone_number(phone_number)\n",
    "    if flag:\n",
    "        break"
   ]
  },
  {
   "cell_type": "markdown",
   "id": "6d1b4549-d0f8-498f-876a-6974bef844e6",
   "metadata": {},
   "source": [
    "**try statement flow**\n",
    "\n",
    "1. execute try block\n",
    "2. if no exceptions in try clause, skip except block(s)\n",
    "3. if there is an exception during try execution, look for matching except clause\n",
    "4. if ther is no matching except, look for outer try\n",
    "5. if no outer try matched, exception is unhandled and execution is stopped with an error message"
   ]
  },
  {
   "cell_type": "markdown",
   "id": "44c24009-0a54-460c-8eb5-6e9f727b5933",
   "metadata": {},
   "source": [
    "**can have multiple excepts to handle different exceptions**\n",
    "\n",
    "```python\n",
    "try:\n",
    "    ...\n",
    "except ...:\n",
    "    ...\n",
    "except ...:\n",
    "    ...\n",
    "...\n",
    "```\n",
    "\n",
    "**can handle several exceptions in a single block**\n",
    "\n",
    "```python\n",
    "try:\n",
    "    ...\n",
    "except (..., ..., ...):\n",
    "    ...\n",
    "```\n",
    "\n",
    "**can catch any exception (never do this)**\n",
    "\n",
    "```python\n",
    "try:\n",
    "    ...\n",
    "except:\n",
    "    ...\n",
    "```\n",
    "\n",
    "**also bad** \n",
    "\n",
    "```python\n",
    "try:\n",
    "    ...\n",
    "except Exception:\n",
    "    ...\n",
    "```"
   ]
  },
  {
   "cell_type": "markdown",
   "id": "b81d95f5-6b72-4806-b523-0c5af9dc3537",
   "metadata": {},
   "source": [
    "Inherit from **Exception** (all non-fatal exceptions)"
   ]
  },
  {
   "cell_type": "code",
   "execution_count": null,
   "id": "3e66ab05-41f8-4ffb-985f-25b1fa8f7e26",
   "metadata": {},
   "outputs": [],
   "source": [
    "class CustomException(Exception):\n",
    "    pass"
   ]
  },
  {
   "cell_type": "code",
   "execution_count": null,
   "id": "50d50690-8c81-4708-b933-b346027e3e5b",
   "metadata": {},
   "outputs": [],
   "source": [
    "raise CustomException('first', 'second')"
   ]
  },
  {
   "cell_type": "code",
   "execution_count": null,
   "id": "a46e27ee-a4dd-4280-b0b6-148cdbd828ba",
   "metadata": {},
   "outputs": [],
   "source": [
    "try:\n",
    "    raise CustomException('first', 'second')\n",
    "except:\n",
    "    pass"
   ]
  },
  {
   "cell_type": "code",
   "execution_count": null,
   "id": "15339134-11bb-425d-8164-ed20f5713db7",
   "metadata": {},
   "outputs": [],
   "source": [
    "try:\n",
    "    raise CustomException('first', 'second')\n",
    "except Exception:\n",
    "    pass"
   ]
  },
  {
   "cell_type": "code",
   "execution_count": null,
   "id": "26526183-7e61-4cb2-8629-677b7954bc1c",
   "metadata": {},
   "outputs": [],
   "source": [
    "try:\n",
    "    raise CustomException('first', 'second')\n",
    "except TypeError:\n",
    "    pass"
   ]
  },
  {
   "cell_type": "code",
   "execution_count": null,
   "id": "61366628-6635-4c73-afc1-df4beed87af0",
   "metadata": {},
   "outputs": [],
   "source": [
    "try:\n",
    "    raise CustomException('first', 'second')\n",
    "except CustomException as exception:\n",
    "    print(type(exception).__name__)\n",
    "    print(exception.args) \n",
    "    print(exception)\n",
    "    x, y = exception.args\n",
    "    print(f'{x=}')\n",
    "    print(f'{y=}')"
   ]
  },
  {
   "cell_type": "markdown",
   "id": "1df0dd11-666c-4294-94c2-13322feabe42",
   "metadata": {},
   "source": [
    "**print/log and re-raise**"
   ]
  },
  {
   "cell_type": "code",
   "execution_count": null,
   "id": "7f1ce56d-fbcb-46d1-9a04-6b31dc266a1c",
   "metadata": {},
   "outputs": [],
   "source": [
    "import sys\n",
    "\n",
    "try:\n",
    "    f = open('data.txt')\n",
    "    s = f.readline()\n",
    "    i = int(s.strip())\n",
    "except OSError as exception:\n",
    "    print(exception)\n",
    "    raise\n",
    "except ValueError as exception:\n",
    "    print(exception)\n",
    "    raise\n",
    "except Exception as exception:\n",
    "    print(f\"Unexpected {exception=}, {type(exception)=}\")\n",
    "    raise"
   ]
  },
  {
   "cell_type": "markdown",
   "id": "a5edc971-9146-4810-92a4-60c2c6d133a3",
   "metadata": {},
   "source": [
    "**else clause**"
   ]
  },
  {
   "cell_type": "code",
   "execution_count": null,
   "id": "1edf1583-f090-4e16-8539-0b5c4c83e1a0",
   "metadata": {},
   "outputs": [],
   "source": [
    "try:\n",
    "    raise Exception\n",
    "except Exception:\n",
    "    pass\n",
    "else:\n",
    "    print('OK')"
   ]
  },
  {
   "cell_type": "code",
   "execution_count": null,
   "id": "6e2f03c3-ad69-4331-9f3c-9f901b6fe587",
   "metadata": {},
   "outputs": [],
   "source": [
    "try:\n",
    "    pass\n",
    "except Exception:\n",
    "    pass\n",
    "else:\n",
    "    print('OK')"
   ]
  },
  {
   "cell_type": "markdown",
   "id": "c2005645-2f4f-46d7-89c5-ab7be05d0bb6",
   "metadata": {},
   "source": [
    "## Rasing exceptions"
   ]
  },
  {
   "cell_type": "code",
   "execution_count": null,
   "id": "c63e2797-9495-4875-8d45-cccfbb335739",
   "metadata": {},
   "outputs": [],
   "source": [
    "class CustomException(Exception):\n",
    "\n",
    "    def __init__(self, *args, **kwargs):\n",
    "        print('Initialization...')\n",
    "        super().__init__(*args, **kwargs)\n",
    "    \n",
    "    def __str__(self):\n",
    "        print('Printing...')\n",
    "        print('Arguments:', self.args)\n",
    "        return super().__str__()"
   ]
  },
  {
   "cell_type": "code",
   "execution_count": null,
   "id": "9436c9db-ef34-4679-9c1a-3eaadb0689a5",
   "metadata": {},
   "outputs": [],
   "source": [
    "raise CustomException('first', 'second')"
   ]
  },
  {
   "cell_type": "code",
   "execution_count": null,
   "id": "7f4eaa48-0bfc-4ca4-9e6f-3f082588b101",
   "metadata": {},
   "outputs": [],
   "source": [
    "raise CustomException"
   ]
  },
  {
   "cell_type": "markdown",
   "id": "d5c63a5b-3321-49a2-bb6f-aea8855f7ce3",
   "metadata": {},
   "source": [
    "**re-raise**"
   ]
  },
  {
   "cell_type": "code",
   "execution_count": null,
   "id": "c6acac5e-15ef-48f9-a55e-fde0a56755f1",
   "metadata": {},
   "outputs": [],
   "source": [
    "class CustomException(Exception):\n",
    "    pass\n",
    "\n",
    "raise CustomException"
   ]
  },
  {
   "cell_type": "code",
   "execution_count": null,
   "id": "97df8e29-3e03-4fb5-bc76-1005e8d497f1",
   "metadata": {},
   "outputs": [],
   "source": [
    "class CustomException(Exception):\n",
    "    pass\n",
    "\n",
    "try:\n",
    "    raise CustomException\n",
    "except CustomException as exception:\n",
    "    print(f'{type(exception).__name__}')\n",
    "    raise"
   ]
  },
  {
   "cell_type": "markdown",
   "id": "5f86f48d-1ccf-430b-a5a2-0d84c40ed27f",
   "metadata": {},
   "source": [
    "## Exception chaining"
   ]
  },
  {
   "cell_type": "code",
   "execution_count": null,
   "id": "a22c894a-4fc5-45e8-9fe9-eb5550e22e3a",
   "metadata": {},
   "outputs": [],
   "source": [
    "try:\n",
    "    raise TypeError\n",
    "except TypeError:\n",
    "    raise ValueError"
   ]
  },
  {
   "cell_type": "markdown",
   "id": "38ea5eea-7cb3-4715-a1ef-1d4c0659a671",
   "metadata": {},
   "source": [
    "**from indicates exception beinng a direct  consequence of another**"
   ]
  },
  {
   "cell_type": "code",
   "execution_count": null,
   "id": "446d4e84-1fbf-4065-a307-b9180ed15adf",
   "metadata": {},
   "outputs": [],
   "source": [
    "try:\n",
    "    raise TypeError\n",
    "except TypeError as exception:\n",
    "    raise ValueError from exception"
   ]
  },
  {
   "cell_type": "markdown",
   "id": "94cae844-0351-4819-939c-638210f13d8f",
   "metadata": {},
   "source": [
    "**transforming exceptions**"
   ]
  },
  {
   "cell_type": "code",
   "execution_count": null,
   "id": "682e69bf-df09-46e2-bc80-87b74b8a6d40",
   "metadata": {},
   "outputs": [],
   "source": [
    "def foo():\n",
    "    raise NotImplementedError\n",
    "    \n",
    "try:\n",
    "    foo()\n",
    "except NotImplementedError as exception:\n",
    "    raise RuntimeError from exception"
   ]
  },
  {
   "cell_type": "markdown",
   "id": "8d1410b4-84c3-4938-a7aa-967fe8842931",
   "metadata": {},
   "source": [
    "**disable exception chaining**"
   ]
  },
  {
   "cell_type": "code",
   "execution_count": null,
   "id": "9d39ad4a-43f3-42c5-b211-9867b4764cfb",
   "metadata": {},
   "outputs": [],
   "source": [
    "def foo():\n",
    "    raise NotImplementedError\n",
    "    \n",
    "try:\n",
    "    foo()\n",
    "except NotImplementedError:\n",
    "    raise RuntimeError from None"
   ]
  },
  {
   "cell_type": "markdown",
   "id": "f25133f0-6496-43db-8ac3-5787914da6a8",
   "metadata": {},
   "source": [
    "## Finally = cleanup"
   ]
  },
  {
   "cell_type": "code",
   "execution_count": null,
   "id": "2e8301b3-0bf4-49f3-819e-def2df6fd11e",
   "metadata": {},
   "outputs": [],
   "source": [
    "try:\n",
    "    raise Exception\n",
    "except Exception:\n",
    "    print('handling')\n",
    "finally:\n",
    "    print('finally')"
   ]
  },
  {
   "cell_type": "code",
   "execution_count": null,
   "id": "10c06d07-881d-48e6-8124-5bc2ad7a7893",
   "metadata": {},
   "outputs": [],
   "source": [
    "try:\n",
    "    raise Exception\n",
    "except Exception:\n",
    "    pass\n",
    "finally:\n",
    "    print('finally')"
   ]
  },
  {
   "cell_type": "markdown",
   "id": "caa7191a-f767-4c4f-921e-177d63aff918",
   "metadata": {},
   "source": [
    "**verbatim from Python tutorial**\n",
    "\n",
    "- If an exception occurs during execution of the try clause, the exception may be handled by an except clause. If the exception is not handled by an except clause, the exception is re-raised after the finally clause has been executed.\n",
    "\n",
    "- An exception could occur during execution of an except or else clause. Again, the exception is re-raised after the finally clause has been executed.\n",
    "\n",
    "- If the finally clause executes a break, continue or return statement, exceptions are not re-raised.\n",
    "\n",
    "- If the try statement reaches a break, continue or return statement, the finally clause will execute just prior to the break, continue or return statement’s execution.\n",
    "\n",
    "- If a finally clause includes a return statement, the returned value will be the one from the finally clause’s return statement, not the value from the try clause’s return statement."
   ]
  },
  {
   "cell_type": "markdown",
   "id": "f2e1cf72-4c0d-4867-b7da-9365ead96173",
   "metadata": {},
   "source": [
    "## Raising and handling multiple unrelated exceptions"
   ]
  },
  {
   "cell_type": "markdown",
   "id": "908c48e8-3c17-4bd0-a2b7-ac72e9fb6fc8",
   "metadata": {},
   "source": [
    "- several failures in concurrent execution\n",
    "- collect multiple errors"
   ]
  },
  {
   "cell_type": "code",
   "execution_count": null,
   "id": "d1f24b59-eb1a-48de-bdc3-dfe76c438172",
   "metadata": {},
   "outputs": [],
   "source": [
    "class ConnectionRefucedError(Exception):\n",
    "    pass\n",
    "\n",
    "class ConnectionTimeoutError(Exception):\n",
    "    pass\n",
    "\n",
    "def foo():\n",
    "    exceptions = [\n",
    "        ConnectionRefucedError('connection refuced'),\n",
    "        ConnectionTimeoutError('timeout after 10 seconds')\n",
    "    ]\n",
    "    raise ExceptionGroup('exceptions:', exceptions)"
   ]
  },
  {
   "cell_type": "code",
   "execution_count": null,
   "id": "b35dab59-137a-40d1-a826-bd6c2f72a650",
   "metadata": {},
   "outputs": [],
   "source": [
    "foo()"
   ]
  },
  {
   "cell_type": "code",
   "execution_count": null,
   "id": "8a21e30f-cb2d-4e00-8514-71abf8fb74ba",
   "metadata": {},
   "outputs": [],
   "source": [
    "try:\n",
    "    foo()\n",
    "except ExceptionGroup as exceptions:\n",
    "    ...\n",
    "    raise"
   ]
  },
  {
   "cell_type": "code",
   "execution_count": null,
   "id": "8ac4946e-23be-4206-9086-e87782e01bf2",
   "metadata": {},
   "outputs": [],
   "source": [
    "try:\n",
    "    foo()\n",
    "except ExceptionGroup as exceptions:\n",
    "    ...\n",
    "    raise"
   ]
  },
  {
   "cell_type": "code",
   "execution_count": null,
   "id": "55a74440-6694-47f3-be0b-997a63a1a63a",
   "metadata": {},
   "outputs": [],
   "source": [
    "class ConnectionRefucedError(Exception):\n",
    "    pass\n",
    "\n",
    "class ConnectionTimeoutError(Exception):\n",
    "    pass\n",
    "\n",
    "def foo():\n",
    "    raise ExceptionGroup(\n",
    "        'A',\n",
    "        [\n",
    "            ConnectionRefucedError('A'),\n",
    "            ConnectionTimeoutError('A'),\n",
    "            ExceptionGroup(\n",
    "                'B',\n",
    "                [\n",
    "                    ConnectionRefucedError('B'),\n",
    "                    ConnectionTimeoutError('B')\n",
    "                ]\n",
    "            )\n",
    "        ]\n",
    "    )"
   ]
  },
  {
   "cell_type": "code",
   "execution_count": null,
   "id": "62a7ed0a-95b2-4567-ab9d-89b48cbce0ac",
   "metadata": {},
   "outputs": [],
   "source": [
    "try:\n",
    "    foo()\n",
    "except ExceptionGroup as exceptions:\n",
    "    ...\n",
    "    raise    "
   ]
  },
  {
   "cell_type": "code",
   "execution_count": null,
   "id": "c7aa9d07-6e25-4579-a831-b226d0b22967",
   "metadata": {},
   "outputs": [],
   "source": [
    "try:\n",
    "    foo()\n",
    "except* ConnectionRefucedError as exceptions:\n",
    "    print(exceptions.args)\n",
    "    raise\n",
    "except* ConnectionTimeoutError as exceptions:\n",
    "    print(exceptions.args)\n",
    "    raise"
   ]
  },
  {
   "cell_type": "code",
   "execution_count": null,
   "id": "42a886ac-6a25-4947-93ed-9d5fa6b65547",
   "metadata": {},
   "outputs": [],
   "source": [
    "def test_connection():\n",
    "    pass\n",
    "\n",
    "def test_db():\n",
    "    raise Exception('error: db failed')\n",
    "\n",
    "def test_protocol():\n",
    "    raise Exception('error: unknown protocol')\n",
    "\n",
    "tests = [\n",
    "    test_connection,\n",
    "    test_db,\n",
    "    test_protocol\n",
    "]"
   ]
  },
  {
   "cell_type": "code",
   "execution_count": null,
   "id": "5c6d2d2b-7446-4466-9838-2496b59df9c5",
   "metadata": {},
   "outputs": [],
   "source": [
    "exceptions = []\n",
    "\n",
    "for test in tests:\n",
    "    try:\n",
    "        test()\n",
    "    except Exception as exception:\n",
    "        exceptions.append(exception)"
   ]
  },
  {
   "cell_type": "code",
   "execution_count": null,
   "id": "b9cab22b-8738-430d-a8bb-ac27089cdfa6",
   "metadata": {},
   "outputs": [],
   "source": [
    "if exceptions:\n",
    "    raise ExceptionGroup('tests', exceptions)"
   ]
  },
  {
   "cell_type": "markdown",
   "id": "c15817c9-050d-47ce-b1b8-831d924ac6f9",
   "metadata": {},
   "source": [
    "## Enriching exceptions with notes"
   ]
  },
  {
   "cell_type": "code",
   "execution_count": null,
   "id": "4ca143c8-3e9a-4d44-acbd-8ee0cf5534ca",
   "metadata": {},
   "outputs": [],
   "source": [
    "try:\n",
    "    raise Exception('error')\n",
    "except Exception as exception:\n",
    "    ...\n",
    "    raise"
   ]
  },
  {
   "cell_type": "code",
   "execution_count": null,
   "id": "fbdebf29-a261-454b-87c9-32ead0f4f327",
   "metadata": {},
   "outputs": [],
   "source": [
    "from datetime import datetime\n",
    "from time import sleep \n",
    "\n",
    "try:\n",
    "    raise Exception('error')\n",
    "except Exception as exception:\n",
    "    exception.add_note(f'handling... : {(datetime.now())}')\n",
    "    sleep(1.0)\n",
    "    exception.add_note(f'done...     : {(datetime.now())}')\n",
    "    raise"
   ]
  },
  {
   "cell_type": "code",
   "execution_count": null,
   "id": "1b71709e-d0f9-4d84-a43f-35c7bc6612d1",
   "metadata": {},
   "outputs": [],
   "source": [
    "def foo():\n",
    "    raise ValueError('NaN')\n",
    "\n",
    "exceptions = []\n",
    "\n",
    "for i in range(5):\n",
    "    if i % 2:\n",
    "        try:\n",
    "            foo()\n",
    "        except ValueError as exception:\n",
    "            exception.add_note(f'{i=}')\n",
    "            exceptions.append(exception)\n",
    "\n",
    "raise ExceptionGroup('failed', exceptions)"
   ]
  }
 ],
 "metadata": {
  "kernelspec": {
   "display_name": "Python 3 (ipykernel)",
   "language": "python",
   "name": "python3"
  },
  "language_info": {
   "codemirror_mode": {
    "name": "ipython",
    "version": 3
   },
   "file_extension": ".py",
   "mimetype": "text/x-python",
   "name": "python",
   "nbconvert_exporter": "python",
   "pygments_lexer": "ipython3",
   "version": "3.12.1"
  }
 },
 "nbformat": 4,
 "nbformat_minor": 5
}
