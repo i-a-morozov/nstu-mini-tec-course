





# List of valid topics

valid_topics = [
    'Build and schedule Linux services (systemd)',
    'Introduction to databases (SQL, Postgre, Mongodb)',
    'Docker (Dockerfile, build, compose, swarm)',
    'Webapps (dash and streamlit)',
    'Introduction C and Fortran (compiling, linking, static and dynamic libraries, make)',
    'Python extensions (ctypes, numpy, cython, mypy, pybind, numba)',
    'Markdown (rst, md, html) and configuration (json, yaml, toml)',
    'More plotting options (seaborn, plotly/dash, altair, bokeh)',
    'Introduction to machine learning (scikit-learn, pytorch, xgboost)',
    'Parallel python (threading, multiprocessing, concurrent.futures)',
    'Git and GitHub (workflow, actions)',
    'Python library and documentation (pyproject.toml, build, twine, pip, sphinx)',
    'Python CI (testing, linting and profiling) (pylint, mypy, pytest, pytest-cov, scalene)',
    'Symbolic computations (sympy, rubi)',
    'Pandas, Polars, Dask and google sheets API'
]





# Import list of valid emails

import json

with open('valid_emails.json', 'r') as stream:
    valid_emails = json.load(stream)





# Import 

import gspread
import matplotlib.pyplot as plt


# Import records

gc = gspread.oauth()
sh = gc.open("Selected Topics (Responses)")
records = sh.sheet1.get_all_records()


# Process entries

# Select entries with 1) valid email 2) last if email is present several times (remove duplicates)

results = {}
for record in records:
    if record['Email Address'] in valid_emails:
        results[record['Email Address']] = record['Select up to five special topics']

# Combine all into one string

results = ', '.join(results.values())

# Count topics and sort

counts, topics = zip(*sorted(((count, topic) for topic in valid_topics if (count := results.count(topic)) != 0), reverse=True))


# Plot results

plt.style.use('bmh')
fig, (ax_bar, ax_pie) = plt.subplots(nrows=1, ncols=2, figsize=(15, 6))

# Bar

ax_bar.bar(range(len(counts)), counts, color='blue', alpha=0.5)
ax_bar.set_xticks(range(len(topics)))
ax_bar.set_xticklabels(range(1, len(topics) + 1))
ax_bar.set_xlabel('Topic ID')
ax_bar.set_ylabel('Count')

# Pie

ax_pie.pie(counts, labels=range(1, len(topics) + 1), autopct='%1.1f%%', wedgeprops={"alpha": 0.5, "edgecolor": "black"})

plt.tight_layout()
plt.show()

{index + 1: f'{topic} -- {count}' for index, (topic, count) in enumerate(zip(topics, counts))}



