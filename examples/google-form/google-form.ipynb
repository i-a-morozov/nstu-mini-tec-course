{
 "cells": [
  {
   "cell_type": "markdown",
   "id": "c5bb6afd",
   "metadata": {},
   "source": [
    " See [Python quickstart](https://developers.google.com/sheets/api/quickstart/python) to authorize credentials (requires google account)"
   ]
  },
  {
   "cell_type": "markdown",
   "id": "42987aa6-4209-41f5-8ca3-fe16f4e39d0a",
   "metadata": {},
   "source": [
    "# Topics"
   ]
  },
  {
   "cell_type": "code",
   "execution_count": null,
   "id": "830362d1-587b-4a1d-b8e5-9f0d3a8e34e1",
   "metadata": {},
   "outputs": [],
   "source": [
    "# List of valid topics\n",
    "\n",
    "valid_topics = [\n",
    "    'Build and schedule Linux services (systemd)',\n",
    "    'Introduction to databases (SQL, Postgre, Mongodb)',\n",
    "    'Docker (Dockerfile, build, compose, swarm)',\n",
    "    'Webapps (dash and streamlit)',\n",
    "    'Introduction C and Fortran (compiling, linking, static and dynamic libraries, make)',\n",
    "    'Python extensions (ctypes, numpy, cython, mypy, pybind, numba)',\n",
    "    'Markdown (rst, md, html) and configuration (json, yaml, toml)',\n",
    "    'More plotting options (seaborn, plotly/dash, altair, bokeh)',\n",
    "    'Introduction to machine learning (scikit-learn, pytorch, xgboost)',\n",
    "    'Parallel python (threading, multiprocessing, concurrent.futures)',\n",
    "    'Git and GitHub (workflow, actions)',\n",
    "    'Python library and documentation (pyproject.toml, build, twine, pip, sphinx)',\n",
    "    'Python CI (testing, linting and profiling) (pylint, mypy, pytest, pytest-cov, scalene)',\n",
    "    'Symbolic computations (sympy, rubi)',\n",
    "    'Pandas, Polars, Dask and google sheets API'\n",
    "]"
   ]
  },
  {
   "cell_type": "markdown",
   "id": "ac2505d7-883d-47b4-a89c-8e623d8d1ecb",
   "metadata": {
    "tags": []
   },
   "source": [
    "# Emails"
   ]
  },
  {
   "cell_type": "code",
   "execution_count": null,
   "id": "88eaead5-e913-43e9-9bb7-16379305f574",
   "metadata": {},
   "outputs": [],
   "source": [
    "# Import list of valid emails\n",
    "\n",
    "import json\n",
    "\n",
    "with open('valid_emails.json', 'r') as stream:\n",
    "    valid_emails = json.load(stream)"
   ]
  },
  {
   "cell_type": "markdown",
   "id": "8e4ac487-b71a-4db8-8a23-952b5bee5e7d",
   "metadata": {},
   "source": [
    "# Results"
   ]
  },
  {
   "cell_type": "code",
   "execution_count": null,
   "id": "84f20080-1146-4032-82a5-39513dfa26b2",
   "metadata": {},
   "outputs": [],
   "source": [
    "# Import \n",
    "\n",
    "import gspread\n",
    "import matplotlib.pyplot as plt"
   ]
  },
  {
   "cell_type": "code",
   "execution_count": null,
   "id": "69e54092-b9e1-4552-9ce9-31827010ca07",
   "metadata": {},
   "outputs": [],
   "source": [
    "# Import records\n",
    "\n",
    "gc = gspread.oauth()\n",
    "sh = gc.open(\"Selected Topics (Responses)\")\n",
    "records = sh.sheet1.get_all_records()"
   ]
  },
  {
   "cell_type": "code",
   "execution_count": null,
   "id": "0b8ca736-a28b-4de9-978e-e02fc18eeea0",
   "metadata": {},
   "outputs": [],
   "source": [
    "# Process entries\n",
    "\n",
    "# Select entries with 1) valid email 2) last if email is present several times (remove duplicates)\n",
    "\n",
    "results = {}\n",
    "for record in records:\n",
    "    if record['Email Address'] in valid_emails:\n",
    "        results[record['Email Address']] = record['Select up to five special topics']\n",
    "\n",
    "# Combine all into one string\n",
    "\n",
    "results = ', '.join(results.values())\n",
    "\n",
    "# Count topics and sort\n",
    "\n",
    "counts, topics = zip(*sorted(((count, topic) for topic in valid_topics if (count := results.count(topic)) != 0), reverse=True))"
   ]
  },
  {
   "cell_type": "code",
   "execution_count": null,
   "id": "71e7fc20-6135-4614-9ba8-8097852a7743",
   "metadata": {},
   "outputs": [],
   "source": [
    "# Plot results\n",
    "\n",
    "plt.style.use('bmh')\n",
    "fig, (ax_bar, ax_pie) = plt.subplots(nrows=1, ncols=2, figsize=(15, 6))\n",
    "\n",
    "# Bar\n",
    "\n",
    "ax_bar.bar(range(len(counts)), counts, color='blue', alpha=0.5)\n",
    "ax_bar.set_xticks(range(len(topics)))\n",
    "ax_bar.set_xticklabels(range(1, len(topics) + 1))\n",
    "ax_bar.set_xlabel('Topic ID')\n",
    "ax_bar.set_ylabel('Count')\n",
    "\n",
    "# Pie\n",
    "\n",
    "ax_pie.pie(counts, labels=range(1, len(topics) + 1), autopct='%1.1f%%', wedgeprops={\"alpha\": 0.5, \"edgecolor\": \"black\"})\n",
    "\n",
    "plt.tight_layout()\n",
    "plt.show()\n",
    "\n",
    "{index + 1: f'{topic} -- {count}' for index, (topic, count) in enumerate(zip(topics, counts))}"
   ]
  },
  {
   "cell_type": "code",
   "execution_count": null,
   "id": "917b3c7b-4b21-4061-9927-3feff0e054b4",
   "metadata": {},
   "outputs": [],
   "source": []
  }
 ],
 "metadata": {
  "kernelspec": {
   "display_name": "Python 3 (ipykernel)",
   "language": "python",
   "name": "python3"
  },
  "language_info": {
   "codemirror_mode": {
    "name": "ipython",
    "version": 3
   },
   "file_extension": ".py",
   "mimetype": "text/x-python",
   "name": "python",
   "nbconvert_exporter": "python",
   "pygments_lexer": "ipython3",
   "version": "3.12.1"
  }
 },
 "nbformat": 4,
 "nbformat_minor": 5
}
