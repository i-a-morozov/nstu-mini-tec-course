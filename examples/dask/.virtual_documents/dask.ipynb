import numpy
from dask import dataframe
from matplotlib import pyplot as plt


def wave(time, *, sigma=0.25):
    return numpy.cos(2.0*numpy.pi*10*time) + sigma*numpy.random.randn(*time.shape)


size = 256
time = numpy.linspace(0.0, 1.0, 1024)

samples = wave(numpy.asarray(256*[time]))

plt.figure(figsize=(12, 3))

for sample in samples:
    plt.scatter(time, sample, marker='x', color='gray', alpha=0.1)
    
plt.plot(time, samples.mean(0), color='black')

plt.tight_layout()
plt.show()


for i, sample in enumerate(samples):
    numpy.savetxt(f'sample_{i:03}.csv', numpy.stack([time, sample]).T, delimiter=',', header='time,voltage', comments='')


get_ipython().getoutput("ls sample_*.csv | wc -l")


get_ipython().getoutput("head -n 10 sample_000.csv")


df = dataframe.read_csv('sample_*.csv')
df


df.head()


task = df.groupby('time').mean()
task


repr(task)


result = task.compute()
result


plt.figure(figsize=(12, 3))

for sample in samples:
    plt.scatter(time, sample, marker='x', color='gray', alpha=0.1)
    
plt.plot(time, result.voltage, color='black')

plt.tight_layout()
plt.show()


window = numpy.exp(-1.0/((1.0 - time)*time))

plt.figure(figsize=(12, 3))
plt.plot(time, window, color='black')

plt.tight_layout()
plt.show()


from dask import delayed
from dask import compute

from time import sleep

def process(file, window):
    sleep(0.1)
    _, voltage = numpy.loadtxt(file, delimiter=',', skiprows=1).T
    return voltage*window


plt.figure(figsize=(12, 3))
plt.plot(time, process('sample_000.csv', window), color='black')
plt.tight_layout()
plt.show()


from pathlib import Path

files = [path.name for path in Path().glob('sample_*.csv')]


# START_CELL_MAGIC("time", "")

todos = [delayed(lambda file: process(file, window))(file) for file in files]
# END_CELL_MAGIC


# START_CELL_MAGIC("time", "")

# "threads", "synchronous" or "processes"

samples, *_ = compute(todos, scheduler='synchronous')
# END_CELL_MAGIC


plt.figure(figsize=(12, 3))

for sample in samples:
    plt.scatter(time, sample, marker='x', color='gray', alpha=0.1)

plt.tight_layout()
plt.show()


# https://github.com/dask/dask-tutorial



