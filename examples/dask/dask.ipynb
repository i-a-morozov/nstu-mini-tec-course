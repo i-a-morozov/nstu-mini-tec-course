{
 "cells": [
  {
   "cell_type": "code",
   "execution_count": null,
   "id": "5319736b-7599-4625-a01a-e40c12857c6a",
   "metadata": {},
   "outputs": [],
   "source": [
    "import numpy\n",
    "from dask import dataframe\n",
    "from matplotlib import pyplot as plt"
   ]
  },
  {
   "cell_type": "code",
   "execution_count": null,
   "id": "73ce33c6-ede9-4b55-85e2-1a15f4545842",
   "metadata": {},
   "outputs": [],
   "source": [
    "def wave(time, *, sigma=0.25):\n",
    "    return numpy.cos(2.0*numpy.pi*10*time) + sigma*numpy.random.randn(*time.shape)"
   ]
  },
  {
   "cell_type": "code",
   "execution_count": null,
   "id": "63f4a778-ccca-4248-bd97-d2b52b2997f3",
   "metadata": {},
   "outputs": [],
   "source": [
    "size = 256\n",
    "time = numpy.linspace(0.0, 1.0, 1024)\n",
    "\n",
    "samples = wave(numpy.asarray(256*[time]))\n",
    "\n",
    "plt.figure(figsize=(12, 3))\n",
    "\n",
    "for sample in samples:\n",
    "    plt.scatter(time, sample, marker='x', color='gray', alpha=0.1)\n",
    "    \n",
    "plt.plot(time, samples.mean(0), color='black')\n",
    "\n",
    "plt.tight_layout()\n",
    "plt.show()"
   ]
  },
  {
   "cell_type": "code",
   "execution_count": null,
   "id": "bb10d787-5efa-46ff-af46-c34b384f11f4",
   "metadata": {},
   "outputs": [],
   "source": [
    "for i, sample in enumerate(samples):\n",
    "    numpy.savetxt(f'sample_{i:03}.csv', numpy.stack([time, sample]).T, delimiter=',', header='time,voltage', comments='')"
   ]
  },
  {
   "cell_type": "code",
   "execution_count": null,
   "id": "1e397797-2c5a-4ca0-af9b-4639df440187",
   "metadata": {},
   "outputs": [],
   "source": [
    "!ls sample_*.csv | wc -l"
   ]
  },
  {
   "cell_type": "code",
   "execution_count": null,
   "id": "6b5e2a8b-666e-469f-b438-2feb664b9512",
   "metadata": {},
   "outputs": [],
   "source": [
    "!head -n 10 sample_000.csv"
   ]
  },
  {
   "cell_type": "code",
   "execution_count": null,
   "id": "b7e06f2f-1303-4c2f-a788-3346ea29a83f",
   "metadata": {},
   "outputs": [],
   "source": [
    "df = dataframe.read_csv('sample_*.csv')\n",
    "df"
   ]
  },
  {
   "cell_type": "code",
   "execution_count": null,
   "id": "abdd9bc1-5232-4704-8df3-7720b3cfc18e",
   "metadata": {},
   "outputs": [],
   "source": [
    "df.head()"
   ]
  },
  {
   "cell_type": "code",
   "execution_count": null,
   "id": "e38732c8-5ad0-46b0-8987-75d8024a8287",
   "metadata": {},
   "outputs": [],
   "source": [
    "task = df.groupby('time').mean()\n",
    "task"
   ]
  },
  {
   "cell_type": "code",
   "execution_count": null,
   "id": "92c424bb-8094-4ff2-acca-b9dec02e5f65",
   "metadata": {},
   "outputs": [],
   "source": [
    "repr(task)"
   ]
  },
  {
   "cell_type": "code",
   "execution_count": null,
   "id": "738c1eec-35cb-45d4-b767-ed91ce254c84",
   "metadata": {},
   "outputs": [],
   "source": [
    "result = task.compute()\n",
    "result"
   ]
  },
  {
   "cell_type": "code",
   "execution_count": null,
   "id": "ff3b0a54-c1ed-4138-a923-29f9a7c068cf",
   "metadata": {},
   "outputs": [],
   "source": [
    "plt.figure(figsize=(12, 3))\n",
    "\n",
    "for sample in samples:\n",
    "    plt.scatter(time, sample, marker='x', color='gray', alpha=0.1)\n",
    "    \n",
    "plt.plot(time, result.voltage, color='black')\n",
    "\n",
    "plt.tight_layout()\n",
    "plt.show()"
   ]
  },
  {
   "cell_type": "code",
   "execution_count": null,
   "id": "5f6d2e29-c76e-43f5-ad54-f518e6512000",
   "metadata": {},
   "outputs": [],
   "source": [
    "window = numpy.exp(-1.0/((1.0 - time)*time))\n",
    "\n",
    "plt.figure(figsize=(12, 3))\n",
    "plt.plot(time, window, color='black')\n",
    "\n",
    "plt.tight_layout()\n",
    "plt.show()"
   ]
  },
  {
   "cell_type": "code",
   "execution_count": null,
   "id": "f3f890fd-9916-463e-a41a-c4c155c22a43",
   "metadata": {},
   "outputs": [],
   "source": [
    "from dask import delayed\n",
    "from dask import compute\n",
    "\n",
    "from time import sleep\n",
    "\n",
    "def process(file, window):\n",
    "    sleep(0.1)\n",
    "    _, voltage = numpy.loadtxt(file, delimiter=',', skiprows=1).T\n",
    "    return voltage*window"
   ]
  },
  {
   "cell_type": "code",
   "execution_count": null,
   "id": "d898428d-1022-485e-b6eb-b8a64266884e",
   "metadata": {},
   "outputs": [],
   "source": [
    "plt.figure(figsize=(12, 3))\n",
    "plt.plot(time, process('sample_000.csv', window), color='black')\n",
    "plt.tight_layout()\n",
    "plt.show()"
   ]
  },
  {
   "cell_type": "code",
   "execution_count": null,
   "id": "c85eb0c5-256b-4d2a-8000-42349c788111",
   "metadata": {},
   "outputs": [],
   "source": [
    "from pathlib import Path\n",
    "\n",
    "files = [path.name for path in Path().glob('sample_*.csv')]"
   ]
  },
  {
   "cell_type": "code",
   "execution_count": null,
   "id": "9a9fd907-f91d-4a87-b1fc-d8e21474de31",
   "metadata": {},
   "outputs": [],
   "source": [
    "%%time\n",
    "\n",
    "todos = [delayed(lambda file: process(file, window))(file) for file in files]"
   ]
  },
  {
   "cell_type": "code",
   "execution_count": null,
   "id": "8a5d186c-73da-4476-8cc0-a9ca984d45d1",
   "metadata": {},
   "outputs": [],
   "source": [
    "%%time\n",
    "\n",
    "# \"threads\", \"synchronous\" or \"processes\"\n",
    "\n",
    "samples, *_ = compute(todos, scheduler='synchronous')"
   ]
  },
  {
   "cell_type": "code",
   "execution_count": null,
   "id": "acafd5c4-9b1e-4d67-ad8d-cdccd796471c",
   "metadata": {},
   "outputs": [],
   "source": [
    "plt.figure(figsize=(12, 3))\n",
    "\n",
    "for sample in samples:\n",
    "    plt.scatter(time, sample, marker='x', color='gray', alpha=0.1)\n",
    "\n",
    "plt.tight_layout()\n",
    "plt.show()"
   ]
  },
  {
   "cell_type": "code",
   "execution_count": null,
   "id": "84deeb07-5acc-4c80-b9e5-f5d629f16f7c",
   "metadata": {},
   "outputs": [],
   "source": [
    "# https://github.com/dask/dask-tutorial"
   ]
  },
  {
   "cell_type": "code",
   "execution_count": null,
   "id": "3c0a5535-dd74-40a3-aedb-61d2d9fbd5dd",
   "metadata": {},
   "outputs": [],
   "source": []
  }
 ],
 "metadata": {
  "kernelspec": {
   "display_name": "Python 3 (ipykernel)",
   "language": "python",
   "name": "python3"
  },
  "language_info": {
   "codemirror_mode": {
    "name": "ipython",
    "version": 3
   },
   "file_extension": ".py",
   "mimetype": "text/x-python",
   "name": "python",
   "nbconvert_exporter": "python",
   "pygments_lexer": "ipython3",
   "version": "3.12.1"
  }
 },
 "nbformat": 4,
 "nbformat_minor": 5
}
